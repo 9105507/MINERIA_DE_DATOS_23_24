{
  "nbformat": 4,
  "nbformat_minor": 0,
  "metadata": {
    "colab": {
      "provenance": [],
      "collapsed_sections": [
        "0PpVIq7LxrGA"
      ],
      "toc_visible": true,
      "include_colab_link": true
    },
    "kernelspec": {
      "name": "python3",
      "display_name": "Python 3"
    },
    "language_info": {
      "name": "python"
    }
  },
  "cells": [
    {
      "cell_type": "markdown",
      "metadata": {
        "id": "view-in-github",
        "colab_type": "text"
      },
      "source": [
        "<a href=\"https://colab.research.google.com/github/9105507/MINERIA_DE_DATOS_23_24/blob/main/LAB02_Reglas_de_Asociacio%CC%81n_y_Patrones_Secuenciales.ipynb\" target=\"_parent\"><img src=\"https://colab.research.google.com/assets/colab-badge.svg\" alt=\"Open In Colab\"/></a>"
      ]
    },
    {
      "cell_type": "markdown",
      "metadata": {
        "id": "qnvj58zMJhcG"
      },
      "source": [
        "# **Laboratorio 2 - Grupo 7**\n",
        "Miguel Ángel Rojo\n",
        "\n",
        "Miguel Poyatos García-Lorenzana\n",
        "\n",
        "Joaquín Vilaplana\n",
        "\n",
        "Adrián García-Arroba"
      ]
    },
    {
      "cell_type": "markdown",
      "metadata": {
        "id": "08nHR1-wZZ07"
      },
      "source": [
        "# Inicialización"
      ]
    },
    {
      "cell_type": "markdown",
      "metadata": {
        "id": "-AzcbzimZdnt"
      },
      "source": [
        "Librerías usadas:"
      ]
    },
    {
      "cell_type": "code",
      "execution_count": null,
      "metadata": {
        "id": "EVDfZGKqZZm_",
        "colab": {
          "base_uri": "https://localhost:8080/"
        },
        "outputId": "9137497e-a5df-489c-a176-29c673bb7bd5"
      },
      "outputs": [
        {
          "output_type": "stream",
          "name": "stderr",
          "text": [
            "/usr/local/lib/python3.10/dist-packages/ipykernel/ipkernel.py:283: DeprecationWarning: `should_run_async` will not call `transform_cell` automatically in the future. Please pass the result to `transformed_cell` argument and any exception that happen during thetransform in `preprocessing_exc_tuple` in IPython 7.17 and above.\n",
            "  and should_run_async(code)\n"
          ]
        }
      ],
      "source": [
        "import csv\n",
        "import numpy as np\n",
        "import pandas as pd\n",
        "import matplotlib.pyplot as plt\n",
        "from sklearn.decomposition import PCA\n",
        "from sklearn.preprocessing import StandardScaler\n",
        "import seaborn as sns\n",
        "import random\n",
        "\n",
        "from mlxtend.preprocessing import TransactionEncoder\n",
        "from mlxtend.frequent_patterns import apriori, association_rules"
      ]
    },
    {
      "cell_type": "markdown",
      "metadata": {
        "id": "nmbC_K337adg"
      },
      "source": [
        "# Práctica 1 (reglas de Asociación)\n",
        "Valor (5 puntos)\n",
        "\n",
        "Usa la librería mlxtend que nos permita solucionar todos los problemas relacionados con las reglas de asociación. Para ello tendremos que usar el algoritmo Apriori y una serie de métodos para obtener la distinta información que este genera. Usa la librería con el Dataset Market_Basket_Optimisation.csv que se ha proporcionado.\n",
        "\n",
        "1.- (1 puntos) Prueba al menos tres configuraciones de soporte y frecuencia para cada tipo de puntuación.\n",
        "\n",
        "2.- (1 punto) ¿Qué diferencias hay entre usar soporte y frecuencia? Respalda la respuesta con datos.\n",
        "\n",
        "3.- (1 punto) ¿Qué tipo reglas desaparecen según la configuración usada y el tipo de puntuación? ¿Por qué?\n",
        "\n",
        "4.- (1 punto) Para una de las configuraciones, interpreta algunas de las reglas que te hayan resultado curiosas obtenidas usando la clase association_rules y un par de configuraciones cambiando la variable metric y min_threshold.\n",
        "\n",
        "5.- (1 punto) Dadas las mejores configuraciones. ¿Existen reglas o patrones que se repitan? ¿Podemos generalizar de alguna manera como se comportan los clientes del supermercado?\n",
        "\n",
        "Para obtener los datos pedidos anteriormente, se hará uso de la librería de la siguiente manera (pasos a seguir):\n",
        "\n",
        "* Empezaremos obteniendo los itemsets frecuentes para k=1. En este punto necesitaremos obtener el soporte de los itemset. Por lo tanto, se tendrá que usar un método que dado un itemset devuelva su soporte.\n",
        "\n",
        "* A partir de k=2.\n",
        "\n",
        "  - Mostrar los itemset frecuentes candidatos y su soporte.\n",
        "\n",
        "* Repetir el proceso 2 hasta que no se generen nuevos itemsets frecuentes.\n",
        "\n",
        "* Mostrar todas las posibles reglas con la confianza de cada una de ellas.\n",
        "\n",
        "* Listar todas las reglas que sean de alta confianza.\n",
        "\n",
        "* Usar los siguientes métodos.\n",
        "  - Dado un antecesor, devolver todas las reglas que contengan a dicho antecesor.\n",
        "  - Dado un umbral mínimo devolver todas las reglas que cumplan con dicha confianza.\n",
        "\n",
        "* Utiliza al menos dos representaciones gráficas para representar las reglas obtenidas e interpretar los datos.\n"
      ]
    },
    {
      "cell_type": "code",
      "source": [
        "# Cargar los datos\n",
        "data = pd.read_csv('Market_Basket_Optimisation.csv', header=None)\n",
        "\n",
        "# Preprocesamiento\n",
        "transactions = data.values.tolist()\n",
        "transactions_clean = [[item for item in transaction if item is not np.nan] for transaction in transactions]\n",
        "\n",
        "# Codificación de las transacciones\n",
        "te = TransactionEncoder()\n",
        "te_ary = te.fit(transactions_clean).transform(transactions_clean)\n",
        "df = pd.DataFrame(te_ary, columns=te.columns_)"
      ],
      "metadata": {
        "id": "ZqvYY2wXCV9G"
      },
      "execution_count": null,
      "outputs": []
    },
    {
      "cell_type": "markdown",
      "source": [
        "Información de la instrucción para hacer el método apriori"
      ],
      "metadata": {
        "id": "nhE0Mg3d2khQ"
      }
    },
    {
      "cell_type": "code",
      "source": [
        "help(apriori)"
      ],
      "metadata": {
        "colab": {
          "base_uri": "https://localhost:8080/"
        },
        "id": "n5H0FoOf1zRa",
        "outputId": "9753cd8b-e2ca-48bb-cd6c-77652cc28a1c"
      },
      "execution_count": null,
      "outputs": [
        {
          "output_type": "stream",
          "name": "stdout",
          "text": [
            "Help on function apriori in module mlxtend.frequent_patterns.apriori:\n",
            "\n",
            "apriori(df, min_support=0.5, use_colnames=False, max_len=None, verbose=0, low_memory=False)\n",
            "    Get frequent itemsets from a one-hot DataFrame\n",
            "    \n",
            "    Parameters\n",
            "    -----------\n",
            "    df : pandas DataFrame\n",
            "      pandas DataFrame the encoded format. Also supports\n",
            "      DataFrames with sparse data; for more info, please\n",
            "      see (https://pandas.pydata.org/pandas-docs/stable/\n",
            "           user_guide/sparse.html#sparse-data-structures)\n",
            "    \n",
            "      Please note that the old pandas SparseDataFrame format\n",
            "      is no longer supported in mlxtend >= 0.17.2.\n",
            "    \n",
            "      The allowed values are either 0/1 or True/False.\n",
            "      For example,\n",
            "    \n",
            "    ```\n",
            "             Apple  Bananas   Beer  Chicken   Milk   Rice\n",
            "        0     True    False   True     True  False   True\n",
            "        1     True    False   True    False  False   True\n",
            "        2     True    False   True    False  False  False\n",
            "        3     True     True  False    False  False  False\n",
            "        4    False    False   True     True   True   True\n",
            "        5    False    False   True    False   True   True\n",
            "        6    False    False   True    False   True  False\n",
            "        7     True     True  False    False  False  False\n",
            "    ```\n",
            "    \n",
            "    min_support : float (default: 0.5)\n",
            "      A float between 0 and 1 for minumum support of the itemsets returned.\n",
            "      The support is computed as the fraction\n",
            "      `transactions_where_item(s)_occur / total_transactions`.\n",
            "    \n",
            "    use_colnames : bool (default: False)\n",
            "      If `True`, uses the DataFrames' column names in the returned DataFrame\n",
            "      instead of column indices.\n",
            "    \n",
            "    max_len : int (default: None)\n",
            "      Maximum length of the itemsets generated. If `None` (default) all\n",
            "      possible itemsets lengths (under the apriori condition) are evaluated.\n",
            "    \n",
            "    verbose : int (default: 0)\n",
            "      Shows the number of iterations if >= 1 and `low_memory` is `True`. If\n",
            "      >=1 and `low_memory` is `False`, shows the number of combinations.\n",
            "    \n",
            "    low_memory : bool (default: False)\n",
            "      If `True`, uses an iterator to search for combinations above\n",
            "      `min_support`.\n",
            "      Note that while `low_memory=True` should only be used for large dataset\n",
            "      if memory resources are limited, because this implementation is approx.\n",
            "      3-6x slower than the default.\n",
            "    \n",
            "    \n",
            "    Returns\n",
            "    -----------\n",
            "    pandas DataFrame with columns ['support', 'itemsets'] of all itemsets\n",
            "      that are >= `min_support` and < than `max_len`\n",
            "      (if `max_len` is not None).\n",
            "      Each itemset in the 'itemsets' column is of type `frozenset`,\n",
            "      which is a Python built-in type that behaves similarly to\n",
            "      sets except that it is immutable\n",
            "      (For more info, see\n",
            "      https://docs.python.org/3.6/library/stdtypes.html#frozenset).\n",
            "    \n",
            "    Examples\n",
            "    -----------\n",
            "    For usage examples, please see\n",
            "    https://rasbt.github.io/mlxtend/user_guide/frequent_patterns/apriori/\n",
            "\n"
          ]
        },
        {
          "output_type": "stream",
          "name": "stderr",
          "text": [
            "/usr/local/lib/python3.10/dist-packages/ipykernel/ipkernel.py:283: DeprecationWarning: `should_run_async` will not call `transform_cell` automatically in the future. Please pass the result to `transformed_cell` argument and any exception that happen during thetransform in `preprocessing_exc_tuple` in IPython 7.17 and above.\n",
            "  and should_run_async(code)\n"
          ]
        }
      ]
    },
    {
      "cell_type": "markdown",
      "source": [
        "La función `apriori` de la biblioteca `mlxtend` tiene los siguientes hiperparámetros:\n",
        "\n",
        "- `df`: DataFrame o matriz codificada de manera eficiente que ofrece una representación condensada de los datos de entrada.\n",
        "\n",
        "- `min_support`: Un valor flotante entre 0 y 1 para el soporte mínimo de los itemsets a crear. Por defecto es `0.5`. El soporte es una medida de cuán frecuentemente aparece un itemset en el conjunto de datos.\n",
        "\n",
        "- `use_colnames`: Booleano para indicar si se deben usar los nombres de las columnas de los DataFrames en lugar de las columnas. Por defecto es `False`.\n",
        "\n",
        "- `max_len`: Entero para indicar la longitud máxima de los itemsets generados. Si es `None` (por defecto), se generan todos los itemsets posibles.\n",
        "\n",
        "- `verbose`: Entero para indicar el nivel de detalle que la función debe proporcionar mientras se ejecuta. Por defecto es `0`, lo que significa que no se proporciona ninguna salida."
      ],
      "metadata": {
        "id": "CPnWKKFd6-rd"
      }
    },
    {
      "cell_type": "code",
      "source": [
        "# Generar itemsets frecuentes\n",
        "frequent_itemsets = apriori(df, min_support=0.05, use_colnames=True)"
      ],
      "metadata": {
        "id": "uUHBlCuCCXWw"
      },
      "execution_count": null,
      "outputs": []
    },
    {
      "cell_type": "code",
      "source": [
        "frequent_itemsets"
      ],
      "metadata": {
        "colab": {
          "base_uri": "https://localhost:8080/",
          "height": 982
        },
        "id": "itgVy9xstPpv",
        "outputId": "0600bd7d-56c1-47d6-c938-8862b79a2f10"
      },
      "execution_count": null,
      "outputs": [
        {
          "output_type": "stream",
          "name": "stderr",
          "text": [
            "/usr/local/lib/python3.10/dist-packages/ipykernel/ipkernel.py:283: DeprecationWarning: `should_run_async` will not call `transform_cell` automatically in the future. Please pass the result to `transformed_cell` argument and any exception that happen during thetransform in `preprocessing_exc_tuple` in IPython 7.17 and above.\n",
            "  and should_run_async(code)\n"
          ]
        },
        {
          "output_type": "execute_result",
          "data": {
            "text/plain": [
              "     support                    itemsets\n",
              "0   0.087188                   (burgers)\n",
              "1   0.081056                      (cake)\n",
              "2   0.059992                   (chicken)\n",
              "3   0.163845                 (chocolate)\n",
              "4   0.080389                   (cookies)\n",
              "5   0.051060               (cooking oil)\n",
              "6   0.179709                      (eggs)\n",
              "7   0.079323                  (escalope)\n",
              "8   0.170911              (french fries)\n",
              "9   0.063325           (frozen smoothie)\n",
              "10  0.095321         (frozen vegetables)\n",
              "11  0.052393             (grated cheese)\n",
              "12  0.132116                 (green tea)\n",
              "13  0.098254               (ground beef)\n",
              "14  0.076523            (low fat yogurt)\n",
              "15  0.129583                      (milk)\n",
              "16  0.238368             (mineral water)\n",
              "17  0.065858                 (olive oil)\n",
              "18  0.095054                  (pancakes)\n",
              "19  0.071457                    (shrimp)\n",
              "20  0.050527                      (soup)\n",
              "21  0.174110                 (spaghetti)\n",
              "22  0.068391                  (tomatoes)\n",
              "23  0.062525                    (turkey)\n",
              "24  0.058526          (whole wheat rice)\n",
              "25  0.052660  (mineral water, chocolate)\n",
              "26  0.050927       (mineral water, eggs)\n",
              "27  0.059725  (mineral water, spaghetti)"
            ],
            "text/html": [
              "\n",
              "  <div id=\"df-3fed6a90-26c2-4e62-b6db-2e1500d84dee\" class=\"colab-df-container\">\n",
              "    <div>\n",
              "<style scoped>\n",
              "    .dataframe tbody tr th:only-of-type {\n",
              "        vertical-align: middle;\n",
              "    }\n",
              "\n",
              "    .dataframe tbody tr th {\n",
              "        vertical-align: top;\n",
              "    }\n",
              "\n",
              "    .dataframe thead th {\n",
              "        text-align: right;\n",
              "    }\n",
              "</style>\n",
              "<table border=\"1\" class=\"dataframe\">\n",
              "  <thead>\n",
              "    <tr style=\"text-align: right;\">\n",
              "      <th></th>\n",
              "      <th>support</th>\n",
              "      <th>itemsets</th>\n",
              "    </tr>\n",
              "  </thead>\n",
              "  <tbody>\n",
              "    <tr>\n",
              "      <th>0</th>\n",
              "      <td>0.087188</td>\n",
              "      <td>(burgers)</td>\n",
              "    </tr>\n",
              "    <tr>\n",
              "      <th>1</th>\n",
              "      <td>0.081056</td>\n",
              "      <td>(cake)</td>\n",
              "    </tr>\n",
              "    <tr>\n",
              "      <th>2</th>\n",
              "      <td>0.059992</td>\n",
              "      <td>(chicken)</td>\n",
              "    </tr>\n",
              "    <tr>\n",
              "      <th>3</th>\n",
              "      <td>0.163845</td>\n",
              "      <td>(chocolate)</td>\n",
              "    </tr>\n",
              "    <tr>\n",
              "      <th>4</th>\n",
              "      <td>0.080389</td>\n",
              "      <td>(cookies)</td>\n",
              "    </tr>\n",
              "    <tr>\n",
              "      <th>5</th>\n",
              "      <td>0.051060</td>\n",
              "      <td>(cooking oil)</td>\n",
              "    </tr>\n",
              "    <tr>\n",
              "      <th>6</th>\n",
              "      <td>0.179709</td>\n",
              "      <td>(eggs)</td>\n",
              "    </tr>\n",
              "    <tr>\n",
              "      <th>7</th>\n",
              "      <td>0.079323</td>\n",
              "      <td>(escalope)</td>\n",
              "    </tr>\n",
              "    <tr>\n",
              "      <th>8</th>\n",
              "      <td>0.170911</td>\n",
              "      <td>(french fries)</td>\n",
              "    </tr>\n",
              "    <tr>\n",
              "      <th>9</th>\n",
              "      <td>0.063325</td>\n",
              "      <td>(frozen smoothie)</td>\n",
              "    </tr>\n",
              "    <tr>\n",
              "      <th>10</th>\n",
              "      <td>0.095321</td>\n",
              "      <td>(frozen vegetables)</td>\n",
              "    </tr>\n",
              "    <tr>\n",
              "      <th>11</th>\n",
              "      <td>0.052393</td>\n",
              "      <td>(grated cheese)</td>\n",
              "    </tr>\n",
              "    <tr>\n",
              "      <th>12</th>\n",
              "      <td>0.132116</td>\n",
              "      <td>(green tea)</td>\n",
              "    </tr>\n",
              "    <tr>\n",
              "      <th>13</th>\n",
              "      <td>0.098254</td>\n",
              "      <td>(ground beef)</td>\n",
              "    </tr>\n",
              "    <tr>\n",
              "      <th>14</th>\n",
              "      <td>0.076523</td>\n",
              "      <td>(low fat yogurt)</td>\n",
              "    </tr>\n",
              "    <tr>\n",
              "      <th>15</th>\n",
              "      <td>0.129583</td>\n",
              "      <td>(milk)</td>\n",
              "    </tr>\n",
              "    <tr>\n",
              "      <th>16</th>\n",
              "      <td>0.238368</td>\n",
              "      <td>(mineral water)</td>\n",
              "    </tr>\n",
              "    <tr>\n",
              "      <th>17</th>\n",
              "      <td>0.065858</td>\n",
              "      <td>(olive oil)</td>\n",
              "    </tr>\n",
              "    <tr>\n",
              "      <th>18</th>\n",
              "      <td>0.095054</td>\n",
              "      <td>(pancakes)</td>\n",
              "    </tr>\n",
              "    <tr>\n",
              "      <th>19</th>\n",
              "      <td>0.071457</td>\n",
              "      <td>(shrimp)</td>\n",
              "    </tr>\n",
              "    <tr>\n",
              "      <th>20</th>\n",
              "      <td>0.050527</td>\n",
              "      <td>(soup)</td>\n",
              "    </tr>\n",
              "    <tr>\n",
              "      <th>21</th>\n",
              "      <td>0.174110</td>\n",
              "      <td>(spaghetti)</td>\n",
              "    </tr>\n",
              "    <tr>\n",
              "      <th>22</th>\n",
              "      <td>0.068391</td>\n",
              "      <td>(tomatoes)</td>\n",
              "    </tr>\n",
              "    <tr>\n",
              "      <th>23</th>\n",
              "      <td>0.062525</td>\n",
              "      <td>(turkey)</td>\n",
              "    </tr>\n",
              "    <tr>\n",
              "      <th>24</th>\n",
              "      <td>0.058526</td>\n",
              "      <td>(whole wheat rice)</td>\n",
              "    </tr>\n",
              "    <tr>\n",
              "      <th>25</th>\n",
              "      <td>0.052660</td>\n",
              "      <td>(mineral water, chocolate)</td>\n",
              "    </tr>\n",
              "    <tr>\n",
              "      <th>26</th>\n",
              "      <td>0.050927</td>\n",
              "      <td>(mineral water, eggs)</td>\n",
              "    </tr>\n",
              "    <tr>\n",
              "      <th>27</th>\n",
              "      <td>0.059725</td>\n",
              "      <td>(mineral water, spaghetti)</td>\n",
              "    </tr>\n",
              "  </tbody>\n",
              "</table>\n",
              "</div>\n",
              "    <div class=\"colab-df-buttons\">\n",
              "\n",
              "  <div class=\"colab-df-container\">\n",
              "    <button class=\"colab-df-convert\" onclick=\"convertToInteractive('df-3fed6a90-26c2-4e62-b6db-2e1500d84dee')\"\n",
              "            title=\"Convert this dataframe to an interactive table.\"\n",
              "            style=\"display:none;\">\n",
              "\n",
              "  <svg xmlns=\"http://www.w3.org/2000/svg\" height=\"24px\" viewBox=\"0 -960 960 960\">\n",
              "    <path d=\"M120-120v-720h720v720H120Zm60-500h600v-160H180v160Zm220 220h160v-160H400v160Zm0 220h160v-160H400v160ZM180-400h160v-160H180v160Zm440 0h160v-160H620v160ZM180-180h160v-160H180v160Zm440 0h160v-160H620v160Z\"/>\n",
              "  </svg>\n",
              "    </button>\n",
              "\n",
              "  <style>\n",
              "    .colab-df-container {\n",
              "      display:flex;\n",
              "      gap: 12px;\n",
              "    }\n",
              "\n",
              "    .colab-df-convert {\n",
              "      background-color: #E8F0FE;\n",
              "      border: none;\n",
              "      border-radius: 50%;\n",
              "      cursor: pointer;\n",
              "      display: none;\n",
              "      fill: #1967D2;\n",
              "      height: 32px;\n",
              "      padding: 0 0 0 0;\n",
              "      width: 32px;\n",
              "    }\n",
              "\n",
              "    .colab-df-convert:hover {\n",
              "      background-color: #E2EBFA;\n",
              "      box-shadow: 0px 1px 2px rgba(60, 64, 67, 0.3), 0px 1px 3px 1px rgba(60, 64, 67, 0.15);\n",
              "      fill: #174EA6;\n",
              "    }\n",
              "\n",
              "    .colab-df-buttons div {\n",
              "      margin-bottom: 4px;\n",
              "    }\n",
              "\n",
              "    [theme=dark] .colab-df-convert {\n",
              "      background-color: #3B4455;\n",
              "      fill: #D2E3FC;\n",
              "    }\n",
              "\n",
              "    [theme=dark] .colab-df-convert:hover {\n",
              "      background-color: #434B5C;\n",
              "      box-shadow: 0px 1px 3px 1px rgba(0, 0, 0, 0.15);\n",
              "      filter: drop-shadow(0px 1px 2px rgba(0, 0, 0, 0.3));\n",
              "      fill: #FFFFFF;\n",
              "    }\n",
              "  </style>\n",
              "\n",
              "    <script>\n",
              "      const buttonEl =\n",
              "        document.querySelector('#df-3fed6a90-26c2-4e62-b6db-2e1500d84dee button.colab-df-convert');\n",
              "      buttonEl.style.display =\n",
              "        google.colab.kernel.accessAllowed ? 'block' : 'none';\n",
              "\n",
              "      async function convertToInteractive(key) {\n",
              "        const element = document.querySelector('#df-3fed6a90-26c2-4e62-b6db-2e1500d84dee');\n",
              "        const dataTable =\n",
              "          await google.colab.kernel.invokeFunction('convertToInteractive',\n",
              "                                                    [key], {});\n",
              "        if (!dataTable) return;\n",
              "\n",
              "        const docLinkHtml = 'Like what you see? Visit the ' +\n",
              "          '<a target=\"_blank\" href=https://colab.research.google.com/notebooks/data_table.ipynb>data table notebook</a>'\n",
              "          + ' to learn more about interactive tables.';\n",
              "        element.innerHTML = '';\n",
              "        dataTable['output_type'] = 'display_data';\n",
              "        await google.colab.output.renderOutput(dataTable, element);\n",
              "        const docLink = document.createElement('div');\n",
              "        docLink.innerHTML = docLinkHtml;\n",
              "        element.appendChild(docLink);\n",
              "      }\n",
              "    </script>\n",
              "  </div>\n",
              "\n",
              "\n",
              "<div id=\"df-31c3688e-f628-4551-a942-3ef81d4f5490\">\n",
              "  <button class=\"colab-df-quickchart\" onclick=\"quickchart('df-31c3688e-f628-4551-a942-3ef81d4f5490')\"\n",
              "            title=\"Suggest charts\"\n",
              "            style=\"display:none;\">\n",
              "\n",
              "<svg xmlns=\"http://www.w3.org/2000/svg\" height=\"24px\"viewBox=\"0 0 24 24\"\n",
              "     width=\"24px\">\n",
              "    <g>\n",
              "        <path d=\"M19 3H5c-1.1 0-2 .9-2 2v14c0 1.1.9 2 2 2h14c1.1 0 2-.9 2-2V5c0-1.1-.9-2-2-2zM9 17H7v-7h2v7zm4 0h-2V7h2v10zm4 0h-2v-4h2v4z\"/>\n",
              "    </g>\n",
              "</svg>\n",
              "  </button>\n",
              "\n",
              "<style>\n",
              "  .colab-df-quickchart {\n",
              "      --bg-color: #E8F0FE;\n",
              "      --fill-color: #1967D2;\n",
              "      --hover-bg-color: #E2EBFA;\n",
              "      --hover-fill-color: #174EA6;\n",
              "      --disabled-fill-color: #AAA;\n",
              "      --disabled-bg-color: #DDD;\n",
              "  }\n",
              "\n",
              "  [theme=dark] .colab-df-quickchart {\n",
              "      --bg-color: #3B4455;\n",
              "      --fill-color: #D2E3FC;\n",
              "      --hover-bg-color: #434B5C;\n",
              "      --hover-fill-color: #FFFFFF;\n",
              "      --disabled-bg-color: #3B4455;\n",
              "      --disabled-fill-color: #666;\n",
              "  }\n",
              "\n",
              "  .colab-df-quickchart {\n",
              "    background-color: var(--bg-color);\n",
              "    border: none;\n",
              "    border-radius: 50%;\n",
              "    cursor: pointer;\n",
              "    display: none;\n",
              "    fill: var(--fill-color);\n",
              "    height: 32px;\n",
              "    padding: 0;\n",
              "    width: 32px;\n",
              "  }\n",
              "\n",
              "  .colab-df-quickchart:hover {\n",
              "    background-color: var(--hover-bg-color);\n",
              "    box-shadow: 0 1px 2px rgba(60, 64, 67, 0.3), 0 1px 3px 1px rgba(60, 64, 67, 0.15);\n",
              "    fill: var(--button-hover-fill-color);\n",
              "  }\n",
              "\n",
              "  .colab-df-quickchart-complete:disabled,\n",
              "  .colab-df-quickchart-complete:disabled:hover {\n",
              "    background-color: var(--disabled-bg-color);\n",
              "    fill: var(--disabled-fill-color);\n",
              "    box-shadow: none;\n",
              "  }\n",
              "\n",
              "  .colab-df-spinner {\n",
              "    border: 2px solid var(--fill-color);\n",
              "    border-color: transparent;\n",
              "    border-bottom-color: var(--fill-color);\n",
              "    animation:\n",
              "      spin 1s steps(1) infinite;\n",
              "  }\n",
              "\n",
              "  @keyframes spin {\n",
              "    0% {\n",
              "      border-color: transparent;\n",
              "      border-bottom-color: var(--fill-color);\n",
              "      border-left-color: var(--fill-color);\n",
              "    }\n",
              "    20% {\n",
              "      border-color: transparent;\n",
              "      border-left-color: var(--fill-color);\n",
              "      border-top-color: var(--fill-color);\n",
              "    }\n",
              "    30% {\n",
              "      border-color: transparent;\n",
              "      border-left-color: var(--fill-color);\n",
              "      border-top-color: var(--fill-color);\n",
              "      border-right-color: var(--fill-color);\n",
              "    }\n",
              "    40% {\n",
              "      border-color: transparent;\n",
              "      border-right-color: var(--fill-color);\n",
              "      border-top-color: var(--fill-color);\n",
              "    }\n",
              "    60% {\n",
              "      border-color: transparent;\n",
              "      border-right-color: var(--fill-color);\n",
              "    }\n",
              "    80% {\n",
              "      border-color: transparent;\n",
              "      border-right-color: var(--fill-color);\n",
              "      border-bottom-color: var(--fill-color);\n",
              "    }\n",
              "    90% {\n",
              "      border-color: transparent;\n",
              "      border-bottom-color: var(--fill-color);\n",
              "    }\n",
              "  }\n",
              "</style>\n",
              "\n",
              "  <script>\n",
              "    async function quickchart(key) {\n",
              "      const quickchartButtonEl =\n",
              "        document.querySelector('#' + key + ' button');\n",
              "      quickchartButtonEl.disabled = true;  // To prevent multiple clicks.\n",
              "      quickchartButtonEl.classList.add('colab-df-spinner');\n",
              "      try {\n",
              "        const charts = await google.colab.kernel.invokeFunction(\n",
              "            'suggestCharts', [key], {});\n",
              "      } catch (error) {\n",
              "        console.error('Error during call to suggestCharts:', error);\n",
              "      }\n",
              "      quickchartButtonEl.classList.remove('colab-df-spinner');\n",
              "      quickchartButtonEl.classList.add('colab-df-quickchart-complete');\n",
              "    }\n",
              "    (() => {\n",
              "      let quickchartButtonEl =\n",
              "        document.querySelector('#df-31c3688e-f628-4551-a942-3ef81d4f5490 button');\n",
              "      quickchartButtonEl.style.display =\n",
              "        google.colab.kernel.accessAllowed ? 'block' : 'none';\n",
              "    })();\n",
              "  </script>\n",
              "</div>\n",
              "    </div>\n",
              "  </div>\n"
            ],
            "application/vnd.google.colaboratory.intrinsic+json": {
              "type": "dataframe",
              "variable_name": "frequent_itemsets",
              "summary": "{\n  \"name\": \"frequent_itemsets\",\n  \"rows\": 28,\n  \"fields\": [\n    {\n      \"column\": \"support\",\n      \"properties\": {\n        \"dtype\": \"number\",\n        \"std\": 0.0492745776776461,\n        \"min\": 0.05052659645380616,\n        \"max\": 0.23836821757099053,\n        \"num_unique_values\": 28,\n        \"samples\": [\n          0.06332489001466471,\n          0.05265964538061592,\n          0.1709105452606319\n        ],\n        \"semantic_type\": \"\",\n        \"description\": \"\"\n      }\n    },\n    {\n      \"column\": \"itemsets\",\n      \"properties\": {\n        \"dtype\": \"string\",\n        \"num_unique_values\": 28,\n        \"samples\": [\n          \"frozenset({'frozen smoothie'})\",\n          \"frozenset({'mineral water', 'chocolate'})\",\n          \"frozenset({'french fries'})\"\n        ],\n        \"semantic_type\": \"\",\n        \"description\": \"\"\n      }\n    }\n  ]\n}"
            }
          },
          "metadata": {},
          "execution_count": 34
        }
      ]
    },
    {
      "cell_type": "markdown",
      "source": [
        "Indformación de la instrucción para hacer reglas"
      ],
      "metadata": {
        "id": "sT8zV8Xi2paN"
      }
    },
    {
      "cell_type": "code",
      "source": [
        "help(association_rules)"
      ],
      "metadata": {
        "colab": {
          "base_uri": "https://localhost:8080/"
        },
        "outputId": "57594714-467e-453a-f179-9d831e830d82",
        "id": "aqMTGqgz2paO"
      },
      "execution_count": null,
      "outputs": [
        {
          "output_type": "stream",
          "name": "stdout",
          "text": [
            "Help on function association_rules in module mlxtend.frequent_patterns.association_rules:\n",
            "\n",
            "association_rules(df, metric='confidence', min_threshold=0.8, support_only=False)\n",
            "    Generates a DataFrame of association rules including the\n",
            "    metrics 'score', 'confidence', and 'lift'\n",
            "    \n",
            "    Parameters\n",
            "    -----------\n",
            "    df : pandas DataFrame\n",
            "      pandas DataFrame of frequent itemsets\n",
            "      with columns ['support', 'itemsets']\n",
            "    \n",
            "    metric : string (default: 'confidence')\n",
            "      Metric to evaluate if a rule is of interest.\n",
            "      **Automatically set to 'support' if `support_only=True`.**\n",
            "      Otherwise, supported metrics are 'support', 'confidence', 'lift',\n",
            "      'leverage', 'conviction' and 'zhangs_metric'\n",
            "      These metrics are computed as follows:\n",
            "    \n",
            "      - support(A->C) = support(A+C) [aka 'support'], range: [0, 1]\n",
            "    \n",
            "      - confidence(A->C) = support(A+C) / support(A), range: [0, 1]\n",
            "    \n",
            "      - lift(A->C) = confidence(A->C) / support(C), range: [0, inf]\n",
            "    \n",
            "      - leverage(A->C) = support(A->C) - support(A)*support(C),\n",
            "        range: [-1, 1]\n",
            "    \n",
            "      - conviction = [1 - support(C)] / [1 - confidence(A->C)],\n",
            "        range: [0, inf]\n",
            "    \n",
            "      - zhangs_metric(A->C) =\n",
            "        leverage(A->C) / max(support(A->C)*(1-support(A)), support(A)*(support(C)-support(A->C)))\n",
            "        range: [-1,1]\n",
            "    \n",
            "    \n",
            "    min_threshold : float (default: 0.8)\n",
            "      Minimal threshold for the evaluation metric,\n",
            "      via the `metric` parameter,\n",
            "      to decide whether a candidate rule is of interest.\n",
            "    \n",
            "    support_only : bool (default: False)\n",
            "      Only computes the rule support and fills the other\n",
            "      metric columns with NaNs. This is useful if:\n",
            "    \n",
            "      a) the input DataFrame is incomplete, e.g., does\n",
            "      not contain support values for all rule antecedents\n",
            "      and consequents\n",
            "    \n",
            "      b) you simply want to speed up the computation because\n",
            "      you don't need the other metrics.\n",
            "    \n",
            "    Returns\n",
            "    ----------\n",
            "    pandas DataFrame with columns \"antecedents\" and \"consequents\"\n",
            "      that store itemsets, plus the scoring metric columns:\n",
            "      \"antecedent support\", \"consequent support\",\n",
            "      \"support\", \"confidence\", \"lift\",\n",
            "      \"leverage\", \"conviction\"\n",
            "      of all rules for which\n",
            "      metric(rule) >= min_threshold.\n",
            "      Each entry in the \"antecedents\" and \"consequents\" columns are\n",
            "      of type `frozenset`, which is a Python built-in type that\n",
            "      behaves similarly to sets except that it is immutable\n",
            "      (For more info, see\n",
            "      https://docs.python.org/3.6/library/stdtypes.html#frozenset).\n",
            "    \n",
            "    Examples\n",
            "    -----------\n",
            "    For usage examples, please see\n",
            "    https://rasbt.github.io/mlxtend/user_guide/frequent_patterns/association_rules/\n",
            "\n"
          ]
        },
        {
          "output_type": "stream",
          "name": "stderr",
          "text": [
            "/usr/local/lib/python3.10/dist-packages/ipykernel/ipkernel.py:283: DeprecationWarning: `should_run_async` will not call `transform_cell` automatically in the future. Please pass the result to `transformed_cell` argument and any exception that happen during thetransform in `preprocessing_exc_tuple` in IPython 7.17 and above.\n",
            "  and should_run_async(code)\n"
          ]
        }
      ]
    },
    {
      "cell_type": "markdown",
      "source": [
        "La función `association_rules` de la biblioteca `mlxtend` tiene los siguientes hiperparámetros:\n",
        "\n",
        "- `df` (DataFrame): DataFrame de los itemsets frecuentes generados por la función `apriori`.\n",
        "\n",
        "- `metric` (str): Métrica a utilizar para la selección de reglas. Las opciones disponibles son \"support\", \"confidence\", \"lift\", \"leverage\" y \"conviction\". Estas métricas son medidas de la \"interesanteza\" o \"calidad\" de las reglas de asociación.\n",
        "\n",
        "- `min_threshold` (float): El valor mínimo para la métrica especificada. Solo las reglas que tienen una métrica mayor o igual a este umbral son seleccionadas.\n",
        "\n",
        "- `support_only` (bool): Un parámetro opcional que, si se establece en True, la función `association_rules` solo calculará el soporte y devolverá las reglas de asociación sin calcular ninguna otra métrica²."
      ],
      "metadata": {
        "id": "RWhsJm5H7Ikh"
      }
    },
    {
      "cell_type": "code",
      "source": [
        "# Generar reglas de asociación\n",
        "rules = association_rules(frequent_itemsets, metric=\"confidence\", min_threshold=0.4)"
      ],
      "metadata": {
        "colab": {
          "base_uri": "https://localhost:8080/"
        },
        "outputId": "6bf62af1-4f33-4bef-8135-28cdf0fef8ce",
        "id": "nRhypMY77adi"
      },
      "execution_count": null,
      "outputs": [
        {
          "output_type": "stream",
          "name": "stderr",
          "text": [
            "/usr/local/lib/python3.10/dist-packages/ipykernel/ipkernel.py:283: DeprecationWarning: `should_run_async` will not call `transform_cell` automatically in the future. Please pass the result to `transformed_cell` argument and any exception that happen during thetransform in `preprocessing_exc_tuple` in IPython 7.17 and above.\n",
            "  and should_run_async(code)\n"
          ]
        }
      ]
    },
    {
      "cell_type": "code",
      "source": [
        "rules"
      ],
      "metadata": {
        "colab": {
          "base_uri": "https://localhost:8080/",
          "height": 267
        },
        "id": "_iCKP0DYuJid",
        "outputId": "b35899e4-7621-44b7-c30f-d3200e6ac5b1"
      },
      "execution_count": null,
      "outputs": [
        {
          "output_type": "stream",
          "name": "stderr",
          "text": [
            "/usr/local/lib/python3.10/dist-packages/ipykernel/ipkernel.py:283: DeprecationWarning: `should_run_async` will not call `transform_cell` automatically in the future. Please pass the result to `transformed_cell` argument and any exception that happen during thetransform in `preprocessing_exc_tuple` in IPython 7.17 and above.\n",
            "  and should_run_async(code)\n"
          ]
        },
        {
          "output_type": "execute_result",
          "data": {
            "text/plain": [
              "     antecedents      consequents  antecedent support  consequent support  \\\n",
              "0  (ground beef)  (mineral water)            0.098254            0.238368   \n",
              "1    (olive oil)  (mineral water)            0.065858            0.238368   \n",
              "2         (soup)  (mineral water)            0.050527            0.238368   \n",
              "\n",
              "    support  confidence      lift  leverage  conviction  zhangs_metric  \n",
              "0  0.040928    0.416554  1.747522  0.017507    1.305401       0.474369  \n",
              "1  0.027596    0.419028  1.757904  0.011898    1.310962       0.461536  \n",
              "2  0.023064    0.456464  1.914955  0.011020    1.401255       0.503221  "
            ],
            "text/html": [
              "\n",
              "  <div id=\"df-3e36c173-e143-4fad-8a21-4fe4506915a3\" class=\"colab-df-container\">\n",
              "    <div>\n",
              "<style scoped>\n",
              "    .dataframe tbody tr th:only-of-type {\n",
              "        vertical-align: middle;\n",
              "    }\n",
              "\n",
              "    .dataframe tbody tr th {\n",
              "        vertical-align: top;\n",
              "    }\n",
              "\n",
              "    .dataframe thead th {\n",
              "        text-align: right;\n",
              "    }\n",
              "</style>\n",
              "<table border=\"1\" class=\"dataframe\">\n",
              "  <thead>\n",
              "    <tr style=\"text-align: right;\">\n",
              "      <th></th>\n",
              "      <th>antecedents</th>\n",
              "      <th>consequents</th>\n",
              "      <th>antecedent support</th>\n",
              "      <th>consequent support</th>\n",
              "      <th>support</th>\n",
              "      <th>confidence</th>\n",
              "      <th>lift</th>\n",
              "      <th>leverage</th>\n",
              "      <th>conviction</th>\n",
              "      <th>zhangs_metric</th>\n",
              "    </tr>\n",
              "  </thead>\n",
              "  <tbody>\n",
              "    <tr>\n",
              "      <th>0</th>\n",
              "      <td>(ground beef)</td>\n",
              "      <td>(mineral water)</td>\n",
              "      <td>0.098254</td>\n",
              "      <td>0.238368</td>\n",
              "      <td>0.040928</td>\n",
              "      <td>0.416554</td>\n",
              "      <td>1.747522</td>\n",
              "      <td>0.017507</td>\n",
              "      <td>1.305401</td>\n",
              "      <td>0.474369</td>\n",
              "    </tr>\n",
              "    <tr>\n",
              "      <th>1</th>\n",
              "      <td>(olive oil)</td>\n",
              "      <td>(mineral water)</td>\n",
              "      <td>0.065858</td>\n",
              "      <td>0.238368</td>\n",
              "      <td>0.027596</td>\n",
              "      <td>0.419028</td>\n",
              "      <td>1.757904</td>\n",
              "      <td>0.011898</td>\n",
              "      <td>1.310962</td>\n",
              "      <td>0.461536</td>\n",
              "    </tr>\n",
              "    <tr>\n",
              "      <th>2</th>\n",
              "      <td>(soup)</td>\n",
              "      <td>(mineral water)</td>\n",
              "      <td>0.050527</td>\n",
              "      <td>0.238368</td>\n",
              "      <td>0.023064</td>\n",
              "      <td>0.456464</td>\n",
              "      <td>1.914955</td>\n",
              "      <td>0.011020</td>\n",
              "      <td>1.401255</td>\n",
              "      <td>0.503221</td>\n",
              "    </tr>\n",
              "  </tbody>\n",
              "</table>\n",
              "</div>\n",
              "    <div class=\"colab-df-buttons\">\n",
              "\n",
              "  <div class=\"colab-df-container\">\n",
              "    <button class=\"colab-df-convert\" onclick=\"convertToInteractive('df-3e36c173-e143-4fad-8a21-4fe4506915a3')\"\n",
              "            title=\"Convert this dataframe to an interactive table.\"\n",
              "            style=\"display:none;\">\n",
              "\n",
              "  <svg xmlns=\"http://www.w3.org/2000/svg\" height=\"24px\" viewBox=\"0 -960 960 960\">\n",
              "    <path d=\"M120-120v-720h720v720H120Zm60-500h600v-160H180v160Zm220 220h160v-160H400v160Zm0 220h160v-160H400v160ZM180-400h160v-160H180v160Zm440 0h160v-160H620v160ZM180-180h160v-160H180v160Zm440 0h160v-160H620v160Z\"/>\n",
              "  </svg>\n",
              "    </button>\n",
              "\n",
              "  <style>\n",
              "    .colab-df-container {\n",
              "      display:flex;\n",
              "      gap: 12px;\n",
              "    }\n",
              "\n",
              "    .colab-df-convert {\n",
              "      background-color: #E8F0FE;\n",
              "      border: none;\n",
              "      border-radius: 50%;\n",
              "      cursor: pointer;\n",
              "      display: none;\n",
              "      fill: #1967D2;\n",
              "      height: 32px;\n",
              "      padding: 0 0 0 0;\n",
              "      width: 32px;\n",
              "    }\n",
              "\n",
              "    .colab-df-convert:hover {\n",
              "      background-color: #E2EBFA;\n",
              "      box-shadow: 0px 1px 2px rgba(60, 64, 67, 0.3), 0px 1px 3px 1px rgba(60, 64, 67, 0.15);\n",
              "      fill: #174EA6;\n",
              "    }\n",
              "\n",
              "    .colab-df-buttons div {\n",
              "      margin-bottom: 4px;\n",
              "    }\n",
              "\n",
              "    [theme=dark] .colab-df-convert {\n",
              "      background-color: #3B4455;\n",
              "      fill: #D2E3FC;\n",
              "    }\n",
              "\n",
              "    [theme=dark] .colab-df-convert:hover {\n",
              "      background-color: #434B5C;\n",
              "      box-shadow: 0px 1px 3px 1px rgba(0, 0, 0, 0.15);\n",
              "      filter: drop-shadow(0px 1px 2px rgba(0, 0, 0, 0.3));\n",
              "      fill: #FFFFFF;\n",
              "    }\n",
              "  </style>\n",
              "\n",
              "    <script>\n",
              "      const buttonEl =\n",
              "        document.querySelector('#df-3e36c173-e143-4fad-8a21-4fe4506915a3 button.colab-df-convert');\n",
              "      buttonEl.style.display =\n",
              "        google.colab.kernel.accessAllowed ? 'block' : 'none';\n",
              "\n",
              "      async function convertToInteractive(key) {\n",
              "        const element = document.querySelector('#df-3e36c173-e143-4fad-8a21-4fe4506915a3');\n",
              "        const dataTable =\n",
              "          await google.colab.kernel.invokeFunction('convertToInteractive',\n",
              "                                                    [key], {});\n",
              "        if (!dataTable) return;\n",
              "\n",
              "        const docLinkHtml = 'Like what you see? Visit the ' +\n",
              "          '<a target=\"_blank\" href=https://colab.research.google.com/notebooks/data_table.ipynb>data table notebook</a>'\n",
              "          + ' to learn more about interactive tables.';\n",
              "        element.innerHTML = '';\n",
              "        dataTable['output_type'] = 'display_data';\n",
              "        await google.colab.output.renderOutput(dataTable, element);\n",
              "        const docLink = document.createElement('div');\n",
              "        docLink.innerHTML = docLinkHtml;\n",
              "        element.appendChild(docLink);\n",
              "      }\n",
              "    </script>\n",
              "  </div>\n",
              "\n",
              "\n",
              "<div id=\"df-c1993bd0-1537-4ea7-b5c8-c8f320ab4039\">\n",
              "  <button class=\"colab-df-quickchart\" onclick=\"quickchart('df-c1993bd0-1537-4ea7-b5c8-c8f320ab4039')\"\n",
              "            title=\"Suggest charts\"\n",
              "            style=\"display:none;\">\n",
              "\n",
              "<svg xmlns=\"http://www.w3.org/2000/svg\" height=\"24px\"viewBox=\"0 0 24 24\"\n",
              "     width=\"24px\">\n",
              "    <g>\n",
              "        <path d=\"M19 3H5c-1.1 0-2 .9-2 2v14c0 1.1.9 2 2 2h14c1.1 0 2-.9 2-2V5c0-1.1-.9-2-2-2zM9 17H7v-7h2v7zm4 0h-2V7h2v10zm4 0h-2v-4h2v4z\"/>\n",
              "    </g>\n",
              "</svg>\n",
              "  </button>\n",
              "\n",
              "<style>\n",
              "  .colab-df-quickchart {\n",
              "      --bg-color: #E8F0FE;\n",
              "      --fill-color: #1967D2;\n",
              "      --hover-bg-color: #E2EBFA;\n",
              "      --hover-fill-color: #174EA6;\n",
              "      --disabled-fill-color: #AAA;\n",
              "      --disabled-bg-color: #DDD;\n",
              "  }\n",
              "\n",
              "  [theme=dark] .colab-df-quickchart {\n",
              "      --bg-color: #3B4455;\n",
              "      --fill-color: #D2E3FC;\n",
              "      --hover-bg-color: #434B5C;\n",
              "      --hover-fill-color: #FFFFFF;\n",
              "      --disabled-bg-color: #3B4455;\n",
              "      --disabled-fill-color: #666;\n",
              "  }\n",
              "\n",
              "  .colab-df-quickchart {\n",
              "    background-color: var(--bg-color);\n",
              "    border: none;\n",
              "    border-radius: 50%;\n",
              "    cursor: pointer;\n",
              "    display: none;\n",
              "    fill: var(--fill-color);\n",
              "    height: 32px;\n",
              "    padding: 0;\n",
              "    width: 32px;\n",
              "  }\n",
              "\n",
              "  .colab-df-quickchart:hover {\n",
              "    background-color: var(--hover-bg-color);\n",
              "    box-shadow: 0 1px 2px rgba(60, 64, 67, 0.3), 0 1px 3px 1px rgba(60, 64, 67, 0.15);\n",
              "    fill: var(--button-hover-fill-color);\n",
              "  }\n",
              "\n",
              "  .colab-df-quickchart-complete:disabled,\n",
              "  .colab-df-quickchart-complete:disabled:hover {\n",
              "    background-color: var(--disabled-bg-color);\n",
              "    fill: var(--disabled-fill-color);\n",
              "    box-shadow: none;\n",
              "  }\n",
              "\n",
              "  .colab-df-spinner {\n",
              "    border: 2px solid var(--fill-color);\n",
              "    border-color: transparent;\n",
              "    border-bottom-color: var(--fill-color);\n",
              "    animation:\n",
              "      spin 1s steps(1) infinite;\n",
              "  }\n",
              "\n",
              "  @keyframes spin {\n",
              "    0% {\n",
              "      border-color: transparent;\n",
              "      border-bottom-color: var(--fill-color);\n",
              "      border-left-color: var(--fill-color);\n",
              "    }\n",
              "    20% {\n",
              "      border-color: transparent;\n",
              "      border-left-color: var(--fill-color);\n",
              "      border-top-color: var(--fill-color);\n",
              "    }\n",
              "    30% {\n",
              "      border-color: transparent;\n",
              "      border-left-color: var(--fill-color);\n",
              "      border-top-color: var(--fill-color);\n",
              "      border-right-color: var(--fill-color);\n",
              "    }\n",
              "    40% {\n",
              "      border-color: transparent;\n",
              "      border-right-color: var(--fill-color);\n",
              "      border-top-color: var(--fill-color);\n",
              "    }\n",
              "    60% {\n",
              "      border-color: transparent;\n",
              "      border-right-color: var(--fill-color);\n",
              "    }\n",
              "    80% {\n",
              "      border-color: transparent;\n",
              "      border-right-color: var(--fill-color);\n",
              "      border-bottom-color: var(--fill-color);\n",
              "    }\n",
              "    90% {\n",
              "      border-color: transparent;\n",
              "      border-bottom-color: var(--fill-color);\n",
              "    }\n",
              "  }\n",
              "</style>\n",
              "\n",
              "  <script>\n",
              "    async function quickchart(key) {\n",
              "      const quickchartButtonEl =\n",
              "        document.querySelector('#' + key + ' button');\n",
              "      quickchartButtonEl.disabled = true;  // To prevent multiple clicks.\n",
              "      quickchartButtonEl.classList.add('colab-df-spinner');\n",
              "      try {\n",
              "        const charts = await google.colab.kernel.invokeFunction(\n",
              "            'suggestCharts', [key], {});\n",
              "      } catch (error) {\n",
              "        console.error('Error during call to suggestCharts:', error);\n",
              "      }\n",
              "      quickchartButtonEl.classList.remove('colab-df-spinner');\n",
              "      quickchartButtonEl.classList.add('colab-df-quickchart-complete');\n",
              "    }\n",
              "    (() => {\n",
              "      let quickchartButtonEl =\n",
              "        document.querySelector('#df-c1993bd0-1537-4ea7-b5c8-c8f320ab4039 button');\n",
              "      quickchartButtonEl.style.display =\n",
              "        google.colab.kernel.accessAllowed ? 'block' : 'none';\n",
              "    })();\n",
              "  </script>\n",
              "</div>\n",
              "    </div>\n",
              "  </div>\n"
            ],
            "application/vnd.google.colaboratory.intrinsic+json": {
              "type": "dataframe",
              "variable_name": "rules",
              "summary": "{\n  \"name\": \"rules\",\n  \"rows\": 3,\n  \"fields\": [\n    {\n      \"column\": \"antecedents\",\n      \"properties\": {\n        \"dtype\": \"string\",\n        \"num_unique_values\": 3,\n        \"samples\": [\n          \"frozenset({'ground beef'})\",\n          \"frozenset({'olive oil'})\",\n          \"frozenset({'soup'})\"\n        ],\n        \"semantic_type\": \"\",\n        \"description\": \"\"\n      }\n    },\n    {\n      \"column\": \"consequents\",\n      \"properties\": {\n        \"dtype\": \"category\",\n        \"num_unique_values\": 1,\n        \"samples\": [\n          \"frozenset({'mineral water'})\"\n        ],\n        \"semantic_type\": \"\",\n        \"description\": \"\"\n      }\n    },\n    {\n      \"column\": \"antecedent support\",\n      \"properties\": {\n        \"dtype\": \"number\",\n        \"std\": 0.02436661714874392,\n        \"min\": 0.05052659645380616,\n        \"max\": 0.09825356619117451,\n        \"num_unique_values\": 3,\n        \"samples\": [\n          0.09825356619117451\n        ],\n        \"semantic_type\": \"\",\n        \"description\": \"\"\n      }\n    },\n    {\n      \"column\": \"consequent support\",\n      \"properties\": {\n        \"dtype\": \"number\",\n        \"std\": 3.3993498887762956e-17,\n        \"min\": 0.23836821757099053,\n        \"max\": 0.23836821757099053,\n        \"num_unique_values\": 1,\n        \"samples\": [\n          0.23836821757099053\n        ],\n        \"semantic_type\": \"\",\n        \"description\": \"\"\n      }\n    },\n    {\n      \"column\": \"support\",\n      \"properties\": {\n        \"dtype\": \"number\",\n        \"std\": 0.009286268373426476,\n        \"min\": 0.023063591521130515,\n        \"max\": 0.040927876283162246,\n        \"num_unique_values\": 3,\n        \"samples\": [\n          0.040927876283162246\n        ],\n        \"semantic_type\": \"\",\n        \"description\": \"\"\n      }\n    },\n    {\n      \"column\": \"confidence\",\n      \"properties\": {\n        \"dtype\": \"number\",\n        \"std\": 0.022362364750484535,\n        \"min\": 0.41655359565807326,\n        \"max\": 0.45646437994722955,\n        \"num_unique_values\": 3,\n        \"samples\": [\n          0.41655359565807326\n        ],\n        \"semantic_type\": \"\",\n        \"description\": \"\"\n      }\n    },\n    {\n      \"column\": \"lift\",\n      \"properties\": {\n        \"dtype\": \"number\",\n        \"std\": 0.09381437247952147,\n        \"min\": 1.7475215442008991,\n        \"max\": 1.9149548735929356,\n        \"num_unique_values\": 3,\n        \"samples\": [\n          1.7475215442008991\n        ],\n        \"semantic_type\": \"\",\n        \"description\": \"\"\n      }\n    },\n    {\n      \"column\": \"leverage\",\n      \"properties\": {\n        \"dtype\": \"number\",\n        \"std\": 0.0035196457069510806,\n        \"min\": 0.01101965678450801,\n        \"max\": 0.01750734884017864,\n        \"num_unique_values\": 3,\n        \"samples\": [\n          0.01750734884017864\n        ],\n        \"semantic_type\": \"\",\n        \"description\": \"\"\n      }\n    },\n    {\n      \"column\": \"conviction\",\n      \"properties\": {\n        \"dtype\": \"number\",\n        \"std\": 0.05380751504746973,\n        \"min\": 1.305401450349256,\n        \"max\": 1.4012545900028865,\n        \"num_unique_values\": 3,\n        \"samples\": [\n          1.305401450349256\n        ],\n        \"semantic_type\": \"\",\n        \"description\": \"\"\n      }\n    },\n    {\n      \"column\": \"zhangs_metric\",\n      \"properties\": {\n        \"dtype\": \"number\",\n        \"std\": 0.021348826872751213,\n        \"min\": 0.46153639321341183,\n        \"max\": 0.5032205021321218,\n        \"num_unique_values\": 3,\n        \"samples\": [\n          0.4743694824294936\n        ],\n        \"semantic_type\": \"\",\n        \"description\": \"\"\n      }\n    }\n  ]\n}"
            }
          },
          "metadata": {},
          "execution_count": 156
        }
      ]
    },
    {
      "cell_type": "markdown",
      "source": [
        "1. **Antecedent Support**:\n",
        "   $$ \\text{Antecedent Support} = \\frac{\\text{Número de transacciones con antecedente}}{\\text{Número total de transacciones}} $$\n",
        "\n",
        "2. **Consequent Support**:\n",
        "   $$ \\text{Consequent Support} = \\frac{\\text{Número de transacciones con consequent}}{\\text{Número total de transacciones}} $$\n",
        "\n",
        "3. **Support**:\n",
        "   $$ \\text{Support} = \\frac{\\text{Número de transacciones con antecedente y consequent}}{\\text{Número total de transacciones}} $$\n",
        "\n",
        "4. **Confidence**:\n",
        "   $$ \\text{Confidence} = \\frac{\\text{Support}(\\text{Antecedent} \\rightarrow \\text{Consequent})}{\\text{Support}(\\text{Antecedent})} $$\n",
        "\n",
        "5. **Lift**:\n",
        "   $$ \\text{Lift} = \\frac{\\text{Support}(\\text{Antecedent} \\rightarrow \\text{Consequent})}{\\text{Support}(\\text{Antecedent}) \\times \\text{Support}(\\text{Consequent})} $$\n",
        "\n",
        "6. **Leverage**:\n",
        "   $$ \\text{Leverage} = \\text{Support}(\\text{Antecedent} \\rightarrow \\text{Consequent}) - \\text{Support}(\\text{Antecedent}) \\times \\text{Support}(\\text{Consequent}) $$\n",
        "\n",
        "7. **Conviction**:\n",
        "   $$ \\text{Conviction} = \\frac{1 - \\text{Support}(\\text{Consequent})}{1 - \\text{Confidence}(\\text{Antecedent} \\rightarrow \\text{Consequent})}$$\n"
      ],
      "metadata": {
        "id": "UW9tBBIR3uJp"
      }
    },
    {
      "cell_type": "markdown",
      "source": [
        "## 1.- (1 puntos)\n",
        "\n",
        "Prueba al menos tres configuraciones de soporte y frecuencia para cada tipo de puntuación."
      ],
      "metadata": {
        "id": "OQiGlJJ_xLPU"
      }
    },
    {
      "cell_type": "code",
      "source": [
        "# Definir los valores de soporte y confianza a probar\n",
        "configuraciones = [(0.01,0.3), (0.03,0.3), (0.01,0.5), (0.03,0.5)]\n",
        "\n",
        "# Para cada combinación de soporte y confianza\n",
        "for support, confidence  in configuraciones:\n",
        "        # Generar itemsets frecuentes\n",
        "        frequent_itemsets = apriori(df, min_support=support, use_colnames=True)\n",
        "\n",
        "        # Generar reglas de asociación\n",
        "        rules = association_rules(frequent_itemsets, metric=\"confidence\",\n",
        "                                  min_threshold=confidence)\n",
        "\n",
        "        # Imprimir las reglas generadas\n",
        "        print(\"-------------------------------------------------------------------------------------------------\")\n",
        "        print(f\"\\n\\n -> Reglas generadas con soporte={support} y confianza={confidence}:\\n\")\n",
        "        print(rules[['antecedents','antecedents','confidence']])"
      ],
      "metadata": {
        "colab": {
          "base_uri": "https://localhost:8080/"
        },
        "id": "u5aoXb0gvFiA",
        "outputId": "b8ae831f-19de-40ee-806a-9a6bf92b10c5"
      },
      "execution_count": null,
      "outputs": [
        {
          "output_type": "stream",
          "name": "stderr",
          "text": [
            "/usr/local/lib/python3.10/dist-packages/ipykernel/ipkernel.py:283: DeprecationWarning: `should_run_async` will not call `transform_cell` automatically in the future. Please pass the result to `transformed_cell` argument and any exception that happen during thetransform in `preprocessing_exc_tuple` in IPython 7.17 and above.\n",
            "  and should_run_async(code)\n"
          ]
        },
        {
          "output_type": "stream",
          "name": "stdout",
          "text": [
            "-------------------------------------------------------------------------------------------------\n",
            "\n",
            "\n",
            " -> Reglas generadas con soporte=0.01 y confianza=0.3:\n",
            "\n",
            "                   antecedents                 antecedents  confidence\n",
            "0                    (avocado)                   (avocado)    0.348000\n",
            "1                    (burgers)                   (burgers)    0.330275\n",
            "2                       (cake)                      (cake)    0.338816\n",
            "3                    (cereals)                   (cereals)    0.398964\n",
            "4                    (chicken)                   (chicken)    0.380000\n",
            "..                         ...                         ...         ...\n",
            "58           (spaghetti, milk)           (spaghetti, milk)    0.443609\n",
            "59  (olive oil, mineral water)  (olive oil, mineral water)    0.371981\n",
            "60      (olive oil, spaghetti)      (olive oil, spaghetti)    0.447674\n",
            "61   (mineral water, pancakes)   (mineral water, pancakes)    0.339921\n",
            "62       (pancakes, spaghetti)       (pancakes, spaghetti)    0.455026\n",
            "\n",
            "[63 rows x 3 columns]\n",
            "-------------------------------------------------------------------------------------------------\n",
            "\n",
            "\n",
            " -> Reglas generadas con soporte=0.03 y confianza=0.3:\n",
            "\n",
            "           antecedents          antecedents  confidence\n",
            "0          (chocolate)          (chocolate)    0.321400\n",
            "1  (frozen vegetables)  (frozen vegetables)    0.374825\n",
            "2        (ground beef)        (ground beef)    0.416554\n",
            "3        (ground beef)        (ground beef)    0.398915\n",
            "4               (milk)               (milk)    0.370370\n",
            "5           (pancakes)           (pancakes)    0.354839\n",
            "6          (spaghetti)          (spaghetti)    0.343032\n",
            "-------------------------------------------------------------------------------------------------\n",
            "\n",
            "\n",
            " -> Reglas generadas con soporte=0.01 y confianza=0.5:\n",
            "\n",
            "           antecedents          antecedents  confidence\n",
            "0  (eggs, ground beef)  (eggs, ground beef)    0.506667\n",
            "1  (ground beef, milk)  (ground beef, milk)    0.503030\n",
            "-------------------------------------------------------------------------------------------------\n",
            "\n",
            "\n",
            " -> Reglas generadas con soporte=0.03 y confianza=0.5:\n",
            "\n",
            "Empty DataFrame\n",
            "Columns: [antecedents, antecedents, confidence]\n",
            "Index: []\n"
          ]
        }
      ]
    },
    {
      "cell_type": "markdown",
      "source": [
        "El **soporte** y la **confianza** son dos métricas clave en las reglas de asociación:\n",
        "\n",
        "- **Soporte**: Representa la frecuencia relativa con la que aparecen los antecedentes y los consecuentes juntos. En otras palabras, es la proporción de transacciones en los datos que contienen un conjunto de elementos (itemset) específico.\n",
        "\n",
        "- **Confianza**: Mide con qué frecuencia los artículos en Y aparecen en transacciones que también contienen X.\n",
        "\n",
        "Ahora, analicemos cómo estos parámetros afectan los resultados de las reglas de asociación generadas:\n",
        "\n",
        "1. **Reglas con soporte=0.01 y confianza=0.3**: Se generaron **63 reglas**. Esto indica que al tener un soporte y una confianza bajos, se pueden generar muchas reglas, pero estas pueden no ser muy fuertes (la confianza de estas reglas varía, pero no es muy alta).\n",
        "\n",
        "2. **Reglas con soporte=0.03 y confianza=0.3**: Se generaron **6 reglas**. Al aumentar el soporte a 0.03, el número de reglas generadas disminuye. Esto se debe a que estamos buscando reglas que se cumplan en un mayor número de transacciones, siendo menos itemsets los que pueden servir para hacer reglas.\n",
        "\n",
        "3. **Reglas con soporte=0.01 y confianza=0.5**: Se generaron **2 reglas**. Al aumentar la confianza a 0.5, el número de reglas generadas disminuye significativamente. Esto se debe a que estamos buscando reglas que se cumplan con una alta confianza, lo que es más difícil de encontrar.\n",
        "\n",
        "4. **Reglas con soporte=0.03 y confianza=0.5**: No se generaron reglas. Esto indica que no hay reglas que se cumplan con una alta confianza (0.5) en un gran número de transacciones (soporte de 0.03).\n",
        "\n",
        "En resumen, aumentar el soporte y la confianza hace que las reglas generadas sean más fuertes (es decir, se cumplen en más transacciones y con mayor confianza), pero también hace que sea más difícil encontrar dichas reglas. Por lo tanto, es importante elegir estos parámetros cuidadosamente para equilibrar la cantidad y la calidad de las reglas generadas."
      ],
      "metadata": {
        "id": "j6oPA3xSxGc5"
      }
    },
    {
      "cell_type": "markdown",
      "source": [
        "## 2.- (1 punto)\n",
        "\n",
        "¿Qué diferencias hay entre usar soporte y frecuencia? Respalda la respuesta con datos."
      ],
      "metadata": {
        "id": "gCJqyR0gxYES"
      }
    },
    {
      "cell_type": "markdown",
      "source": [
        "Soporte: Es la proporción de transacciones en las que aparece un conjunto de elementos. Se expresa como el número de transacciones que contienen el conjunto dividido por el número total de transacciones.\n",
        "\n",
        "Frecuencia: Es simplemente el número de veces que aparece un conjunto de elementos en el conjunto de datos."
      ],
      "metadata": {
        "id": "yqnCpXPs3iK1"
      }
    },
    {
      "cell_type": "code",
      "source": [
        "# Calcular soporte\n",
        "support = df.sum() / len(df)\n",
        "\n",
        "# Calcular frecuencia\n",
        "frequency = df.sum()\n",
        "\n",
        "print(support)\n",
        "\n",
        "print(frequency)"
      ],
      "metadata": {
        "colab": {
          "base_uri": "https://localhost:8080/"
        },
        "outputId": "81ecaaf6-cc1e-49ef-aedf-94dd693667a5",
        "id": "qdqWUM8c3iLK"
      },
      "execution_count": null,
      "outputs": [
        {
          "output_type": "stream",
          "name": "stdout",
          "text": [
            " asparagus           0.000133\n",
            "almonds              0.020397\n",
            "antioxydant juice    0.008932\n",
            "asparagus            0.004666\n",
            "avocado              0.033329\n",
            "                       ...   \n",
            "whole wheat pasta    0.029463\n",
            "whole wheat rice     0.058526\n",
            "yams                 0.011465\n",
            "yogurt cake          0.027330\n",
            "zucchini             0.009465\n",
            "Length: 120, dtype: float64\n",
            " asparagus             1\n",
            "almonds              153\n",
            "antioxydant juice     67\n",
            "asparagus             35\n",
            "avocado              250\n",
            "                    ... \n",
            "whole wheat pasta    221\n",
            "whole wheat rice     439\n",
            "yams                  86\n",
            "yogurt cake          205\n",
            "zucchini              71\n",
            "Length: 120, dtype: int64\n"
          ]
        },
        {
          "output_type": "stream",
          "name": "stderr",
          "text": [
            "/usr/local/lib/python3.10/dist-packages/ipykernel/ipkernel.py:283: DeprecationWarning: `should_run_async` will not call `transform_cell` automatically in the future. Please pass the result to `transformed_cell` argument and any exception that happen during thetransform in `preprocessing_exc_tuple` in IPython 7.17 and above.\n",
            "  and should_run_async(code)\n"
          ]
        }
      ]
    },
    {
      "cell_type": "code",
      "source": [
        "plt.figure(figsize=(12, 6))  # Establece el tamaño de la figura\n",
        "\n",
        "# Grafica el boxplot para Soporte\n",
        "plt.subplot(1, 2, 1)\n",
        "plt.boxplot(support,\n",
        "            labels=['support'],\n",
        "            patch_artist=True,  # Habilitar el relleno de colores\n",
        "            boxprops={'facecolor': 'skyblue', 'edgecolor': 'black'},  # Color de la caja\n",
        "            medianprops={'color': 'black'},  # Color de la línea mediana\n",
        "            flierprops={'marker': 'o', 'markerfacecolor': 'gray', 'markeredgecolor': 'black'},  # Color de los valores atípicos\n",
        "            whiskerprops={'color': 'black'},  # Color de las líneas de bigotes\n",
        "            capprops={'color': 'black'})  # Color de las líneas de extremos\n",
        "plt.title('Boxplot de support')\n",
        "plt.ylabel('support')\n",
        "\n",
        "# Grafica el boxplot para Frecuencia\n",
        "plt.subplot(1, 2, 2)\n",
        "plt.boxplot(frequency,\n",
        "            labels=['frequency'],\n",
        "            patch_artist=True,  # Habilitar el relleno de colores\n",
        "            boxprops={'facecolor': 'limegreen', 'edgecolor': 'black'},  # Color de la caja\n",
        "            medianprops={'color': 'black'},  # Color de la línea mediana\n",
        "            flierprops={'marker': 'o', 'markerfacecolor': 'gray', 'markeredgecolor': 'black'},  # Color de los valores atípicos\n",
        "            whiskerprops={'color': 'black'},  # Color de las líneas de bigotes\n",
        "            capprops={'color': 'black'})  # Color de las líneas de extremos\n",
        "\n",
        "plt.title('Boxplot de frequency')\n",
        "plt.ylabel('frequency')\n",
        "plt.show()\n",
        "\n",
        "# Muestra el gráfico combinado\n",
        "plt.tight_layout()\n",
        "plt.show()"
      ],
      "metadata": {
        "colab": {
          "base_uri": "https://localhost:8080/",
          "height": 617
        },
        "id": "SaO4sp_YPlLo",
        "outputId": "af57e3ab-bc35-4bf5-d277-f8b37a6d5348"
      },
      "execution_count": null,
      "outputs": [
        {
          "output_type": "stream",
          "name": "stderr",
          "text": [
            "/usr/local/lib/python3.10/dist-packages/ipykernel/ipkernel.py:283: DeprecationWarning: `should_run_async` will not call `transform_cell` automatically in the future. Please pass the result to `transformed_cell` argument and any exception that happen during thetransform in `preprocessing_exc_tuple` in IPython 7.17 and above.\n",
            "  and should_run_async(code)\n"
          ]
        },
        {
          "output_type": "display_data",
          "data": {
            "text/plain": [
              "<Figure size 1200x600 with 2 Axes>"
            ],
            "image/png": "[encoded data removed]"
          },
          "metadata": {}
        },
        {
          "output_type": "display_data",
          "data": {
            "text/plain": [
              "<Figure size 640x480 with 0 Axes>"
            ]
          },
          "metadata": {}
        }
      ]
    },
    {
      "cell_type": "markdown",
      "source": [
        "## 3.- (1 punto)\n",
        "\n",
        "¿Qué tipo reglas desaparecen según la configuración usada y el tipo de puntuación? ¿Por qué?"
      ],
      "metadata": {
        "id": "BVhpOgo7xwOr"
      }
    },
    {
      "cell_type": "code",
      "source": [
        "# Generar itemsets frecuentes\n",
        "frequent_itemsets = apriori(df, min_support=0.02, use_colnames=True)\n",
        "print(frequent_itemsets)"
      ],
      "metadata": {
        "colab": {
          "base_uri": "https://localhost:8080/"
        },
        "id": "E79r4LMj7C_D",
        "outputId": "75cf1741-aebe-4515-d643-f1804b900b6a"
      },
      "execution_count": null,
      "outputs": [
        {
          "output_type": "stream",
          "name": "stdout",
          "text": [
            "      support                           itemsets\n",
            "0    0.020397                          (almonds)\n",
            "1    0.033329                          (avocado)\n",
            "2    0.033729                         (brownies)\n",
            "3    0.087188                          (burgers)\n",
            "4    0.030129                           (butter)\n",
            "..        ...                                ...\n",
            "98   0.020131  (mineral water, whole wheat rice)\n",
            "99   0.022930             (olive oil, spaghetti)\n",
            "100  0.025197              (pancakes, spaghetti)\n",
            "101  0.021197                (shrimp, spaghetti)\n",
            "102  0.020931              (tomatoes, spaghetti)\n",
            "\n",
            "[103 rows x 2 columns]\n"
          ]
        },
        {
          "output_type": "stream",
          "name": "stderr",
          "text": [
            "/usr/local/lib/python3.10/dist-packages/ipykernel/ipkernel.py:283: DeprecationWarning: `should_run_async` will not call `transform_cell` automatically in the future. Please pass the result to `transformed_cell` argument and any exception that happen during thetransform in `preprocessing_exc_tuple` in IPython 7.17 and above.\n",
            "  and should_run_async(code)\n"
          ]
        }
      ]
    },
    {
      "cell_type": "code",
      "source": [
        "# Mostrar reglas con diferentes configuraciones\n",
        "rules_confidence = association_rules(frequent_itemsets, metric=\"confidence\", min_threshold=0.2)\n",
        "rules_lift = association_rules(frequent_itemsets, metric=\"lift\", min_threshold=1.4)\n",
        "\n",
        "# Imprimir reglas\n",
        "print(\"\\n ->Reglas con alta confianza:\")\n",
        "print(rules_confidence[['antecedents', 'consequents', 'confidence', 'lift']])\n",
        "\n",
        "print(\"\\n\\n ->Reglas con alto lift:\")\n",
        "print(rules_lift[['antecedents', 'consequents', 'confidence', 'lift']])\n"
      ],
      "metadata": {
        "colab": {
          "base_uri": "https://localhost:8080/"
        },
        "id": "2pxCWLeFvexB",
        "outputId": "7157ed31-940d-42ab-8e8f-3ff99ad1c9a3"
      },
      "execution_count": null,
      "outputs": [
        {
          "output_type": "stream",
          "name": "stdout",
          "text": [
            "\n",
            " ->Reglas con alta confianza:\n",
            "            antecedents      consequents  confidence      lift\n",
            "0             (burgers)           (eggs)    0.330275  1.837830\n",
            "1             (burgers)   (french fries)    0.252294  1.476173\n",
            "2             (burgers)  (mineral water)    0.279817  1.173883\n",
            "3             (burgers)      (spaghetti)    0.246177  1.413918\n",
            "4                (cake)  (mineral water)    0.338816  1.421397\n",
            "5             (chicken)  (mineral water)    0.380000  1.594172\n",
            "6           (chocolate)           (eggs)    0.202604  1.127397\n",
            "7           (chocolate)   (french fries)    0.209927  1.228284\n",
            "8        (french fries)      (chocolate)    0.201248  1.228284\n",
            "9   (frozen vegetables)      (chocolate)    0.240559  1.468215\n",
            "10        (ground beef)      (chocolate)    0.234735  1.432669\n",
            "11               (milk)      (chocolate)    0.247942  1.513276\n",
            "12      (mineral water)      (chocolate)    0.220917  1.348332\n",
            "13          (chocolate)  (mineral water)    0.321400  1.348332\n",
            "14          (chocolate)      (spaghetti)    0.239219  1.373952\n",
            "15          (spaghetti)      (chocolate)    0.225115  1.373952\n",
            "16        (cooking oil)  (mineral water)    0.394256  1.653978\n",
            "17               (eggs)   (french fries)    0.202522  1.184961\n",
            "18       (french fries)           (eggs)    0.212949  1.184961\n",
            "19  (frozen vegetables)           (eggs)    0.227972  1.268559\n",
            "20               (milk)           (eggs)    0.237654  1.322437\n",
            "21      (mineral water)           (eggs)    0.213647  1.188845\n",
            "22               (eggs)  (mineral water)    0.283383  1.188845\n",
            "23           (pancakes)           (eggs)    0.228612  1.272118\n",
            "24               (eggs)      (spaghetti)    0.203264  1.167446\n",
            "25          (spaghetti)           (eggs)    0.209801  1.167446\n",
            "26          (green tea)   (french fries)    0.215943  1.263488\n",
            "27           (pancakes)   (french fries)    0.211781  1.239135\n",
            "28    (frozen smoothie)  (mineral water)    0.320000  1.342461\n",
            "29  (frozen vegetables)           (milk)    0.247552  1.910382\n",
            "30  (frozen vegetables)  (mineral water)    0.374825  1.572463\n",
            "31  (frozen vegetables)      (spaghetti)    0.292308  1.678867\n",
            "32          (green tea)  (mineral water)    0.235116  0.986357\n",
            "33          (green tea)      (spaghetti)    0.200807  1.153335\n",
            "34        (ground beef)           (milk)    0.223881  1.727704\n",
            "35        (ground beef)  (mineral water)    0.416554  1.747522\n",
            "36        (ground beef)      (spaghetti)    0.398915  2.291162\n",
            "37          (spaghetti)    (ground beef)    0.225115  2.291162\n",
            "38     (low fat yogurt)  (mineral water)    0.313589  1.315565\n",
            "39      (mineral water)           (milk)    0.201342  1.553774\n",
            "40               (milk)  (mineral water)    0.370370  1.553774\n",
            "41               (milk)      (spaghetti)    0.273663  1.571779\n",
            "42          (spaghetti)           (milk)    0.203675  1.571779\n",
            "43          (olive oil)  (mineral water)    0.419028  1.757904\n",
            "44           (pancakes)  (mineral water)    0.354839  1.488616\n",
            "45             (shrimp)  (mineral water)    0.330224  1.385352\n",
            "46               (soup)  (mineral water)    0.456464  1.914955\n",
            "47      (mineral water)      (spaghetti)    0.250559  1.439085\n",
            "48          (spaghetti)  (mineral water)    0.343032  1.439085\n",
            "49           (tomatoes)  (mineral water)    0.356725  1.496530\n",
            "50   (whole wheat rice)  (mineral water)    0.343964  1.442993\n",
            "51          (olive oil)      (spaghetti)    0.348178  1.999758\n",
            "52           (pancakes)      (spaghetti)    0.265077  1.522468\n",
            "53             (shrimp)      (spaghetti)    0.296642  1.703760\n",
            "54           (tomatoes)      (spaghetti)    0.306043  1.757755\n",
            "\n",
            "\n",
            " ->Reglas con alto lift:\n",
            "            antecedents          consequents  confidence      lift\n",
            "0                (eggs)            (burgers)    0.160237  1.837830\n",
            "1             (burgers)               (eggs)    0.330275  1.837830\n",
            "2             (burgers)       (french fries)    0.252294  1.476173\n",
            "3        (french fries)            (burgers)    0.128705  1.476173\n",
            "4             (burgers)          (spaghetti)    0.246177  1.413918\n",
            "5           (spaghetti)            (burgers)    0.123277  1.413918\n",
            "6       (mineral water)               (cake)    0.115213  1.421397\n",
            "7                (cake)      (mineral water)    0.338816  1.421397\n",
            "8       (mineral water)            (chicken)    0.095638  1.594172\n",
            "9             (chicken)      (mineral water)    0.380000  1.594172\n",
            "10  (frozen vegetables)          (chocolate)    0.240559  1.468215\n",
            "11          (chocolate)  (frozen vegetables)    0.139951  1.468215\n",
            "12          (chocolate)        (ground beef)    0.140765  1.432669\n",
            "13        (ground beef)          (chocolate)    0.234735  1.432669\n",
            "14          (chocolate)               (milk)    0.196094  1.513276\n",
            "15               (milk)          (chocolate)    0.247942  1.513276\n",
            "16      (mineral water)        (cooking oil)    0.084452  1.653978\n",
            "17        (cooking oil)      (mineral water)    0.394256  1.653978\n",
            "18  (frozen vegetables)               (milk)    0.247552  1.910382\n",
            "19               (milk)  (frozen vegetables)    0.182099  1.910382\n",
            "20  (frozen vegetables)      (mineral water)    0.374825  1.572463\n",
            "21      (mineral water)  (frozen vegetables)    0.149888  1.572463\n",
            "22  (frozen vegetables)          (spaghetti)    0.292308  1.678867\n",
            "23          (spaghetti)  (frozen vegetables)    0.160031  1.678867\n",
            "24        (ground beef)               (milk)    0.223881  1.727704\n",
            "25               (milk)        (ground beef)    0.169753  1.727704\n",
            "26      (mineral water)        (ground beef)    0.171700  1.747522\n",
            "27        (ground beef)      (mineral water)    0.416554  1.747522\n",
            "28        (ground beef)          (spaghetti)    0.398915  2.291162\n",
            "29          (spaghetti)        (ground beef)    0.225115  2.291162\n",
            "30      (mineral water)               (milk)    0.201342  1.553774\n",
            "31               (milk)      (mineral water)    0.370370  1.553774\n",
            "32               (milk)          (spaghetti)    0.273663  1.571779\n",
            "33          (spaghetti)               (milk)    0.203675  1.571779\n",
            "34          (olive oil)      (mineral water)    0.419028  1.757904\n",
            "35      (mineral water)          (olive oil)    0.115772  1.757904\n",
            "36      (mineral water)           (pancakes)    0.141499  1.488616\n",
            "37           (pancakes)      (mineral water)    0.354839  1.488616\n",
            "38      (mineral water)               (soup)    0.096756  1.914955\n",
            "39               (soup)      (mineral water)    0.456464  1.914955\n",
            "40      (mineral water)          (spaghetti)    0.250559  1.439085\n",
            "41          (spaghetti)      (mineral water)    0.343032  1.439085\n",
            "42      (mineral water)           (tomatoes)    0.102349  1.496530\n",
            "43           (tomatoes)      (mineral water)    0.356725  1.496530\n",
            "44      (mineral water)   (whole wheat rice)    0.084452  1.442993\n",
            "45   (whole wheat rice)      (mineral water)    0.343964  1.442993\n",
            "46          (olive oil)          (spaghetti)    0.348178  1.999758\n",
            "47          (spaghetti)          (olive oil)    0.131700  1.999758\n",
            "48           (pancakes)          (spaghetti)    0.265077  1.522468\n",
            "49          (spaghetti)           (pancakes)    0.144717  1.522468\n",
            "50             (shrimp)          (spaghetti)    0.296642  1.703760\n",
            "51          (spaghetti)             (shrimp)    0.121746  1.703760\n",
            "52           (tomatoes)          (spaghetti)    0.306043  1.757755\n",
            "53          (spaghetti)           (tomatoes)    0.120214  1.757755\n"
          ]
        },
        {
          "output_type": "stream",
          "name": "stderr",
          "text": [
            "/usr/local/lib/python3.10/dist-packages/ipykernel/ipkernel.py:283: DeprecationWarning: `should_run_async` will not call `transform_cell` automatically in the future. Please pass the result to `transformed_cell` argument and any exception that happen during thetransform in `preprocessing_exc_tuple` in IPython 7.17 and above.\n",
            "  and should_run_async(code)\n"
          ]
        }
      ]
    },
    {
      "cell_type": "code",
      "source": [
        "plt.figure(figsize=(12, 6))  # Establece el tamaño de la figura\n",
        "\n",
        "# Grafica el boxplot para soporte\n",
        "plt.subplot(1, 3, 1)\n",
        "lift_alto = rules_lift['support']\n",
        "confidence_alto = rules_confidence['support']\n",
        "plt.boxplot([lift_alto, confidence_alto],\n",
        "            labels=['Lift Alto', 'Confianza Alta'],\n",
        "            patch_artist=True,  # Habilitar el relleno de colores\n",
        "            boxprops={'facecolor': 'salmon', 'edgecolor': 'black'},  # Color de la caja\n",
        "            medianprops={'color': 'black'},  # Color de la línea mediana\n",
        "            flierprops={'marker': 'o', 'markerfacecolor': 'gray', 'markeredgecolor': 'black'},  # Color de los valores atípicos\n",
        "            whiskerprops={'color': 'black'},  # Color de las líneas de bigotes\n",
        "            capprops={'color': 'black'})  # Color de las líneas de extremos\n",
        "plt.title('Boxplot de Soporte')\n",
        "plt.ylabel('Soporte')\n",
        "\n",
        "# Grafica el boxplot para confianza\n",
        "plt.subplot(1, 3, 2)\n",
        "lift_alto = rules_lift['confidence']\n",
        "confidence_alto = rules_confidence['confidence']\n",
        "plt.boxplot([lift_alto, confidence_alto],\n",
        "            labels=['Lift Alto', 'Confianza Alta'],\n",
        "            patch_artist=True,  # Habilitar el relleno de colores\n",
        "            boxprops={'facecolor': 'skyblue', 'edgecolor': 'black'},  # Color de la caja\n",
        "            medianprops={'color': 'black'},  # Color de la línea mediana\n",
        "            flierprops={'marker': 'o', 'markerfacecolor': 'gray', 'markeredgecolor': 'black'},  # Color de los valores atípicos\n",
        "            whiskerprops={'color': 'black'},  # Color de las líneas de bigotes\n",
        "            capprops={'color': 'black'})  # Color de las líneas de extremos\n",
        "plt.title('Boxplot de Confianza')\n",
        "plt.ylabel('Confianza')\n",
        "\n",
        "# Grafica el boxplot para lift\n",
        "plt.subplot(1, 3, 3)\n",
        "lift_alto = rules_lift['lift']\n",
        "confidence_alto = rules_confidence['lift']\n",
        "plt.boxplot([lift_alto, confidence_alto],\n",
        "            labels=['Lift Alto', 'Confianza Alta'],\n",
        "            patch_artist=True,  # Habilitar el relleno de colores\n",
        "            boxprops={'facecolor': 'limegreen', 'edgecolor': 'black'},  # Color de la caja\n",
        "            medianprops={'color': 'black'},  # Color de la línea mediana\n",
        "            flierprops={'marker': 'o', 'markerfacecolor': 'gray', 'markeredgecolor': 'black'},  # Color de los valores atípicos\n",
        "            whiskerprops={'color': 'black'},  # Color de las líneas de bigotes\n",
        "            capprops={'color': 'black'})  # Color de las líneas de extremos\n",
        "\n",
        "plt.title('Boxplot de Lift')\n",
        "plt.ylabel('Lift')\n",
        "plt.show()\n",
        "\n",
        "# Muestra el gráfico combinado\n",
        "plt.tight_layout()\n",
        "plt.show()"
      ],
      "metadata": {
        "colab": {
          "base_uri": "https://localhost:8080/",
          "height": 617
        },
        "id": "EMQi5vCLM2ib",
        "outputId": "7454892c-8f10-4040-c4dd-b99e7e2f289f"
      },
      "execution_count": null,
      "outputs": [
        {
          "output_type": "stream",
          "name": "stderr",
          "text": [
            "/usr/local/lib/python3.10/dist-packages/ipykernel/ipkernel.py:283: DeprecationWarning: `should_run_async` will not call `transform_cell` automatically in the future. Please pass the result to `transformed_cell` argument and any exception that happen during thetransform in `preprocessing_exc_tuple` in IPython 7.17 and above.\n",
            "  and should_run_async(code)\n"
          ]
        },
        {
          "output_type": "display_data",
          "data": {
            "text/plain": [
              "<Figure size 1200x600 with 3 Axes>"
            ],
            "image/png": "[encoded data removed]"
          },
          "metadata": {}
        },
        {
          "output_type": "display_data",
          "data": {
            "text/plain": [
              "<Figure size 640x480 with 0 Axes>"
            ]
          },
          "metadata": {}
        }
      ]
    },
    {
      "cell_type": "code",
      "source": [
        "plt.figure(figsize=(12, 6))  # Establece el tamaño de la figura\n",
        "\n",
        "# Grafica el boxplot para soporte\n",
        "plt.subplot(1, 3, 1)\n",
        "lift_alto = rules_lift['support']\n",
        "confidence_alto = rules_confidence['support']\n",
        "plt.boxplot([lift_alto, confidence_alto],\n",
        "            labels=['Lift Alto', 'Confianza Alta'],\n",
        "            patch_artist=True,  # Habilitar el relleno de colores\n",
        "            boxprops={'facecolor': 'salmon', 'edgecolor': 'black'},  # Color de la caja\n",
        "            medianprops={'color': 'black'},  # Color de la línea mediana\n",
        "            flierprops={'marker': 'o', 'markerfacecolor': 'gray', 'markeredgecolor': 'black'},  # Color de los valores atípicos\n",
        "            whiskerprops={'color': 'black'},  # Color de las líneas de bigotes\n",
        "            capprops={'color': 'black'})  # Color de las líneas de extremos\n",
        "plt.title('Boxplot de Soporte')\n",
        "plt.ylabel('Soporte')\n",
        "\n",
        "# Grafica el boxplot para confianza\n",
        "plt.subplot(1, 3, 2)\n",
        "lift_alto = rules_lift['antecedent support']\n",
        "confidence_alto = rules_confidence['antecedent support']\n",
        "plt.boxplot([lift_alto, confidence_alto],\n",
        "            labels=['Lift Alto', 'Confianza Alta'],\n",
        "            patch_artist=True,  # Habilitar el relleno de colores\n",
        "            boxprops={'facecolor': 'skyblue', 'edgecolor': 'black'},  # Color de la caja\n",
        "            medianprops={'color': 'black'},  # Color de la línea mediana\n",
        "            flierprops={'marker': 'o', 'markerfacecolor': 'gray', 'markeredgecolor': 'black'},  # Color de los valores atípicos\n",
        "            whiskerprops={'color': 'black'},  # Color de las líneas de bigotes\n",
        "            capprops={'color': 'black'})  # Color de las líneas de extremos\n",
        "plt.title('Boxplot de antecedent support')\n",
        "plt.ylabel('antecedent support')\n",
        "\n",
        "# Grafica el boxplot para lift\n",
        "plt.subplot(1, 3, 3)\n",
        "lift_alto = rules_lift['consequent support']\n",
        "confidence_alto = rules_confidence['consequent support']\n",
        "plt.boxplot([lift_alto, confidence_alto],\n",
        "            labels=['Lift Alto', 'Confianza Alta'],\n",
        "            patch_artist=True,  # Habilitar el relleno de colores\n",
        "            boxprops={'facecolor': 'limegreen', 'edgecolor': 'black'},  # Color de la caja\n",
        "            medianprops={'color': 'black'},  # Color de la línea mediana\n",
        "            flierprops={'marker': 'o', 'markerfacecolor': 'gray', 'markeredgecolor': 'black'},  # Color de los valores atípicos\n",
        "            whiskerprops={'color': 'black'},  # Color de las líneas de bigotes\n",
        "            capprops={'color': 'black'})  # Color de las líneas de extremos\n",
        "\n",
        "plt.title('Boxplot de consequent support')\n",
        "plt.ylabel('consequent support')\n",
        "plt.show()\n",
        "\n",
        "# Muestra el gráfico combinado\n",
        "plt.tight_layout()\n",
        "plt.show()"
      ],
      "metadata": {
        "colab": {
          "base_uri": "https://localhost:8080/",
          "height": 617
        },
        "id": "rQaxyZUfQyo3",
        "outputId": "c7b182fe-6317-40d5-fee6-bda81cf8d53e"
      },
      "execution_count": null,
      "outputs": [
        {
          "output_type": "stream",
          "name": "stderr",
          "text": [
            "/usr/local/lib/python3.10/dist-packages/ipykernel/ipkernel.py:283: DeprecationWarning: `should_run_async` will not call `transform_cell` automatically in the future. Please pass the result to `transformed_cell` argument and any exception that happen during thetransform in `preprocessing_exc_tuple` in IPython 7.17 and above.\n",
            "  and should_run_async(code)\n"
          ]
        },
        {
          "output_type": "display_data",
          "data": {
            "text/plain": [
              "<Figure size 1200x600 with 3 Axes>"
            ],
            "image/png": "[encoded data removed]"
          },
          "metadata": {}
        },
        {
          "output_type": "display_data",
          "data": {
            "text/plain": [
              "<Figure size 640x480 with 0 Axes>"
            ]
          },
          "metadata": {}
        }
      ]
    },
    {
      "cell_type": "code",
      "source": [
        "# Crear un subplot con dos histogramas\n",
        "fig, axs = plt.subplots(3, 2, figsize=(8, 12))\n",
        "\n",
        "# Histograma para las reglas con alta confianza\n",
        "axs[0,0].hist(rules_confidence['support'], bins='auto', color='skyblue', edgecolor='black')\n",
        "axs[0,0].set_title('Histograma de Soporte (Alta Confianza)')\n",
        "axs[0,0].set_xlabel('Soporte')\n",
        "axs[0,0].set_ylabel('Frecuencia')\n",
        "\n",
        "axs[1,0].hist(rules_confidence['antecedent support'], bins='auto', color='skyblue', edgecolor='black')\n",
        "axs[1,0].set_title('Soporte Antecedente (Alta Confianza)')\n",
        "axs[1,0].set_xlabel('Soporte Antecedente')\n",
        "axs[1,0].set_ylabel('Frecuencia')\n",
        "\n",
        "axs[2,0].hist(rules_confidence['consequent support'], bins='auto', color='skyblue', edgecolor='black')\n",
        "axs[2,0].set_title('Soporte Consecuente (Alta Confianza)')\n",
        "axs[2,0].set_xlabel('Soporte Consecuente')\n",
        "axs[2,0].set_ylabel('Frecuencia')\n",
        "\n",
        "# Histograma para las reglas con alto lift\n",
        "axs[0,1].hist(rules_lift['support'], bins='auto', color='salmon', edgecolor='black')\n",
        "axs[0,1].set_title('Histograma de Soporte (Alto Lift)')\n",
        "axs[0,1].set_xlabel('Soporte')\n",
        "axs[0,1].set_ylabel('Frecuencia')\n",
        "\n",
        "axs[1,1].hist(rules_lift['antecedent support'], bins='auto', color='salmon', edgecolor='black')\n",
        "axs[1,1].set_title('Soporte Antecedente (Alto Lift)')\n",
        "axs[1,1].set_xlabel('Soporte Antecedente')\n",
        "axs[1,1].set_ylabel('Frecuencia')\n",
        "\n",
        "axs[2,1].hist(rules_lift['consequent support'], bins='auto', color='salmon', edgecolor='black')\n",
        "axs[2,1].set_title('Soporte Consecuente(Alto Lift)')\n",
        "axs[2,1].set_xlabel('Soporte Consecuente')\n",
        "axs[2,1].set_ylabel('Frecuencia')\n",
        "\n",
        "# Agregar un título común para todo el subplot\n",
        "fig.suptitle('Comparación de Reglas: Alta Confianza vs. Alto Lift')\n",
        "\n",
        "# Mostrar el gráfico\n",
        "plt.tight_layout()\n",
        "plt.show()"
      ],
      "metadata": {
        "colab": {
          "base_uri": "https://localhost:8080/",
          "height": 1000
        },
        "id": "EpYpU0gI82oG",
        "outputId": "64cc8907-4deb-42e3-9c69-eabf087e0ca9"
      },
      "execution_count": null,
      "outputs": [
        {
          "output_type": "stream",
          "name": "stderr",
          "text": [
            "/usr/local/lib/python3.10/dist-packages/ipykernel/ipkernel.py:283: DeprecationWarning: `should_run_async` will not call `transform_cell` automatically in the future. Please pass the result to `transformed_cell` argument and any exception that happen during thetransform in `preprocessing_exc_tuple` in IPython 7.17 and above.\n",
            "  and should_run_async(code)\n"
          ]
        },
        {
          "output_type": "display_data",
          "data": {
            "text/plain": [
              "<Figure size 800x1200 with 6 Axes>"
            ],
            "image/png": "[encoded data removed]"
          },
          "metadata": {}
        }
      ]
    },
    {
      "cell_type": "code",
      "source": [
        "# Crear un subplot con dos histogramas\n",
        "fig, axs = plt.subplots(1, 2, figsize=(8, 5))\n",
        "\n",
        "# Histograma para las reglas con alta confianza\n",
        "axs[0].scatter(rules_confidence['confidence'], rules_confidence['lift'],\n",
        "               alpha=1, color='skyblue', edgecolor='black', linewidth=0.5)\n",
        "axs[0].set_title('Gráfico de dispersión (Alta Confianza)')\n",
        "axs[0].set_xlabel('confidence')\n",
        "axs[0].set_ylabel('lift')\n",
        "axs[0].set_xlim(0,0.6)\n",
        "axs[0].set_ylim(1,2.5)\n",
        "\n",
        "# Histograma para las reglas con alto lift\n",
        "axs[1].scatter(rules_lift['confidence'], rules_lift['lift'],\n",
        "               alpha=1, color='salmon', edgecolor='black', linewidth=0.5)\n",
        "axs[1].set_title('Gráfico de dispersión (Alto Lift)')\n",
        "axs[1].set_xlabel('confidence')\n",
        "axs[1].set_ylabel('lift')\n",
        "axs[1].set_xlim(0,0.6)\n",
        "axs[1].set_ylim(1,2.5)\n",
        "\n",
        "# Agregar un título común para todo el subplot\n",
        "fig.suptitle('Comparación de Reglas: Alta Confianza vs. Alto Lift')\n",
        "\n",
        "# Mostrar el gráfico\n",
        "plt.tight_layout()\n",
        "plt.show()"
      ],
      "metadata": {
        "colab": {
          "base_uri": "https://localhost:8080/",
          "height": 567
        },
        "id": "foYBBWm_9dCF",
        "outputId": "0d9cb322-4eda-4b6a-cb94-6a096bcc6a1a"
      },
      "execution_count": null,
      "outputs": [
        {
          "output_type": "stream",
          "name": "stderr",
          "text": [
            "/usr/local/lib/python3.10/dist-packages/ipykernel/ipkernel.py:283: DeprecationWarning: `should_run_async` will not call `transform_cell` automatically in the future. Please pass the result to `transformed_cell` argument and any exception that happen during thetransform in `preprocessing_exc_tuple` in IPython 7.17 and above.\n",
            "  and should_run_async(code)\n"
          ]
        },
        {
          "output_type": "display_data",
          "data": {
            "text/plain": [
              "<Figure size 800x500 with 2 Axes>"
            ],
            "image/png": "[encoded data removed]"
          },
          "metadata": {}
        }
      ]
    },
    {
      "cell_type": "code",
      "source": [
        "# Crear un subplot con dos histogramas\n",
        "fig, axs = plt.subplots(1, 2, figsize=(8, 5))\n",
        "\n",
        "# Histograma para las reglas con alta confianza\n",
        "axs[0].scatter(rules_confidence['consequent support'], rules_confidence['antecedent support'],\n",
        "               alpha=1, color='skyblue', edgecolor='black', linewidth=0.5)\n",
        "axs[0].set_title('Gráfico de dispersión (Alta Confianza)')\n",
        "axs[0].set_xlabel('consequent support')\n",
        "axs[0].set_ylabel('antecedent support')\n",
        "axs[0].set_xlim(0,0.3)\n",
        "axs[0].set_ylim(0,0.3)\n",
        "\n",
        "# Histograma para las reglas con alto lift\n",
        "axs[1].scatter(rules_lift['consequent support'], rules_lift['antecedent support'],\n",
        "               alpha=1, color='salmon', edgecolor='black', linewidth=0.5)\n",
        "axs[1].set_title('Gráfico de dispersión (Alto Lift)')\n",
        "axs[1].set_xlabel('consequent support')\n",
        "axs[1].set_ylabel('antecedent support')\n",
        "axs[1].set_xlim(0,0.3)\n",
        "axs[1].set_ylim(0,0.3)\n",
        "\n",
        "# Agregar un título común para todo el subplot\n",
        "fig.suptitle('Comparación de Reglas: Alta Confianza vs. Alto Lift')\n",
        "\n",
        "# Mostrar el gráfico\n",
        "plt.tight_layout()\n",
        "plt.show()"
      ],
      "metadata": {
        "colab": {
          "base_uri": "https://localhost:8080/",
          "height": 567
        },
        "id": "1RcOxFDnRC6c",
        "outputId": "29abb77a-e157-4c28-d0f8-b5738c763e4f"
      },
      "execution_count": null,
      "outputs": [
        {
          "output_type": "stream",
          "name": "stderr",
          "text": [
            "/usr/local/lib/python3.10/dist-packages/ipykernel/ipkernel.py:283: DeprecationWarning: `should_run_async` will not call `transform_cell` automatically in the future. Please pass the result to `transformed_cell` argument and any exception that happen during thetransform in `preprocessing_exc_tuple` in IPython 7.17 and above.\n",
            "  and should_run_async(code)\n"
          ]
        },
        {
          "output_type": "display_data",
          "data": {
            "text/plain": [
              "<Figure size 800x500 with 2 Axes>"
            ],
            "image/png": "[encoded data removed]"
          },
          "metadata": {}
        }
      ]
    },
    {
      "cell_type": "markdown",
      "source": [
        "## 4.- (1 punto)\n",
        "\n",
        "Para una de las configuraciones, interpreta algunas de las reglas que te hayan resultado curiosas obtenidas usando la clase association_rules y un par de configuraciones cambiando la variable metric y min_threshold."
      ],
      "metadata": {
        "id": "anGs4qByx29Z"
      }
    },
    {
      "cell_type": "markdown",
      "source": [
        "## 5.- (1 punto)\n",
        "\n",
        "Dadas las mejores configuraciones. ¿Existen reglas o patrones que se repitan? ¿Podemos generalizar de alguna manera como se comportan los clientes del supermercado?"
      ],
      "metadata": {
        "id": "0PpVIq7LxrGA"
      }
    },
    {
      "cell_type": "markdown",
      "source": [
        "# Práctica 2 (Patrones Secuenciales)\n",
        "Valor (5 puntos)\n",
        "\n",
        "El conjunto de datos “Online Retail.xlsx” contiene productos (definidos por la columna StockCode y Description) comprados por diferentes clientes (definidos por la columna CustomerID) en diferentes momentos (definidos por el campo InvoiceDate).\n",
        "\n",
        "1.- (2 puntos) Habrá que procesar el fichero para crear una lista de los distintos clientes con las secuencias de las transacciones de las compras realizadas en distintos instantes.\n",
        "\n",
        "Una vez hecho esto y analizando esta información se pueden extraer conclusiones sobre en que orden compran los clientes los productos y así tomar decisiones de negocio. Este estudio se puede llevar a cabo aplicando el algoritmo Generalized Sequential Patterns utilizando la implementación de éste disponible en la librería gsppy.\n",
        "\n",
        "2.- (1 punto) Prueba al menos dos configuraciones de soporte diferentes.\n",
        "\n",
        "3.- (1 puntos) Para una de ellas, interpreta algunos de los patrones secuenciales que te resulten curiosos.\n",
        "\n",
        "3.- (1 punto) Saca conclusiones de negocio en virtud de algunas de las reglas elegidas por vosotros que mayor confianza tengan.\n",
        "\n",
        "Librería gsppy:\n",
        "Podéis encontrar su documentación en el siguiente enlace: https://pypi.org/project/gsppy/"
      ],
      "metadata": {
        "id": "rNgAQw7Jqh0B"
      }
    },
    {
      "cell_type": "markdown",
      "source": [
        "## 1.- (2 puntos)\n",
        "\n",
        "Habrá que procesar el fichero para crear una lista de los distintos clientes con las secuencias de las transacciones de las compras realizadas en distintos instantes."
      ],
      "metadata": {
        "id": "UCRfFa73vzk8"
      }
    },
    {
      "cell_type": "markdown",
      "source": [
        "Cargamos la base de datos con la que vamos a trabajar. Por comodidad, se ha decidido subirla a Google Drive y cargarla desde ahí:"
      ],
      "metadata": {
        "id": "WKOY-LnG0UDf"
      }
    },
    {
      "cell_type": "code",
      "source": [
        "import warnings\n",
        "warnings.filterwarnings(\"ignore\", category=DeprecationWarning)"
      ],
      "metadata": {
        "id": "u9JvIk2NCfLt",
        "colab": {
          "base_uri": "https://localhost:8080/"
        },
        "outputId": "319ea11e-0bfa-48fa-b7cd-fe3b9177bd22"
      },
      "execution_count": null,
      "outputs": [
        {
          "output_type": "stream",
          "name": "stderr",
          "text": [
            "/usr/local/lib/python3.10/dist-packages/ipykernel/ipkernel.py:283: DeprecationWarning: `should_run_async` will not call `transform_cell` automatically in the future. Please pass the result to `transformed_cell` argument and any exception that happen during thetransform in `preprocessing_exc_tuple` in IPython 7.17 and above.\n",
            "  and should_run_async(code)\n"
          ]
        }
      ]
    },
    {
      "cell_type": "code",
      "execution_count": null,
      "metadata": {
        "id": "Y66v5KwmnrEj",
        "colab": {
          "base_uri": "https://localhost:8080/"
        },
        "outputId": "afa40586-bc16-492d-9221-a8346407aef2"
      },
      "outputs": [
        {
          "output_type": "stream",
          "name": "stdout",
          "text": [
            "Mounted at /content/drive\n"
          ]
        }
      ],
      "source": [
        "import csv\n",
        "import numpy as np\n",
        "import pandas as pd\n",
        "import matplotlib.pyplot as plt\n",
        "\n",
        "from google.colab import drive\n",
        "drive.mount('/content/drive', force_remount=True)\n",
        "directorio_drive = '/content/drive/MyDrive/Ingeniería Matemática/Online Retail.xlsx'\n",
        "\n",
        "# Carga el archivo Excel en un DataFrame.\n",
        "data = pd.read_excel(directorio_drive)"
      ]
    },
    {
      "cell_type": "markdown",
      "source": [
        "Se crea una copia del dataset para no perder los datos originales:"
      ],
      "metadata": {
        "id": "bwrUNTEc8vh_"
      }
    },
    {
      "cell_type": "code",
      "source": [
        "df = data.copy()"
      ],
      "metadata": {
        "id": "4vE3enBPqYo9"
      },
      "execution_count": null,
      "outputs": []
    },
    {
      "cell_type": "markdown",
      "source": [
        "Representamos los datos para ver su formato."
      ],
      "metadata": {
        "id": "rG-k94io0aDq"
      }
    },
    {
      "cell_type": "code",
      "source": [
        "# Visualización de los datos.\n",
        "df.head()"
      ],
      "metadata": {
        "colab": {
          "base_uri": "https://localhost:8080/",
          "height": 206
        },
        "id": "26BbkzNaoJXi",
        "outputId": "da32ad9d-3ae7-437c-e712-cb86f6e90fbe"
      },
      "execution_count": null,
      "outputs": [
        {
          "output_type": "execute_result",
          "data": {
            "text/plain": [
              "  InvoiceNo StockCode                          Description  Quantity  \\\n",
              "0    536365    85123A   WHITE HANGING HEART T-LIGHT HOLDER         6   \n",
              "1    536365     71053                  WHITE METAL LANTERN         6   \n",
              "2    536365    84406B       CREAM CUPID HEARTS COAT HANGER         8   \n",
              "3    536365    84029G  KNITTED UNION FLAG HOT WATER BOTTLE         6   \n",
              "4    536365    84029E       RED WOOLLY HOTTIE WHITE HEART.         6   \n",
              "\n",
              "          InvoiceDate  UnitPrice  CustomerID         Country  \n",
              "0 2010-12-01 08:26:00       2.55       17850  United Kingdom  \n",
              "1 2010-12-01 08:26:00       3.39       17850  United Kingdom  \n",
              "2 2010-12-01 08:26:00       2.75       17850  United Kingdom  \n",
              "3 2010-12-01 08:26:00       3.39       17850  United Kingdom  \n",
              "4 2010-12-01 08:26:00       3.39       17850  United Kingdom  "
            ],
            "text/html": [
              "\n",
              "  <div id=\"df-58efa990-eb67-41f6-a27b-a2391593a9e2\" class=\"colab-df-container\">\n",
              "    <div>\n",
              "<style scoped>\n",
              "    .dataframe tbody tr th:only-of-type {\n",
              "        vertical-align: middle;\n",
              "    }\n",
              "\n",
              "    .dataframe tbody tr th {\n",
              "        vertical-align: top;\n",
              "    }\n",
              "\n",
              "    .dataframe thead th {\n",
              "        text-align: right;\n",
              "    }\n",
              "</style>\n",
              "<table border=\"1\" class=\"dataframe\">\n",
              "  <thead>\n",
              "    <tr style=\"text-align: right;\">\n",
              "      <th></th>\n",
              "      <th>InvoiceNo</th>\n",
              "      <th>StockCode</th>\n",
              "      <th>Description</th>\n",
              "      <th>Quantity</th>\n",
              "      <th>InvoiceDate</th>\n",
              "      <th>UnitPrice</th>\n",
              "      <th>CustomerID</th>\n",
              "      <th>Country</th>\n",
              "    </tr>\n",
              "  </thead>\n",
              "  <tbody>\n",
              "    <tr>\n",
              "      <th>0</th>\n",
              "      <td>536365</td>\n",
              "      <td>85123A</td>\n",
              "      <td>WHITE HANGING HEART T-LIGHT HOLDER</td>\n",
              "      <td>6</td>\n",
              "      <td>2010-12-01 08:26:00</td>\n",
              "      <td>2.55</td>\n",
              "      <td>17850</td>\n",
              "      <td>United Kingdom</td>\n",
              "    </tr>\n",
              "    <tr>\n",
              "      <th>1</th>\n",
              "      <td>536365</td>\n",
              "      <td>71053</td>\n",
              "      <td>WHITE METAL LANTERN</td>\n",
              "      <td>6</td>\n",
              "      <td>2010-12-01 08:26:00</td>\n",
              "      <td>3.39</td>\n",
              "      <td>17850</td>\n",
              "      <td>United Kingdom</td>\n",
              "    </tr>\n",
              "    <tr>\n",
              "      <th>2</th>\n",
              "      <td>536365</td>\n",
              "      <td>84406B</td>\n",
              "      <td>CREAM CUPID HEARTS COAT HANGER</td>\n",
              "      <td>8</td>\n",
              "      <td>2010-12-01 08:26:00</td>\n",
              "      <td>2.75</td>\n",
              "      <td>17850</td>\n",
              "      <td>United Kingdom</td>\n",
              "    </tr>\n",
              "    <tr>\n",
              "      <th>3</th>\n",
              "      <td>536365</td>\n",
              "      <td>84029G</td>\n",
              "      <td>KNITTED UNION FLAG HOT WATER BOTTLE</td>\n",
              "      <td>6</td>\n",
              "      <td>2010-12-01 08:26:00</td>\n",
              "      <td>3.39</td>\n",
              "      <td>17850</td>\n",
              "      <td>United Kingdom</td>\n",
              "    </tr>\n",
              "    <tr>\n",
              "      <th>4</th>\n",
              "      <td>536365</td>\n",
              "      <td>84029E</td>\n",
              "      <td>RED WOOLLY HOTTIE WHITE HEART.</td>\n",
              "      <td>6</td>\n",
              "      <td>2010-12-01 08:26:00</td>\n",
              "      <td>3.39</td>\n",
              "      <td>17850</td>\n",
              "      <td>United Kingdom</td>\n",
              "    </tr>\n",
              "  </tbody>\n",
              "</table>\n",
              "</div>\n",
              "    <div class=\"colab-df-buttons\">\n",
              "\n",
              "  <div class=\"colab-df-container\">\n",
              "    <button class=\"colab-df-convert\" onclick=\"convertToInteractive('df-58efa990-eb67-41f6-a27b-a2391593a9e2')\"\n",
              "            title=\"Convert this dataframe to an interactive table.\"\n",
              "            style=\"display:none;\">\n",
              "\n",
              "  <svg xmlns=\"http://www.w3.org/2000/svg\" height=\"24px\" viewBox=\"0 -960 960 960\">\n",
              "    <path d=\"M120-120v-720h720v720H120Zm60-500h600v-160H180v160Zm220 220h160v-160H400v160Zm0 220h160v-160H400v160ZM180-400h160v-160H180v160Zm440 0h160v-160H620v160ZM180-180h160v-160H180v160Zm440 0h160v-160H620v160Z\"/>\n",
              "  </svg>\n",
              "    </button>\n",
              "\n",
              "  <style>\n",
              "    .colab-df-container {\n",
              "      display:flex;\n",
              "      gap: 12px;\n",
              "    }\n",
              "\n",
              "    .colab-df-convert {\n",
              "      background-color: #E8F0FE;\n",
              "      border: none;\n",
              "      border-radius: 50%;\n",
              "      cursor: pointer;\n",
              "      display: none;\n",
              "      fill: #1967D2;\n",
              "      height: 32px;\n",
              "      padding: 0 0 0 0;\n",
              "      width: 32px;\n",
              "    }\n",
              "\n",
              "    .colab-df-convert:hover {\n",
              "      background-color: #E2EBFA;\n",
              "      box-shadow: 0px 1px 2px rgba(60, 64, 67, 0.3), 0px 1px 3px 1px rgba(60, 64, 67, 0.15);\n",
              "      fill: #174EA6;\n",
              "    }\n",
              "\n",
              "    .colab-df-buttons div {\n",
              "      margin-bottom: 4px;\n",
              "    }\n",
              "\n",
              "    [theme=dark] .colab-df-convert {\n",
              "      background-color: #3B4455;\n",
              "      fill: #D2E3FC;\n",
              "    }\n",
              "\n",
              "    [theme=dark] .colab-df-convert:hover {\n",
              "      background-color: #434B5C;\n",
              "      box-shadow: 0px 1px 3px 1px rgba(0, 0, 0, 0.15);\n",
              "      filter: drop-shadow(0px 1px 2px rgba(0, 0, 0, 0.3));\n",
              "      fill: #FFFFFF;\n",
              "    }\n",
              "  </style>\n",
              "\n",
              "    <script>\n",
              "      const buttonEl =\n",
              "        document.querySelector('#df-58efa990-eb67-41f6-a27b-a2391593a9e2 button.colab-df-convert');\n",
              "      buttonEl.style.display =\n",
              "        google.colab.kernel.accessAllowed ? 'block' : 'none';\n",
              "\n",
              "      async function convertToInteractive(key) {\n",
              "        const element = document.querySelector('#df-58efa990-eb67-41f6-a27b-a2391593a9e2');\n",
              "        const dataTable =\n",
              "          await google.colab.kernel.invokeFunction('convertToInteractive',\n",
              "                                                    [key], {});\n",
              "        if (!dataTable) return;\n",
              "\n",
              "        const docLinkHtml = 'Like what you see? Visit the ' +\n",
              "          '<a target=\"_blank\" href=https://colab.research.google.com/notebooks/data_table.ipynb>data table notebook</a>'\n",
              "          + ' to learn more about interactive tables.';\n",
              "        element.innerHTML = '';\n",
              "        dataTable['output_type'] = 'display_data';\n",
              "        await google.colab.output.renderOutput(dataTable, element);\n",
              "        const docLink = document.createElement('div');\n",
              "        docLink.innerHTML = docLinkHtml;\n",
              "        element.appendChild(docLink);\n",
              "      }\n",
              "    </script>\n",
              "  </div>\n",
              "\n",
              "\n",
              "<div id=\"df-65d4a11e-b844-4251-8aae-588cbbc900bd\">\n",
              "  <button class=\"colab-df-quickchart\" onclick=\"quickchart('df-65d4a11e-b844-4251-8aae-588cbbc900bd')\"\n",
              "            title=\"Suggest charts\"\n",
              "            style=\"display:none;\">\n",
              "\n",
              "<svg xmlns=\"http://www.w3.org/2000/svg\" height=\"24px\"viewBox=\"0 0 24 24\"\n",
              "     width=\"24px\">\n",
              "    <g>\n",
              "        <path d=\"M19 3H5c-1.1 0-2 .9-2 2v14c0 1.1.9 2 2 2h14c1.1 0 2-.9 2-2V5c0-1.1-.9-2-2-2zM9 17H7v-7h2v7zm4 0h-2V7h2v10zm4 0h-2v-4h2v4z\"/>\n",
              "    </g>\n",
              "</svg>\n",
              "  </button>\n",
              "\n",
              "<style>\n",
              "  .colab-df-quickchart {\n",
              "      --bg-color: #E8F0FE;\n",
              "      --fill-color: #1967D2;\n",
              "      --hover-bg-color: #E2EBFA;\n",
              "      --hover-fill-color: #174EA6;\n",
              "      --disabled-fill-color: #AAA;\n",
              "      --disabled-bg-color: #DDD;\n",
              "  }\n",
              "\n",
              "  [theme=dark] .colab-df-quickchart {\n",
              "      --bg-color: #3B4455;\n",
              "      --fill-color: #D2E3FC;\n",
              "      --hover-bg-color: #434B5C;\n",
              "      --hover-fill-color: #FFFFFF;\n",
              "      --disabled-bg-color: #3B4455;\n",
              "      --disabled-fill-color: #666;\n",
              "  }\n",
              "\n",
              "  .colab-df-quickchart {\n",
              "    background-color: var(--bg-color);\n",
              "    border: none;\n",
              "    border-radius: 50%;\n",
              "    cursor: pointer;\n",
              "    display: none;\n",
              "    fill: var(--fill-color);\n",
              "    height: 32px;\n",
              "    padding: 0;\n",
              "    width: 32px;\n",
              "  }\n",
              "\n",
              "  .colab-df-quickchart:hover {\n",
              "    background-color: var(--hover-bg-color);\n",
              "    box-shadow: 0 1px 2px rgba(60, 64, 67, 0.3), 0 1px 3px 1px rgba(60, 64, 67, 0.15);\n",
              "    fill: var(--button-hover-fill-color);\n",
              "  }\n",
              "\n",
              "  .colab-df-quickchart-complete:disabled,\n",
              "  .colab-df-quickchart-complete:disabled:hover {\n",
              "    background-color: var(--disabled-bg-color);\n",
              "    fill: var(--disabled-fill-color);\n",
              "    box-shadow: none;\n",
              "  }\n",
              "\n",
              "  .colab-df-spinner {\n",
              "    border: 2px solid var(--fill-color);\n",
              "    border-color: transparent;\n",
              "    border-bottom-color: var(--fill-color);\n",
              "    animation:\n",
              "      spin 1s steps(1) infinite;\n",
              "  }\n",
              "\n",
              "  @keyframes spin {\n",
              "    0% {\n",
              "      border-color: transparent;\n",
              "      border-bottom-color: var(--fill-color);\n",
              "      border-left-color: var(--fill-color);\n",
              "    }\n",
              "    20% {\n",
              "      border-color: transparent;\n",
              "      border-left-color: var(--fill-color);\n",
              "      border-top-color: var(--fill-color);\n",
              "    }\n",
              "    30% {\n",
              "      border-color: transparent;\n",
              "      border-left-color: var(--fill-color);\n",
              "      border-top-color: var(--fill-color);\n",
              "      border-right-color: var(--fill-color);\n",
              "    }\n",
              "    40% {\n",
              "      border-color: transparent;\n",
              "      border-right-color: var(--fill-color);\n",
              "      border-top-color: var(--fill-color);\n",
              "    }\n",
              "    60% {\n",
              "      border-color: transparent;\n",
              "      border-right-color: var(--fill-color);\n",
              "    }\n",
              "    80% {\n",
              "      border-color: transparent;\n",
              "      border-right-color: var(--fill-color);\n",
              "      border-bottom-color: var(--fill-color);\n",
              "    }\n",
              "    90% {\n",
              "      border-color: transparent;\n",
              "      border-bottom-color: var(--fill-color);\n",
              "    }\n",
              "  }\n",
              "</style>\n",
              "\n",
              "  <script>\n",
              "    async function quickchart(key) {\n",
              "      const quickchartButtonEl =\n",
              "        document.querySelector('#' + key + ' button');\n",
              "      quickchartButtonEl.disabled = true;  // To prevent multiple clicks.\n",
              "      quickchartButtonEl.classList.add('colab-df-spinner');\n",
              "      try {\n",
              "        const charts = await google.colab.kernel.invokeFunction(\n",
              "            'suggestCharts', [key], {});\n",
              "      } catch (error) {\n",
              "        console.error('Error during call to suggestCharts:', error);\n",
              "      }\n",
              "      quickchartButtonEl.classList.remove('colab-df-spinner');\n",
              "      quickchartButtonEl.classList.add('colab-df-quickchart-complete');\n",
              "    }\n",
              "    (() => {\n",
              "      let quickchartButtonEl =\n",
              "        document.querySelector('#df-65d4a11e-b844-4251-8aae-588cbbc900bd button');\n",
              "      quickchartButtonEl.style.display =\n",
              "        google.colab.kernel.accessAllowed ? 'block' : 'none';\n",
              "    })();\n",
              "  </script>\n",
              "</div>\n",
              "    </div>\n",
              "  </div>\n"
            ],
            "application/vnd.google.colaboratory.intrinsic+json": {
              "type": "dataframe",
              "variable_name": "df"
            }
          },
          "metadata": {},
          "execution_count": 10
        }
      ]
    },
    {
      "cell_type": "markdown",
      "source": [
        "La base de datos representan características de pedidos de clientes en la que se incluyen el tipo de pedido, la cantidad del mismo, el precio por unidad y de qué país es el cliente."
      ],
      "metadata": {
        "id": "vif67Pgy0tZ6"
      }
    },
    {
      "cell_type": "code",
      "source": [
        "# Dimensiones de la base de datos.\n",
        "df.shape"
      ],
      "metadata": {
        "colab": {
          "base_uri": "https://localhost:8080/"
        },
        "id": "y880SXgJtU4u",
        "outputId": "0b0c2bb0-34f8-4136-9e20-1db8122448cb"
      },
      "execution_count": null,
      "outputs": [
        {
          "output_type": "execute_result",
          "data": {
            "text/plain": [
              "(541909, 8)"
            ]
          },
          "metadata": {},
          "execution_count": 11
        }
      ]
    },
    {
      "cell_type": "markdown",
      "source": [
        "En la base de datos hay más de medio millón de registros, 541909, en cada uno de ellos se guardan 8 características."
      ],
      "metadata": {
        "id": "dq2uvJJr1BCH"
      }
    },
    {
      "cell_type": "code",
      "source": [
        "# Características de cada pedido.\n",
        "print(df.columns.tolist())"
      ],
      "metadata": {
        "colab": {
          "base_uri": "https://localhost:8080/"
        },
        "id": "kG5kV7IRtYNp",
        "outputId": "7bf09dcf-0450-4103-e90c-d853d8318192"
      },
      "execution_count": null,
      "outputs": [
        {
          "output_type": "stream",
          "name": "stdout",
          "text": [
            "['InvoiceNo', 'StockCode', 'Description', 'Quantity', 'InvoiceDate', 'UnitPrice', 'CustomerID', 'Country']\n"
          ]
        }
      ]
    },
    {
      "cell_type": "markdown",
      "source": [
        "* InvoiceNo: Número de factura de la transacción realizada. Variable importante debido a que nos sirve como un identificador del tiempo.\n",
        "\n",
        "* StockCode: Identificador del producto.\n",
        "\n",
        "* Description: descripción del producto.\n",
        "\n",
        "* Quantity: cantidad de productos \"StockCode\" que el cliente ha comprado.\n",
        "\n",
        "* InvoiceDate: Fecha en la que se ha realizado la transacción. También es un indicador del tiempo, pero es mejor 'InvoiceNo'.\n",
        "\n",
        "* UnitPrice: Valor de una unidad del producto identificado por \"StockCode\".\n",
        "\n",
        "* CustomerID: Identificador del cliente. Variable importante debido a que nos va a permitir agrupar todas las transacciones por cliente.\n",
        "\n",
        "* Country: País donde se envían los productos comprados en la transacción."
      ],
      "metadata": {
        "id": "4ZLBSJcP1Nzl"
      }
    },
    {
      "cell_type": "code",
      "source": [
        "paises = df.loc[:,'Country'].unique().tolist()\n",
        "\n",
        "# Paises en la base de datos\n",
        "print(paises)\n",
        "# Cantidad de paises\n",
        "print(\"Nº de países:\",len(paises))"
      ],
      "metadata": {
        "colab": {
          "base_uri": "https://localhost:8080/"
        },
        "id": "KtZ4340Qtkze",
        "outputId": "31aea03e-a694-493f-d4c1-d697e09c0e76"
      },
      "execution_count": null,
      "outputs": [
        {
          "output_type": "stream",
          "name": "stdout",
          "text": [
            "['United Kingdom', 'France', 'Australia', 'Netherlands', 'Germany', 'Norway', 'EIRE', 'Switzerland', 'Spain', 'Poland', 'Portugal', 'Italy', 'Belgium', 'Lithuania', 'Japan', 'Iceland', 'Channel Islands', 'Denmark', 'Cyprus', 'Sweden', 'Austria', 'Israel', 'Finland', 'Bahrain', 'Greece', 'Hong Kong', 'Singapore', 'Lebanon', 'United Arab Emirates', 'Saudi Arabia', 'Czech Republic', 'Canada', 'Unspecified', 'Brazil', 'USA', 'European Community', 'Malta', 'RSA']\n",
            "Nº de países: 38\n"
          ]
        }
      ]
    },
    {
      "cell_type": "markdown",
      "source": [
        "Hay registros de pedidos en 38 países distintos.\n",
        "\n",
        "Se procede a analizar el tipo de variable que guarda cada columna y si exite algún Nan en alguna de ellas."
      ],
      "metadata": {
        "id": "dh5090r61w1X"
      }
    },
    {
      "cell_type": "code",
      "source": [
        "df.info()"
      ],
      "metadata": {
        "colab": {
          "base_uri": "https://localhost:8080/"
        },
        "id": "6Db_B3l02XoU",
        "outputId": "55332b51-8462-495c-ae21-ca457abd804c"
      },
      "execution_count": null,
      "outputs": [
        {
          "output_type": "stream",
          "name": "stdout",
          "text": [
            "<class 'pandas.core.frame.DataFrame'>\n",
            "RangeIndex: 541909 entries, 0 to 541908\n",
            "Data columns (total 8 columns):\n",
            " #   Column       Non-Null Count   Dtype         \n",
            "---  ------       --------------   -----         \n",
            " 0   InvoiceNo    541909 non-null  object        \n",
            " 1   StockCode    541909 non-null  object        \n",
            " 2   Description  540455 non-null  object        \n",
            " 3   Quantity     541909 non-null  int64         \n",
            " 4   InvoiceDate  541909 non-null  datetime64[ns]\n",
            " 5   UnitPrice    541909 non-null  float64       \n",
            " 6   CustomerID   541909 non-null  int64         \n",
            " 7   Country      541909 non-null  object        \n",
            "dtypes: datetime64[ns](1), float64(1), int64(2), object(4)\n",
            "memory usage: 33.1+ MB\n"
          ]
        }
      ]
    },
    {
      "cell_type": "markdown",
      "source": [
        "Se puede ver que sólo en la variable Description existen Nan, veamos si con el StockCode podemos determinar qué productos son haciendo uso de información de otros datos que puedan tener el mismo StockCode.\n",
        "\n",
        "Así, se va a intentar rellenar las descripciones que tienen Nan utilizando otros registros con el mismo 'StockCode' que sí tengan descripción.\n",
        "\n",
        "Antes de realizar esta tarea de recuperación de información, se ha considerado que hay valores de 'UnitPrice' y 'Quantity' erróneos, estos son aquellos que sean menores o iguales que cero. Antes de tomar decisiones, veamos datos estadísticos de estas variables y visualizemos sus distribuciones con boxplots:"
      ],
      "metadata": {
        "id": "3sFqqaRa27uq"
      }
    },
    {
      "cell_type": "code",
      "source": [
        "print(df.describe().loc[['mean', 'std', 'min','50%', 'max']])"
      ],
      "metadata": {
        "colab": {
          "base_uri": "https://localhost:8080/"
        },
        "id": "M_5gZXR5bZ8Y",
        "outputId": "90f1c9b4-db8c-4251-a720-91d454fa6c56"
      },
      "execution_count": null,
      "outputs": [
        {
          "output_type": "stream",
          "name": "stdout",
          "text": [
            "          Quantity     UnitPrice    CustomerID\n",
            "mean      9.552250      4.611114  15287.518434\n",
            "std     218.081158     96.759853   1484.746041\n",
            "min  -80995.000000 -11062.060000  12346.000000\n",
            "50%       3.000000      2.080000  15287.000000\n",
            "max   80995.000000  38970.000000  18287.000000\n"
          ]
        }
      ]
    },
    {
      "cell_type": "code",
      "source": [
        "# Crear subplots para cada variable\n",
        "fig, axes = plt.subplots(nrows=1, ncols=2, figsize=(10, 4))\n",
        "\n",
        "# Crear boxplot para UnitPrice\n",
        "axes[0].boxplot(df['UnitPrice'])\n",
        "axes[0].set_title('Boxplot de Unit Price')\n",
        "axes[0].set_xlabel('Unit Price')\n",
        "axes[0].set_ylabel('')\n",
        "\n",
        "# Crear boxplot para Quantity\n",
        "axes[1].boxplot(df['Quantity'])\n",
        "axes[1].set_title('Boxplot de Quantity')\n",
        "axes[1].set_xlabel('Quantity')\n",
        "axes[1].set_ylabel('')\n",
        "\n",
        "plt.tight_layout()\n",
        "plt.show()"
      ],
      "metadata": {
        "colab": {
          "base_uri": "https://localhost:8080/",
          "height": 407
        },
        "id": "pmlxsJDLaoHT",
        "outputId": "1235ff3c-54e2-4496-b5e7-7e5e9f300e57"
      },
      "execution_count": null,
      "outputs": [
        {
          "output_type": "display_data",
          "data": {
            "text/plain": [
              "<Figure size 1000x400 with 2 Axes>"
            ],
            "image/png": "[encoded data removed]"
          },
          "metadata": {}
        }
      ]
    },
    {
      "cell_type": "markdown",
      "source": [
        "Como se puede observar, hay una gran cantidad de outliers en ambas variables. En principio, lo que más sentido tiene es solo eliminar aquellos valores que sean <= que 0. Y aunque podría tener sentido que alguien compre una gran cantidad de productos (como 80000) o que un producto tenga un valor muy alto (como 40000), se entiende que al ser matemáticamente outliers, están muy alejados de la distribución real de cada variable y por lo tanto, se decide eliminar también a los outliers de las zonas superiores. Aun así, veamos qué porción del dataset forman los outliers:"
      ],
      "metadata": {
        "id": "e1kyrZ2Wc54t"
      }
    },
    {
      "cell_type": "code",
      "source": [
        "# Función para detectar outliers usando el rango intercuartílico (IQR)\n",
        "def detectar_outliers(data, variable):\n",
        "    Q1 = data[variable].quantile(0.25)\n",
        "    Q3 = data[variable].quantile(0.75)\n",
        "    IQR = Q3 - Q1\n",
        "    lower_bound = Q1 - 1.5 * IQR\n",
        "    upper_bound = Q3 + 1.5 * IQR\n",
        "    outliers = data[(data[variable] < lower_bound) | (data[variable] > upper_bound)].copy()  # Utilizar copy()\n",
        "    outliers['Outlier_Variable'] = variable  # Agregar el nuevo campo\n",
        "    return outliers\n",
        "\n",
        "variables_interes = ['UnitPrice', 'Quantity']\n",
        "for variable in variables_interes:\n",
        "    outliers = detectar_outliers(df, variable)\n",
        "    print(f\"Outliers en {variable}:\")\n",
        "    print(\"Tamaño: \", outliers[variable].shape)\n",
        "    print(\"Datos estadísticos: \\n\", outliers[variable].describe())\n",
        "    print()"
      ],
      "metadata": {
        "colab": {
          "base_uri": "https://localhost:8080/"
        },
        "id": "4iu-Ounwd1VK",
        "outputId": "523bbb90-f577-4a5a-e8e4-b9d4236e78ac"
      },
      "execution_count": null,
      "outputs": [
        {
          "output_type": "stream",
          "name": "stdout",
          "text": [
            "Outliers en UnitPrice:\n",
            "Tamaño:  (39627,)\n",
            "Datos estadísticos: \n",
            " count    39627.000000\n",
            "mean        31.084752\n",
            "std        356.699161\n",
            "min     -11062.060000\n",
            "25%          9.950000\n",
            "50%         11.630000\n",
            "75%         15.790000\n",
            "max      38970.000000\n",
            "Name: UnitPrice, dtype: float64\n",
            "\n",
            "Outliers en Quantity:\n",
            "Tamaño:  (58619,)\n",
            "Datos estadísticos: \n",
            " count    58619.000000\n",
            "mean        50.590969\n",
            "std        661.524902\n",
            "min     -80995.000000\n",
            "25%         24.000000\n",
            "50%         25.000000\n",
            "75%         48.000000\n",
            "max      80995.000000\n",
            "Name: Quantity, dtype: float64\n",
            "\n"
          ]
        }
      ]
    },
    {
      "cell_type": "markdown",
      "source": [
        "Los outliers son una gran cantidad de datos (~ 40000 y 60000 registros), son una muestra significativa de los datos, pero debido a cuestiones de tiempo de computación que tendrán lugar más adelante, se decide eliminar todos los outliers (forzando la eliminación de valores <= que 0)."
      ],
      "metadata": {
        "id": "zq0BPHKTfDOb"
      }
    },
    {
      "cell_type": "code",
      "source": [
        "def eliminar_outliers(data, variables):\n",
        "  # Crear una copia del DataFrame para evitar modificar el original\n",
        "  data_no_outliers = data.copy()\n",
        "  lower_bound = []\n",
        "  upper_bound = []\n",
        "  for variable in variables:\n",
        "    Q1 = data_no_outliers[variable].quantile(0.25)\n",
        "    Q3 = data_no_outliers[variable].quantile(0.75)\n",
        "    IQR = Q3 - Q1\n",
        "    lower_bound.append(Q1 - 1.5 * IQR)\n",
        "    upper_bound.append(Q3 + 1.5 * IQR)\n",
        "\n",
        "  for i in range(len(variables)):\n",
        "    # Filtrar los outliers y mantener solo los valores dentro del rango\n",
        "    data_no_outliers = data_no_outliers[(data_no_outliers[variables[i]] >= lower_bound[i]) & (data_no_outliers[variables[i]] <= upper_bound[i])]\n",
        "    data_no_outliers = data_no_outliers[(data_no_outliers[variables[i]] > 0)]\n",
        "\n",
        "  return data_no_outliers\n",
        "\n",
        "variables_interes = ['UnitPrice', 'Quantity']\n",
        "df = eliminar_outliers(df, variables_interes)\n",
        "\n",
        "# Ahora, df_no_outliers contiene el DataFrame sin outliers en las variables de interés\n"
      ],
      "metadata": {
        "id": "XICiloT7pkJA"
      },
      "execution_count": null,
      "outputs": []
    },
    {
      "cell_type": "code",
      "source": [
        "# Verificar los cambios\n",
        "# Crear subplots para cada variable\n",
        "fig, axes = plt.subplots(nrows=1, ncols=2, figsize=(10, 4))\n",
        "\n",
        "# Crear boxplot para UnitPrice\n",
        "axes[0].boxplot(df['UnitPrice'])\n",
        "axes[0].set_title('Boxplot de Unit Price')\n",
        "axes[0].set_xlabel('Unit Price')\n",
        "axes[0].set_ylabel('')\n",
        "\n",
        "# Crear boxplot para Quantity\n",
        "axes[1].boxplot(df['Quantity'])\n",
        "axes[1].set_title('Boxplot de Quantity')\n",
        "axes[1].set_xlabel('Quantity')\n",
        "axes[1].set_ylabel('')\n",
        "\n",
        "plt.tight_layout()\n",
        "plt.show()\n",
        "\n",
        "# variables_interes = ['UnitPrice', 'Quantity']\n",
        "# for variable in variables_interes:\n",
        "#     outliers = detectar_outliers(df, variable)\n",
        "#     print(f\"\\nOUTLIERS EN '{variable}':\")\n",
        "#     print(\"Tamaño:\",outliers[variable].shape,\"\\n\")\n",
        "#     print(\"Datos estadísticos:\")\n",
        "#     print(outliers[variable].describe())"
      ],
      "metadata": {
        "colab": {
          "base_uri": "https://localhost:8080/",
          "height": 407
        },
        "id": "_ahqtanWgQvI",
        "outputId": "1913be5f-bad9-428c-8413-8884431d32b9"
      },
      "execution_count": null,
      "outputs": [
        {
          "output_type": "display_data",
          "data": {
            "text/plain": [
              "<Figure size 1000x400 with 2 Axes>"
            ],
            "image/png": "[encoded data removed]"
          },
          "metadata": {}
        }
      ]
    },
    {
      "cell_type": "code",
      "source": [
        "print(\"Nuevo tamaño del dataset: \", df.shape)"
      ],
      "metadata": {
        "colab": {
          "base_uri": "https://localhost:8080/"
        },
        "id": "k67VGs8E196b",
        "outputId": "2b20301b-0922-4ec0-af44-415968037136"
      },
      "execution_count": null,
      "outputs": [
        {
          "output_type": "stream",
          "name": "stdout",
          "text": [
            "Nuevo tamaño del dataset:  (436166, 8)\n"
          ]
        }
      ]
    },
    {
      "cell_type": "markdown",
      "source": [
        "Ahora, se procede a lo mencionado anteriormente: intentar rellenar las descripciones que tienen Nan utilizando otros registros con el mismo 'StockCode' que sí tengan descripción. Veamos cuántos Nan nos quedan tras la depuración:"
      ],
      "metadata": {
        "id": "kYVVQMlq2dEX"
      }
    },
    {
      "cell_type": "code",
      "source": [
        "print(df[pd.isna(df['Description'])].shape)"
      ],
      "metadata": {
        "colab": {
          "base_uri": "https://localhost:8080/"
        },
        "id": "98z-G-rch0c3",
        "outputId": "652ceb5e-5de9-44c9-8830-10567400f0a6"
      },
      "execution_count": null,
      "outputs": [
        {
          "output_type": "stream",
          "name": "stdout",
          "text": [
            "(0, 8)\n"
          ]
        }
      ]
    },
    {
      "cell_type": "markdown",
      "source": [
        "No obstante, se observa que al realizar la depuración de las variables 'UnitPrice' y 'Quantity' se han borrado también todos los registros que tenían Nan en 'Description'."
      ],
      "metadata": {
        "id": "40BXThngt6gs"
      }
    },
    {
      "cell_type": "code",
      "source": [
        "df.info()"
      ],
      "metadata": {
        "colab": {
          "base_uri": "https://localhost:8080/"
        },
        "id": "mIit6rYw2qzr",
        "outputId": "abb69df3-290b-4d8e-c13f-5663704f41a5"
      },
      "execution_count": null,
      "outputs": [
        {
          "output_type": "stream",
          "name": "stdout",
          "text": [
            "<class 'pandas.core.frame.DataFrame'>\n",
            "Int64Index: 436166 entries, 0 to 541908\n",
            "Data columns (total 8 columns):\n",
            " #   Column       Non-Null Count   Dtype         \n",
            "---  ------       --------------   -----         \n",
            " 0   InvoiceNo    436166 non-null  object        \n",
            " 1   StockCode    436166 non-null  object        \n",
            " 2   Description  436166 non-null  object        \n",
            " 3   Quantity     436166 non-null  int64         \n",
            " 4   InvoiceDate  436166 non-null  datetime64[ns]\n",
            " 5   UnitPrice    436166 non-null  float64       \n",
            " 6   CustomerID   436166 non-null  int64         \n",
            " 7   Country      436166 non-null  object        \n",
            "dtypes: datetime64[ns](1), float64(1), int64(2), object(4)\n",
            "memory usage: 29.9+ MB\n"
          ]
        }
      ]
    },
    {
      "cell_type": "markdown",
      "source": [
        "Antes de proceder a la construcción de la base de datos en el formato necesario, se hacen unas últimas comprobaciones de que nuestros datos no contienen ninguna anomalía:"
      ],
      "metadata": {
        "id": "4sUy9dlD8aDq"
      }
    },
    {
      "cell_type": "code",
      "source": [
        "print(df.nunique())"
      ],
      "metadata": {
        "colab": {
          "base_uri": "https://localhost:8080/"
        },
        "id": "jxAz4_Mb8zs-",
        "outputId": "a5aefdea-3867-4768-e812-6e852ae9436b"
      },
      "execution_count": null,
      "outputs": [
        {
          "output_type": "stream",
          "name": "stdout",
          "text": [
            "InvoiceNo      17875\n",
            "StockCode       3656\n",
            "Description     3750\n",
            "Quantity          23\n",
            "InvoiceDate    16679\n",
            "UnitPrice        278\n",
            "CustomerID      4165\n",
            "Country           38\n",
            "dtype: int64\n"
          ]
        }
      ]
    },
    {
      "cell_type": "code",
      "source": [
        "print(df.duplicated().sum())#HAY FILAS DUPLICADAS"
      ],
      "metadata": {
        "colab": {
          "base_uri": "https://localhost:8080/"
        },
        "id": "BdiUWKcW8kfx",
        "outputId": "01c6b409-3c8a-4767-dee0-3b06d202c7e4"
      },
      "execution_count": null,
      "outputs": [
        {
          "output_type": "stream",
          "name": "stdout",
          "text": [
            "4944\n"
          ]
        }
      ]
    },
    {
      "cell_type": "code",
      "source": [
        "duplicated_rows = df[df.duplicated(keep=False)]\n",
        "sorted_rows = duplicated_rows.sort_values(by=df.columns.tolist())\n",
        "sorted_rows[['InvoiceNo', 'StockCode', 'Description', 'Quantity']].head()"
      ],
      "metadata": {
        "colab": {
          "base_uri": "https://localhost:8080/",
          "height": 206
        },
        "id": "3JynVQQc-JHW",
        "outputId": "c28769e2-5bc7-4e86-c8d9-8d59c1f429ab"
      },
      "execution_count": null,
      "outputs": [
        {
          "output_type": "execute_result",
          "data": {
            "text/plain": [
              "    InvoiceNo StockCode                    Description  Quantity\n",
              "494    536409     21866    UNION JACK FLAG LUGGAGE TAG         1\n",
              "517    536409     21866    UNION JACK FLAG LUGGAGE TAG         1\n",
              "485    536409     22111   SCOTTIE DOG HOT WATER BOTTLE         1\n",
              "539    536409     22111   SCOTTIE DOG HOT WATER BOTTLE         1\n",
              "489    536409     22866  HAND WARMER SCOTTY DOG DESIGN         1"
            ],
            "text/html": [
              "\n",
              "  <div id=\"df-80d9ef47-4a12-499c-aa58-19447836e729\" class=\"colab-df-container\">\n",
              "    <div>\n",
              "<style scoped>\n",
              "    .dataframe tbody tr th:only-of-type {\n",
              "        vertical-align: middle;\n",
              "    }\n",
              "\n",
              "    .dataframe tbody tr th {\n",
              "        vertical-align: top;\n",
              "    }\n",
              "\n",
              "    .dataframe thead th {\n",
              "        text-align: right;\n",
              "    }\n",
              "</style>\n",
              "<table border=\"1\" class=\"dataframe\">\n",
              "  <thead>\n",
              "    <tr style=\"text-align: right;\">\n",
              "      <th></th>\n",
              "      <th>InvoiceNo</th>\n",
              "      <th>StockCode</th>\n",
              "      <th>Description</th>\n",
              "      <th>Quantity</th>\n",
              "    </tr>\n",
              "  </thead>\n",
              "  <tbody>\n",
              "    <tr>\n",
              "      <th>494</th>\n",
              "      <td>536409</td>\n",
              "      <td>21866</td>\n",
              "      <td>UNION JACK FLAG LUGGAGE TAG</td>\n",
              "      <td>1</td>\n",
              "    </tr>\n",
              "    <tr>\n",
              "      <th>517</th>\n",
              "      <td>536409</td>\n",
              "      <td>21866</td>\n",
              "      <td>UNION JACK FLAG LUGGAGE TAG</td>\n",
              "      <td>1</td>\n",
              "    </tr>\n",
              "    <tr>\n",
              "      <th>485</th>\n",
              "      <td>536409</td>\n",
              "      <td>22111</td>\n",
              "      <td>SCOTTIE DOG HOT WATER BOTTLE</td>\n",
              "      <td>1</td>\n",
              "    </tr>\n",
              "    <tr>\n",
              "      <th>539</th>\n",
              "      <td>536409</td>\n",
              "      <td>22111</td>\n",
              "      <td>SCOTTIE DOG HOT WATER BOTTLE</td>\n",
              "      <td>1</td>\n",
              "    </tr>\n",
              "    <tr>\n",
              "      <th>489</th>\n",
              "      <td>536409</td>\n",
              "      <td>22866</td>\n",
              "      <td>HAND WARMER SCOTTY DOG DESIGN</td>\n",
              "      <td>1</td>\n",
              "    </tr>\n",
              "  </tbody>\n",
              "</table>\n",
              "</div>\n",
              "    <div class=\"colab-df-buttons\">\n",
              "\n",
              "  <div class=\"colab-df-container\">\n",
              "    <button class=\"colab-df-convert\" onclick=\"convertToInteractive('df-80d9ef47-4a12-499c-aa58-19447836e729')\"\n",
              "            title=\"Convert this dataframe to an interactive table.\"\n",
              "            style=\"display:none;\">\n",
              "\n",
              "  <svg xmlns=\"http://www.w3.org/2000/svg\" height=\"24px\" viewBox=\"0 -960 960 960\">\n",
              "    <path d=\"M120-120v-720h720v720H120Zm60-500h600v-160H180v160Zm220 220h160v-160H400v160Zm0 220h160v-160H400v160ZM180-400h160v-160H180v160Zm440 0h160v-160H620v160ZM180-180h160v-160H180v160Zm440 0h160v-160H620v160Z\"/>\n",
              "  </svg>\n",
              "    </button>\n",
              "\n",
              "  <style>\n",
              "    .colab-df-container {\n",
              "      display:flex;\n",
              "      gap: 12px;\n",
              "    }\n",
              "\n",
              "    .colab-df-convert {\n",
              "      background-color: #E8F0FE;\n",
              "      border: none;\n",
              "      border-radius: 50%;\n",
              "      cursor: pointer;\n",
              "      display: none;\n",
              "      fill: #1967D2;\n",
              "      height: 32px;\n",
              "      padding: 0 0 0 0;\n",
              "      width: 32px;\n",
              "    }\n",
              "\n",
              "    .colab-df-convert:hover {\n",
              "      background-color: #E2EBFA;\n",
              "      box-shadow: 0px 1px 2px rgba(60, 64, 67, 0.3), 0px 1px 3px 1px rgba(60, 64, 67, 0.15);\n",
              "      fill: #174EA6;\n",
              "    }\n",
              "\n",
              "    .colab-df-buttons div {\n",
              "      margin-bottom: 4px;\n",
              "    }\n",
              "\n",
              "    [theme=dark] .colab-df-convert {\n",
              "      background-color: #3B4455;\n",
              "      fill: #D2E3FC;\n",
              "    }\n",
              "\n",
              "    [theme=dark] .colab-df-convert:hover {\n",
              "      background-color: #434B5C;\n",
              "      box-shadow: 0px 1px 3px 1px rgba(0, 0, 0, 0.15);\n",
              "      filter: drop-shadow(0px 1px 2px rgba(0, 0, 0, 0.3));\n",
              "      fill: #FFFFFF;\n",
              "    }\n",
              "  </style>\n",
              "\n",
              "    <script>\n",
              "      const buttonEl =\n",
              "        document.querySelector('#df-80d9ef47-4a12-499c-aa58-19447836e729 button.colab-df-convert');\n",
              "      buttonEl.style.display =\n",
              "        google.colab.kernel.accessAllowed ? 'block' : 'none';\n",
              "\n",
              "      async function convertToInteractive(key) {\n",
              "        const element = document.querySelector('#df-80d9ef47-4a12-499c-aa58-19447836e729');\n",
              "        const dataTable =\n",
              "          await google.colab.kernel.invokeFunction('convertToInteractive',\n",
              "                                                    [key], {});\n",
              "        if (!dataTable) return;\n",
              "\n",
              "        const docLinkHtml = 'Like what you see? Visit the ' +\n",
              "          '<a target=\"_blank\" href=https://colab.research.google.com/notebooks/data_table.ipynb>data table notebook</a>'\n",
              "          + ' to learn more about interactive tables.';\n",
              "        element.innerHTML = '';\n",
              "        dataTable['output_type'] = 'display_data';\n",
              "        await google.colab.output.renderOutput(dataTable, element);\n",
              "        const docLink = document.createElement('div');\n",
              "        docLink.innerHTML = docLinkHtml;\n",
              "        element.appendChild(docLink);\n",
              "      }\n",
              "    </script>\n",
              "  </div>\n",
              "\n",
              "\n",
              "<div id=\"df-c1c58bff-8892-41f1-8b0b-1cbc6aa34f57\">\n",
              "  <button class=\"colab-df-quickchart\" onclick=\"quickchart('df-c1c58bff-8892-41f1-8b0b-1cbc6aa34f57')\"\n",
              "            title=\"Suggest charts\"\n",
              "            style=\"display:none;\">\n",
              "\n",
              "<svg xmlns=\"http://www.w3.org/2000/svg\" height=\"24px\"viewBox=\"0 0 24 24\"\n",
              "     width=\"24px\">\n",
              "    <g>\n",
              "        <path d=\"M19 3H5c-1.1 0-2 .9-2 2v14c0 1.1.9 2 2 2h14c1.1 0 2-.9 2-2V5c0-1.1-.9-2-2-2zM9 17H7v-7h2v7zm4 0h-2V7h2v10zm4 0h-2v-4h2v4z\"/>\n",
              "    </g>\n",
              "</svg>\n",
              "  </button>\n",
              "\n",
              "<style>\n",
              "  .colab-df-quickchart {\n",
              "      --bg-color: #E8F0FE;\n",
              "      --fill-color: #1967D2;\n",
              "      --hover-bg-color: #E2EBFA;\n",
              "      --hover-fill-color: #174EA6;\n",
              "      --disabled-fill-color: #AAA;\n",
              "      --disabled-bg-color: #DDD;\n",
              "  }\n",
              "\n",
              "  [theme=dark] .colab-df-quickchart {\n",
              "      --bg-color: #3B4455;\n",
              "      --fill-color: #D2E3FC;\n",
              "      --hover-bg-color: #434B5C;\n",
              "      --hover-fill-color: #FFFFFF;\n",
              "      --disabled-bg-color: #3B4455;\n",
              "      --disabled-fill-color: #666;\n",
              "  }\n",
              "\n",
              "  .colab-df-quickchart {\n",
              "    background-color: var(--bg-color);\n",
              "    border: none;\n",
              "    border-radius: 50%;\n",
              "    cursor: pointer;\n",
              "    display: none;\n",
              "    fill: var(--fill-color);\n",
              "    height: 32px;\n",
              "    padding: 0;\n",
              "    width: 32px;\n",
              "  }\n",
              "\n",
              "  .colab-df-quickchart:hover {\n",
              "    background-color: var(--hover-bg-color);\n",
              "    box-shadow: 0 1px 2px rgba(60, 64, 67, 0.3), 0 1px 3px 1px rgba(60, 64, 67, 0.15);\n",
              "    fill: var(--button-hover-fill-color);\n",
              "  }\n",
              "\n",
              "  .colab-df-quickchart-complete:disabled,\n",
              "  .colab-df-quickchart-complete:disabled:hover {\n",
              "    background-color: var(--disabled-bg-color);\n",
              "    fill: var(--disabled-fill-color);\n",
              "    box-shadow: none;\n",
              "  }\n",
              "\n",
              "  .colab-df-spinner {\n",
              "    border: 2px solid var(--fill-color);\n",
              "    border-color: transparent;\n",
              "    border-bottom-color: var(--fill-color);\n",
              "    animation:\n",
              "      spin 1s steps(1) infinite;\n",
              "  }\n",
              "\n",
              "  @keyframes spin {\n",
              "    0% {\n",
              "      border-color: transparent;\n",
              "      border-bottom-color: var(--fill-color);\n",
              "      border-left-color: var(--fill-color);\n",
              "    }\n",
              "    20% {\n",
              "      border-color: transparent;\n",
              "      border-left-color: var(--fill-color);\n",
              "      border-top-color: var(--fill-color);\n",
              "    }\n",
              "    30% {\n",
              "      border-color: transparent;\n",
              "      border-left-color: var(--fill-color);\n",
              "      border-top-color: var(--fill-color);\n",
              "      border-right-color: var(--fill-color);\n",
              "    }\n",
              "    40% {\n",
              "      border-color: transparent;\n",
              "      border-right-color: var(--fill-color);\n",
              "      border-top-color: var(--fill-color);\n",
              "    }\n",
              "    60% {\n",
              "      border-color: transparent;\n",
              "      border-right-color: var(--fill-color);\n",
              "    }\n",
              "    80% {\n",
              "      border-color: transparent;\n",
              "      border-right-color: var(--fill-color);\n",
              "      border-bottom-color: var(--fill-color);\n",
              "    }\n",
              "    90% {\n",
              "      border-color: transparent;\n",
              "      border-bottom-color: var(--fill-color);\n",
              "    }\n",
              "  }\n",
              "</style>\n",
              "\n",
              "  <script>\n",
              "    async function quickchart(key) {\n",
              "      const quickchartButtonEl =\n",
              "        document.querySelector('#' + key + ' button');\n",
              "      quickchartButtonEl.disabled = true;  // To prevent multiple clicks.\n",
              "      quickchartButtonEl.classList.add('colab-df-spinner');\n",
              "      try {\n",
              "        const charts = await google.colab.kernel.invokeFunction(\n",
              "            'suggestCharts', [key], {});\n",
              "      } catch (error) {\n",
              "        console.error('Error during call to suggestCharts:', error);\n",
              "      }\n",
              "      quickchartButtonEl.classList.remove('colab-df-spinner');\n",
              "      quickchartButtonEl.classList.add('colab-df-quickchart-complete');\n",
              "    }\n",
              "    (() => {\n",
              "      let quickchartButtonEl =\n",
              "        document.querySelector('#df-c1c58bff-8892-41f1-8b0b-1cbc6aa34f57 button');\n",
              "      quickchartButtonEl.style.display =\n",
              "        google.colab.kernel.accessAllowed ? 'block' : 'none';\n",
              "    })();\n",
              "  </script>\n",
              "</div>\n",
              "    </div>\n",
              "  </div>\n"
            ],
            "application/vnd.google.colaboratory.intrinsic+json": {
              "type": "dataframe",
              "repr_error": "'str' object has no attribute 'empty'"
            }
          },
          "metadata": {},
          "execution_count": 46
        }
      ]
    },
    {
      "cell_type": "markdown",
      "source": [
        "Se detectan filas duplicadas. Para evitar la redundancia y solo contar con registros únicos, se eliminan:"
      ],
      "metadata": {
        "id": "3v_lUGebAu8D"
      }
    },
    {
      "cell_type": "code",
      "source": [
        "df = df.drop_duplicates()"
      ],
      "metadata": {
        "id": "6_8vWtcuBMvm"
      },
      "execution_count": null,
      "outputs": []
    },
    {
      "cell_type": "code",
      "source": [
        "print(\"Nuevo tamaño del dataset: \", df.shape)"
      ],
      "metadata": {
        "colab": {
          "base_uri": "https://localhost:8080/"
        },
        "id": "sm71ZMowBSbD",
        "outputId": "2777e071-ffb9-4b28-fca8-902ecb1e7f44"
      },
      "execution_count": null,
      "outputs": [
        {
          "output_type": "stream",
          "name": "stdout",
          "text": [
            "Nuevo tamaño del dataset:  (431222, 8)\n"
          ]
        }
      ]
    }
  ]
}