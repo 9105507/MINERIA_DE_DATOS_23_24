{
  "nbformat": 4,
  "nbformat_minor": 0,
  "metadata": {
    "colab": {
      "provenance": [],
      "include_colab_link": true
    },
    "kernelspec": {
      "name": "python3",
      "display_name": "Python 3"
    },
    "language_info": {
      "name": "python"
    }
  },
  "cells": [
    {
      "cell_type": "markdown",
      "metadata": {
        "id": "view-in-github",
        "colab_type": "text"
      },
      "source": [
        "<a href=\"https://colab.research.google.com/github/9105507/MINERIA_DE_DATOS_23_24/blob/main/LAB02_Reglas_de_Asociacio%CC%81n_y_Patrones_Secuenciales.ipynb\" target=\"_parent\"><img src=\"https://colab.research.google.com/assets/colab-badge.svg\" alt=\"Open In Colab\"/></a>"
      ]
    },
    {
      "cell_type": "markdown",
      "metadata": {
        "id": "qnvj58zMJhcG"
      },
      "source": [
        "# **Laboratorio 2 - Grupo 7**\n",
        "Miguel Ángel Rojo\n",
        "\n",
        "Miguel Poyatos García-Lorenzana\n",
        "\n",
        "Joaquín Vilaplana\n",
        "\n",
        "Adrián García-Arroba"
      ]
    },
    {
      "cell_type": "markdown",
      "metadata": {
        "id": "08nHR1-wZZ07"
      },
      "source": [
        "# Inicialización"
      ]
    },
    {
      "cell_type": "markdown",
      "metadata": {
        "id": "-AzcbzimZdnt"
      },
      "source": [
        "Librerías usadas:"
      ]
    },
    {
      "cell_type": "code",
      "execution_count": null,
      "metadata": {
        "id": "EVDfZGKqZZm_"
      },
      "outputs": [],
      "source": [
        "import csv\n",
        "import numpy as np\n",
        "import pandas as pd\n",
        "import matplotlib.pyplot as plt\n",
        "from sklearn.decomposition import PCA\n",
        "from sklearn.preprocessing import StandardScaler\n",
        "import seaborn as sns\n",
        "import random\n",
        "\n",
        "from mlxtend.preprocessing import TransactionEncoder\n",
        "from mlxtend.frequent_patterns import apriori, association_rules"
      ]
    },
    {
      "cell_type": "markdown",
      "source": [
        "Durante el trabajo por motivos de versiones se ha necesitado poner el siguiente código para eviter que aparezca numerosas veces un warning."
      ],
      "metadata": {
        "id": "cbXqmbUkDZZh"
      }
    },
    {
      "cell_type": "code",
      "source": [
        "import warnings\n",
        "warnings.filterwarnings(\"ignore\", category=DeprecationWarning)"
      ],
      "metadata": {
        "id": "9MGVxRm8Iu82",
        "colab": {
          "base_uri": "https://localhost:8080/"
        },
        "outputId": "ec15ace0-450e-4225-b884-52080897ae49"
      },
      "execution_count": null,
      "outputs": [
        {
          "output_type": "stream",
          "name": "stderr",
          "text": [
            "/usr/local/lib/python3.10/dist-packages/ipykernel/ipkernel.py:283: DeprecationWarning: `should_run_async` will not call `transform_cell` automatically in the future. Please pass the result to `transformed_cell` argument and any exception that happen during thetransform in `preprocessing_exc_tuple` in IPython 7.17 and above.\n",
            "  and should_run_async(code)\n"
          ]
        }
      ]
    },
    {
      "cell_type": "markdown",
      "metadata": {
        "id": "awB9mBCYD-lY"
      },
      "source": [
        "# Práctica 1 (reglas de Asociación)\n",
        "Valor (5 puntos)\n",
        "\n",
        "Usa la librería mlxtend que nos permita solucionar todos los problemas relacionados con las reglas de asociación. Para ello tendremos que usar el algoritmo Apriori y una serie de métodos para obtener la distinta información que este genera. Usa la librería con el Dataset Market_Basket_Optimisation.csv que se ha proporcionado.\n",
        "\n",
        "1.- (1 puntos) Prueba al menos tres configuraciones de soporte y frecuencia para cada tipo de puntuación.\n",
        "\n",
        "2.- (1 punto) ¿Qué diferencias hay entre usar soporte y frecuencia? Respalda la respuesta con datos.\n",
        "\n",
        "3.- (1 punto) ¿Qué tipo reglas desaparecen según la configuración usada y el tipo de puntuación? ¿Por qué?\n",
        "\n",
        "4.- (1 punto) Para una de las configuraciones, interpreta algunas de las reglas que te hayan resultado curiosas obtenidas usando la clase association_rules y un par de configuraciones cambiando la variable metric y min_threshold.\n",
        "\n",
        "5.- (1 punto) Dadas las mejores configuraciones. ¿Existen reglas o patrones que se repitan? ¿Podemos generalizar de alguna manera como se comportan los clientes del supermercado?\n",
        "\n",
        "Para obtener los datos pedidos anteriormente, se hará uso de la librería de la siguiente manera (pasos a seguir):\n",
        "\n",
        "* Empezaremos obteniendo los itemsets frecuentes para k=1. En este punto necesitaremos obtener el soporte de los itemset. Por lo tanto, se tendrá que usar un método que dado un itemset devuelva su soporte.\n",
        "\n",
        "* A partir de k=2.\n",
        "\n",
        "  - Mostrar los itemset frecuentes candidatos y su soporte.\n",
        "\n",
        "* Repetir el proceso 2 hasta que no se generen nuevos itemsets frecuentes.\n",
        "\n",
        "* Mostrar todas las posibles reglas con la confianza de cada una de ellas.\n",
        "\n",
        "* Listar todas las reglas que sean de alta confianza.\n",
        "\n",
        "* Usar los siguientes métodos.\n",
        "  - Dado un antecesor, devolver todas las reglas que contengan a dicho antecesor.\n",
        "  - Dado un umbral mínimo devolver todas las reglas que cumplan con dicha confianza.\n",
        "\n",
        "* Utiliza al menos dos representaciones gráficas para representar las reglas obtenidas e interpretar los datos.\n"
      ]
    },
    {
      "cell_type": "code",
      "source": [
        "# Cargar los datos\n",
        "data = pd.read_csv('Market_Basket_Optimisation.csv', header=None)"
      ],
      "metadata": {
        "id": "1SZj-qMpD-ls"
      },
      "execution_count": null,
      "outputs": []
    },
    {
      "cell_type": "markdown",
      "source": [
        "A continucación se va a conocer como están guardados los datos y además que se está estudiando. Para esto utilizamos métodos de pandas."
      ],
      "metadata": {
        "id": "EXuVx207Htxy"
      }
    },
    {
      "cell_type": "code",
      "source": [
        "print(data.info())"
      ],
      "metadata": {
        "colab": {
          "base_uri": "https://localhost:8080/"
        },
        "id": "YBOlgXcdFXN7",
        "outputId": "b810f2e7-90ee-4596-fc86-4238b5796135"
      },
      "execution_count": null,
      "outputs": [
        {
          "output_type": "stream",
          "name": "stdout",
          "text": [
            "<class 'pandas.core.frame.DataFrame'>\n",
            "RangeIndex: 7501 entries, 0 to 7500\n",
            "Data columns (total 20 columns):\n",
            " #   Column  Non-Null Count  Dtype \n",
            "---  ------  --------------  ----- \n",
            " 0   0       7501 non-null   object\n",
            " 1   1       5747 non-null   object\n",
            " 2   2       4389 non-null   object\n",
            " 3   3       3345 non-null   object\n",
            " 4   4       2529 non-null   object\n",
            " 5   5       1864 non-null   object\n",
            " 6   6       1369 non-null   object\n",
            " 7   7       981 non-null    object\n",
            " 8   8       654 non-null    object\n",
            " 9   9       395 non-null    object\n",
            " 10  10      256 non-null    object\n",
            " 11  11      154 non-null    object\n",
            " 12  12      87 non-null     object\n",
            " 13  13      47 non-null     object\n",
            " 14  14      25 non-null     object\n",
            " 15  15      8 non-null      object\n",
            " 16  16      4 non-null      object\n",
            " 17  17      4 non-null      object\n",
            " 18  18      3 non-null      object\n",
            " 19  19      1 non-null      object\n",
            "dtypes: object(20)\n",
            "memory usage: 1.1+ MB\n",
            "None\n"
          ]
        }
      ]
    },
    {
      "cell_type": "markdown",
      "source": [
        "Comprobamos como todas las columnas son de tipo 'object' y hay muchos valores NaN. Mostramos las primeras filas de los datos para ver que hay en los registros más a fondo."
      ],
      "metadata": {
        "id": "b2C0Nai4JK_6"
      }
    },
    {
      "cell_type": "code",
      "source": [
        "data.head()"
      ],
      "metadata": {
        "colab": {
          "base_uri": "https://localhost:8080/",
          "height": 238
        },
        "id": "7w-QbAdVFdNj",
        "outputId": "e29bfe8d-accc-41c9-877b-cdba79051145"
      },
      "execution_count": null,
      "outputs": [
        {
          "output_type": "execute_result",
          "data": {
            "text/plain": [
              "              0          1           2                 3             4   \\\n",
              "0         shrimp    almonds     avocado    vegetables mix  green grapes   \n",
              "1        burgers  meatballs        eggs               NaN           NaN   \n",
              "2        chutney        NaN         NaN               NaN           NaN   \n",
              "3         turkey    avocado         NaN               NaN           NaN   \n",
              "4  mineral water       milk  energy bar  whole wheat rice     green tea   \n",
              "\n",
              "                 5     6               7             8             9   \\\n",
              "0  whole weat flour  yams  cottage cheese  energy drink  tomato juice   \n",
              "1               NaN   NaN             NaN           NaN           NaN   \n",
              "2               NaN   NaN             NaN           NaN           NaN   \n",
              "3               NaN   NaN             NaN           NaN           NaN   \n",
              "4               NaN   NaN             NaN           NaN           NaN   \n",
              "\n",
              "               10         11     12     13             14      15  \\\n",
              "0  low fat yogurt  green tea  honey  salad  mineral water  salmon   \n",
              "1             NaN        NaN    NaN    NaN            NaN     NaN   \n",
              "2             NaN        NaN    NaN    NaN            NaN     NaN   \n",
              "3             NaN        NaN    NaN    NaN            NaN     NaN   \n",
              "4             NaN        NaN    NaN    NaN            NaN     NaN   \n",
              "\n",
              "                  16               17       18         19  \n",
              "0  antioxydant juice  frozen smoothie  spinach  olive oil  \n",
              "1                NaN              NaN      NaN        NaN  \n",
              "2                NaN              NaN      NaN        NaN  \n",
              "3                NaN              NaN      NaN        NaN  \n",
              "4                NaN              NaN      NaN        NaN  "
            ],
            "text/html": [
              "\n",
              "  <div id=\"df-4a6af38e-2f33-41a8-8935-eb8a8cc16e54\" class=\"colab-df-container\">\n",
              "    <div>\n",
              "<style scoped>\n",
              "    .dataframe tbody tr th:only-of-type {\n",
              "        vertical-align: middle;\n",
              "    }\n",
              "\n",
              "    .dataframe tbody tr th {\n",
              "        vertical-align: top;\n",
              "    }\n",
              "\n",
              "    .dataframe thead th {\n",
              "        text-align: right;\n",
              "    }\n",
              "</style>\n",
              "<table border=\"1\" class=\"dataframe\">\n",
              "  <thead>\n",
              "    <tr style=\"text-align: right;\">\n",
              "      <th></th>\n",
              "      <th>0</th>\n",
              "      <th>1</th>\n",
              "      <th>2</th>\n",
              "      <th>3</th>\n",
              "      <th>4</th>\n",
              "      <th>5</th>\n",
              "      <th>6</th>\n",
              "      <th>7</th>\n",
              "      <th>8</th>\n",
              "      <th>9</th>\n",
              "      <th>10</th>\n",
              "      <th>11</th>\n",
              "      <th>12</th>\n",
              "      <th>13</th>\n",
              "      <th>14</th>\n",
              "      <th>15</th>\n",
              "      <th>16</th>\n",
              "      <th>17</th>\n",
              "      <th>18</th>\n",
              "      <th>19</th>\n",
              "    </tr>\n",
              "  </thead>\n",
              "  <tbody>\n",
              "    <tr>\n",
              "      <th>0</th>\n",
              "      <td>shrimp</td>\n",
              "      <td>almonds</td>\n",
              "      <td>avocado</td>\n",
              "      <td>vegetables mix</td>\n",
              "      <td>green grapes</td>\n",
              "      <td>whole weat flour</td>\n",
              "      <td>yams</td>\n",
              "      <td>cottage cheese</td>\n",
              "      <td>energy drink</td>\n",
              "      <td>tomato juice</td>\n",
              "      <td>low fat yogurt</td>\n",
              "      <td>green tea</td>\n",
              "      <td>honey</td>\n",
              "      <td>salad</td>\n",
              "      <td>mineral water</td>\n",
              "      <td>salmon</td>\n",
              "      <td>antioxydant juice</td>\n",
              "      <td>frozen smoothie</td>\n",
              "      <td>spinach</td>\n",
              "      <td>olive oil</td>\n",
              "    </tr>\n",
              "    <tr>\n",
              "      <th>1</th>\n",
              "      <td>burgers</td>\n",
              "      <td>meatballs</td>\n",
              "      <td>eggs</td>\n",
              "      <td>NaN</td>\n",
              "      <td>NaN</td>\n",
              "      <td>NaN</td>\n",
              "      <td>NaN</td>\n",
              "      <td>NaN</td>\n",
              "      <td>NaN</td>\n",
              "      <td>NaN</td>\n",
              "      <td>NaN</td>\n",
              "      <td>NaN</td>\n",
              "      <td>NaN</td>\n",
              "      <td>NaN</td>\n",
              "      <td>NaN</td>\n",
              "      <td>NaN</td>\n",
              "      <td>NaN</td>\n",
              "      <td>NaN</td>\n",
              "      <td>NaN</td>\n",
              "      <td>NaN</td>\n",
              "    </tr>\n",
              "    <tr>\n",
              "      <th>2</th>\n",
              "      <td>chutney</td>\n",
              "      <td>NaN</td>\n",
              "      <td>NaN</td>\n",
              "      <td>NaN</td>\n",
              "      <td>NaN</td>\n",
              "      <td>NaN</td>\n",
              "      <td>NaN</td>\n",
              "      <td>NaN</td>\n",
              "      <td>NaN</td>\n",
              "      <td>NaN</td>\n",
              "      <td>NaN</td>\n",
              "      <td>NaN</td>\n",
              "      <td>NaN</td>\n",
              "      <td>NaN</td>\n",
              "      <td>NaN</td>\n",
              "      <td>NaN</td>\n",
              "      <td>NaN</td>\n",
              "      <td>NaN</td>\n",
              "      <td>NaN</td>\n",
              "      <td>NaN</td>\n",
              "    </tr>\n",
              "    <tr>\n",
              "      <th>3</th>\n",
              "      <td>turkey</td>\n",
              "      <td>avocado</td>\n",
              "      <td>NaN</td>\n",
              "      <td>NaN</td>\n",
              "      <td>NaN</td>\n",
              "      <td>NaN</td>\n",
              "      <td>NaN</td>\n",
              "      <td>NaN</td>\n",
              "      <td>NaN</td>\n",
              "      <td>NaN</td>\n",
              "      <td>NaN</td>\n",
              "      <td>NaN</td>\n",
              "      <td>NaN</td>\n",
              "      <td>NaN</td>\n",
              "      <td>NaN</td>\n",
              "      <td>NaN</td>\n",
              "      <td>NaN</td>\n",
              "      <td>NaN</td>\n",
              "      <td>NaN</td>\n",
              "      <td>NaN</td>\n",
              "    </tr>\n",
              "    <tr>\n",
              "      <th>4</th>\n",
              "      <td>mineral water</td>\n",
              "      <td>milk</td>\n",
              "      <td>energy bar</td>\n",
              "      <td>whole wheat rice</td>\n",
              "      <td>green tea</td>\n",
              "      <td>NaN</td>\n",
              "      <td>NaN</td>\n",
              "      <td>NaN</td>\n",
              "      <td>NaN</td>\n",
              "      <td>NaN</td>\n",
              "      <td>NaN</td>\n",
              "      <td>NaN</td>\n",
              "      <td>NaN</td>\n",
              "      <td>NaN</td>\n",
              "      <td>NaN</td>\n",
              "      <td>NaN</td>\n",
              "      <td>NaN</td>\n",
              "      <td>NaN</td>\n",
              "      <td>NaN</td>\n",
              "      <td>NaN</td>\n",
              "    </tr>\n",
              "  </tbody>\n",
              "</table>\n",
              "</div>\n",
              "    <div class=\"colab-df-buttons\">\n",
              "\n",
              "  <div class=\"colab-df-container\">\n",
              "    <button class=\"colab-df-convert\" onclick=\"convertToInteractive('df-4a6af38e-2f33-41a8-8935-eb8a8cc16e54')\"\n",
              "            title=\"Convert this dataframe to an interactive table.\"\n",
              "            style=\"display:none;\">\n",
              "\n",
              "  <svg xmlns=\"http://www.w3.org/2000/svg\" height=\"24px\" viewBox=\"0 -960 960 960\">\n",
              "    <path d=\"M120-120v-720h720v720H120Zm60-500h600v-160H180v160Zm220 220h160v-160H400v160Zm0 220h160v-160H400v160ZM180-400h160v-160H180v160Zm440 0h160v-160H620v160ZM180-180h160v-160H180v160Zm440 0h160v-160H620v160Z\"/>\n",
              "  </svg>\n",
              "    </button>\n",
              "\n",
              "  <style>\n",
              "    .colab-df-container {\n",
              "      display:flex;\n",
              "      gap: 12px;\n",
              "    }\n",
              "\n",
              "    .colab-df-convert {\n",
              "      background-color: #E8F0FE;\n",
              "      border: none;\n",
              "      border-radius: 50%;\n",
              "      cursor: pointer;\n",
              "      display: none;\n",
              "      fill: #1967D2;\n",
              "      height: 32px;\n",
              "      padding: 0 0 0 0;\n",
              "      width: 32px;\n",
              "    }\n",
              "\n",
              "    .colab-df-convert:hover {\n",
              "      background-color: #E2EBFA;\n",
              "      box-shadow: 0px 1px 2px rgba(60, 64, 67, 0.3), 0px 1px 3px 1px rgba(60, 64, 67, 0.15);\n",
              "      fill: #174EA6;\n",
              "    }\n",
              "\n",
              "    .colab-df-buttons div {\n",
              "      margin-bottom: 4px;\n",
              "    }\n",
              "\n",
              "    [theme=dark] .colab-df-convert {\n",
              "      background-color: #3B4455;\n",
              "      fill: #D2E3FC;\n",
              "    }\n",
              "\n",
              "    [theme=dark] .colab-df-convert:hover {\n",
              "      background-color: #434B5C;\n",
              "      box-shadow: 0px 1px 3px 1px rgba(0, 0, 0, 0.15);\n",
              "      filter: drop-shadow(0px 1px 2px rgba(0, 0, 0, 0.3));\n",
              "      fill: #FFFFFF;\n",
              "    }\n",
              "  </style>\n",
              "\n",
              "    <script>\n",
              "      const buttonEl =\n",
              "        document.querySelector('#df-4a6af38e-2f33-41a8-8935-eb8a8cc16e54 button.colab-df-convert');\n",
              "      buttonEl.style.display =\n",
              "        google.colab.kernel.accessAllowed ? 'block' : 'none';\n",
              "\n",
              "      async function convertToInteractive(key) {\n",
              "        const element = document.querySelector('#df-4a6af38e-2f33-41a8-8935-eb8a8cc16e54');\n",
              "        const dataTable =\n",
              "          await google.colab.kernel.invokeFunction('convertToInteractive',\n",
              "                                                    [key], {});\n",
              "        if (!dataTable) return;\n",
              "\n",
              "        const docLinkHtml = 'Like what you see? Visit the ' +\n",
              "          '<a target=\"_blank\" href=https://colab.research.google.com/notebooks/data_table.ipynb>data table notebook</a>'\n",
              "          + ' to learn more about interactive tables.';\n",
              "        element.innerHTML = '';\n",
              "        dataTable['output_type'] = 'display_data';\n",
              "        await google.colab.output.renderOutput(dataTable, element);\n",
              "        const docLink = document.createElement('div');\n",
              "        docLink.innerHTML = docLinkHtml;\n",
              "        element.appendChild(docLink);\n",
              "      }\n",
              "    </script>\n",
              "  </div>\n",
              "\n",
              "\n",
              "<div id=\"df-c57eb886-38ab-4506-bbd6-2a20a62e7b31\">\n",
              "  <button class=\"colab-df-quickchart\" onclick=\"quickchart('df-c57eb886-38ab-4506-bbd6-2a20a62e7b31')\"\n",
              "            title=\"Suggest charts\"\n",
              "            style=\"display:none;\">\n",
              "\n",
              "<svg xmlns=\"http://www.w3.org/2000/svg\" height=\"24px\"viewBox=\"0 0 24 24\"\n",
              "     width=\"24px\">\n",
              "    <g>\n",
              "        <path d=\"M19 3H5c-1.1 0-2 .9-2 2v14c0 1.1.9 2 2 2h14c1.1 0 2-.9 2-2V5c0-1.1-.9-2-2-2zM9 17H7v-7h2v7zm4 0h-2V7h2v10zm4 0h-2v-4h2v4z\"/>\n",
              "    </g>\n",
              "</svg>\n",
              "  </button>\n",
              "\n",
              "<style>\n",
              "  .colab-df-quickchart {\n",
              "      --bg-color: #E8F0FE;\n",
              "      --fill-color: #1967D2;\n",
              "      --hover-bg-color: #E2EBFA;\n",
              "      --hover-fill-color: #174EA6;\n",
              "      --disabled-fill-color: #AAA;\n",
              "      --disabled-bg-color: #DDD;\n",
              "  }\n",
              "\n",
              "  [theme=dark] .colab-df-quickchart {\n",
              "      --bg-color: #3B4455;\n",
              "      --fill-color: #D2E3FC;\n",
              "      --hover-bg-color: #434B5C;\n",
              "      --hover-fill-color: #FFFFFF;\n",
              "      --disabled-bg-color: #3B4455;\n",
              "      --disabled-fill-color: #666;\n",
              "  }\n",
              "\n",
              "  .colab-df-quickchart {\n",
              "    background-color: var(--bg-color);\n",
              "    border: none;\n",
              "    border-radius: 50%;\n",
              "    cursor: pointer;\n",
              "    display: none;\n",
              "    fill: var(--fill-color);\n",
              "    height: 32px;\n",
              "    padding: 0;\n",
              "    width: 32px;\n",
              "  }\n",
              "\n",
              "  .colab-df-quickchart:hover {\n",
              "    background-color: var(--hover-bg-color);\n",
              "    box-shadow: 0 1px 2px rgba(60, 64, 67, 0.3), 0 1px 3px 1px rgba(60, 64, 67, 0.15);\n",
              "    fill: var(--button-hover-fill-color);\n",
              "  }\n",
              "\n",
              "  .colab-df-quickchart-complete:disabled,\n",
              "  .colab-df-quickchart-complete:disabled:hover {\n",
              "    background-color: var(--disabled-bg-color);\n",
              "    fill: var(--disabled-fill-color);\n",
              "    box-shadow: none;\n",
              "  }\n",
              "\n",
              "  .colab-df-spinner {\n",
              "    border: 2px solid var(--fill-color);\n",
              "    border-color: transparent;\n",
              "    border-bottom-color: var(--fill-color);\n",
              "    animation:\n",
              "      spin 1s steps(1) infinite;\n",
              "  }\n",
              "\n",
              "  @keyframes spin {\n",
              "    0% {\n",
              "      border-color: transparent;\n",
              "      border-bottom-color: var(--fill-color);\n",
              "      border-left-color: var(--fill-color);\n",
              "    }\n",
              "    20% {\n",
              "      border-color: transparent;\n",
              "      border-left-color: var(--fill-color);\n",
              "      border-top-color: var(--fill-color);\n",
              "    }\n",
              "    30% {\n",
              "      border-color: transparent;\n",
              "      border-left-color: var(--fill-color);\n",
              "      border-top-color: var(--fill-color);\n",
              "      border-right-color: var(--fill-color);\n",
              "    }\n",
              "    40% {\n",
              "      border-color: transparent;\n",
              "      border-right-color: var(--fill-color);\n",
              "      border-top-color: var(--fill-color);\n",
              "    }\n",
              "    60% {\n",
              "      border-color: transparent;\n",
              "      border-right-color: var(--fill-color);\n",
              "    }\n",
              "    80% {\n",
              "      border-color: transparent;\n",
              "      border-right-color: var(--fill-color);\n",
              "      border-bottom-color: var(--fill-color);\n",
              "    }\n",
              "    90% {\n",
              "      border-color: transparent;\n",
              "      border-bottom-color: var(--fill-color);\n",
              "    }\n",
              "  }\n",
              "</style>\n",
              "\n",
              "  <script>\n",
              "    async function quickchart(key) {\n",
              "      const quickchartButtonEl =\n",
              "        document.querySelector('#' + key + ' button');\n",
              "      quickchartButtonEl.disabled = true;  // To prevent multiple clicks.\n",
              "      quickchartButtonEl.classList.add('colab-df-spinner');\n",
              "      try {\n",
              "        const charts = await google.colab.kernel.invokeFunction(\n",
              "            'suggestCharts', [key], {});\n",
              "      } catch (error) {\n",
              "        console.error('Error during call to suggestCharts:', error);\n",
              "      }\n",
              "      quickchartButtonEl.classList.remove('colab-df-spinner');\n",
              "      quickchartButtonEl.classList.add('colab-df-quickchart-complete');\n",
              "    }\n",
              "    (() => {\n",
              "      let quickchartButtonEl =\n",
              "        document.querySelector('#df-c57eb886-38ab-4506-bbd6-2a20a62e7b31 button');\n",
              "      quickchartButtonEl.style.display =\n",
              "        google.colab.kernel.accessAllowed ? 'block' : 'none';\n",
              "    })();\n",
              "  </script>\n",
              "</div>\n",
              "    </div>\n",
              "  </div>\n"
            ],
            "application/vnd.google.colaboratory.intrinsic+json": {
              "type": "dataframe",
              "variable_name": "data",
              "summary": "{\n  \"name\": \"data\",\n  \"rows\": 7501,\n  \"fields\": [\n    {\n      \"column\": 0,\n      \"properties\": {\n        \"dtype\": \"category\",\n        \"num_unique_values\": 115,\n        \"samples\": [\n          \"gums\",\n          \"mineral water\",\n          \"pancakes\"\n        ],\n        \"semantic_type\": \"\",\n        \"description\": \"\"\n      }\n    },\n    {\n      \"column\": 1,\n      \"properties\": {\n        \"dtype\": \"category\",\n        \"num_unique_values\": 117,\n        \"samples\": [\n          \"tomatoes\",\n          \"french fries\",\n          \"eggplant\"\n        ],\n        \"semantic_type\": \"\",\n        \"description\": \"\"\n      }\n    },\n    {\n      \"column\": 2,\n      \"properties\": {\n        \"dtype\": \"category\",\n        \"num_unique_values\": 115,\n        \"samples\": [\n          \"mint\",\n          \"green tea\",\n          \"mashed potato\"\n        ],\n        \"semantic_type\": \"\",\n        \"description\": \"\"\n      }\n    },\n    {\n      \"column\": 3,\n      \"properties\": {\n        \"dtype\": \"category\",\n        \"num_unique_values\": 114,\n        \"samples\": [\n          \"toothpaste\",\n          \"spaghetti\",\n          \"cottage cheese\"\n        ],\n        \"semantic_type\": \"\",\n        \"description\": \"\"\n      }\n    },\n    {\n      \"column\": 4,\n      \"properties\": {\n        \"dtype\": \"category\",\n        \"num_unique_values\": 110,\n        \"samples\": [\n          \"magazines\",\n          \"energy bar\",\n          \"mineral water\"\n        ],\n        \"semantic_type\": \"\",\n        \"description\": \"\"\n      }\n    },\n    {\n      \"column\": 5,\n      \"properties\": {\n        \"dtype\": \"category\",\n        \"num_unique_values\": 106,\n        \"samples\": [\n          \"flax seed\",\n          \"energy drink\",\n          \"green tea\"\n        ],\n        \"semantic_type\": \"\",\n        \"description\": \"\"\n      }\n    },\n    {\n      \"column\": 6,\n      \"properties\": {\n        \"dtype\": \"category\",\n        \"num_unique_values\": 102,\n        \"samples\": [\n          \"energy drink\",\n          \"zucchini\",\n          \"extra dark chocolate\"\n        ],\n        \"semantic_type\": \"\",\n        \"description\": \"\"\n      }\n    },\n    {\n      \"column\": 7,\n      \"properties\": {\n        \"dtype\": \"category\",\n        \"num_unique_values\": 98,\n        \"samples\": [\n          \"whole weat flour\",\n          \"pasta\",\n          \"body spray\"\n        ],\n        \"semantic_type\": \"\",\n        \"description\": \"\"\n      }\n    },\n    {\n      \"column\": 8,\n      \"properties\": {\n        \"dtype\": \"category\",\n        \"num_unique_values\": 88,\n        \"samples\": [\n          \"strawberries\",\n          \"energy drink\",\n          \"mashed potato\"\n        ],\n        \"semantic_type\": \"\",\n        \"description\": \"\"\n      }\n    },\n    {\n      \"column\": 9,\n      \"properties\": {\n        \"dtype\": \"category\",\n        \"num_unique_values\": 80,\n        \"samples\": [\n          \"rice\",\n          \"tomato juice\",\n          \"cake\"\n        ],\n        \"semantic_type\": \"\",\n        \"description\": \"\"\n      }\n    },\n    {\n      \"column\": 10,\n      \"properties\": {\n        \"dtype\": \"category\",\n        \"num_unique_values\": 66,\n        \"samples\": [\n          \"strong cheese\",\n          \"bramble\",\n          \"low fat yogurt\"\n        ],\n        \"semantic_type\": \"\",\n        \"description\": \"\"\n      }\n    },\n    {\n      \"column\": 11,\n      \"properties\": {\n        \"dtype\": \"category\",\n        \"num_unique_values\": 50,\n        \"samples\": [\n          \"frozen smoothie\",\n          \"green grapes\",\n          \"brownies\"\n        ],\n        \"semantic_type\": \"\",\n        \"description\": \"\"\n      }\n    },\n    {\n      \"column\": 12,\n      \"properties\": {\n        \"dtype\": \"category\",\n        \"num_unique_values\": 43,\n        \"samples\": [\n          \"magazines\",\n          \"burger sauce\",\n          \"white wine\"\n        ],\n        \"semantic_type\": \"\",\n        \"description\": \"\"\n      }\n    },\n    {\n      \"column\": 13,\n      \"properties\": {\n        \"dtype\": \"category\",\n        \"num_unique_values\": 28,\n        \"samples\": [\n          \"pancakes\",\n          \"yogurt cake\",\n          \"toothpaste\"\n        ],\n        \"semantic_type\": \"\",\n        \"description\": \"\"\n      }\n    },\n    {\n      \"column\": 14,\n      \"properties\": {\n        \"dtype\": \"category\",\n        \"num_unique_values\": 19,\n        \"samples\": [\n          \"mineral water\",\n          \"pancakes\",\n          \"fresh bread\"\n        ],\n        \"semantic_type\": \"\",\n        \"description\": \"\"\n      }\n    },\n    {\n      \"column\": 15,\n      \"properties\": {\n        \"dtype\": \"category\",\n        \"num_unique_values\": 8,\n        \"samples\": [\n          \"chocolate\",\n          \"sparkling water\",\n          \"salmon\"\n        ],\n        \"semantic_type\": \"\",\n        \"description\": \"\"\n      }\n    },\n    {\n      \"column\": 16,\n      \"properties\": {\n        \"dtype\": \"category\",\n        \"num_unique_values\": 3,\n        \"samples\": [\n          \"antioxydant juice\",\n          \"frozen smoothie\",\n          \"french fries\"\n        ],\n        \"semantic_type\": \"\",\n        \"description\": \"\"\n      }\n    },\n    {\n      \"column\": 17,\n      \"properties\": {\n        \"dtype\": \"category\",\n        \"num_unique_values\": 3,\n        \"samples\": [\n          \"frozen smoothie\",\n          \"protein bar\",\n          \"spinach\"\n        ],\n        \"semantic_type\": \"\",\n        \"description\": \"\"\n      }\n    },\n    {\n      \"column\": 18,\n      \"properties\": {\n        \"dtype\": \"category\",\n        \"num_unique_values\": 3,\n        \"samples\": [\n          \"spinach\",\n          \"mayonnaise\",\n          \"cereals\"\n        ],\n        \"semantic_type\": \"\",\n        \"description\": \"\"\n      }\n    },\n    {\n      \"column\": 19,\n      \"properties\": {\n        \"dtype\": \"category\",\n        \"num_unique_values\": 1,\n        \"samples\": [\n          \"olive oil\"\n        ],\n        \"semantic_type\": \"\",\n        \"description\": \"\"\n      }\n    }\n  ]\n}"
            }
          },
          "metadata": {},
          "execution_count": 6
        }
      ]
    },
    {
      "cell_type": "markdown",
      "source": [
        "Al mostrar la base de datos comprobamos como nos encontramos un dataframe que no está procesado, por lo que habrá que procesarlo más tarde.\n",
        "\n",
        "Vemos como tiene registros de compras de un supermercado que no tienen orden temporal. Por esto se sacarán reglas de asociación utilizando el método apriori para poder sacar conclusiones que mejoren el rendimiento financiero del negocio."
      ],
      "metadata": {
        "id": "VKzbLovAIPKA"
      }
    },
    {
      "cell_type": "code",
      "source": [
        "# Forma de los datos (número de filas y columnas)\n",
        "print(data.shape)"
      ],
      "metadata": {
        "colab": {
          "base_uri": "https://localhost:8080/"
        },
        "id": "kiJ6VV0_F8LK",
        "outputId": "8b5d7038-96b5-46e3-ee6d-ae72e3090d85"
      },
      "execution_count": null,
      "outputs": [
        {
          "output_type": "stream",
          "name": "stdout",
          "text": [
            "(7501, 20)\n"
          ]
        }
      ]
    },
    {
      "cell_type": "markdown",
      "source": [
        "Los datos muestran que hay un total de 7501 filas y 20 columnas. Cada fila representa una transacción y cada columna representa un artículo comprado en esa transacción. Por lo que en total hay 7501 registros y el registro con más items tiene longitud 20."
      ],
      "metadata": {
        "id": "ByI8uDvwsSJJ"
      }
    },
    {
      "cell_type": "code",
      "source": [
        "# Verificar si hay valores nulos (NaNs)\n",
        "print(data.isnull().sum())"
      ],
      "metadata": {
        "colab": {
          "base_uri": "https://localhost:8080/"
        },
        "id": "5VaQGBZTF9NL",
        "outputId": "16d1cd2a-21b1-44b8-ef85-1cf12738da23"
      },
      "execution_count": null,
      "outputs": [
        {
          "output_type": "stream",
          "name": "stdout",
          "text": [
            "0        0\n",
            "1     1754\n",
            "2     3112\n",
            "3     4156\n",
            "4     4972\n",
            "5     5637\n",
            "6     6132\n",
            "7     6520\n",
            "8     6847\n",
            "9     7106\n",
            "10    7245\n",
            "11    7347\n",
            "12    7414\n",
            "13    7454\n",
            "14    7476\n",
            "15    7493\n",
            "16    7497\n",
            "17    7497\n",
            "18    7498\n",
            "19    7500\n",
            "dtype: int64\n"
          ]
        }
      ]
    },
    {
      "cell_type": "markdown",
      "source": [
        "Las columnas tienen diferentes cantidades de valores nulos, con la primera columna teniendo todos los valores no nulos y las siguientes columnas teniendo cada vez menos valores no nulos."
      ],
      "metadata": {
        "id": "cPH3-vnMGKyy"
      }
    },
    {
      "cell_type": "markdown",
      "source": [
        "Sabiendo como es el formato del dataframe de origen lo formateamos para poder utilizarlo en apriori."
      ],
      "metadata": {
        "id": "CodqrnyrJgRT"
      }
    },
    {
      "cell_type": "code",
      "source": [
        "# Preprocesamiento\n",
        "transactions = data.values.tolist()\n",
        "transactions_clean = [[item for item in transaction if item is not np.nan] for transaction in transactions]\n",
        "print(' -> Transacciones en formato de lista (mostramos solo 3):')\n",
        "print(f\"[...,{transactions_clean[1]}, {transactions_clean[2]}, {transactions_clean[3]}, ...]\")"
      ],
      "metadata": {
        "colab": {
          "base_uri": "https://localhost:8080/"
        },
        "outputId": "3cfd5fe4-1c4b-415c-ec17-ad4efb4be4c2",
        "id": "NEC8Jf9QkbU6"
      },
      "execution_count": null,
      "outputs": [
        {
          "output_type": "stream",
          "name": "stdout",
          "text": [
            " -> Transacciones en formato de lista (mostramos solo 3):\n",
            "[...,['burgers', 'meatballs', 'eggs'], ['chutney'], ['turkey', 'avocado'], ...]\n"
          ]
        }
      ]
    },
    {
      "cell_type": "code",
      "source": [
        "# Codificación de las transacciones\n",
        "te = TransactionEncoder()\n",
        "te_ary = te.fit(transactions_clean).transform(transactions_clean)\n",
        "df = pd.DataFrame(te_ary, columns=te.columns_)"
      ],
      "metadata": {
        "id": "elfau8s-DwK4"
      },
      "execution_count": null,
      "outputs": []
    },
    {
      "cell_type": "markdown",
      "source": [
        "Mostramos el dataframe final:"
      ],
      "metadata": {
        "id": "lCt0PVw8Gfbj"
      }
    },
    {
      "cell_type": "code",
      "source": [
        "df.head()"
      ],
      "metadata": {
        "colab": {
          "base_uri": "https://localhost:8080/",
          "height": 287
        },
        "id": "aShsumbfGd74",
        "outputId": "59d83afc-d705-4381-b86c-2f8aeb9a0a7b"
      },
      "execution_count": null,
      "outputs": [
        {
          "output_type": "execute_result",
          "data": {
            "text/plain": [
              "    asparagus  almonds  antioxydant juice  asparagus  avocado  babies food  \\\n",
              "0       False     True               True      False     True        False   \n",
              "1       False    False              False      False    False        False   \n",
              "2       False    False              False      False    False        False   \n",
              "3       False    False              False      False     True        False   \n",
              "4       False    False              False      False    False        False   \n",
              "\n",
              "   bacon  barbecue sauce  black tea  blueberries  ...  turkey  vegetables mix  \\\n",
              "0  False           False      False        False  ...   False            True   \n",
              "1  False           False      False        False  ...   False           False   \n",
              "2  False           False      False        False  ...   False           False   \n",
              "3  False           False      False        False  ...    True           False   \n",
              "4  False           False      False        False  ...   False           False   \n",
              "\n",
              "   water spray  white wine  whole weat flour  whole wheat pasta  \\\n",
              "0        False       False              True              False   \n",
              "1        False       False             False              False   \n",
              "2        False       False             False              False   \n",
              "3        False       False             False              False   \n",
              "4        False       False             False              False   \n",
              "\n",
              "   whole wheat rice   yams  yogurt cake  zucchini  \n",
              "0             False   True        False     False  \n",
              "1             False  False        False     False  \n",
              "2             False  False        False     False  \n",
              "3             False  False        False     False  \n",
              "4              True  False        False     False  \n",
              "\n",
              "[5 rows x 120 columns]"
            ],
            "text/html": [
              "\n",
              "  <div id=\"df-663e2b9b-832a-4f28-be34-57908a736851\" class=\"colab-df-container\">\n",
              "    <div>\n",
              "<style scoped>\n",
              "    .dataframe tbody tr th:only-of-type {\n",
              "        vertical-align: middle;\n",
              "    }\n",
              "\n",
              "    .dataframe tbody tr th {\n",
              "        vertical-align: top;\n",
              "    }\n",
              "\n",
              "    .dataframe thead th {\n",
              "        text-align: right;\n",
              "    }\n",
              "</style>\n",
              "<table border=\"1\" class=\"dataframe\">\n",
              "  <thead>\n",
              "    <tr style=\"text-align: right;\">\n",
              "      <th></th>\n",
              "      <th>asparagus</th>\n",
              "      <th>almonds</th>\n",
              "      <th>antioxydant juice</th>\n",
              "      <th>asparagus</th>\n",
              "      <th>avocado</th>\n",
              "      <th>babies food</th>\n",
              "      <th>bacon</th>\n",
              "      <th>barbecue sauce</th>\n",
              "      <th>black tea</th>\n",
              "      <th>blueberries</th>\n",
              "      <th>...</th>\n",
              "      <th>turkey</th>\n",
              "      <th>vegetables mix</th>\n",
              "      <th>water spray</th>\n",
              "      <th>white wine</th>\n",
              "      <th>whole weat flour</th>\n",
              "      <th>whole wheat pasta</th>\n",
              "      <th>whole wheat rice</th>\n",
              "      <th>yams</th>\n",
              "      <th>yogurt cake</th>\n",
              "      <th>zucchini</th>\n",
              "    </tr>\n",
              "  </thead>\n",
              "  <tbody>\n",
              "    <tr>\n",
              "      <th>0</th>\n",
              "      <td>False</td>\n",
              "      <td>True</td>\n",
              "      <td>True</td>\n",
              "      <td>False</td>\n",
              "      <td>True</td>\n",
              "      <td>False</td>\n",
              "      <td>False</td>\n",
              "      <td>False</td>\n",
              "      <td>False</td>\n",
              "      <td>False</td>\n",
              "      <td>...</td>\n",
              "      <td>False</td>\n",
              "      <td>True</td>\n",
              "      <td>False</td>\n",
              "      <td>False</td>\n",
              "      <td>True</td>\n",
              "      <td>False</td>\n",
              "      <td>False</td>\n",
              "      <td>True</td>\n",
              "      <td>False</td>\n",
              "      <td>False</td>\n",
              "    </tr>\n",
              "    <tr>\n",
              "      <th>1</th>\n",
              "      <td>False</td>\n",
              "      <td>False</td>\n",
              "      <td>False</td>\n",
              "      <td>False</td>\n",
              "      <td>False</td>\n",
              "      <td>False</td>\n",
              "      <td>False</td>\n",
              "      <td>False</td>\n",
              "      <td>False</td>\n",
              "      <td>False</td>\n",
              "      <td>...</td>\n",
              "      <td>False</td>\n",
              "      <td>False</td>\n",
              "      <td>False</td>\n",
              "      <td>False</td>\n",
              "      <td>False</td>\n",
              "      <td>False</td>\n",
              "      <td>False</td>\n",
              "      <td>False</td>\n",
              "      <td>False</td>\n",
              "      <td>False</td>\n",
              "    </tr>\n",
              "    <tr>\n",
              "      <th>2</th>\n",
              "      <td>False</td>\n",
              "      <td>False</td>\n",
              "      <td>False</td>\n",
              "      <td>False</td>\n",
              "      <td>False</td>\n",
              "      <td>False</td>\n",
              "      <td>False</td>\n",
              "      <td>False</td>\n",
              "      <td>False</td>\n",
              "      <td>False</td>\n",
              "      <td>...</td>\n",
              "      <td>False</td>\n",
              "      <td>False</td>\n",
              "      <td>False</td>\n",
              "      <td>False</td>\n",
              "      <td>False</td>\n",
              "      <td>False</td>\n",
              "      <td>False</td>\n",
              "      <td>False</td>\n",
              "      <td>False</td>\n",
              "      <td>False</td>\n",
              "    </tr>\n",
              "    <tr>\n",
              "      <th>3</th>\n",
              "      <td>False</td>\n",
              "      <td>False</td>\n",
              "      <td>False</td>\n",
              "      <td>False</td>\n",
              "      <td>True</td>\n",
              "      <td>False</td>\n",
              "      <td>False</td>\n",
              "      <td>False</td>\n",
              "      <td>False</td>\n",
              "      <td>False</td>\n",
              "      <td>...</td>\n",
              "      <td>True</td>\n",
              "      <td>False</td>\n",
              "      <td>False</td>\n",
              "      <td>False</td>\n",
              "      <td>False</td>\n",
              "      <td>False</td>\n",
              "      <td>False</td>\n",
              "      <td>False</td>\n",
              "      <td>False</td>\n",
              "      <td>False</td>\n",
              "    </tr>\n",
              "    <tr>\n",
              "      <th>4</th>\n",
              "      <td>False</td>\n",
              "      <td>False</td>\n",
              "      <td>False</td>\n",
              "      <td>False</td>\n",
              "      <td>False</td>\n",
              "      <td>False</td>\n",
              "      <td>False</td>\n",
              "      <td>False</td>\n",
              "      <td>False</td>\n",
              "      <td>False</td>\n",
              "      <td>...</td>\n",
              "      <td>False</td>\n",
              "      <td>False</td>\n",
              "      <td>False</td>\n",
              "      <td>False</td>\n",
              "      <td>False</td>\n",
              "      <td>False</td>\n",
              "      <td>True</td>\n",
              "      <td>False</td>\n",
              "      <td>False</td>\n",
              "      <td>False</td>\n",
              "    </tr>\n",
              "  </tbody>\n",
              "</table>\n",
              "<p>5 rows × 120 columns</p>\n",
              "</div>\n",
              "    <div class=\"colab-df-buttons\">\n",
              "\n",
              "  <div class=\"colab-df-container\">\n",
              "    <button class=\"colab-df-convert\" onclick=\"convertToInteractive('df-663e2b9b-832a-4f28-be34-57908a736851')\"\n",
              "            title=\"Convert this dataframe to an interactive table.\"\n",
              "            style=\"display:none;\">\n",
              "\n",
              "  <svg xmlns=\"http://www.w3.org/2000/svg\" height=\"24px\" viewBox=\"0 -960 960 960\">\n",
              "    <path d=\"M120-120v-720h720v720H120Zm60-500h600v-160H180v160Zm220 220h160v-160H400v160Zm0 220h160v-160H400v160ZM180-400h160v-160H180v160Zm440 0h160v-160H620v160ZM180-180h160v-160H180v160Zm440 0h160v-160H620v160Z\"/>\n",
              "  </svg>\n",
              "    </button>\n",
              "\n",
              "  <style>\n",
              "    .colab-df-container {\n",
              "      display:flex;\n",
              "      gap: 12px;\n",
              "    }\n",
              "\n",
              "    .colab-df-convert {\n",
              "      background-color: #E8F0FE;\n",
              "      border: none;\n",
              "      border-radius: 50%;\n",
              "      cursor: pointer;\n",
              "      display: none;\n",
              "      fill: #1967D2;\n",
              "      height: 32px;\n",
              "      padding: 0 0 0 0;\n",
              "      width: 32px;\n",
              "    }\n",
              "\n",
              "    .colab-df-convert:hover {\n",
              "      background-color: #E2EBFA;\n",
              "      box-shadow: 0px 1px 2px rgba(60, 64, 67, 0.3), 0px 1px 3px 1px rgba(60, 64, 67, 0.15);\n",
              "      fill: #174EA6;\n",
              "    }\n",
              "\n",
              "    .colab-df-buttons div {\n",
              "      margin-bottom: 4px;\n",
              "    }\n",
              "\n",
              "    [theme=dark] .colab-df-convert {\n",
              "      background-color: #3B4455;\n",
              "      fill: #D2E3FC;\n",
              "    }\n",
              "\n",
              "    [theme=dark] .colab-df-convert:hover {\n",
              "      background-color: #434B5C;\n",
              "      box-shadow: 0px 1px 3px 1px rgba(0, 0, 0, 0.15);\n",
              "      filter: drop-shadow(0px 1px 2px rgba(0, 0, 0, 0.3));\n",
              "      fill: #FFFFFF;\n",
              "    }\n",
              "  </style>\n",
              "\n",
              "    <script>\n",
              "      const buttonEl =\n",
              "        document.querySelector('#df-663e2b9b-832a-4f28-be34-57908a736851 button.colab-df-convert');\n",
              "      buttonEl.style.display =\n",
              "        google.colab.kernel.accessAllowed ? 'block' : 'none';\n",
              "\n",
              "      async function convertToInteractive(key) {\n",
              "        const element = document.querySelector('#df-663e2b9b-832a-4f28-be34-57908a736851');\n",
              "        const dataTable =\n",
              "          await google.colab.kernel.invokeFunction('convertToInteractive',\n",
              "                                                    [key], {});\n",
              "        if (!dataTable) return;\n",
              "\n",
              "        const docLinkHtml = 'Like what you see? Visit the ' +\n",
              "          '<a target=\"_blank\" href=https://colab.research.google.com/notebooks/data_table.ipynb>data table notebook</a>'\n",
              "          + ' to learn more about interactive tables.';\n",
              "        element.innerHTML = '';\n",
              "        dataTable['output_type'] = 'display_data';\n",
              "        await google.colab.output.renderOutput(dataTable, element);\n",
              "        const docLink = document.createElement('div');\n",
              "        docLink.innerHTML = docLinkHtml;\n",
              "        element.appendChild(docLink);\n",
              "      }\n",
              "    </script>\n",
              "  </div>\n",
              "\n",
              "\n",
              "<div id=\"df-f87e3bb4-5066-45c1-af83-d8f9ebafe7b4\">\n",
              "  <button class=\"colab-df-quickchart\" onclick=\"quickchart('df-f87e3bb4-5066-45c1-af83-d8f9ebafe7b4')\"\n",
              "            title=\"Suggest charts\"\n",
              "            style=\"display:none;\">\n",
              "\n",
              "<svg xmlns=\"http://www.w3.org/2000/svg\" height=\"24px\"viewBox=\"0 0 24 24\"\n",
              "     width=\"24px\">\n",
              "    <g>\n",
              "        <path d=\"M19 3H5c-1.1 0-2 .9-2 2v14c0 1.1.9 2 2 2h14c1.1 0 2-.9 2-2V5c0-1.1-.9-2-2-2zM9 17H7v-7h2v7zm4 0h-2V7h2v10zm4 0h-2v-4h2v4z\"/>\n",
              "    </g>\n",
              "</svg>\n",
              "  </button>\n",
              "\n",
              "<style>\n",
              "  .colab-df-quickchart {\n",
              "      --bg-color: #E8F0FE;\n",
              "      --fill-color: #1967D2;\n",
              "      --hover-bg-color: #E2EBFA;\n",
              "      --hover-fill-color: #174EA6;\n",
              "      --disabled-fill-color: #AAA;\n",
              "      --disabled-bg-color: #DDD;\n",
              "  }\n",
              "\n",
              "  [theme=dark] .colab-df-quickchart {\n",
              "      --bg-color: #3B4455;\n",
              "      --fill-color: #D2E3FC;\n",
              "      --hover-bg-color: #434B5C;\n",
              "      --hover-fill-color: #FFFFFF;\n",
              "      --disabled-bg-color: #3B4455;\n",
              "      --disabled-fill-color: #666;\n",
              "  }\n",
              "\n",
              "  .colab-df-quickchart {\n",
              "    background-color: var(--bg-color);\n",
              "    border: none;\n",
              "    border-radius: 50%;\n",
              "    cursor: pointer;\n",
              "    display: none;\n",
              "    fill: var(--fill-color);\n",
              "    height: 32px;\n",
              "    padding: 0;\n",
              "    width: 32px;\n",
              "  }\n",
              "\n",
              "  .colab-df-quickchart:hover {\n",
              "    background-color: var(--hover-bg-color);\n",
              "    box-shadow: 0 1px 2px rgba(60, 64, 67, 0.3), 0 1px 3px 1px rgba(60, 64, 67, 0.15);\n",
              "    fill: var(--button-hover-fill-color);\n",
              "  }\n",
              "\n",
              "  .colab-df-quickchart-complete:disabled,\n",
              "  .colab-df-quickchart-complete:disabled:hover {\n",
              "    background-color: var(--disabled-bg-color);\n",
              "    fill: var(--disabled-fill-color);\n",
              "    box-shadow: none;\n",
              "  }\n",
              "\n",
              "  .colab-df-spinner {\n",
              "    border: 2px solid var(--fill-color);\n",
              "    border-color: transparent;\n",
              "    border-bottom-color: var(--fill-color);\n",
              "    animation:\n",
              "      spin 1s steps(1) infinite;\n",
              "  }\n",
              "\n",
              "  @keyframes spin {\n",
              "    0% {\n",
              "      border-color: transparent;\n",
              "      border-bottom-color: var(--fill-color);\n",
              "      border-left-color: var(--fill-color);\n",
              "    }\n",
              "    20% {\n",
              "      border-color: transparent;\n",
              "      border-left-color: var(--fill-color);\n",
              "      border-top-color: var(--fill-color);\n",
              "    }\n",
              "    30% {\n",
              "      border-color: transparent;\n",
              "      border-left-color: var(--fill-color);\n",
              "      border-top-color: var(--fill-color);\n",
              "      border-right-color: var(--fill-color);\n",
              "    }\n",
              "    40% {\n",
              "      border-color: transparent;\n",
              "      border-right-color: var(--fill-color);\n",
              "      border-top-color: var(--fill-color);\n",
              "    }\n",
              "    60% {\n",
              "      border-color: transparent;\n",
              "      border-right-color: var(--fill-color);\n",
              "    }\n",
              "    80% {\n",
              "      border-color: transparent;\n",
              "      border-right-color: var(--fill-color);\n",
              "      border-bottom-color: var(--fill-color);\n",
              "    }\n",
              "    90% {\n",
              "      border-color: transparent;\n",
              "      border-bottom-color: var(--fill-color);\n",
              "    }\n",
              "  }\n",
              "</style>\n",
              "\n",
              "  <script>\n",
              "    async function quickchart(key) {\n",
              "      const quickchartButtonEl =\n",
              "        document.querySelector('#' + key + ' button');\n",
              "      quickchartButtonEl.disabled = true;  // To prevent multiple clicks.\n",
              "      quickchartButtonEl.classList.add('colab-df-spinner');\n",
              "      try {\n",
              "        const charts = await google.colab.kernel.invokeFunction(\n",
              "            'suggestCharts', [key], {});\n",
              "      } catch (error) {\n",
              "        console.error('Error during call to suggestCharts:', error);\n",
              "      }\n",
              "      quickchartButtonEl.classList.remove('colab-df-spinner');\n",
              "      quickchartButtonEl.classList.add('colab-df-quickchart-complete');\n",
              "    }\n",
              "    (() => {\n",
              "      let quickchartButtonEl =\n",
              "        document.querySelector('#df-f87e3bb4-5066-45c1-af83-d8f9ebafe7b4 button');\n",
              "      quickchartButtonEl.style.display =\n",
              "        google.colab.kernel.accessAllowed ? 'block' : 'none';\n",
              "    })();\n",
              "  </script>\n",
              "</div>\n",
              "    </div>\n",
              "  </div>\n"
            ],
            "application/vnd.google.colaboratory.intrinsic+json": {
              "type": "dataframe",
              "variable_name": "df"
            }
          },
          "metadata": {},
          "execution_count": 11
        }
      ]
    },
    {
      "cell_type": "markdown",
      "source": [
        "Podemos comprobar que se ha puesto en un formato booleano, indicando un True en la fila donde el item se incluye en el registro.\n",
        "\n",
        "Esto se formatea así porque como más tarde se verá lo requiere el método apriori."
      ],
      "metadata": {
        "id": "zRBiHX3zGlIA"
      }
    },
    {
      "cell_type": "markdown",
      "source": [
        "Mostramos las dimensiones del dataframe tras haberlo procesado para poder trabajar en el documento."
      ],
      "metadata": {
        "id": "wVdajeERD-lv"
      }
    },
    {
      "cell_type": "code",
      "source": [
        "df.shape"
      ],
      "metadata": {
        "colab": {
          "base_uri": "https://localhost:8080/"
        },
        "outputId": "7368e3df-5e4f-4571-c3fd-c1b06b6957cd",
        "id": "k104nWKQD-lv"
      },
      "execution_count": null,
      "outputs": [
        {
          "output_type": "execute_result",
          "data": {
            "text/plain": [
              "(7501, 120)"
            ]
          },
          "metadata": {},
          "execution_count": 12
        }
      ]
    },
    {
      "cell_type": "markdown",
      "source": [
        "Vemos que contiene 7501 registros y 120 items distintos."
      ],
      "metadata": {
        "id": "2G3nBwthD-lw"
      }
    },
    {
      "cell_type": "markdown",
      "source": [
        "Ahora mostramos la información sobre los métodos utilizados en python: apriori y association_rules."
      ],
      "metadata": {
        "id": "-qfDJTXJD-lw"
      }
    },
    {
      "cell_type": "markdown",
      "source": [
        "Información de la instrucción para hacer el método apriori."
      ],
      "metadata": {
        "id": "DYegt3ypD-lw"
      }
    },
    {
      "cell_type": "code",
      "source": [
        "help(apriori)"
      ],
      "metadata": {
        "colab": {
          "base_uri": "https://localhost:8080/"
        },
        "outputId": "25bdb7c2-0c7d-47ea-ffd8-2b303b603a51",
        "id": "JDWdo229D-lw"
      },
      "execution_count": null,
      "outputs": [
        {
          "output_type": "stream",
          "name": "stdout",
          "text": [
            "Help on function apriori in module mlxtend.frequent_patterns.apriori:\n",
            "\n",
            "apriori(df, min_support=0.5, use_colnames=False, max_len=None, verbose=0, low_memory=False)\n",
            "    Get frequent itemsets from a one-hot DataFrame\n",
            "    \n",
            "    Parameters\n",
            "    -----------\n",
            "    df : pandas DataFrame\n",
            "      pandas DataFrame the encoded format. Also supports\n",
            "      DataFrames with sparse data; for more info, please\n",
            "      see (https://pandas.pydata.org/pandas-docs/stable/\n",
            "           user_guide/sparse.html#sparse-data-structures)\n",
            "    \n",
            "      Please note that the old pandas SparseDataFrame format\n",
            "      is no longer supported in mlxtend >= 0.17.2.\n",
            "    \n",
            "      The allowed values are either 0/1 or True/False.\n",
            "      For example,\n",
            "    \n",
            "    ```\n",
            "             Apple  Bananas   Beer  Chicken   Milk   Rice\n",
            "        0     True    False   True     True  False   True\n",
            "        1     True    False   True    False  False   True\n",
            "        2     True    False   True    False  False  False\n",
            "        3     True     True  False    False  False  False\n",
            "        4    False    False   True     True   True   True\n",
            "        5    False    False   True    False   True   True\n",
            "        6    False    False   True    False   True  False\n",
            "        7     True     True  False    False  False  False\n",
            "    ```\n",
            "    \n",
            "    min_support : float (default: 0.5)\n",
            "      A float between 0 and 1 for minumum support of the itemsets returned.\n",
            "      The support is computed as the fraction\n",
            "      `transactions_where_item(s)_occur / total_transactions`.\n",
            "    \n",
            "    use_colnames : bool (default: False)\n",
            "      If `True`, uses the DataFrames' column names in the returned DataFrame\n",
            "      instead of column indices.\n",
            "    \n",
            "    max_len : int (default: None)\n",
            "      Maximum length of the itemsets generated. If `None` (default) all\n",
            "      possible itemsets lengths (under the apriori condition) are evaluated.\n",
            "    \n",
            "    verbose : int (default: 0)\n",
            "      Shows the number of iterations if >= 1 and `low_memory` is `True`. If\n",
            "      >=1 and `low_memory` is `False`, shows the number of combinations.\n",
            "    \n",
            "    low_memory : bool (default: False)\n",
            "      If `True`, uses an iterator to search for combinations above\n",
            "      `min_support`.\n",
            "      Note that while `low_memory=True` should only be used for large dataset\n",
            "      if memory resources are limited, because this implementation is approx.\n",
            "      3-6x slower than the default.\n",
            "    \n",
            "    \n",
            "    Returns\n",
            "    -----------\n",
            "    pandas DataFrame with columns ['support', 'itemsets'] of all itemsets\n",
            "      that are >= `min_support` and < than `max_len`\n",
            "      (if `max_len` is not None).\n",
            "      Each itemset in the 'itemsets' column is of type `frozenset`,\n",
            "      which is a Python built-in type that behaves similarly to\n",
            "      sets except that it is immutable\n",
            "      (For more info, see\n",
            "      https://docs.python.org/3.6/library/stdtypes.html#frozenset).\n",
            "    \n",
            "    Examples\n",
            "    -----------\n",
            "    For usage examples, please see\n",
            "    https://rasbt.github.io/mlxtend/user_guide/frequent_patterns/apriori/\n",
            "\n"
          ]
        }
      ]
    },
    {
      "cell_type": "markdown",
      "source": [
        "La función `apriori` de la biblioteca `mlxtend` tiene los siguientes hiperparámetros:\n",
        "\n",
        "- `df`: DataFrame o matriz codificada de manera eficiente que ofrece una representación condensada de los datos de entrada.\n",
        "\n",
        "- `min_support`: Un valor flotante entre 0 y 1 para el soporte mínimo de los itemsets a crear. Por defecto es `0.5`. El soporte es una medida de cuán frecuentemente aparece un itemset en el conjunto de datos.\n",
        "\n",
        "- `use_colnames`: Booleano para indicar si se deben usar los nombres de las columnas de los DataFrames en lugar de las columnas. Por defecto es `False`.\n",
        "\n",
        "- `max_len`: Entero para indicar la longitud máxima de los itemsets generados. Si es `None` (por defecto), se generan todos los itemsets posibles.\n",
        "\n",
        "- `verbose`: Entero para indicar el nivel de detalle que la función debe proporcionar mientras se ejecuta. Por defecto es `0`, lo que significa que no se proporciona ninguna salida."
      ],
      "metadata": {
        "id": "0BgU3vtMD-lw"
      }
    },
    {
      "cell_type": "code",
      "source": [
        "# Generar itemsets frecuentes\n",
        "frequent_itemsets = apriori(df, min_support=0.05, use_colnames=True)"
      ],
      "metadata": {
        "id": "aO4pknn3D-lx"
      },
      "execution_count": null,
      "outputs": []
    },
    {
      "cell_type": "markdown",
      "source": [
        "Mostramos el output que devuelve el método:"
      ],
      "metadata": {
        "id": "_MrqbBfMJ3XS"
      }
    },
    {
      "cell_type": "code",
      "source": [
        "frequent_itemsets"
      ],
      "metadata": {
        "colab": {
          "base_uri": "https://localhost:8080/",
          "height": 917
        },
        "outputId": "3e5ecc96-96c6-476c-bbfd-47992b8e8d81",
        "id": "Owjmi_uaD-lx"
      },
      "execution_count": null,
      "outputs": [
        {
          "output_type": "execute_result",
          "data": {
            "text/plain": [
              "     support                    itemsets\n",
              "0   0.087188                   (burgers)\n",
              "1   0.081056                      (cake)\n",
              "2   0.059992                   (chicken)\n",
              "3   0.163845                 (chocolate)\n",
              "4   0.080389                   (cookies)\n",
              "5   0.051060               (cooking oil)\n",
              "6   0.179709                      (eggs)\n",
              "7   0.079323                  (escalope)\n",
              "8   0.170911              (french fries)\n",
              "9   0.063325           (frozen smoothie)\n",
              "10  0.095321         (frozen vegetables)\n",
              "11  0.052393             (grated cheese)\n",
              "12  0.132116                 (green tea)\n",
              "13  0.098254               (ground beef)\n",
              "14  0.076523            (low fat yogurt)\n",
              "15  0.129583                      (milk)\n",
              "16  0.238368             (mineral water)\n",
              "17  0.065858                 (olive oil)\n",
              "18  0.095054                  (pancakes)\n",
              "19  0.071457                    (shrimp)\n",
              "20  0.050527                      (soup)\n",
              "21  0.174110                 (spaghetti)\n",
              "22  0.068391                  (tomatoes)\n",
              "23  0.062525                    (turkey)\n",
              "24  0.058526          (whole wheat rice)\n",
              "25  0.052660  (mineral water, chocolate)\n",
              "26  0.050927       (mineral water, eggs)\n",
              "27  0.059725  (mineral water, spaghetti)"
            ],
            "text/html": [
              "\n",
              "  <div id=\"df-200a80a6-7e79-4371-bbdb-7de2482a42bf\" class=\"colab-df-container\">\n",
              "    <div>\n",
              "<style scoped>\n",
              "    .dataframe tbody tr th:only-of-type {\n",
              "        vertical-align: middle;\n",
              "    }\n",
              "\n",
              "    .dataframe tbody tr th {\n",
              "        vertical-align: top;\n",
              "    }\n",
              "\n",
              "    .dataframe thead th {\n",
              "        text-align: right;\n",
              "    }\n",
              "</style>\n",
              "<table border=\"1\" class=\"dataframe\">\n",
              "  <thead>\n",
              "    <tr style=\"text-align: right;\">\n",
              "      <th></th>\n",
              "      <th>support</th>\n",
              "      <th>itemsets</th>\n",
              "    </tr>\n",
              "  </thead>\n",
              "  <tbody>\n",
              "    <tr>\n",
              "      <th>0</th>\n",
              "      <td>0.087188</td>\n",
              "      <td>(burgers)</td>\n",
              "    </tr>\n",
              "    <tr>\n",
              "      <th>1</th>\n",
              "      <td>0.081056</td>\n",
              "      <td>(cake)</td>\n",
              "    </tr>\n",
              "    <tr>\n",
              "      <th>2</th>\n",
              "      <td>0.059992</td>\n",
              "      <td>(chicken)</td>\n",
              "    </tr>\n",
              "    <tr>\n",
              "      <th>3</th>\n",
              "      <td>0.163845</td>\n",
              "      <td>(chocolate)</td>\n",
              "    </tr>\n",
              "    <tr>\n",
              "      <th>4</th>\n",
              "      <td>0.080389</td>\n",
              "      <td>(cookies)</td>\n",
              "    </tr>\n",
              "    <tr>\n",
              "      <th>5</th>\n",
              "      <td>0.051060</td>\n",
              "      <td>(cooking oil)</td>\n",
              "    </tr>\n",
              "    <tr>\n",
              "      <th>6</th>\n",
              "      <td>0.179709</td>\n",
              "      <td>(eggs)</td>\n",
              "    </tr>\n",
              "    <tr>\n",
              "      <th>7</th>\n",
              "      <td>0.079323</td>\n",
              "      <td>(escalope)</td>\n",
              "    </tr>\n",
              "    <tr>\n",
              "      <th>8</th>\n",
              "      <td>0.170911</td>\n",
              "      <td>(french fries)</td>\n",
              "    </tr>\n",
              "    <tr>\n",
              "      <th>9</th>\n",
              "      <td>0.063325</td>\n",
              "      <td>(frozen smoothie)</td>\n",
              "    </tr>\n",
              "    <tr>\n",
              "      <th>10</th>\n",
              "      <td>0.095321</td>\n",
              "      <td>(frozen vegetables)</td>\n",
              "    </tr>\n",
              "    <tr>\n",
              "      <th>11</th>\n",
              "      <td>0.052393</td>\n",
              "      <td>(grated cheese)</td>\n",
              "    </tr>\n",
              "    <tr>\n",
              "      <th>12</th>\n",
              "      <td>0.132116</td>\n",
              "      <td>(green tea)</td>\n",
              "    </tr>\n",
              "    <tr>\n",
              "      <th>13</th>\n",
              "      <td>0.098254</td>\n",
              "      <td>(ground beef)</td>\n",
              "    </tr>\n",
              "    <tr>\n",
              "      <th>14</th>\n",
              "      <td>0.076523</td>\n",
              "      <td>(low fat yogurt)</td>\n",
              "    </tr>\n",
              "    <tr>\n",
              "      <th>15</th>\n",
              "      <td>0.129583</td>\n",
              "      <td>(milk)</td>\n",
              "    </tr>\n",
              "    <tr>\n",
              "      <th>16</th>\n",
              "      <td>0.238368</td>\n",
              "      <td>(mineral water)</td>\n",
              "    </tr>\n",
              "    <tr>\n",
              "      <th>17</th>\n",
              "      <td>0.065858</td>\n",
              "      <td>(olive oil)</td>\n",
              "    </tr>\n",
              "    <tr>\n",
              "      <th>18</th>\n",
              "      <td>0.095054</td>\n",
              "      <td>(pancakes)</td>\n",
              "    </tr>\n",
              "    <tr>\n",
              "      <th>19</th>\n",
              "      <td>0.071457</td>\n",
              "      <td>(shrimp)</td>\n",
              "    </tr>\n",
              "    <tr>\n",
              "      <th>20</th>\n",
              "      <td>0.050527</td>\n",
              "      <td>(soup)</td>\n",
              "    </tr>\n",
              "    <tr>\n",
              "      <th>21</th>\n",
              "      <td>0.174110</td>\n",
              "      <td>(spaghetti)</td>\n",
              "    </tr>\n",
              "    <tr>\n",
              "      <th>22</th>\n",
              "      <td>0.068391</td>\n",
              "      <td>(tomatoes)</td>\n",
              "    </tr>\n",
              "    <tr>\n",
              "      <th>23</th>\n",
              "      <td>0.062525</td>\n",
              "      <td>(turkey)</td>\n",
              "    </tr>\n",
              "    <tr>\n",
              "      <th>24</th>\n",
              "      <td>0.058526</td>\n",
              "      <td>(whole wheat rice)</td>\n",
              "    </tr>\n",
              "    <tr>\n",
              "      <th>25</th>\n",
              "      <td>0.052660</td>\n",
              "      <td>(mineral water, chocolate)</td>\n",
              "    </tr>\n",
              "    <tr>\n",
              "      <th>26</th>\n",
              "      <td>0.050927</td>\n",
              "      <td>(mineral water, eggs)</td>\n",
              "    </tr>\n",
              "    <tr>\n",
              "      <th>27</th>\n",
              "      <td>0.059725</td>\n",
              "      <td>(mineral water, spaghetti)</td>\n",
              "    </tr>\n",
              "  </tbody>\n",
              "</table>\n",
              "</div>\n",
              "    <div class=\"colab-df-buttons\">\n",
              "\n",
              "  <div class=\"colab-df-container\">\n",
              "    <button class=\"colab-df-convert\" onclick=\"convertToInteractive('df-200a80a6-7e79-4371-bbdb-7de2482a42bf')\"\n",
              "            title=\"Convert this dataframe to an interactive table.\"\n",
              "            style=\"display:none;\">\n",
              "\n",
              "  <svg xmlns=\"http://www.w3.org/2000/svg\" height=\"24px\" viewBox=\"0 -960 960 960\">\n",
              "    <path d=\"M120-120v-720h720v720H120Zm60-500h600v-160H180v160Zm220 220h160v-160H400v160Zm0 220h160v-160H400v160ZM180-400h160v-160H180v160Zm440 0h160v-160H620v160ZM180-180h160v-160H180v160Zm440 0h160v-160H620v160Z\"/>\n",
              "  </svg>\n",
              "    </button>\n",
              "\n",
              "  <style>\n",
              "    .colab-df-container {\n",
              "      display:flex;\n",
              "      gap: 12px;\n",
              "    }\n",
              "\n",
              "    .colab-df-convert {\n",
              "      background-color: #E8F0FE;\n",
              "      border: none;\n",
              "      border-radius: 50%;\n",
              "      cursor: pointer;\n",
              "      display: none;\n",
              "      fill: #1967D2;\n",
              "      height: 32px;\n",
              "      padding: 0 0 0 0;\n",
              "      width: 32px;\n",
              "    }\n",
              "\n",
              "    .colab-df-convert:hover {\n",
              "      background-color: #E2EBFA;\n",
              "      box-shadow: 0px 1px 2px rgba(60, 64, 67, 0.3), 0px 1px 3px 1px rgba(60, 64, 67, 0.15);\n",
              "      fill: #174EA6;\n",
              "    }\n",
              "\n",
              "    .colab-df-buttons div {\n",
              "      margin-bottom: 4px;\n",
              "    }\n",
              "\n",
              "    [theme=dark] .colab-df-convert {\n",
              "      background-color: #3B4455;\n",
              "      fill: #D2E3FC;\n",
              "    }\n",
              "\n",
              "    [theme=dark] .colab-df-convert:hover {\n",
              "      background-color: #434B5C;\n",
              "      box-shadow: 0px 1px 3px 1px rgba(0, 0, 0, 0.15);\n",
              "      filter: drop-shadow(0px 1px 2px rgba(0, 0, 0, 0.3));\n",
              "      fill: #FFFFFF;\n",
              "    }\n",
              "  </style>\n",
              "\n",
              "    <script>\n",
              "      const buttonEl =\n",
              "        document.querySelector('#df-200a80a6-7e79-4371-bbdb-7de2482a42bf button.colab-df-convert');\n",
              "      buttonEl.style.display =\n",
              "        google.colab.kernel.accessAllowed ? 'block' : 'none';\n",
              "\n",
              "      async function convertToInteractive(key) {\n",
              "        const element = document.querySelector('#df-200a80a6-7e79-4371-bbdb-7de2482a42bf');\n",
              "        const dataTable =\n",
              "          await google.colab.kernel.invokeFunction('convertToInteractive',\n",
              "                                                    [key], {});\n",
              "        if (!dataTable) return;\n",
              "\n",
              "        const docLinkHtml = 'Like what you see? Visit the ' +\n",
              "          '<a target=\"_blank\" href=https://colab.research.google.com/notebooks/data_table.ipynb>data table notebook</a>'\n",
              "          + ' to learn more about interactive tables.';\n",
              "        element.innerHTML = '';\n",
              "        dataTable['output_type'] = 'display_data';\n",
              "        await google.colab.output.renderOutput(dataTable, element);\n",
              "        const docLink = document.createElement('div');\n",
              "        docLink.innerHTML = docLinkHtml;\n",
              "        element.appendChild(docLink);\n",
              "      }\n",
              "    </script>\n",
              "  </div>\n",
              "\n",
              "\n",
              "<div id=\"df-dd2f7a99-b1ed-4015-946d-dc39803ebe68\">\n",
              "  <button class=\"colab-df-quickchart\" onclick=\"quickchart('df-dd2f7a99-b1ed-4015-946d-dc39803ebe68')\"\n",
              "            title=\"Suggest charts\"\n",
              "            style=\"display:none;\">\n",
              "\n",
              "<svg xmlns=\"http://www.w3.org/2000/svg\" height=\"24px\"viewBox=\"0 0 24 24\"\n",
              "     width=\"24px\">\n",
              "    <g>\n",
              "        <path d=\"M19 3H5c-1.1 0-2 .9-2 2v14c0 1.1.9 2 2 2h14c1.1 0 2-.9 2-2V5c0-1.1-.9-2-2-2zM9 17H7v-7h2v7zm4 0h-2V7h2v10zm4 0h-2v-4h2v4z\"/>\n",
              "    </g>\n",
              "</svg>\n",
              "  </button>\n",
              "\n",
              "<style>\n",
              "  .colab-df-quickchart {\n",
              "      --bg-color: #E8F0FE;\n",
              "      --fill-color: #1967D2;\n",
              "      --hover-bg-color: #E2EBFA;\n",
              "      --hover-fill-color: #174EA6;\n",
              "      --disabled-fill-color: #AAA;\n",
              "      --disabled-bg-color: #DDD;\n",
              "  }\n",
              "\n",
              "  [theme=dark] .colab-df-quickchart {\n",
              "      --bg-color: #3B4455;\n",
              "      --fill-color: #D2E3FC;\n",
              "      --hover-bg-color: #434B5C;\n",
              "      --hover-fill-color: #FFFFFF;\n",
              "      --disabled-bg-color: #3B4455;\n",
              "      --disabled-fill-color: #666;\n",
              "  }\n",
              "\n",
              "  .colab-df-quickchart {\n",
              "    background-color: var(--bg-color);\n",
              "    border: none;\n",
              "    border-radius: 50%;\n",
              "    cursor: pointer;\n",
              "    display: none;\n",
              "    fill: var(--fill-color);\n",
              "    height: 32px;\n",
              "    padding: 0;\n",
              "    width: 32px;\n",
              "  }\n",
              "\n",
              "  .colab-df-quickchart:hover {\n",
              "    background-color: var(--hover-bg-color);\n",
              "    box-shadow: 0 1px 2px rgba(60, 64, 67, 0.3), 0 1px 3px 1px rgba(60, 64, 67, 0.15);\n",
              "    fill: var(--button-hover-fill-color);\n",
              "  }\n",
              "\n",
              "  .colab-df-quickchart-complete:disabled,\n",
              "  .colab-df-quickchart-complete:disabled:hover {\n",
              "    background-color: var(--disabled-bg-color);\n",
              "    fill: var(--disabled-fill-color);\n",
              "    box-shadow: none;\n",
              "  }\n",
              "\n",
              "  .colab-df-spinner {\n",
              "    border: 2px solid var(--fill-color);\n",
              "    border-color: transparent;\n",
              "    border-bottom-color: var(--fill-color);\n",
              "    animation:\n",
              "      spin 1s steps(1) infinite;\n",
              "  }\n",
              "\n",
              "  @keyframes spin {\n",
              "    0% {\n",
              "      border-color: transparent;\n",
              "      border-bottom-color: var(--fill-color);\n",
              "      border-left-color: var(--fill-color);\n",
              "    }\n",
              "    20% {\n",
              "      border-color: transparent;\n",
              "      border-left-color: var(--fill-color);\n",
              "      border-top-color: var(--fill-color);\n",
              "    }\n",
              "    30% {\n",
              "      border-color: transparent;\n",
              "      border-left-color: var(--fill-color);\n",
              "      border-top-color: var(--fill-color);\n",
              "      border-right-color: var(--fill-color);\n",
              "    }\n",
              "    40% {\n",
              "      border-color: transparent;\n",
              "      border-right-color: var(--fill-color);\n",
              "      border-top-color: var(--fill-color);\n",
              "    }\n",
              "    60% {\n",
              "      border-color: transparent;\n",
              "      border-right-color: var(--fill-color);\n",
              "    }\n",
              "    80% {\n",
              "      border-color: transparent;\n",
              "      border-right-color: var(--fill-color);\n",
              "      border-bottom-color: var(--fill-color);\n",
              "    }\n",
              "    90% {\n",
              "      border-color: transparent;\n",
              "      border-bottom-color: var(--fill-color);\n",
              "    }\n",
              "  }\n",
              "</style>\n",
              "\n",
              "  <script>\n",
              "    async function quickchart(key) {\n",
              "      const quickchartButtonEl =\n",
              "        document.querySelector('#' + key + ' button');\n",
              "      quickchartButtonEl.disabled = true;  // To prevent multiple clicks.\n",
              "      quickchartButtonEl.classList.add('colab-df-spinner');\n",
              "      try {\n",
              "        const charts = await google.colab.kernel.invokeFunction(\n",
              "            'suggestCharts', [key], {});\n",
              "      } catch (error) {\n",
              "        console.error('Error during call to suggestCharts:', error);\n",
              "      }\n",
              "      quickchartButtonEl.classList.remove('colab-df-spinner');\n",
              "      quickchartButtonEl.classList.add('colab-df-quickchart-complete');\n",
              "    }\n",
              "    (() => {\n",
              "      let quickchartButtonEl =\n",
              "        document.querySelector('#df-dd2f7a99-b1ed-4015-946d-dc39803ebe68 button');\n",
              "      quickchartButtonEl.style.display =\n",
              "        google.colab.kernel.accessAllowed ? 'block' : 'none';\n",
              "    })();\n",
              "  </script>\n",
              "</div>\n",
              "    </div>\n",
              "  </div>\n"
            ],
            "application/vnd.google.colaboratory.intrinsic+json": {
              "type": "dataframe",
              "variable_name": "frequent_itemsets",
              "summary": "{\n  \"name\": \"frequent_itemsets\",\n  \"rows\": 28,\n  \"fields\": [\n    {\n      \"column\": \"support\",\n      \"properties\": {\n        \"dtype\": \"number\",\n        \"std\": 0.0492745776776461,\n        \"min\": 0.05052659645380616,\n        \"max\": 0.23836821757099053,\n        \"num_unique_values\": 28,\n        \"samples\": [\n          0.06332489001466471,\n          0.05265964538061592,\n          0.1709105452606319\n        ],\n        \"semantic_type\": \"\",\n        \"description\": \"\"\n      }\n    },\n    {\n      \"column\": \"itemsets\",\n      \"properties\": {\n        \"dtype\": \"string\",\n        \"num_unique_values\": 28,\n        \"samples\": [\n          \"frozenset({'frozen smoothie'})\",\n          \"frozenset({'mineral water', 'chocolate'})\",\n          \"frozenset({'french fries'})\"\n        ],\n        \"semantic_type\": \"\",\n        \"description\": \"\"\n      }\n    }\n  ]\n}"
            }
          },
          "metadata": {},
          "execution_count": 15
        }
      ]
    },
    {
      "cell_type": "markdown",
      "source": [
        "Mostramos los items más vendidos:"
      ],
      "metadata": {
        "id": "yfXdvBpFKwuD"
      }
    },
    {
      "cell_type": "code",
      "source": [
        "print(frequent_itemsets[frequent_itemsets['support'] > 0.1])"
      ],
      "metadata": {
        "colab": {
          "base_uri": "https://localhost:8080/"
        },
        "id": "6OoZWD5lKzLc",
        "outputId": "e65c7727-5ec3-48e1-8a9d-ea2c6fea12dd"
      },
      "execution_count": null,
      "outputs": [
        {
          "output_type": "stream",
          "name": "stdout",
          "text": [
            "     support         itemsets\n",
            "3   0.163845      (chocolate)\n",
            "6   0.179709           (eggs)\n",
            "8   0.170911   (french fries)\n",
            "12  0.132116      (green tea)\n",
            "15  0.129583           (milk)\n",
            "16  0.238368  (mineral water)\n",
            "21  0.174110      (spaghetti)\n"
          ]
        }
      ]
    },
    {
      "cell_type": "markdown",
      "source": [
        "Información de la instrucción para formar reglas:"
      ],
      "metadata": {
        "id": "nK8-Ps7FD-lx"
      }
    },
    {
      "cell_type": "code",
      "source": [
        "help(association_rules)"
      ],
      "metadata": {
        "colab": {
          "base_uri": "https://localhost:8080/"
        },
        "outputId": "556fda1e-ffc9-42b3-e5f0-5593c09f902b",
        "id": "aej_J_JYD-ly"
      },
      "execution_count": null,
      "outputs": [
        {
          "output_type": "stream",
          "name": "stdout",
          "text": [
            "Help on function association_rules in module mlxtend.frequent_patterns.association_rules:\n",
            "\n",
            "association_rules(df, metric='confidence', min_threshold=0.8, support_only=False)\n",
            "    Generates a DataFrame of association rules including the\n",
            "    metrics 'score', 'confidence', and 'lift'\n",
            "    \n",
            "    Parameters\n",
            "    -----------\n",
            "    df : pandas DataFrame\n",
            "      pandas DataFrame of frequent itemsets\n",
            "      with columns ['support', 'itemsets']\n",
            "    \n",
            "    metric : string (default: 'confidence')\n",
            "      Metric to evaluate if a rule is of interest.\n",
            "      **Automatically set to 'support' if `support_only=True`.**\n",
            "      Otherwise, supported metrics are 'support', 'confidence', 'lift',\n",
            "      'leverage', 'conviction' and 'zhangs_metric'\n",
            "      These metrics are computed as follows:\n",
            "    \n",
            "      - support(A->C) = support(A+C) [aka 'support'], range: [0, 1]\n",
            "    \n",
            "      - confidence(A->C) = support(A+C) / support(A), range: [0, 1]\n",
            "    \n",
            "      - lift(A->C) = confidence(A->C) / support(C), range: [0, inf]\n",
            "    \n",
            "      - leverage(A->C) = support(A->C) - support(A)*support(C),\n",
            "        range: [-1, 1]\n",
            "    \n",
            "      - conviction = [1 - support(C)] / [1 - confidence(A->C)],\n",
            "        range: [0, inf]\n",
            "    \n",
            "      - zhangs_metric(A->C) =\n",
            "        leverage(A->C) / max(support(A->C)*(1-support(A)), support(A)*(support(C)-support(A->C)))\n",
            "        range: [-1,1]\n",
            "    \n",
            "    \n",
            "    min_threshold : float (default: 0.8)\n",
            "      Minimal threshold for the evaluation metric,\n",
            "      via the `metric` parameter,\n",
            "      to decide whether a candidate rule is of interest.\n",
            "    \n",
            "    support_only : bool (default: False)\n",
            "      Only computes the rule support and fills the other\n",
            "      metric columns with NaNs. This is useful if:\n",
            "    \n",
            "      a) the input DataFrame is incomplete, e.g., does\n",
            "      not contain support values for all rule antecedents\n",
            "      and consequents\n",
            "    \n",
            "      b) you simply want to speed up the computation because\n",
            "      you don't need the other metrics.\n",
            "    \n",
            "    Returns\n",
            "    ----------\n",
            "    pandas DataFrame with columns \"antecedents\" and \"consequents\"\n",
            "      that store itemsets, plus the scoring metric columns:\n",
            "      \"antecedent support\", \"consequent support\",\n",
            "      \"support\", \"confidence\", \"lift\",\n",
            "      \"leverage\", \"conviction\"\n",
            "      of all rules for which\n",
            "      metric(rule) >= min_threshold.\n",
            "      Each entry in the \"antecedents\" and \"consequents\" columns are\n",
            "      of type `frozenset`, which is a Python built-in type that\n",
            "      behaves similarly to sets except that it is immutable\n",
            "      (For more info, see\n",
            "      https://docs.python.org/3.6/library/stdtypes.html#frozenset).\n",
            "    \n",
            "    Examples\n",
            "    -----------\n",
            "    For usage examples, please see\n",
            "    https://rasbt.github.io/mlxtend/user_guide/frequent_patterns/association_rules/\n",
            "\n"
          ]
        }
      ]
    },
    {
      "cell_type": "markdown",
      "source": [
        "La función `association_rules` de la biblioteca `mlxtend` tiene los siguientes hiperparámetros:\n",
        "\n",
        "- `df` (DataFrame): DataFrame de los itemsets frecuentes generados por la función `apriori`.\n",
        "\n",
        "- `metric` (str): Métrica a utilizar para la selección de reglas. Las opciones disponibles son \"support\", \"confidence\", \"lift\", \"leverage\" y \"conviction\". Estas métricas son medidas de la \"interesanteza\" o \"calidad\" de las reglas de asociación.\n",
        "\n",
        "- `min_threshold` (float): El valor mínimo para la métrica especificada. Solo las reglas que tienen una métrica mayor o igual a este umbral son seleccionadas.\n",
        "\n",
        "- `support_only` (bool): Un parámetro opcional que, si se establece en True, la función `association_rules` solo calculará el soporte y devolverá las reglas de asociación sin calcular ninguna otra métrica²."
      ],
      "metadata": {
        "id": "fbPsG2GGD-ly"
      }
    },
    {
      "cell_type": "code",
      "source": [
        "frequent_itemsets = apriori(df, min_support=0.01, use_colnames=True)\n",
        "# Generar reglas de asociación\n",
        "rules = association_rules(frequent_itemsets, metric=\"confidence\", min_threshold=0.5)"
      ],
      "metadata": {
        "id": "UVFqJpe7D-ly"
      },
      "execution_count": null,
      "outputs": []
    },
    {
      "cell_type": "markdown",
      "source": [
        "Mostramos el output:"
      ],
      "metadata": {
        "id": "o94JRxemLLs6"
      }
    },
    {
      "cell_type": "code",
      "source": [
        "rules"
      ],
      "metadata": {
        "colab": {
          "base_uri": "https://localhost:8080/",
          "height": 111
        },
        "outputId": "a0180395-0ead-438b-8aba-4aa90d95fadc",
        "id": "eIRsZu_HD-lz"
      },
      "execution_count": null,
      "outputs": [
        {
          "output_type": "execute_result",
          "data": {
            "text/plain": [
              "           antecedents      consequents  antecedent support  \\\n",
              "0  (ground beef, eggs)  (mineral water)            0.019997   \n",
              "1  (ground beef, milk)  (mineral water)            0.021997   \n",
              "\n",
              "   consequent support   support  confidence      lift  leverage  conviction  \\\n",
              "0            0.238368  0.010132    0.506667  2.125563  0.005365    1.543848   \n",
              "1            0.238368  0.011065    0.503030  2.110308  0.005822    1.532552   \n",
              "\n",
              "   zhangs_metric  \n",
              "0       0.540342  \n",
              "1       0.537969  "
            ],
            "text/html": [
              "\n",
              "  <div id=\"df-840730b2-3206-4215-94ee-9923f7627402\" class=\"colab-df-container\">\n",
              "    <div>\n",
              "<style scoped>\n",
              "    .dataframe tbody tr th:only-of-type {\n",
              "        vertical-align: middle;\n",
              "    }\n",
              "\n",
              "    .dataframe tbody tr th {\n",
              "        vertical-align: top;\n",
              "    }\n",
              "\n",
              "    .dataframe thead th {\n",
              "        text-align: right;\n",
              "    }\n",
              "</style>\n",
              "<table border=\"1\" class=\"dataframe\">\n",
              "  <thead>\n",
              "    <tr style=\"text-align: right;\">\n",
              "      <th></th>\n",
              "      <th>antecedents</th>\n",
              "      <th>consequents</th>\n",
              "      <th>antecedent support</th>\n",
              "      <th>consequent support</th>\n",
              "      <th>support</th>\n",
              "      <th>confidence</th>\n",
              "      <th>lift</th>\n",
              "      <th>leverage</th>\n",
              "      <th>conviction</th>\n",
              "      <th>zhangs_metric</th>\n",
              "    </tr>\n",
              "  </thead>\n",
              "  <tbody>\n",
              "    <tr>\n",
              "      <th>0</th>\n",
              "      <td>(ground beef, eggs)</td>\n",
              "      <td>(mineral water)</td>\n",
              "      <td>0.019997</td>\n",
              "      <td>0.238368</td>\n",
              "      <td>0.010132</td>\n",
              "      <td>0.506667</td>\n",
              "      <td>2.125563</td>\n",
              "      <td>0.005365</td>\n",
              "      <td>1.543848</td>\n",
              "      <td>0.540342</td>\n",
              "    </tr>\n",
              "    <tr>\n",
              "      <th>1</th>\n",
              "      <td>(ground beef, milk)</td>\n",
              "      <td>(mineral water)</td>\n",
              "      <td>0.021997</td>\n",
              "      <td>0.238368</td>\n",
              "      <td>0.011065</td>\n",
              "      <td>0.503030</td>\n",
              "      <td>2.110308</td>\n",
              "      <td>0.005822</td>\n",
              "      <td>1.532552</td>\n",
              "      <td>0.537969</td>\n",
              "    </tr>\n",
              "  </tbody>\n",
              "</table>\n",
              "</div>\n",
              "    <div class=\"colab-df-buttons\">\n",
              "\n",
              "  <div class=\"colab-df-container\">\n",
              "    <button class=\"colab-df-convert\" onclick=\"convertToInteractive('df-840730b2-3206-4215-94ee-9923f7627402')\"\n",
              "            title=\"Convert this dataframe to an interactive table.\"\n",
              "            style=\"display:none;\">\n",
              "\n",
              "  <svg xmlns=\"http://www.w3.org/2000/svg\" height=\"24px\" viewBox=\"0 -960 960 960\">\n",
              "    <path d=\"M120-120v-720h720v720H120Zm60-500h600v-160H180v160Zm220 220h160v-160H400v160Zm0 220h160v-160H400v160ZM180-400h160v-160H180v160Zm440 0h160v-160H620v160ZM180-180h160v-160H180v160Zm440 0h160v-160H620v160Z\"/>\n",
              "  </svg>\n",
              "    </button>\n",
              "\n",
              "  <style>\n",
              "    .colab-df-container {\n",
              "      display:flex;\n",
              "      gap: 12px;\n",
              "    }\n",
              "\n",
              "    .colab-df-convert {\n",
              "      background-color: #E8F0FE;\n",
              "      border: none;\n",
              "      border-radius: 50%;\n",
              "      cursor: pointer;\n",
              "      display: none;\n",
              "      fill: #1967D2;\n",
              "      height: 32px;\n",
              "      padding: 0 0 0 0;\n",
              "      width: 32px;\n",
              "    }\n",
              "\n",
              "    .colab-df-convert:hover {\n",
              "      background-color: #E2EBFA;\n",
              "      box-shadow: 0px 1px 2px rgba(60, 64, 67, 0.3), 0px 1px 3px 1px rgba(60, 64, 67, 0.15);\n",
              "      fill: #174EA6;\n",
              "    }\n",
              "\n",
              "    .colab-df-buttons div {\n",
              "      margin-bottom: 4px;\n",
              "    }\n",
              "\n",
              "    [theme=dark] .colab-df-convert {\n",
              "      background-color: #3B4455;\n",
              "      fill: #D2E3FC;\n",
              "    }\n",
              "\n",
              "    [theme=dark] .colab-df-convert:hover {\n",
              "      background-color: #434B5C;\n",
              "      box-shadow: 0px 1px 3px 1px rgba(0, 0, 0, 0.15);\n",
              "      filter: drop-shadow(0px 1px 2px rgba(0, 0, 0, 0.3));\n",
              "      fill: #FFFFFF;\n",
              "    }\n",
              "  </style>\n",
              "\n",
              "    <script>\n",
              "      const buttonEl =\n",
              "        document.querySelector('#df-840730b2-3206-4215-94ee-9923f7627402 button.colab-df-convert');\n",
              "      buttonEl.style.display =\n",
              "        google.colab.kernel.accessAllowed ? 'block' : 'none';\n",
              "\n",
              "      async function convertToInteractive(key) {\n",
              "        const element = document.querySelector('#df-840730b2-3206-4215-94ee-9923f7627402');\n",
              "        const dataTable =\n",
              "          await google.colab.kernel.invokeFunction('convertToInteractive',\n",
              "                                                    [key], {});\n",
              "        if (!dataTable) return;\n",
              "\n",
              "        const docLinkHtml = 'Like what you see? Visit the ' +\n",
              "          '<a target=\"_blank\" href=https://colab.research.google.com/notebooks/data_table.ipynb>data table notebook</a>'\n",
              "          + ' to learn more about interactive tables.';\n",
              "        element.innerHTML = '';\n",
              "        dataTable['output_type'] = 'display_data';\n",
              "        await google.colab.output.renderOutput(dataTable, element);\n",
              "        const docLink = document.createElement('div');\n",
              "        docLink.innerHTML = docLinkHtml;\n",
              "        element.appendChild(docLink);\n",
              "      }\n",
              "    </script>\n",
              "  </div>\n",
              "\n",
              "\n",
              "<div id=\"df-ec785dfb-ee6b-476f-8642-8915eb48d754\">\n",
              "  <button class=\"colab-df-quickchart\" onclick=\"quickchart('df-ec785dfb-ee6b-476f-8642-8915eb48d754')\"\n",
              "            title=\"Suggest charts\"\n",
              "            style=\"display:none;\">\n",
              "\n",
              "<svg xmlns=\"http://www.w3.org/2000/svg\" height=\"24px\"viewBox=\"0 0 24 24\"\n",
              "     width=\"24px\">\n",
              "    <g>\n",
              "        <path d=\"M19 3H5c-1.1 0-2 .9-2 2v14c0 1.1.9 2 2 2h14c1.1 0 2-.9 2-2V5c0-1.1-.9-2-2-2zM9 17H7v-7h2v7zm4 0h-2V7h2v10zm4 0h-2v-4h2v4z\"/>\n",
              "    </g>\n",
              "</svg>\n",
              "  </button>\n",
              "\n",
              "<style>\n",
              "  .colab-df-quickchart {\n",
              "      --bg-color: #E8F0FE;\n",
              "      --fill-color: #1967D2;\n",
              "      --hover-bg-color: #E2EBFA;\n",
              "      --hover-fill-color: #174EA6;\n",
              "      --disabled-fill-color: #AAA;\n",
              "      --disabled-bg-color: #DDD;\n",
              "  }\n",
              "\n",
              "  [theme=dark] .colab-df-quickchart {\n",
              "      --bg-color: #3B4455;\n",
              "      --fill-color: #D2E3FC;\n",
              "      --hover-bg-color: #434B5C;\n",
              "      --hover-fill-color: #FFFFFF;\n",
              "      --disabled-bg-color: #3B4455;\n",
              "      --disabled-fill-color: #666;\n",
              "  }\n",
              "\n",
              "  .colab-df-quickchart {\n",
              "    background-color: var(--bg-color);\n",
              "    border: none;\n",
              "    border-radius: 50%;\n",
              "    cursor: pointer;\n",
              "    display: none;\n",
              "    fill: var(--fill-color);\n",
              "    height: 32px;\n",
              "    padding: 0;\n",
              "    width: 32px;\n",
              "  }\n",
              "\n",
              "  .colab-df-quickchart:hover {\n",
              "    background-color: var(--hover-bg-color);\n",
              "    box-shadow: 0 1px 2px rgba(60, 64, 67, 0.3), 0 1px 3px 1px rgba(60, 64, 67, 0.15);\n",
              "    fill: var(--button-hover-fill-color);\n",
              "  }\n",
              "\n",
              "  .colab-df-quickchart-complete:disabled,\n",
              "  .colab-df-quickchart-complete:disabled:hover {\n",
              "    background-color: var(--disabled-bg-color);\n",
              "    fill: var(--disabled-fill-color);\n",
              "    box-shadow: none;\n",
              "  }\n",
              "\n",
              "  .colab-df-spinner {\n",
              "    border: 2px solid var(--fill-color);\n",
              "    border-color: transparent;\n",
              "    border-bottom-color: var(--fill-color);\n",
              "    animation:\n",
              "      spin 1s steps(1) infinite;\n",
              "  }\n",
              "\n",
              "  @keyframes spin {\n",
              "    0% {\n",
              "      border-color: transparent;\n",
              "      border-bottom-color: var(--fill-color);\n",
              "      border-left-color: var(--fill-color);\n",
              "    }\n",
              "    20% {\n",
              "      border-color: transparent;\n",
              "      border-left-color: var(--fill-color);\n",
              "      border-top-color: var(--fill-color);\n",
              "    }\n",
              "    30% {\n",
              "      border-color: transparent;\n",
              "      border-left-color: var(--fill-color);\n",
              "      border-top-color: var(--fill-color);\n",
              "      border-right-color: var(--fill-color);\n",
              "    }\n",
              "    40% {\n",
              "      border-color: transparent;\n",
              "      border-right-color: var(--fill-color);\n",
              "      border-top-color: var(--fill-color);\n",
              "    }\n",
              "    60% {\n",
              "      border-color: transparent;\n",
              "      border-right-color: var(--fill-color);\n",
              "    }\n",
              "    80% {\n",
              "      border-color: transparent;\n",
              "      border-right-color: var(--fill-color);\n",
              "      border-bottom-color: var(--fill-color);\n",
              "    }\n",
              "    90% {\n",
              "      border-color: transparent;\n",
              "      border-bottom-color: var(--fill-color);\n",
              "    }\n",
              "  }\n",
              "</style>\n",
              "\n",
              "  <script>\n",
              "    async function quickchart(key) {\n",
              "      const quickchartButtonEl =\n",
              "        document.querySelector('#' + key + ' button');\n",
              "      quickchartButtonEl.disabled = true;  // To prevent multiple clicks.\n",
              "      quickchartButtonEl.classList.add('colab-df-spinner');\n",
              "      try {\n",
              "        const charts = await google.colab.kernel.invokeFunction(\n",
              "            'suggestCharts', [key], {});\n",
              "      } catch (error) {\n",
              "        console.error('Error during call to suggestCharts:', error);\n",
              "      }\n",
              "      quickchartButtonEl.classList.remove('colab-df-spinner');\n",
              "      quickchartButtonEl.classList.add('colab-df-quickchart-complete');\n",
              "    }\n",
              "    (() => {\n",
              "      let quickchartButtonEl =\n",
              "        document.querySelector('#df-ec785dfb-ee6b-476f-8642-8915eb48d754 button');\n",
              "      quickchartButtonEl.style.display =\n",
              "        google.colab.kernel.accessAllowed ? 'block' : 'none';\n",
              "    })();\n",
              "  </script>\n",
              "</div>\n",
              "    </div>\n",
              "  </div>\n"
            ],
            "application/vnd.google.colaboratory.intrinsic+json": {
              "type": "dataframe",
              "variable_name": "rules",
              "summary": "{\n  \"name\": \"rules\",\n  \"rows\": 2,\n  \"fields\": [\n    {\n      \"column\": \"antecedents\",\n      \"properties\": {\n        \"dtype\": \"string\",\n        \"num_unique_values\": 2,\n        \"samples\": [\n          \"frozenset({'ground beef', 'milk'})\",\n          \"frozenset({'ground beef', 'eggs'})\"\n        ],\n        \"semantic_type\": \"\",\n        \"description\": \"\"\n      }\n    },\n    {\n      \"column\": \"consequents\",\n      \"properties\": {\n        \"dtype\": \"string\",\n        \"num_unique_values\": 1,\n        \"samples\": [\n          \"frozenset({'mineral water'})\"\n        ],\n        \"semantic_type\": \"\",\n        \"description\": \"\"\n      }\n    },\n    {\n      \"column\": \"antecedent support\",\n      \"properties\": {\n        \"dtype\": \"number\",\n        \"std\": 0.0014140250257030015,\n        \"min\": 0.019997333688841486,\n        \"max\": 0.021997067057725635,\n        \"num_unique_values\": 2,\n        \"samples\": [\n          0.021997067057725635\n        ],\n        \"semantic_type\": \"\",\n        \"description\": \"\"\n      }\n    },\n    {\n      \"column\": \"consequent support\",\n      \"properties\": {\n        \"dtype\": \"number\",\n        \"std\": 0.0,\n        \"min\": 0.23836821757099053,\n        \"max\": 0.23836821757099053,\n        \"num_unique_values\": 1,\n        \"samples\": [\n          0.23836821757099053\n        ],\n        \"semantic_type\": \"\",\n        \"description\": \"\"\n      }\n    },\n    {\n      \"column\": \"support\",\n      \"properties\": {\n        \"dtype\": \"number\",\n        \"std\": 0.0006598783453280672,\n        \"min\": 0.010131982402346354,\n        \"max\": 0.011065191307825623,\n        \"num_unique_values\": 2,\n        \"samples\": [\n          0.011065191307825623\n        ],\n        \"semantic_type\": \"\",\n        \"description\": \"\"\n      }\n    },\n    {\n      \"column\": \"confidence\",\n      \"properties\": {\n        \"dtype\": \"number\",\n        \"std\": 0.0025712973861329166,\n        \"min\": 0.503030303030303,\n        \"max\": 0.5066666666666667,\n        \"num_unique_values\": 2,\n        \"samples\": [\n          0.503030303030303\n        ],\n        \"semantic_type\": \"\",\n        \"description\": \"\"\n      }\n    },\n    {\n      \"column\": \"lift\",\n      \"properties\": {\n        \"dtype\": \"number\",\n        \"std\": 0.010787081483994976,\n        \"min\": 2.1103077757440176,\n        \"max\": 2.125563012677107,\n        \"num_unique_values\": 2,\n        \"samples\": [\n          2.1103077757440176\n        ],\n        \"semantic_type\": \"\",\n        \"description\": \"\"\n      }\n    },\n    {\n      \"column\": \"leverage\",\n      \"properties\": {\n        \"dtype\": \"number\",\n        \"std\": 0.0003228197203504684,\n        \"min\": 0.005365253614764888,\n        \"max\": 0.00582178964148601,\n        \"num_unique_values\": 2,\n        \"samples\": [\n          0.00582178964148601\n        ],\n        \"semantic_type\": \"\",\n        \"description\": \"\"\n      }\n    },\n    {\n      \"column\": \"conviction\",\n      \"properties\": {\n        \"dtype\": \"number\",\n        \"std\": 0.007987796610258406,\n        \"min\": 1.5325517573266656,\n        \"max\": 1.5438482076263709,\n        \"num_unique_values\": 2,\n        \"samples\": [\n          1.5325517573266656\n        ],\n        \"semantic_type\": \"\",\n        \"description\": \"\"\n      }\n    },\n    {\n      \"column\": \"zhangs_metric\",\n      \"properties\": {\n        \"dtype\": \"number\",\n        \"std\": 0.0016776759760728354,\n        \"min\": 0.537969216013454,\n        \"max\": 0.5403418081320838,\n        \"num_unique_values\": 2,\n        \"samples\": [\n          0.537969216013454\n        ],\n        \"semantic_type\": \"\",\n        \"description\": \"\"\n      }\n    }\n  ]\n}"
            }
          },
          "metadata": {},
          "execution_count": 19
        }
      ]
    },
    {
      "cell_type": "markdown",
      "source": [
        "Vemos que tiene distintas métricas, a continuación explicamos cada una de ellas para utilizarlas más adelante:"
      ],
      "metadata": {
        "id": "YXDB4izSE1n4"
      }
    },
    {
      "cell_type": "markdown",
      "source": [
        "\n",
        "1. **Antecedent Support**: Es la proporción de transacciones que contienen el antecedente.\n",
        "   $$ \\text{Antecedent Support} = \\frac{\\text{Número de transacciones con antecedente}}{\\text{Número total de transacciones}} $$\n",
        "\n",
        "2. **Consequent Support**: Es la proporción de transacciones que contienen el consequent.\n",
        "   $$ \\text{Consequent Support} = \\frac{\\text{Número de transacciones con consequent}}{\\text{Número total de transacciones}} $$\n",
        "\n",
        "3. **Support**: Es la proporción de transacciones que contienen tanto el antecedente como el consequent. Mide la frecuencia relativa de la regla en el conjunto de datos.\n",
        "   $$ \\text{Support} = \\frac{\\text{Número de transacciones con antecedente y consequent}}{\\text{Número total de transacciones}} $$\n",
        "\n",
        "4. **Confidence**: Es la probabilidad condicional de que el consecuente ocurra dado el antecedente. Se calcula como el soporte de la regla dividido por el soporte del antecedente.\n",
        "   $$ \\text{Confidence} = \\frac{\\text{Support}(\\text{Antecedent} \\rightarrow \\text{Consequent})}{\\text{Support}(\\text{Antecedent})} $$\n",
        "\n",
        "5. **Lift**: Indica cuánto más probable es que ocurra el consecuente dado el antecedente en comparación con si fueran eventos independientes. Lift igual a 1 implica independencia, mientras que lift mayor que 1 indica asociación positiva.\n",
        "   $$ \\text{Lift} = \\frac{\\text{Support}(\\text{Antecedent} \\rightarrow \\text{Consequent})}{\\text{Support}(\\text{Antecedent}) \\times \\text{Support}(\\text{Consequent})} $$\n",
        "\n",
        "6. **Leverage**: Mide la diferencia entre la frecuencia observada de la regla y la frecuencia esperada si los antecedentes y los consecuentes fueran independientes. Un valor positivo indica una contribución positiva a la asociación.\n",
        "   $$ \\text{Leverage} = \\text{Support}(\\text{Antecedent} \\rightarrow \\text{Consequent}) - \\text{Support}(\\text{Antecedent}) \\times \\text{Support}(\\text{Consequent}) $$\n",
        "\n",
        "7. **Conviction**: Mide la asimetría en la dependencia entre antecedentes y consecuentes. Valores mayores que 1 indican fuerte dependencia.\n",
        "   $$ \\text{Conviction} = \\frac{1 - \\text{Support}(\\text{Consequent})}{1 - \\text{Confidence}(\\text{Antecedent} \\rightarrow \\text{Consequent})}$$\n",
        "\n",
        "8. **Zhang's Metric**: Es una métrica adicional que cuantifica la fuerza de la relación entre antecedentes y consecuentes. Es otra medida de la dependencia entre ellos. Esta métrica toma valores en el rango de -1 a 1. Un valor de 1 indica una asociación positiva perfecta, un valor de -1 indica una asociación negativa perfecta, y un valor de 0 indica independencia.\n",
        "\n",
        "   $$ \\text{Zhang's Metric =}=\\frac{\\text{Support}(\\text{Antecedent} \\rightarrow \\text{Consequent}) - \\text{Support}(\\text{Antecedent}) \\times \\text{Support}(\\text{Consequent})}{\\max \\left[ \\text{Support}(\\text{Antecedent}) \\times (1 - \\text{Support}(\\text{Consequent})), \\text{Support}(\\text{Consequent}) \\times (1 - \\text{Support}(\\text{Antecedent})) \\right]} $$"
      ],
      "metadata": {
        "id": "nN4g2I1VD-l0"
      }
    },
    {
      "cell_type": "markdown",
      "source": [
        "Ahora repetimos el proceso, pero explicamos como se pide en el ejercicio paso a paso. Para poder llegar a valor de k más altos se ha seleccionado un soporte bajo.\n",
        "\n",
        "Comenzamos seleccionado los itemsets frecuentes para el soporte = 0.001 (0.1%) y calculando las reglas con una confianza de 0.3. En este caso las métricas no son relevantes, solo tratan de ilustrar el proceso seguido."
      ],
      "metadata": {
        "id": "PXG_dAOuD-l0"
      }
    },
    {
      "cell_type": "code",
      "source": [
        "# Obtener itemsets frecuentes\n",
        "frequent_itemsets_bajo = apriori(df, min_support=0.001, use_colnames=True)\n",
        "\n",
        "# Mostrar reglas con diferentes configuraciones\n",
        "rules = association_rules(frequent_itemsets_bajo, metric=\"confidence\",\n",
        "                                     min_threshold=0.3)"
      ],
      "metadata": {
        "id": "KQNDUGtQD-l0"
      },
      "execution_count": null,
      "outputs": []
    },
    {
      "cell_type": "markdown",
      "source": [
        "Mostramos los itemsets para k = 1 que son frecuentes con el soporte elegido habiendo utilizado el método apriori."
      ],
      "metadata": {
        "id": "e_ifheguD-l1"
      }
    },
    {
      "cell_type": "code",
      "source": [
        "frequent_itemsets_1 = frequent_itemsets_bajo[frequent_itemsets_bajo['itemsets'].apply(lambda x: len(x)) == 1]\n",
        "\n",
        "print('\\n -> Itemsets de longitud 1 frecuentes:\\n')\n",
        "print(frequent_itemsets_1)"
      ],
      "metadata": {
        "colab": {
          "base_uri": "https://localhost:8080/"
        },
        "outputId": "5701e750-606b-4afe-e8ec-b02c8454d9cf",
        "id": "dWFmvT1SD-l1"
      },
      "execution_count": null,
      "outputs": [
        {
          "output_type": "stream",
          "name": "stdout",
          "text": [
            "\n",
            " -> Itemsets de longitud 1 frecuentes:\n",
            "\n",
            "      support             itemsets\n",
            "0    0.020397            (almonds)\n",
            "1    0.008932  (antioxydant juice)\n",
            "2    0.004666          (asparagus)\n",
            "3    0.033329            (avocado)\n",
            "4    0.004533        (babies food)\n",
            "..        ...                  ...\n",
            "111  0.029463  (whole wheat pasta)\n",
            "112  0.058526   (whole wheat rice)\n",
            "113  0.011465               (yams)\n",
            "114  0.027330        (yogurt cake)\n",
            "115  0.009465           (zucchini)\n",
            "\n",
            "[116 rows x 2 columns]\n"
          ]
        }
      ]
    },
    {
      "cell_type": "markdown",
      "source": [
        "En total 115 items han salido frecuentes de los 120 totales que contiene la muestra."
      ],
      "metadata": {
        "id": "s-A2NkfCD-l1"
      }
    },
    {
      "cell_type": "markdown",
      "source": [
        "Mostramos las reglas obtenidas para los itemsets de k = 2"
      ],
      "metadata": {
        "id": "I2TQl5TgD-l1"
      }
    },
    {
      "cell_type": "code",
      "source": [
        "rules_2 = rules[rules.apply(lambda row: len(row['antecedents']) + len(row['consequents']), axis=1) == 2]\n",
        "\n",
        "print('\\n -> Reglas con itemsets de longitud 2:\\n')\n",
        "print(rules_2[['antecedents', 'consequents', 'confidence', 'lift']])"
      ],
      "metadata": {
        "colab": {
          "base_uri": "https://localhost:8080/"
        },
        "outputId": "2cac4a98-032e-499a-ee2d-9a5889c489ed",
        "id": "oTzmeNkTD-l2"
      },
      "execution_count": null,
      "outputs": [
        {
          "output_type": "stream",
          "name": "stdout",
          "text": [
            "\n",
            " -> Reglas con itemsets de longitud 2:\n",
            "\n",
            "         antecedents      consequents  confidence      lift\n",
            "0          (almonds)           (eggs)    0.320261  1.782108\n",
            "1          (almonds)  (mineral water)    0.372549  1.562914\n",
            "2        (asparagus)  (mineral water)    0.457143  1.917801\n",
            "3          (avocado)  (mineral water)    0.348000  1.459926\n",
            "4      (babies food)      (chocolate)    0.382353  2.333628\n",
            "..               ...              ...         ...       ...\n",
            "136  (strong cheese)      (spaghetti)    0.482759  2.772720\n",
            "137            (tea)      (spaghetti)    0.379310  2.178566\n",
            "138   (tomato sauce)      (spaghetti)    0.443396  2.546642\n",
            "139       (tomatoes)      (spaghetti)    0.306043  1.757755\n",
            "140       (zucchini)      (spaghetti)    0.323944  1.860568\n",
            "\n",
            "[141 rows x 4 columns]\n"
          ]
        }
      ]
    },
    {
      "cell_type": "markdown",
      "source": [
        "Mostramos las reglas obtenidas para los itemsets de k = 3"
      ],
      "metadata": {
        "id": "sfUzqPSvD-l2"
      }
    },
    {
      "cell_type": "code",
      "source": [
        "rules_3 = rules[rules.apply(lambda row: len(row['antecedents']) + len(row['consequents']), axis=1) == 3]\n",
        "\n",
        "print('\\n -> Reglas con itemsets de longitud 3:\\n')\n",
        "print(rules_3[['antecedents', 'consequents', 'confidence', 'lift']])"
      ],
      "metadata": {
        "colab": {
          "base_uri": "https://localhost:8080/"
        },
        "outputId": "9f94eb6a-e505-4f87-8a59-c6ae0df291f3",
        "id": "3NX8_dU3D-l2"
      },
      "execution_count": null,
      "outputs": [
        {
          "output_type": "stream",
          "name": "stdout",
          "text": [
            "\n",
            " -> Reglas con itemsets de longitud 3:\n",
            "\n",
            "                        antecedents  consequents  confidence      lift\n",
            "141              (chicken, almonds)    (burgers)    0.555556  6.371899\n",
            "142              (burgers, almonds)       (eggs)    0.435897  2.425569\n",
            "143                 (eggs, almonds)    (burgers)    0.346939  3.979186\n",
            "144         (almonds, french fries)    (burgers)    0.303030  3.475582\n",
            "145          (ground beef, almonds)    (burgers)    0.310345  3.559475\n",
            "...                             ...          ...         ...       ...\n",
            "2447             (turkey, tomatoes)  (spaghetti)    0.448980  2.578711\n",
            "2448     (tomatoes, vegetables mix)  (spaghetti)    0.416667  2.393121\n",
            "2449  (tomatoes, whole wheat pasta)  (spaghetti)    0.500000  2.871746\n",
            "2450   (tomatoes, whole wheat rice)  (spaghetti)    0.511111  2.935562\n",
            "2451     (turkey, whole wheat rice)  (spaghetti)    0.301887  1.733884\n",
            "\n",
            "[2311 rows x 4 columns]\n"
          ]
        }
      ]
    },
    {
      "cell_type": "markdown",
      "source": [
        "Mostramos las reglas obtenidas para los itemsets de k = 4"
      ],
      "metadata": {
        "id": "fEEzsW0RD-l2"
      }
    },
    {
      "cell_type": "code",
      "source": [
        "rules_4 = rules[rules.apply(lambda row: len(row['antecedents']) + len(row['consequents']), axis=1) == 4]\n",
        "\n",
        "print('\\n -> Reglas con itemsets de longitud 4:\\n')\n",
        "print(rules_4[['antecedents', 'consequents', 'confidence', 'lift']])"
      ],
      "metadata": {
        "colab": {
          "base_uri": "https://localhost:8080/"
        },
        "outputId": "7e79793d-d38c-482f-de03-5ad64fc56d03",
        "id": "B8E0LXrrD-l2"
      },
      "execution_count": null,
      "outputs": [
        {
          "output_type": "stream",
          "name": "stdout",
          "text": [
            "\n",
            " -> Reglas con itemsets de longitud 4:\n",
            "\n",
            "                                    antecedents      consequents  confidence  \\\n",
            "2452                 (chocolate, milk, almonds)      (spaghetti)    0.500000   \n",
            "2453            (chocolate, almonds, spaghetti)           (milk)    0.444444   \n",
            "2454                 (milk, almonds, spaghetti)      (chocolate)    0.727273   \n",
            "2455        (mineral water, chocolate, almonds)      (spaghetti)    0.500000   \n",
            "2456        (mineral water, almonds, spaghetti)      (chocolate)    0.444444   \n",
            "...                                         ...              ...         ...   \n",
            "4851    (tomatoes, whole wheat rice, spaghetti)  (mineral water)    0.478261   \n",
            "4852  (mineral water, turkey, whole wheat rice)      (spaghetti)    0.421053   \n",
            "4853      (turkey, whole wheat rice, spaghetti)  (mineral water)    0.500000   \n",
            "4854            (tomatoes, spaghetti, pancakes)      (olive oil)    0.320000   \n",
            "4855            (tomatoes, olive oil, pancakes)      (spaghetti)    0.727273   \n",
            "\n",
            "          lift  \n",
            "2452  2.871746  \n",
            "2453  3.429813  \n",
            "2454  4.438790  \n",
            "2455  2.871746  \n",
            "2456  2.712594  \n",
            "...        ...  \n",
            "4851  2.006395  \n",
            "4852  2.418312  \n",
            "4853  2.097595  \n",
            "4854  4.858947  \n",
            "4855  4.177085  \n",
            "\n",
            "[2404 rows x 4 columns]\n"
          ]
        }
      ]
    },
    {
      "cell_type": "markdown",
      "source": [
        "Mostramos las reglas obtenidas para los itemsets de k = 5"
      ],
      "metadata": {
        "id": "5NXJXYPZD-l3"
      }
    },
    {
      "cell_type": "code",
      "source": [
        "rules_5 = rules[rules.apply(lambda row: len(row['antecedents']) + len(row['consequents']), axis=1) == 5]\n",
        "\n",
        "print('\\n -> Reglas con itemsets de longitud 5:\\n')\n",
        "print(rules_5[['antecedents', 'consequents', 'confidence', 'lift']])"
      ],
      "metadata": {
        "colab": {
          "base_uri": "https://localhost:8080/"
        },
        "outputId": "c35b52ba-6f97-49be-9087-ac4ac8615604",
        "id": "xb34qe5kD-l3"
      },
      "execution_count": null,
      "outputs": [
        {
          "output_type": "stream",
          "name": "stdout",
          "text": [
            "\n",
            " -> Reglas con itemsets de longitud 5:\n",
            "\n",
            "                                            antecedents  \\\n",
            "4856           (chocolate, burgers, eggs, french fries)   \n",
            "4857         (chocolate, eggs, spaghetti, french fries)   \n",
            "4858      (chocolate, burgers, spaghetti, french fries)   \n",
            "4859              (chocolate, burgers, eggs, spaghetti)   \n",
            "4860           (burgers, eggs, spaghetti, french fries)   \n",
            "...                                                 ...   \n",
            "5140  (mineral water, ground beef, herb & pepper, sp...   \n",
            "5141  (mineral water, herb & pepper, spaghetti, panc...   \n",
            "5142  (ground beef, herb & pepper, spaghetti, pancakes)   \n",
            "5143  (mineral water, ground beef, spaghetti, pancakes)   \n",
            "5144             (ground beef, herb & pepper, pancakes)   \n",
            "\n",
            "                     consequents  confidence      lift  \n",
            "4856                 (spaghetti)    0.571429  3.281995  \n",
            "4857                   (burgers)    0.363636  4.170698  \n",
            "4858                      (eggs)    0.500000  2.782270  \n",
            "4859              (french fries)    0.400000  2.340406  \n",
            "4860                 (chocolate)    0.470588  2.872158  \n",
            "...                          ...         ...       ...  \n",
            "5140                  (pancakes)    0.380952  4.007747  \n",
            "5141               (ground beef)    0.500000  5.088874  \n",
            "5142             (mineral water)    0.666667  2.796793  \n",
            "5143             (herb & pepper)    0.347826  7.032462  \n",
            "5144  (mineral water, spaghetti)    0.400000  6.697321  \n",
            "\n",
            "[289 rows x 4 columns]\n"
          ]
        }
      ]
    },
    {
      "cell_type": "markdown",
      "source": [
        "Mostramos las reglas obtenidas para los itemsets de k = 6"
      ],
      "metadata": {
        "id": "mLAWKbt2D-l3"
      }
    },
    {
      "cell_type": "code",
      "source": [
        "rules_6 = rules[rules.apply(lambda row: len(row['antecedents']) + len(row['consequents']), axis=1) == 6]\n",
        "\n",
        "print('\\n -> Reglas con itemsets de longitud 6:\\n')\n",
        "print(rules_6[['antecedents', 'consequents', 'confidence', 'lift']])"
      ],
      "metadata": {
        "colab": {
          "base_uri": "https://localhost:8080/"
        },
        "outputId": "a22a7e6e-747b-4a0b-e559-ec9978f5b299",
        "id": "qaHQx6UQD-l3"
      },
      "execution_count": null,
      "outputs": [
        {
          "output_type": "stream",
          "name": "stdout",
          "text": [
            "\n",
            " -> Reglas con itemsets de longitud 6:\n",
            "\n",
            "                                            antecedents  \\\n",
            "5145  (chocolate, mineral water, ground beef, frozen...   \n",
            "5146  (chocolate, mineral water, ground beef, frozen...   \n",
            "5147  (chocolate, mineral water, ground beef, milk, ...   \n",
            "5148  (chocolate, mineral water, frozen vegetables, ...   \n",
            "5149  (chocolate, ground beef, frozen vegetables, mi...   \n",
            "5150  (mineral water, ground beef, frozen vegetables...   \n",
            "5151  (chocolate, ground beef, frozen vegetables, mi...   \n",
            "5152      (chocolate, ground beef, milk, mineral water)   \n",
            "5153  (chocolate, ground beef, milk, frozen vegetables)   \n",
            "5154  (chocolate, ground beef, spaghetti, frozen veg...   \n",
            "5155          (chocolate, ground beef, milk, spaghetti)   \n",
            "5156    (chocolate, milk, spaghetti, frozen vegetables)   \n",
            "5157  (frozen vegetables, ground beef, milk, spaghetti)   \n",
            "\n",
            "                             consequents  confidence       lift  \n",
            "5145                         (spaghetti)    0.533333   3.063196  \n",
            "5146                              (milk)    0.615385   4.748971  \n",
            "5147                 (frozen vegetables)    0.888889   9.325253  \n",
            "5148                       (ground beef)    0.533333   5.428132  \n",
            "5149                     (mineral water)    0.666667   2.796793  \n",
            "5150                         (chocolate)    0.571429   3.487621  \n",
            "5151                   (milk, spaghetti)    0.320000   9.023759  \n",
            "5152      (frozen vegetables, spaghetti)    0.320000  11.484785  \n",
            "5153          (mineral water, spaghetti)    0.400000   6.697321  \n",
            "5154               (mineral water, milk)    0.347826   7.247343  \n",
            "5155  (mineral water, frozen vegetables)    0.363636  10.177748  \n",
            "5156        (mineral water, ground beef)    0.307692   7.517915  \n",
            "5157          (chocolate, mineral water)    0.347826   6.605173  \n"
          ]
        }
      ]
    },
    {
      "cell_type": "markdown",
      "source": [
        "Mostramos las reglas obtenidas para los itemsets de k = 7"
      ],
      "metadata": {
        "id": "RV-6-rqeD-l3"
      }
    },
    {
      "cell_type": "code",
      "source": [
        "rules_7 = rules[rules.apply(lambda row: len(row['antecedents']) + len(row['consequents']), axis=1) == 7]\n",
        "\n",
        "print('\\n -> Reglas con itemsets de longitud 7:\\n')\n",
        "print(rules_7[['antecedents', 'consequents', 'confidence', 'lift']])"
      ],
      "metadata": {
        "colab": {
          "base_uri": "https://localhost:8080/"
        },
        "outputId": "c9c42c33-66d4-455a-b77c-a6b11fed544a",
        "id": "sSpMK-QbD-l3"
      },
      "execution_count": null,
      "outputs": [
        {
          "output_type": "stream",
          "name": "stdout",
          "text": [
            "\n",
            " -> Reglas con itemsets de longitud 7:\n",
            "\n",
            "Empty DataFrame\n",
            "Columns: [antecedents, consequents, confidence, lift]\n",
            "Index: []\n"
          ]
        }
      ]
    },
    {
      "cell_type": "markdown",
      "source": [
        "Podemos comprobar que ya no existen reglas que tengan este soporte y confianza especificados. Si ajustaramos los parámetros podrían acabarse para un k inferior o superior, en función de lo deseado.\n",
        "\n",
        "Para el resto del ejercicio se compararán diversos valores para las métricas y el soporte umbral."
      ],
      "metadata": {
        "id": "zlv_hXyLD-l4"
      }
    },
    {
      "cell_type": "markdown",
      "source": [
        "## 1.- (1 puntos)\n",
        "\n",
        "Prueba al menos tres configuraciones de soporte y frecuencia para cada tipo de puntuación."
      ],
      "metadata": {
        "id": "RIqmncqeD-l4"
      }
    },
    {
      "cell_type": "markdown",
      "source": [
        "En este apartado se van a probar cuatro configuraciones que van a combinar un valor para el soporte que determina los itemsets que devuelve el método apriori y otro valor para la confianza umbral de las reglas que devuelve el método association_rules.\n",
        "\n",
        "Las combianciones son:\n",
        "\n",
        "*   CASO 1: Soporte = 0.01, confianza = 0.3\n",
        "*   CASO 2: Soporte = 0.03, confianza = 0.3\n",
        "*   CASO 3: Soporte = 0.01, confianza = 0.5\n",
        "*   CASO 4: Soporte = 0.03, confianza = 0.5\n"
      ],
      "metadata": {
        "id": "s4efimi9D-l4"
      }
    },
    {
      "cell_type": "code",
      "source": [
        "# Configuración 1: soporte=0.01, confianza=0.3\n",
        "frequent_itemsets_1 = apriori(df, min_support=0.01, use_colnames=True)\n",
        "rules_c1 = association_rules(frequent_itemsets, metric=\"confidence\", min_threshold=0.3)\n",
        "print(\"-------------------------------------------------------------------------------------------------\")\n",
        "print(\"\\n\\n -> Reglas generadas con soporte=0.01 y confianza=0.3:\\n\")\n",
        "print(rules_c1[['antecedents','consequents','confidence']])\n",
        "\n",
        "# Configuración 2: soporte=0.03, confianza=0.3\n",
        "frequent_itemsets_2 = apriori(df, min_support=0.03, use_colnames=True)\n",
        "rules_c2 = association_rules(frequent_itemsets_2, metric=\"confidence\", min_threshold=0.3)\n",
        "print(\"-------------------------------------------------------------------------------------------------\")\n",
        "print(\"\\n\\n -> Reglas generadas con soporte=0.03 y confianza=0.3:\\n\")\n",
        "print(rules_c2[['antecedents','consequents','confidence']])\n",
        "\n",
        "# Configuración 3: soporte=0.01, confianza=0.5\n",
        "frequent_itemsets_1 = apriori(df, min_support=0.01, use_colnames=True)\n",
        "rules_c3 = association_rules(frequent_itemsets_1, metric=\"confidence\", min_threshold=0.5)\n",
        "print(\"-------------------------------------------------------------------------------------------------\")\n",
        "print(\"\\n\\n -> Reglas generadas con soporte=0.01 y confianza=0.5:\\n\")\n",
        "print(rules_c3[['antecedents','consequents','confidence']])\n",
        "\n",
        "# Configuración 4: soporte=0.03, confianza=0.5\n",
        "frequent_itemsets_2 = apriori(df, min_support=0.03, use_colnames=True)\n",
        "rules_c4 = association_rules(frequent_itemsets_2, metric=\"confidence\", min_threshold=0.5)\n",
        "print(\"-------------------------------------------------------------------------------------------------\")\n",
        "print(\"\\n\\n -> Reglas generadas con soporte=0.03 y confianza=0.5:\\n\")\n",
        "print(rules_c4[['antecedents','consequents','confidence']])"
      ],
      "metadata": {
        "colab": {
          "base_uri": "https://localhost:8080/"
        },
        "outputId": "69904686-670f-4b83-a8a4-418ca87baefb",
        "id": "EjbVVQDTD-l4"
      },
      "execution_count": null,
      "outputs": [
        {
          "output_type": "stream",
          "name": "stdout",
          "text": [
            "-------------------------------------------------------------------------------------------------\n",
            "\n",
            "\n",
            " -> Reglas generadas con soporte=0.01 y confianza=0.3:\n",
            "\n",
            "                   antecedents      consequents  confidence\n",
            "0                    (avocado)  (mineral water)    0.348000\n",
            "1                    (burgers)           (eggs)    0.330275\n",
            "2                       (cake)  (mineral water)    0.338816\n",
            "3                    (cereals)  (mineral water)    0.398964\n",
            "4                    (chicken)  (mineral water)    0.380000\n",
            "..                         ...              ...         ...\n",
            "58           (milk, spaghetti)  (mineral water)    0.443609\n",
            "59  (mineral water, olive oil)      (spaghetti)    0.371981\n",
            "60      (olive oil, spaghetti)  (mineral water)    0.447674\n",
            "61   (mineral water, pancakes)      (spaghetti)    0.339921\n",
            "62       (spaghetti, pancakes)  (mineral water)    0.455026\n",
            "\n",
            "[63 rows x 3 columns]\n",
            "-------------------------------------------------------------------------------------------------\n",
            "\n",
            "\n",
            " -> Reglas generadas con soporte=0.03 y confianza=0.3:\n",
            "\n",
            "           antecedents      consequents  confidence\n",
            "0          (chocolate)  (mineral water)    0.321400\n",
            "1  (frozen vegetables)  (mineral water)    0.374825\n",
            "2        (ground beef)  (mineral water)    0.416554\n",
            "3        (ground beef)      (spaghetti)    0.398915\n",
            "4               (milk)  (mineral water)    0.370370\n",
            "5           (pancakes)  (mineral water)    0.354839\n",
            "6          (spaghetti)  (mineral water)    0.343032\n",
            "-------------------------------------------------------------------------------------------------\n",
            "\n",
            "\n",
            " -> Reglas generadas con soporte=0.01 y confianza=0.5:\n",
            "\n",
            "           antecedents      consequents  confidence\n",
            "0  (ground beef, eggs)  (mineral water)    0.506667\n",
            "1  (ground beef, milk)  (mineral water)    0.503030\n",
            "-------------------------------------------------------------------------------------------------\n",
            "\n",
            "\n",
            " -> Reglas generadas con soporte=0.03 y confianza=0.5:\n",
            "\n",
            "Empty DataFrame\n",
            "Columns: [antecedents, consequents, confidence]\n",
            "Index: []\n"
          ]
        }
      ]
    },
    {
      "cell_type": "markdown",
      "source": [
        "El **soporte** y la **confianza** son dos métricas clave en las reglas de asociación:\n",
        "\n",
        "- **Soporte**: Representa la frecuencia relativa con la que aparecen los antecedentes y los consecuentes juntos. En otras palabras, es la proporción de transacciones en los datos que contienen un conjunto de elementos (itemset) específico.\n",
        "\n",
        "- **Confianza**: Mide con qué frecuencia los artículos en Y aparecen en transacciones que también contienen X.\n",
        "\n",
        "Ahora, analizando cómo estos parámetros afectan los resultados de las reglas de asociación generadas:\n",
        "\n",
        "1. **Reglas con soporte=0.01 y confianza=0.3**: Se generaron **63 reglas**. Esto indica que al tener un soporte y una confianza bajos, se pueden generar muchas reglas, pero estas pueden no ser muy fuertes (la confianza de estas reglas varía, pero no es muy alta).\n",
        "\n",
        "2. **Reglas con soporte=0.03 y confianza=0.3**: Se generaron **6 reglas**. Al aumentar el soporte a 0.03, el número de reglas generadas disminuye. Esto se debe a que estamos buscando reglas que se cumplan en un mayor número de transacciones, siendo menos itemsets los que pueden servir para hacer reglas.\n",
        "\n",
        "3. **Reglas con soporte=0.01 y confianza=0.5**: Se generaron **2 reglas**. Al aumentar la confianza a 0.5, el número de reglas generadas disminuye significativamente. Esto se debe a que estamos buscando reglas que se cumplan con una alta confianza, lo que es más difícil de encontrar.\n",
        "\n",
        "4. **Reglas con soporte=0.03 y confianza=0.5**: No se generaron reglas. Esto indica que no hay reglas que se cumplan con una alta confianza (0.5) en un gran número de transacciones (soporte de 0.03).\n",
        "\n",
        "Hemos comprobado como aumentar el soporte y la confianza hace que las reglas generadas sean más fuertes (es decir, se cumplen en más transacciones y con mayor confianza), pero también hace que sea más difícil encontrar dichas reglas. Por lo tanto, es importante elegir estos parámetros cuidadosamente para equilibrar la cantidad y la calidad de las reglas generadas."
      ],
      "metadata": {
        "id": "2wyhB-weD-l5"
      }
    },
    {
      "cell_type": "markdown",
      "source": [
        "## 2.- (1 punto)\n",
        "\n",
        "¿Qué diferencias hay entre usar soporte y frecuencia? Respalda la respuesta con datos."
      ],
      "metadata": {
        "id": "Em5N2OtYD-l5"
      }
    },
    {
      "cell_type": "markdown",
      "source": [
        "Soporte: Es la proporción de transacciones en las que aparece un conjunto de elementos. Se expresa como el número de transacciones que contienen el conjunto dividido por el número total de transacciones.\n",
        "\n",
        "Frecuencia: Es simplemente el número de veces que aparece un conjunto de elementos en el conjunto de datos."
      ],
      "metadata": {
        "id": "gtQ2bpGkD-l5"
      }
    },
    {
      "cell_type": "code",
      "source": [
        "# Calcular soporte\n",
        "support = df.sum() / len(df)\n",
        "\n",
        "# Calcular frecuencia\n",
        "frequency = df.sum()\n",
        "\n",
        "print(support)\n",
        "\n",
        "print(frequency)"
      ],
      "metadata": {
        "colab": {
          "base_uri": "https://localhost:8080/"
        },
        "outputId": "e8af0579-2d61-4716-d998-d2b146c62cf5",
        "id": "OYN8GnXjD-l5"
      },
      "execution_count": null,
      "outputs": [
        {
          "output_type": "stream",
          "name": "stdout",
          "text": [
            " asparagus           0.000133\n",
            "almonds              0.020397\n",
            "antioxydant juice    0.008932\n",
            "asparagus            0.004666\n",
            "avocado              0.033329\n",
            "                       ...   \n",
            "whole wheat pasta    0.029463\n",
            "whole wheat rice     0.058526\n",
            "yams                 0.011465\n",
            "yogurt cake          0.027330\n",
            "zucchini             0.009465\n",
            "Length: 120, dtype: float64\n",
            " asparagus             1\n",
            "almonds              153\n",
            "antioxydant juice     67\n",
            "asparagus             35\n",
            "avocado              250\n",
            "                    ... \n",
            "whole wheat pasta    221\n",
            "whole wheat rice     439\n",
            "yams                  86\n",
            "yogurt cake          205\n",
            "zucchini              71\n",
            "Length: 120, dtype: int64\n"
          ]
        }
      ]
    },
    {
      "cell_type": "markdown",
      "source": [
        "Se van a realizar dos boxplots para ver la distribución de las variables \"support\" y \"frequency\" y comparar las distribuciones entre las dos variables."
      ],
      "metadata": {
        "id": "ffgDH28itFN1"
      }
    },
    {
      "cell_type": "code",
      "source": [
        "plt.figure(figsize=(12, 6))  # Establece el tamaño de la figura\n",
        "\n",
        "# Grafica el boxplot para Soporte\n",
        "plt.subplot(1, 2, 1)\n",
        "plt.boxplot(support,\n",
        "            labels=['support'],\n",
        "            patch_artist=True,  # Habilitar el relleno de colores\n",
        "            boxprops={'facecolor': 'skyblue', 'edgecolor': 'black'},  # Color de la caja\n",
        "            medianprops={'color': 'black'},  # Color de la línea mediana\n",
        "            flierprops={'marker': 'o', 'markerfacecolor': 'gray', 'markeredgecolor': 'black'},  # Color de los valores atípicos\n",
        "            whiskerprops={'color': 'black'},  # Color de las líneas de bigotes\n",
        "            capprops={'color': 'black'})  # Color de las líneas de extremos\n",
        "plt.title('Boxplot de support')\n",
        "plt.ylabel('support')\n",
        "\n",
        "# Grafica el boxplot para Frecuencia\n",
        "plt.subplot(1, 2, 2)\n",
        "plt.boxplot(frequency,\n",
        "            labels=['frequency'],\n",
        "            patch_artist=True,  # Habilitar el relleno de colores\n",
        "            boxprops={'facecolor': 'limegreen', 'edgecolor': 'black'},  # Color de la caja\n",
        "            medianprops={'color': 'black'},  # Color de la línea mediana\n",
        "            flierprops={'marker': 'o', 'markerfacecolor': 'gray', 'markeredgecolor': 'black'},  # Color de los valores atípicos\n",
        "            whiskerprops={'color': 'black'},  # Color de las líneas de bigotes\n",
        "            capprops={'color': 'black'})  # Color de las líneas de extremos\n",
        "\n",
        "plt.title('Boxplot de frequency')\n",
        "plt.ylabel('frequency')\n",
        "plt.show()\n",
        "\n",
        "# Muestra el gráfico combinado\n",
        "plt.tight_layout()\n",
        "plt.show()"
      ],
      "metadata": {
        "colab": {
          "base_uri": "https://localhost:8080/",
          "height": 562
        },
        "outputId": "8559658c-bfc8-4d0e-ec6f-fc1b690d71df",
        "id": "fptskJv-D-l6"
      },
      "execution_count": null,
      "outputs": [
        {
          "output_type": "display_data",
          "data": {
            "text/plain": [
              "<Figure size 1200x600 with 2 Axes>"
            ],
            "image/png": "[encoded data removed]"
          },
          "metadata": {}
        },
        {
          "output_type": "display_data",
          "data": {
            "text/plain": [
              "<Figure size 640x480 with 0 Axes>"
            ]
          },
          "metadata": {}
        }
      ]
    },
    {
      "cell_type": "markdown",
      "source": [
        "Como se puede observar, los dos gráficos son exactamente iguales. Las variables están totalmente relacionadas.\n",
        "\n",
        "Ahora para ver de nuevo esta correlación, se va a llevar a cabo una dispersión de puntos."
      ],
      "metadata": {
        "id": "-0fOUhZ9aBjh"
      }
    },
    {
      "cell_type": "code",
      "source": [
        "# Calcula el coeficiente de correlación de Pearson\n",
        "corr, _ = pearsonr(support, frequency)\n",
        "\n",
        "print('El coeficiente de correlación de Pearson es: %.3f' % corr)\n",
        "plt.scatter(support, frequency)\n",
        "\n",
        "plt.title('Gráfico de dispersión')\n",
        "plt.xlabel('support')\n",
        "plt.ylabel('frequency')\n",
        "\n",
        "plt.show()"
      ],
      "metadata": {
        "colab": {
          "base_uri": "https://localhost:8080/",
          "height": 207
        },
        "outputId": "0c07d49f-398d-4873-f64e-168736b8f9e9",
        "id": "NhxND6IAD-l7"
      },
      "execution_count": null,
      "outputs": [
        {
          "output_type": "error",
          "ename": "NameError",
          "evalue": "name 'pearsonr' is not defined",
          "traceback": [
            "\u001b[0;31m---------------------------------------------------------------------------\u001b[0m",
            "\u001b[0;31mNameError\u001b[0m                                 Traceback (most recent call last)",
            "\u001b[0;32m<ipython-input-31-70aea1ac0f94>\u001b[0m in \u001b[0;36m<cell line: 2>\u001b[0;34m()\u001b[0m\n\u001b[1;32m      1\u001b[0m \u001b[0;31m# Calcula el coeficiente de correlación de Pearson\u001b[0m\u001b[0;34m\u001b[0m\u001b[0;34m\u001b[0m\u001b[0m\n\u001b[0;32m----> 2\u001b[0;31m \u001b[0mcorr\u001b[0m\u001b[0;34m,\u001b[0m \u001b[0m_\u001b[0m \u001b[0;34m=\u001b[0m \u001b[0mpearsonr\u001b[0m\u001b[0;34m(\u001b[0m\u001b[0msupport\u001b[0m\u001b[0;34m,\u001b[0m \u001b[0mfrequency\u001b[0m\u001b[0;34m)\u001b[0m\u001b[0;34m\u001b[0m\u001b[0;34m\u001b[0m\u001b[0m\n\u001b[0m\u001b[1;32m      3\u001b[0m \u001b[0;34m\u001b[0m\u001b[0m\n\u001b[1;32m      4\u001b[0m \u001b[0mprint\u001b[0m\u001b[0;34m(\u001b[0m\u001b[0;34m'El coeficiente de correlación de Pearson es: %.3f'\u001b[0m \u001b[0;34m%\u001b[0m \u001b[0mcorr\u001b[0m\u001b[0;34m)\u001b[0m\u001b[0;34m\u001b[0m\u001b[0;34m\u001b[0m\u001b[0m\n\u001b[1;32m      5\u001b[0m \u001b[0mplt\u001b[0m\u001b[0;34m.\u001b[0m\u001b[0mscatter\u001b[0m\u001b[0;34m(\u001b[0m\u001b[0msupport\u001b[0m\u001b[0;34m,\u001b[0m \u001b[0mfrequency\u001b[0m\u001b[0;34m)\u001b[0m\u001b[0;34m\u001b[0m\u001b[0;34m\u001b[0m\u001b[0m\n",
            "\u001b[0;31mNameError\u001b[0m: name 'pearsonr' is not defined"
          ]
        }
      ]
    },
    {
      "cell_type": "markdown",
      "source": [
        "Podemos comprobar como la recta es perfecta igual que la correlación, por loq ue se confirma que son lo mismo y su distribución es igual."
      ],
      "metadata": {
        "id": "OPLEEcEPav-W"
      }
    },
    {
      "cell_type": "markdown",
      "source": [
        "Esto tambien era algo que sabiamos porque el soporte se calcula a partir de la frecuencia siguiendo la siguiente fórmula:\n",
        "\n",
        "$$ {soporte} = {frecuencia}/{registros} $$\n",
        "\n",
        "$$ {soporte} = {frecuencia}/7501 $$"
      ],
      "metadata": {
        "id": "LQf_2j4ID-l8"
      }
    },
    {
      "cell_type": "markdown",
      "source": [
        "## 3.- (1 punto)\n",
        "\n",
        "¿Qué tipo reglas desaparecen según la configuración usada y el tipo de puntuación? ¿Por qué?"
      ],
      "metadata": {
        "id": "lZNCIuXHD-l8"
      }
    },
    {
      "cell_type": "markdown",
      "source": [
        "Para conocer más como eran las reglas del *Apartado 1* las mostramos en función de la confianza y el soporte. Aunque hay muchas métricas hemos considerado estas dos relevantes, porque la confianza explica la fiabilidad de la regla y el soporte explica la frecuencia de aparición de la regla. Por esto, al combinar estas dos métricas podemos clasificar las reglas en fiables y frecuentes, siendo criterios muy poderosos para obtener conclusiones relevantes.\n",
        "\n",
        "En el eje vertical se mide la variable \"confidence\" y en el horizontal el \"support\". Cada regla de asociación quedará por lo tanto ubicada en un punto en el plano según su confianza y soporte. Tenemos tres colores para las configuraciones, que son rojo (Caso 1), azul (Caso 2) y verde (Caso 3), siendo estos:\n",
        "\n",
        "*   CASO 1: Soporte = 0.01, confianza = 0.3\n",
        "*   CASO 2: Soporte = 0.03, confianza = 0.3\n",
        "*   CASO 3: Soporte = 0.01, confianza = 0.5"
      ],
      "metadata": {
        "id": "tkMix6NnD-l8"
      }
    },
    {
      "cell_type": "code",
      "source": [
        "plt.figure(figsize=(10, 6))\n",
        "\n",
        "# Gráfico de dispersión para cada conjunto de datos con diferentes tamaños de puntos\n",
        "scatter1 = plt.scatter(rules_c1['support'], rules_c1['confidence'], s=80, color='red')\n",
        "scatter2 = plt.scatter(rules_c2['support'], rules_c2['confidence'], s=20, color='blue')\n",
        "scatter3 = plt.scatter(rules_c3['support'], rules_c3['confidence'], s=20, color='green')\n",
        "\n",
        "plt.xlabel('support')\n",
        "plt.ylabel('confidence')\n",
        "plt.title(\"Comparar configuraciones\")\n",
        "\n",
        "# Fijar los límites de los ejes x e y\n",
        "# plt.xlim([0.005, 0.08])\n",
        "# plt.ylim([0.2, 0.6])\n",
        "\n",
        "# Leyenda\n",
        "plt.legend((scatter1, scatter2, scatter3),\n",
        " ('Caso 1', 'Caso 2', 'Caso 3'))\n",
        "\n",
        "plt.show()\n"
      ],
      "metadata": {
        "id": "JgCbW1rrD-l8"
      },
      "execution_count": null,
      "outputs": []
    },
    {
      "cell_type": "markdown",
      "source": [
        "Las conclusiones que da la gráfica son muy evidentes y reflejan el cuidado que hay que tener al elegir los umbrales para la frecuencia y la métrica de la regla (en este caso la confianza).\n",
        "\n",
        "En primer lugar, se puede ver visualmente en la grafica como el caso 1 (soporte mayor a 0.01 y confianza mayor a 0.03) contiene al caso 2 (soporte mayor a 0.03 y confianza mayor a 0.3) y al caso 3 (soporte mayor a 0.01 y confianza mayor a 0.5), ya que sus umbrales son menores y por tanto si cumplen la restricción del caso 1 que es menos restrictiva evidentementa estará dentro del caso 2 y 3. Comprobamos además como si bajamos los umbrales aparecen muchisimas más reglas.\n",
        "\n",
        "En segundo lugar, donde mayor concentración de reglas hay es donde la confianza y el soporte son bajos (ver la zona con confianza 0.30-0.35 y soporte 0.01-0.02), esto es evidente ya que cuanto menos alto es el umbral más posible es que sea más fácil que una regla lo cumpla.\n",
        "\n",
        "En tercer lugar, comprobamos en la gráfica como es muy complicado que haya reglas con alto soporte y alta confianza, por lo tanto al aumentar los umbrales se pierden reglas que pueden ser muy interesantes. Por ejemplo, vemos que el caso 3 no contiene las reglas del caso 2 que tienen alto soporte. Esto es prueba de que es importante probar varios criterios y comparar su reglas para abarcar un mayor abanico de posibilidades y poder encontrar las reglas más prometedoras."
      ],
      "metadata": {
        "id": "74ziqzKlD-l9"
      }
    },
    {
      "cell_type": "markdown",
      "source": [
        "Por lo tanto, hay que encontrar un equilibro, para no perder reglas buenas. Por ejemplo podemos ver que hay dos reglas que no están ni en el caso 2 ni el 3 porque están en el centro de la gráfica, por eso a continuación establecemos un criterio intermedio entre esos dos casos:\n",
        "\n",
        "* Soporte: 0.0022\n",
        "* Confianza: 0.4"
      ],
      "metadata": {
        "id": "VTmg-w9GjCgv"
      }
    },
    {
      "cell_type": "code",
      "source": [
        "rules_c1[(rules_c1.support>0.022)&(rules_c1.confidence>0.4)]"
      ],
      "metadata": {
        "id": "iDoeLxLWg4mJ"
      },
      "execution_count": null,
      "outputs": []
    },
    {
      "cell_type": "markdown",
      "source": [
        "Comprobamos que salen tres, porque hay una regla del caso 2 que también cumple con las condiciones puestas."
      ],
      "metadata": {
        "id": "BHfDsE4zlvbM"
      }
    },
    {
      "cell_type": "markdown",
      "source": [
        "Por lo tanto, analizando estas tres reglas de asociación para extraer conclusiones en un supermercado:\n",
        "\n",
        "1. **Regla 1 (Ground Beef -> Mineral Water)**:\n",
        "   - El **support** para el itemset **{ground beef}** es del **9.83%** (0.098254).\n",
        "   - La **confianza** de la regla es del **41.66%** (0.416554), lo que significa que el **41.66%** de las transacciones que contienen **ground beef** también contienen **mineral water**.\n",
        "   - El **lift** es de **1.75**, lo que indica que la probabilidad de comprar **mineral water** aumenta **1.75 veces** cuando se compra **ground beef**.\n",
        "   - El **leverage** es **0.0175**, lo que sugiere una relación positiva entre **ground beef** y **mineral water**.\n",
        "   - El **conviction** es **1.31**, lo que implica que la compra de **ground beef** no está fuertemente influenciada por la presencia de **mineral water**.\n",
        "\n",
        "2. **Regla 2 (Olive Oil -> Mineral Water)**:\n",
        "   - El **support** para el itemset **{olive oil}** es del **6.59%** (0.065858).\n",
        "   - La **confianza** de la regla es del **41.90%** (0.419028), lo que significa que el **41.90%** de las transacciones que contienen **olive oil** también contienen **mineral water**.\n",
        "   - El **lift** es de **1.76**, lo que indica que la probabilidad de comprar **mineral water** aumenta **1.76 veces** cuando se compra **olive oil**.\n",
        "   - El **leverage** es **0.0119**, lo que sugiere una relación positiva entre **olive oil** y **mineral water**.\n",
        "   - El **conviction** es **1.31**, lo que implica que la compra de **olive oil** no está fuertemente influenciada por la presencia de **mineral water**.\n",
        "\n",
        "3. **Regla 3 (Soup -> Mineral Water)**:\n",
        "   - El **support** para el itemset **{soup}** es del **5.05%** (0.050527).\n",
        "   - La **confianza** de la regla es del **45.64%** (0.456464), lo que significa que el **45.64%** de las transacciones que contienen **soup** también contienen **mineral water**.\n",
        "   - El **lift** es de **1.91**, lo que indica que la probabilidad de comprar **mineral water** aumenta **1.91 veces** cuando se compra **soup**.\n",
        "   - El **leverage** es **0.0110**, lo que sugiere una relación positiva entre **soup** y **mineral water**.\n",
        "   - El **conviction** es **1.40**, lo que implica que la compra de **soup** no está fuertemente influenciada por la presencia de **mineral water**.\n",
        "\n",
        "En resumen, estas reglas indican que hay una asociación positiva entre **ground beef**, **olive oil** y **soup** con **mineral water** en el supermercado. Los clientes que compran estos productos también tienden a comprar **mineral water**. Sin embargo, la fuerza de esta asociación varía según la regla específica."
      ],
      "metadata": {
        "id": "RUvfl5bZR74U"
      }
    },
    {
      "cell_type": "markdown",
      "source": [
        "## 4.- (1 punto)\n",
        "\n",
        "Para una de las configuraciones, interpreta algunas de las reglas que te hayan resultado curiosas obtenidas usando la clase association_rules y un par de configuraciones cambiando la variable metric y min_threshold."
      ],
      "metadata": {
        "id": "xF5lXCFbeTyn"
      }
    },
    {
      "cell_type": "markdown",
      "source": [
        "En este apartado se van a utilizar las siguientes métricas:\n",
        "\n",
        "1. Confianza\n",
        "2. Lift\n",
        "3. Soporte\n",
        "4. Convicción\n",
        "5. Leverage\n",
        "\n",
        "El objetivo es comparar el resultado obtenido y ver que tipo de reglas aparecen usando cada métrica. Un factor que se ha visto clave es la frecuencia del item de la regla, por eso se verá cómo se comporta cada métrica y qué tipo de items tiene. Para eso se utilizará un gráfico de tarta que muestra la frecuencia de aparición de los items en las reglas de esa métrica."
      ],
      "metadata": {
        "id": "bxLZN22nbF1Y"
      }
    },
    {
      "cell_type": "markdown",
      "source": [
        "Comenzamos volviendo a encontrar los items frecuentes con un umbral de soporte de 0.01."
      ],
      "metadata": {
        "id": "6xH-FR16cIqH"
      }
    },
    {
      "cell_type": "code",
      "source": [
        "# Generar itemsets frecuentes\n",
        "frequent_itemsets = apriori(df, min_support=0.01, use_colnames=True)\n",
        "frequent_itemsets"
      ],
      "metadata": {
        "id": "QyFB9leSklcu"
      },
      "execution_count": null,
      "outputs": []
    },
    {
      "cell_type": "markdown",
      "source": [
        "Obtenemos las reglas utilizando la confianza con un umbral de 0.4:"
      ],
      "metadata": {
        "id": "EME3XzUxcOB4"
      }
    },
    {
      "cell_type": "code",
      "source": [
        "# Generar reglas de asociación\n",
        "rules_confidence = association_rules(frequent_itemsets, metric=\"confidence\", min_threshold=0.4)\n",
        "\n",
        "# Imprimir las reglas generadas\n",
        "print(f\"\\n\\n -> Reglas generadas con confidence={0.4}:\")\n",
        "print(rules_confidence[['antecedents', 'consequents', 'confidence', 'lift']])"
      ],
      "metadata": {
        "id": "_cACLQ5Tkthk"
      },
      "execution_count": null,
      "outputs": []
    },
    {
      "cell_type": "markdown",
      "source": [
        "La única regla que aquí no tiene como consecuente el agua mineral es la 13: carne picada y agua como antecedente y espaguetis como consecuente. Esto suponemos que se debe a lo usual que es cocinar espaguetis con carne picada, ya que suele ser un plato típico, fácil de cocinar y barato."
      ],
      "metadata": {
        "id": "rwd-1jOF22z9"
      }
    },
    {
      "cell_type": "markdown",
      "source": [
        "$$\\text{ground beef, mineral water} \\rightarrow \\text{spaghetti}$$"
      ],
      "metadata": {
        "id": "c9dNX4tb6IpS"
      }
    },
    {
      "cell_type": "code",
      "source": [
        "# Extraer antecedentes y contar su frecuencia\n",
        "antecedents_counts = rules_confidence['antecedents'].explode().value_counts()\n",
        "\n",
        "# Extraer consecuentes y contar su frecuencia\n",
        "consequents_counts = rules_confidence['consequents'].explode().value_counts()\n",
        "\n",
        "# Colores para las secciones del gráfico\n",
        "colors = plt.cm.tab20.colors  # Colores del conjunto de colores tab20\n",
        "\n",
        "# Crear figura y subgráficos\n",
        "fig, axes = plt.subplots(1, 2, figsize=(16, 8))\n",
        "\n",
        "# Gráfico para antecedentes\n",
        "axes[0].pie(antecedents_counts, labels=antecedents_counts.index, autopct='%1.1f%%', startangle=140, colors=colors)\n",
        "axes[0].set_title('Frecuencia de elementos en antecedentes de las reglas de asociación')\n",
        "axes[0].axis('equal')\n",
        "\n",
        "# Gráfico para consecuentes\n",
        "axes[1].pie(consequents_counts, labels=consequents_counts.index, autopct='%1.1f%%', startangle=140, colors=colors)\n",
        "axes[1].set_title('Frecuencia de elementos en consecuentes de las reglas de asociación')\n",
        "axes[1].axis('equal')\n",
        "\n",
        "# Mostrar los gráficos\n",
        "plt.show()"
      ],
      "metadata": {
        "id": "eyifh8rYX-Es"
      },
      "execution_count": null,
      "outputs": []
    },
    {
      "cell_type": "markdown",
      "source": [
        "Los alimentos con más aparición en los antecedentes son: la carne picada, espaguetis, leche y chocolate. Sin embargo, lo que más importante que se destaca de estos gráficos es la presencia casi total de agua mineral como consecuente de las reglas generadas. Al ser algo que casi todo el mundo compra, se acaba relacionando con muchos otros alimentos en reglas, que también suelen ser comunes ya que el agua se usa para cocinar o simplemente para acompañar la comida o la cena."
      ],
      "metadata": {
        "id": "HDg8HDxp3dR-"
      }
    },
    {
      "cell_type": "markdown",
      "source": [
        "Obtenemos las reglas utilizando el lift con un umbral de 2.35:"
      ],
      "metadata": {
        "id": "VBQcY-H6cZqE"
      }
    },
    {
      "cell_type": "code",
      "source": [
        "# Generar reglas de asociación\n",
        "rules_lift = association_rules(frequent_itemsets, metric=\"lift\", min_threshold=2.35)\n",
        "\n",
        "# Imprimir las reglas generadas\n",
        "print(f\"\\n\\n -> Reglas generadas con lift={2.35}:\")\n",
        "print(rules_lift[['antecedents', 'consequents', 'confidence', 'lift']])"
      ],
      "metadata": {
        "id": "lTHYhmuQ_spy"
      },
      "execution_count": null,
      "outputs": []
    },
    {
      "cell_type": "markdown",
      "source": [
        "Como ya se vio anteriormente, la compra de carne molida y agua mineral aumenta en 2.39 veces la probabilidad de comprar espaguetis. De manera similar, la presencia de espaguetis aumenta en 2.39 veces la probabilidad de comprar carne molida y agua mineral. Esto sugiere una relación específica entre estos tres elementos.\n",
        "\n",
        "Las reglas están relacionadas dos a dos (o hasta en grupos de tres), es decir que si comprar tomates hace que sea más probable comprar verduras, comprar verduras también hace más probable comprar tomates, aparecen las dos reglas."
      ],
      "metadata": {
        "id": "irbdeTBz7XwE"
      }
    },
    {
      "cell_type": "code",
      "source": [
        "# Extraer antecedentes y contar su frecuencia\n",
        "antecedents_counts = rules_lift['antecedents'].explode().value_counts()\n",
        "\n",
        "# Extraer consecuentes y contar su frecuencia\n",
        "consequents_counts = rules_lift['consequents'].explode().value_counts()\n",
        "\n",
        "# Colores para las secciones del gráfico\n",
        "colors = plt.cm.tab20.colors  # Colores del conjunto de colores tab20\n",
        "\n",
        "# Crear figura y subgráficos\n",
        "fig, axes = plt.subplots(1, 2, figsize=(16, 8))\n",
        "\n",
        "# Gráfico para antecedentes\n",
        "axes[0].pie(antecedents_counts, labels=antecedents_counts.index, autopct='%1.1f%%', startangle=140, colors=colors)\n",
        "axes[0].set_title('Frecuencia de elementos en antecedentes de las reglas de asociación')\n",
        "axes[0].axis('equal')\n",
        "\n",
        "# Gráfico para consecuentes\n",
        "axes[1].pie(consequents_counts, labels=consequents_counts.index, autopct='%1.1f%%', startangle=140, colors=colors)\n",
        "axes[1].set_title('Frecuencia de elementos en consecuentes de las reglas de asociación')\n",
        "axes[1].axis('equal')\n",
        "\n",
        "# Mostrar los gráficos\n",
        "plt.show()"
      ],
      "metadata": {
        "id": "rRaYSwxDYE1_"
      },
      "execution_count": null,
      "outputs": []
    },
    {
      "cell_type": "markdown",
      "source": [
        "A diferencia de la clasificación con confianza (que nos daba agua mineral casi todos los consecuentes), ahora en la clasificación teniendo en cuenta el lift tenemos las mismas apariciones de los alimentos en los antecedentes que en los consecuentes. Aparecen reglas de: si compro A es más probable que compre B y si compro B es más probable que compre A.\n",
        "\n",
        "Destacamos la presencia de agua mineral, verduras congeladas, carne picada y espaguetis en los antecedentes y consecuentes."
      ],
      "metadata": {
        "id": "3tcem08nAGTu"
      }
    },
    {
      "cell_type": "markdown",
      "source": [
        "Obtenemos las reglas utilizando el soporte con un umbral de 0.03:"
      ],
      "metadata": {
        "id": "Q8ivBgHJcVom"
      }
    },
    {
      "cell_type": "code",
      "source": [
        "# Generar reglas de asociación\n",
        "rules_support = association_rules(frequent_itemsets, metric=\"support\", min_threshold=0.03)\n",
        "\n",
        "# Imprimir las reglas generadas\n",
        "print(f\"\\n\\n -> Reglas generadas con support={0.3}:\")\n",
        "print(rules_support[['antecedents', 'consequents', 'support','confidence', 'lift']])"
      ],
      "metadata": {
        "id": "v60W-RNyiPe7"
      },
      "execution_count": null,
      "outputs": []
    },
    {
      "cell_type": "markdown",
      "source": [
        "El chocolate tiene una fuerte asociación con varios alimentos, como huevos, patatas fritas, leche, agua mineral y espaguetis.\n",
        "\n",
        "Los huevos también se asocian con una serie de productos, incluyendo patatas fritas, leche, agua mineral y espaguetis.\n",
        "\n",
        "Las patatas fritas se asocian con huevos y chocolate.\n",
        "\n",
        "La leche está asociada con el chocolate y los huevos.\n",
        "\n",
        "El agua mineral se asocia con chocolate, huevos, carne molida, leche, espaguetis y panqueques.\n",
        "\n",
        "La carne molida se asocia principalmente con el agua mineral y los espaguetis.\n",
        "\n",
        "Las asociaciones indican que el chocolate es versátil, los huevos, la leche y las patatas fritas son ingredientes básicos, la combinación de sabores dulces y salados es popular, el agua mineral se consume con comidas y la carne picada se usa principalmente en platos principales como la pasta."
      ],
      "metadata": {
        "id": "eWwHA5FH-nSq"
      }
    },
    {
      "cell_type": "code",
      "source": [
        "# Extraer antecedentes y contar su frecuencia\n",
        "antecedents_counts = rules_support['antecedents'].explode().value_counts()\n",
        "\n",
        "# Extraer consecuentes y contar su frecuencia\n",
        "consequents_counts = rules_support['consequents'].explode().value_counts()\n",
        "\n",
        "# Colores para las secciones del gráfico\n",
        "colors = plt.cm.tab20.colors  # Colores del conjunto de colores tab20\n",
        "\n",
        "# Crear figura y subgráficos\n",
        "fig, axes = plt.subplots(1, 2, figsize=(16, 8))\n",
        "\n",
        "# Gráfico para antecedentes\n",
        "axes[0].pie(antecedents_counts, labels=antecedents_counts.index, autopct='%1.1f%%', startangle=140, colors=colors)\n",
        "axes[0].set_title('Frecuencia de elementos en antecedentes de las reglas de asociación')\n",
        "axes[0].axis('equal')\n",
        "\n",
        "# Gráfico para consecuentes\n",
        "axes[1].pie(consequents_counts, labels=consequents_counts.index, autopct='%1.1f%%', startangle=140, colors=colors)\n",
        "axes[1].set_title('Frecuencia de elementos en consecuentes de las reglas de asociación')\n",
        "axes[1].axis('equal')\n",
        "\n",
        "# Mostrar los gráficos\n",
        "plt.show()"
      ],
      "metadata": {
        "id": "SMo1lKKtYLQ5"
      },
      "execution_count": null,
      "outputs": []
    },
    {
      "cell_type": "markdown",
      "source": [
        "Como en la gráfica anterior, hay la misma presencia en los antecedentes que en los consecuentes. Destacamos el agua mineral, huevos, chocolate y espaguetis."
      ],
      "metadata": {
        "id": "ZCl0wjpc-OyN"
      }
    },
    {
      "cell_type": "markdown",
      "source": [
        "Obtenemos las reglas utilizando la convicción con un umbral de 1.3:"
      ],
      "metadata": {
        "id": "K2FAhVJtcpPa"
      }
    },
    {
      "cell_type": "code",
      "source": [
        "# Generar reglas de asociación\n",
        "rules_conviction = association_rules(frequent_itemsets, metric=\"conviction\", min_threshold=1.3)\n",
        "\n",
        "# Imprimir las reglas generadas\n",
        "print(f\"\\n\\n -> Reglas generadas con conviction={1.3}:\")\n",
        "print(rules_conviction[['antecedents', 'consequents', 'support','confidence', 'lift']])"
      ],
      "metadata": {
        "id": "3P-jVOyyhHav"
      },
      "execution_count": null,
      "outputs": []
    },
    {
      "cell_type": "markdown",
      "source": [
        "Reglas parecidas a las del primer grupo (el de la confianza). Mientras que la confianza evalúa la probabilidad de que el consecuente ocurra dado el antecedente, la convicción evalúa la dependencia entre el antecedente y el consecuente considerando también los casos en los que el consecuente ocurre sin el antecedente."
      ],
      "metadata": {
        "id": "Gz1w9GkUAEjc"
      }
    },
    {
      "cell_type": "code",
      "source": [
        "# Extraer antecedentes y contar su frecuencia\n",
        "antecedents_counts = rules_conviction['antecedents'].explode().value_counts()\n",
        "\n",
        "# Extraer consecuentes y contar su frecuencia\n",
        "consequents_counts = rules_conviction['consequents'].explode().value_counts()\n",
        "\n",
        "# Colores para las secciones del gráfico\n",
        "colors = plt.cm.tab20.colors  # Colores del conjunto de colores tab20\n",
        "\n",
        "# Crear figura y subgráficos\n",
        "fig, axes = plt.subplots(1, 2, figsize=(16, 8))\n",
        "\n",
        "# Gráfico para antecedentes\n",
        "axes[0].pie(antecedents_counts, labels=antecedents_counts.index, autopct='%1.1f%%', startangle=140, colors=colors)\n",
        "axes[0].set_title('Frecuencia de elementos en antecedentes de las reglas de asociación')\n",
        "axes[0].axis('equal')\n",
        "\n",
        "# Gráfico para consecuentes\n",
        "axes[1].pie(consequents_counts, labels=consequents_counts.index, autopct='%1.1f%%', startangle=140, colors=colors)\n",
        "axes[1].set_title('Frecuencia de elementos en consecuentes de las reglas de asociación')\n",
        "axes[1].axis('equal')\n",
        "\n",
        "# Mostrar los gráficos\n",
        "plt.show()"
      ],
      "metadata": {
        "id": "n0eyO8LqYR5N"
      },
      "execution_count": null,
      "outputs": []
    },
    {
      "cell_type": "markdown",
      "source": [
        "Destacamos la presencia en los antecedentes de carne picada, leche y espaguetis y en los consecuentes (que solo hay tres) la presencia muy elevada del agua mineral."
      ],
      "metadata": {
        "id": "HP01OQa0BvVE"
      }
    },
    {
      "cell_type": "markdown",
      "source": [
        "Obtenemos las reglas utilizando el leverage con un umbral de 0.013:"
      ],
      "metadata": {
        "id": "3UVwrVsjctFO"
      }
    },
    {
      "cell_type": "code",
      "source": [
        "# Generar reglas de asociación\n",
        "rules_leverage = association_rules(frequent_itemsets, metric=\"leverage\", min_threshold=0.013)\n",
        "\n",
        "# Imprimir las reglas generadas\n",
        "print(f\"\\n\\n -> Reglas generadas con leverage={0.013}:\")\n",
        "print(rules_leverage[['antecedents', 'consequents', 'support','confidence', 'lift']])"
      ],
      "metadata": {
        "id": "87i_WUSZjfQ3"
      },
      "execution_count": null,
      "outputs": []
    },
    {
      "cell_type": "markdown",
      "source": [
        "De las reglas obtenidas podemos sacar las siguientes conclusiones:\n",
        "\n",
        "1. La compra de huevos está asociada con la compra de hamburguesas, y viceversa.\n",
        "\n",
        "$\\text{eggs} \\iff \\text{burgers}$\n",
        "\n",
        "2. La compra de chocolate está asociada con la compra de agua mineral, y viceversa.\n",
        "\n",
        "$\\text{chocolate} \\iff \\text{mineral water}$\n",
        "\n",
        "3. La compra de verduras congeladas está asociada con la compra de agua mineral, y viceversa.\n",
        "\n",
        "$\\text{mineral water} \\iff \\text{frozen vegetables}$\n",
        "\n",
        "4. La compra de carne molida está asociada con la compra de agua mineral, y viceversa.\n",
        "\n",
        "$\\text{ground beef} \\iff \\text{mineral water}$\n",
        "\n",
        "5. La compra de carne molida está asociada con la compra de espaguetis, y viceversa.\n",
        "\n",
        "$\\text{ground beef} \\iff \\text{spaghetti}$\n",
        "\n",
        "6. La compra de leche está asociada con la compra de agua mineral, y viceversa.\n",
        "\n",
        "$\\text{milk} \\iff \\text{mineral water}$\n",
        "\n",
        "7. La compra de agua mineral está asociada con la compra de espaguetis, y viceversa.\n",
        "\n",
        "$\\text{mineral water} \\iff \\text{spaghetti}$"
      ],
      "metadata": {
        "id": "yemLt4YIDkCE"
      }
    },
    {
      "cell_type": "code",
      "source": [
        "# Extraer antecedentes y contar su frecuencia\n",
        "antecedents_counts = rules_leverage['antecedents'].explode().value_counts()\n",
        "\n",
        "# Extraer consecuentes y contar su frecuencia\n",
        "consequents_counts = rules_leverage['consequents'].explode().value_counts()\n",
        "\n",
        "# Colores para las secciones del gráfico\n",
        "colors = plt.cm.tab20.colors  # Colores del conjunto de colores tab20\n",
        "\n",
        "# Crear figura y subgráficos\n",
        "fig, axes = plt.subplots(1, 2, figsize=(16, 8))\n",
        "\n",
        "# Gráfico para antecedentes\n",
        "axes[0].pie(antecedents_counts, labels=antecedents_counts.index, autopct='%1.1f%%', startangle=140, colors=colors)\n",
        "axes[0].set_title('Frecuencia de elementos en antecedentes de las reglas de asociación')\n",
        "axes[0].axis('equal')\n",
        "\n",
        "# Gráfico para consecuentes\n",
        "axes[1].pie(consequents_counts, labels=consequents_counts.index, autopct='%1.1f%%', startangle=140, colors=colors)\n",
        "axes[1].set_title('Frecuencia de elementos en consecuentes de las reglas de asociación')\n",
        "axes[1].axis('equal')\n",
        "\n",
        "# Mostrar los gráficos\n",
        "plt.show()"
      ],
      "metadata": {
        "id": "btPN8LrQYWSn"
      },
      "execution_count": null,
      "outputs": []
    },
    {
      "cell_type": "markdown",
      "source": [
        "Hay la misma presencia de antecedentes que de consecuentes. Destacan el agua mineral, la carne picada y los espaguetis."
      ],
      "metadata": {
        "id": "maVFgrLdC4PG"
      }
    },
    {
      "cell_type": "markdown",
      "source": [
        "Tras haber analizado **todos los gráficos** de tarta sacamos una conclusion muy importante, y es que hay dos tipos de criterios en función de estos resultados, los que en el conseucnete tienen mucho agua o los que en el consecuente tienen lo mismo que en el antedente. Esto se debe a que las reglas que buscan mucha fiabilidad tienden a tener en el consecuente elementos muy frecuentes que hacen que sea más fácil tener esa alta confianza. Por otro lado, las métricas que buscan una alta dependencia hace que como hay dependencia, la regla se cumpla tanto en un sentido como el otro, es decir, que los items se compran juntos, y uno no es causa del otro."
      ],
      "metadata": {
        "id": "S081LpkWnU1o"
      }
    },
    {
      "cell_type": "markdown",
      "source": [
        "Utilizando la misma gráfica anteriormente comentada en el apartado 3, que enfrenta la confianza y soporte de las reglas, se muestra todas las reglas obtenidas con cada métrica diferenciandolas con el color. Esta gráfica nos sirve para ver las diferencias entre cada métrica y también para ver la intersección entre ellas de una forma sencilla y visual."
      ],
      "metadata": {
        "id": "cLMH9EgsfeNP"
      }
    },
    {
      "cell_type": "code",
      "source": [
        "plt.figure(figsize=(10, 6))\n",
        "\n",
        "# Gráfico de dispersión para cada conjunto de datos con diferentes tamaños de puntos\n",
        "scatter1 = plt.scatter(rules_confidence['support'], rules_confidence['confidence'], s=100, color='orange')\n",
        "scatter2 = plt.scatter(rules_lift['support'], rules_lift['confidence'], s=80, color='red')\n",
        "scatter3 = plt.scatter(rules_support['support'], rules_support['confidence'], s=60, color='blue')\n",
        "scatter4 = plt.scatter(rules_conviction['support'], rules_conviction['confidence'], s=20, color='purple')\n",
        "scatter5 = plt.scatter(rules_leverage['support'], rules_leverage['confidence'], s=5, color='green')\n",
        "\n",
        "plt.xlabel('support')\n",
        "plt.ylabel('confidence')\n",
        "plt.title(\"\")\n",
        "\n",
        "# Fijar los límites de los ejes x e y\n",
        "plt.xlim([0.005, 0.08])\n",
        "plt.ylim([0.0, 0.6])\n",
        "\n",
        "# Leyenda\n",
        "plt.legend((scatter1, scatter2, scatter3, scatter4, scatter5),\n",
        " ('Confidence', 'Lift', 'Support','Conviction', 'Leverage'))\n",
        "\n",
        "plt.show()"
      ],
      "metadata": {
        "id": "9kzwc0-CQAVm"
      },
      "execution_count": null,
      "outputs": []
    },
    {
      "cell_type": "markdown",
      "source": [
        "Esta gráfica nos permite sacar conclusiones muy interesantes. Es importamte distinguir que cada métrica evalua cosas distintas aunque si se distinguen tres elementos fundamentales:\n",
        "\n",
        "* La fiabilidad de la regla\n",
        "* La frecuencia de la regla\n",
        "* La dependencia de los items en la regla\n",
        "\n",
        "Y en esta gráfica solo se van a tener en cuenta los dos primeros. Dicho esto las conclusiones obtenidas tras analizar la gráfica son:\n",
        "\n",
        "En primer lugar, todas las reglas del conjunto seleccionado por lift (puntos rojos) tienen un support muy bajo (se encuentran en el intervalo 0.01-0.02). Esto se debe a que el conjunto, que ha sido seleccionado por lift con un umbral de 2.35 tiene unas asociaaciones específicas entre ciertos alimentos que es significativa pero poco común entre las compras realizadas. Recordamos que el lift es cuánto más probable es que ocurra Y dado que ocurrió X, en comparación con si fueran eventos independientes. Es por lo tanto, que este grupo tiene una asociación significativa pero poco frecuente en las compras, lo que puede deberse a preferencias o hábitos alimenticios específicos de ciertos grupos de clientes.\n",
        "\n",
        "En segundo lugar, si se tiene tanto un alto Lift como una alta convicción, se está observando una fuerte relación entre X e Y, donde la ocurrencia de X no solo aumenta significativamente la probabilidad de Y, sino que también X es un indicador confiable de la ocurrencia de Y. Esto implica que los dos eventos están muy interrelacionados y pueden influenciarse mutuamente de manera significativa. Esto se puede ver en dos intersecciones entre los grupos lif y conviction, tienen un soporte muy bajo pero una confianza superior a 0.3.\n",
        "\n",
        "En tercer lugar, lógicamente, se pueden distinguir los puntos amarillos y azules en el gráfico, puesto que el conjunto confidence tiene una confianza elevada y el grupo support tiene un soporte alto. Solo hay una intersección (que se calculará más adelante), una relación sólida y ampliamente aceptada entre los elementos X e Y. Esto implica que no solo la ocurrencia de Y es probable cuando ocurre X, sino que también esta asociación es muy común en el conjunto de datos.\n",
        "\n",
        "En cuarto lugar, la mayoría de las intersecciones del conjunto de alta confianza son con el conjunto de alta convicción. Recordamos que La convicción mide la fuerza de la implicación entre dos elementos en un conjunto de datos y se calcula como 1−confianza. Por lo tanto, una alta convicción implica que la relación entre X e Y es muy fuerte y se sostiene incluso si invertimos el orden de los elementos. Es decir, si X implica fuertemente a Y, entonces la convicción será alta. Cuando tanto la confianza como la convicción son altas, se está observando una asociación robusta y altamente significativa entre los elementos X e Y. Esto implica que no solo la ocurrencia de Y es probable cuando ocurre X, sino que también esta asociación es muy fuerte y se mantiene independientemente del orden en el que ocurran los eventos.\n",
        "\n",
        "Por último, todas las intersecciones del grupo leverage son con el conjunto support. Una de estas intersecciones sucede cuando hay una relación fuerte y generalizada entre los elementos. Esto significa que la presencia de un elemento tiene un impacto significativo en la ocurrencia del otro, y esta asociación es comúnmente observada en el conjunto de datos."
      ],
      "metadata": {
        "id": "O_whEu44c7UT"
      }
    },
    {
      "cell_type": "markdown",
      "source": [
        "Para comprobar esto y analizarlo más en detalle se va a explicar las intersecciones entre estas métrcias en los casos que se han considerado interesantes."
      ],
      "metadata": {
        "id": "3XAMnfFzmUv3"
      }
    },
    {
      "cell_type": "code",
      "source": [
        "# Calcular la intersección\n",
        "columnsas = ['antecedents', 'consequents', 'antecedent support',\n",
        "       'consequent support', 'support', 'confidence', 'lift', 'leverage',\n",
        "       'conviction', 'zhangs_metric']\n",
        "\n",
        "interseccion_conf_sup = pd.merge(rules_confidence, rules_support, how='inner',\n",
        "                        on=columnsas)\n",
        "print(\" -> Confidence y support: \")\n",
        "print(interseccion_conf_sup)"
      ],
      "metadata": {
        "id": "u5hqWwGARNET"
      },
      "execution_count": null,
      "outputs": []
    },
    {
      "cell_type": "markdown",
      "source": [
        "Analizando la regla obtenida en la intersección de alta confianza y alto soporte obtenemos:\n",
        "\n",
        "1. **Regla 1 (Ground Beef -> Mineral Water)**:  Esta regla sugiere que los clientes que compran ground beef también tienden a comprar agua mineral.\n",
        "   - El **support** para el itemset **{ground beef}** es del **9.83%**.\n",
        "   - La **confianza** de la regla es del **41.66%**, lo que significa que el **41.66%** de las transacciones que contienen **ground beef** también contienen **mineral water**.\n",
        "   - El **lift** es de **1.75**, lo que indica que la probabilidad de comprar **mineral water** aumenta **1.75 veces** cuando se compra **ground beef**.\n",
        "   - El **leverage** es **0.0175**, lo que sugiere una relación positiva entre **ground beef** y **mineral water**.\n",
        "   - El **conviction** es **1.31**, lo que implica que la compra de **ground beef** no está fuertemente influenciada por la presencia de **mineral water**.\n",
        "\n",
        "En resumen, esta regla indica que hay una asociación positiva entre **ground beef** y **mineral water** en el supermercado, es decir, os clientes que compran **ground beef** también tienden a comprar **mineral water**. Sin embargo, la fuerza de esta asociación no es muy alta, ya que la confianza y el lift no son valores extremadamente altos."
      ],
      "metadata": {
        "id": "jPWmU4RrT7Iu"
      }
    },
    {
      "cell_type": "code",
      "source": [
        "interseccion_conf_conv = pd.merge(rules_confidence, rules_conviction, how='inner',\n",
        "                        on=columnsas)\n",
        "print(\" -> Confidence y conviction: \")\n",
        "print(interseccion_conf_conv)"
      ],
      "metadata": {
        "id": "Fqb2ju7YSJQU"
      },
      "execution_count": null,
      "outputs": []
    },
    {
      "cell_type": "markdown",
      "source": [
        "Las **14 reglas** que se encuentran tienen una alta confianza y alta convicción, y eso parece cuasar que el consecuente sea el **agua (mineral water)**. Esto se debe a que el algoritmo de asociación tiende a encontrar patrones fuertes entre los elementos más frecuentes, especialmente con estas dos métricas. Dado que **mineral water** es un artículo común en las transacciones, es natural que aparezca en muchas de estas reglas.\n",
        "\n",
        "En resumen, la alta confianza y convicción en estas reglas está influenciada por la frecuencia de **mineral water** en las compras de los clientes. Si un cliente compra:\n",
        "\n",
        "1. **Ground Beef (Carne picada)**\n",
        "2. **Olive Oil (Aceite de oliva)**\n",
        "3. **Soup (Sopa)**\n",
        "4. **Chocolate y Ground Beef (Carne picada)**\n",
        "5. **Chocolate y Milk (Leche)**\n",
        "6. **Eggs y Ground Beef (Carne picada)**\n",
        "7. **Eggs y Milk (Leche)**\n",
        "8. **Milk y Frozen Vegetables (Vegetales congelados)**\n",
        "9. **Frozen Vegetables (Vegetales congelados) y Spaghetti**\n",
        "10. **Ground Beef (Carne picada) y Milk (Leche)**\n",
        "12. **Ground Beef (Carne picada) y Spaghetti**\n",
        "13. **Milk (Leche) y Spaghetti**\n",
        "14. **Olive Oil (Aceite de oliva) y Spaghetti**\n",
        "15. **Pancakes y Spaghetti**\n",
        "\n",
        "Entonces es probable que también compre **mineral water** debido a esta asociación frecuente."
      ],
      "metadata": {
        "id": "4O2xB_QeVBzw"
      }
    },
    {
      "cell_type": "code",
      "source": [
        "interseccion_lift_conv = pd.merge(rules_lift, rules_conviction, how='inner',\n",
        "                        on=columnsas)\n",
        "print(\" -> Lift y conviction: \")\n",
        "print(interseccion_lift_conv)"
      ],
      "metadata": {
        "id": "G3Eqc3M6SHJB"
      },
      "execution_count": null,
      "outputs": []
    },
    {
      "cell_type": "markdown",
      "source": [
        "Analizando la regla obtenida en la intersección de alto lift y alta convicción obtenemos:\n",
        "\n",
        "1. **Regla 1: (herb & pepper) -> (ground beef)**:  Esta regla sugiere que los clientes que compran hierbas y pimienta también tienden a comprar carne picada.\n",
        "   - El **soporte** para el conjunto de ítems **{herb & pepper}** es del **1.5998%**.\n",
        "   - La **confianza** de la regla es del **32.345%**, lo que significa que el **32.345%** de las transacciones que contienen **herb & pepper** también contienen **ground beef**.\n",
        "   - El **lift** es de **3.29**, lo que indica que la probabilidad de comprar **ground beef** aumenta **3.29 veces** cuando se compra **herb & pepper**.\n",
        "   - La métrica de Zhang de **0.732460** indica una correlación positiva fuerte entre estos elementos.\n",
        "\n",
        "2. **Regla 2: (ground beef, mineral water) -> (spaghetti)**: Esta regla sugiere que los clientes que compran carne picada y agua mineral también tienden a comprar espaguetis.\n",
        "   - El **soporte** para el conjunto de ítems **{ground beef, mineral water}** es del **1.7064%**.\n",
        "   - La **confianza** de la regla es del **41.6938%**, lo que significa que el **41.6938%** de las transacciones que contienen **ground beef y mineral water** también contienen **spaghetti**.\n",
        "   - El **lift** es de **2.39**, lo que indica que la probabilidad de comprar **spaghetti** aumenta **2.39 veces** cuando se compran **ground beef y mineral water**.\n",
        "   - La métrica de Zhang de **0.607262** indica una correlación positiva moderada entre estos elementos."
      ],
      "metadata": {
        "id": "REZR1wqoWvKJ"
      }
    },
    {
      "cell_type": "markdown",
      "source": [
        "## 5.- (1 punto)\n",
        "\n",
        "Dadas las mejores configuraciones. ¿Existen reglas o patrones que se repitan? ¿Podemos generalizar de alguna manera como se comportan los clientes del supermercado?"
      ],
      "metadata": {
        "id": "zj6K6EBqdwOU"
      }
    },
    {
      "cell_type": "markdown",
      "source": [
        "Ahora juntamos las reglas que hemos obtenido con todas las métricas en un mismo dataframe para poder compararlas todas juntas y ver las diferencias entre la métricas."
      ],
      "metadata": {
        "id": "bCZpWN15OYEi"
      }
    },
    {
      "cell_type": "code",
      "source": [
        "import pandas as pd\n",
        "\n",
        "# Unir todos los conjuntos de datos\n",
        "all_rules = pd.concat([rules_confidence, rules_lift, rules_support, rules_conviction, rules_leverage])\n",
        "\n",
        "# Eliminar las reglas duplicadas\n",
        "all_rules_unique = all_rules.drop_duplicates()\n",
        "\n",
        "# Restablecer el índice de all_rules_unique\n",
        "all_rules_unique = all_rules_unique.reset_index(drop=True)\n",
        "print(all_rules_unique)"
      ],
      "metadata": {
        "id": "fJOQ7iu3S10t"
      },
      "execution_count": null,
      "outputs": []
    },
    {
      "cell_type": "markdown",
      "source": [
        "De las 72 reglas que tenemos, ahora definimos dos criterios para seleccionar las reglas más destacables y filtrar de las 72 las que son más prometedoras."
      ],
      "metadata": {
        "id": "-y5ZT6qvd-PY"
      }
    },
    {
      "cell_type": "markdown",
      "source": [
        "El **criterio 1** es más exigente en términos de confianza y lift, mientras que el criterio 2 es más exigente en términos de soporte y leverage. Si se prioriza una asociación más fuerte y confiable entre los elementos, el criterio 1 es preferible. Para que una regla sea considerada bajo este criterio, debe tener una confianza mayor al 40%, un lift mayor a 1.9, un soporte mayor al 1%, y un leverage mayor a 0.005."
      ],
      "metadata": {
        "id": "53Q9PUHFWweX"
      }
    },
    {
      "cell_type": "code",
      "source": [
        "# Definir un criterio para seleccionar las mejores reglas\n",
        "criterio1 = ((all_rules_unique['confidence'] > 0.4) &\n",
        "            (all_rules_unique['lift'] > 1.9) &\n",
        "            (all_rules_unique['support'] > 0.01) &\n",
        "            (all_rules_unique['leverage'] > 0.005))\n",
        "\n",
        "# Aplicar el criterio para seleccionar las mejores reglas\n",
        "print(all_rules_unique[criterio1])"
      ],
      "metadata": {
        "id": "hiqWA92dVBrZ"
      },
      "execution_count": null,
      "outputs": []
    },
    {
      "cell_type": "markdown",
      "source": [
        "Seis de las siete reglas tienen como consecuente el agua mineral. A simple vista la que más llama la atención es la 5 (chocolate y ground beef implican mineral water), ya que es una regla que difícilmente una persona pensaría. Parece raro relacionar estos tres elementos, sin embargo tiene mucho sentido. La única regla que no tiene agua mineral como consecuente, la tiene como antecedente, la 13 (ground beef y mineral water implican spaghetti). Esta última tiene mucho más sentido.             "
      ],
      "metadata": {
        "id": "SoL5LioFGm17"
      }
    },
    {
      "cell_type": "markdown",
      "source": [
        "El **criterio 2** prioriza reglas con un soporte y leverage más altos, exigiendo que al menos el 4% de todas las transacciones contengan tanto el antecedente como el consecuente de la regla, y que exista una relación positiva entre estos elementos. Este criterio es más apropiado si se busca una mayor aplicabilidad de las reglas en un conjunto más amplio de transacciones, aunque la asociación entre los elementos puede no ser tan fuerte y confiable como en el criterio 1."
      ],
      "metadata": {
        "id": "PhR_8qzueRvO"
      }
    },
    {
      "cell_type": "code",
      "source": [
        "# Definir un criterio para seleccionar las mejores reglas\n",
        "criterio2 = ((all_rules_unique['confidence'] > 0.15) &\n",
        "                        (all_rules_unique['lift'] > 1.4) &\n",
        "                        (all_rules_unique['support'] > 0.04) &\n",
        "                        (all_rules_unique['leverage'] > 0.017))\n",
        "\n",
        "# Aplicar el criterio para seleccionar las mejores reglas\n",
        "print(all_rules_unique[criterio2])"
      ],
      "metadata": {
        "id": "TFRg5NZuW1cj"
      },
      "execution_count": null,
      "outputs": []
    },
    {
      "cell_type": "markdown",
      "source": [
        "De estas 6 reglas todas tienen agua mineral, 3 en los antecedentes y 3 en los consecuentes. De hecho se relaciona el agua con la leche, la carne picada y los espaguetis, en ambos sentidos.\n",
        "\n",
        "$$\\text{mineral water} \\iff \\text{ground beef}$$\n",
        "$$\\text{mineral water} \\iff \\text{milk}$$\n",
        "$$\\text{mineral water} \\iff \\text{spaghetti}$$"
      ],
      "metadata": {
        "id": "czM0eF7FIDNj"
      }
    },
    {
      "cell_type": "markdown",
      "source": [
        "Por último vamos a estudiar las reglas que contienen un antecesor que hemos considerado interesante. Esto es algo muy relevante, puesto que se pueden ver todas las relaciones, es decir, todas las reglas que se obtienen dado un alimento."
      ],
      "metadata": {
        "id": "1fYzcFnQZ3kQ"
      }
    },
    {
      "cell_type": "code",
      "source": [
        "# Filtrar reglas que contienen 'chocolate' como antecedente\n",
        "chocolate_rules = all_rules_unique[all_rules_unique['antecedents'].apply(lambda x: 'chocolate' in x)]\n",
        "\n",
        "# Imprimir las reglas encontradas\n",
        "print(chocolate_rules)"
      ],
      "metadata": {
        "id": "FKLQks22aFkd"
      },
      "execution_count": null,
      "outputs": []
    },
    {
      "cell_type": "markdown",
      "source": [
        "Estas reglas llaman mucho la atención, puesto que se relaciona el chocolate con los huevos, los espaguetis y las patatas fritas.\n",
        "\n",
        "La combinación de \"chocolate\" con \"eggs\" o \"ground beef\" puede indicar recetas específicas que requieren estos ingredientes juntos, como pasteles de chocolate con huevos o salsas de chocolate para acompañar la carne.\n",
        "\n",
        "La asociación de \"chocolate\" con \"milk\" podría deberse al hecho de que el chocolate a menudo se consume con leche, ya sea como bebida o en forma de productos lácteos con sabor a chocolate.\n",
        "\n",
        "La asociación de \"chocolate\" con \"mineral water\" podría indicar que estos son productos básicos que los clientes tienden a comprar juntos durante sus compras habituales.\n",
        "\n",
        "La asociación de \"chocolate\" con \"spaghetti\" podría parecer sorprendente a primera vista, pero puede reflejar patrones de compra donde los clientes que compran ingredientes para una cena especial también agregan un postre de chocolate a su compra.\n",
        "\n",
        "Snacks: La asociación de \"chocolate\" con \"french fries\" puede indicar una combinación de productos que los clientes disfrutan como parte de su experiencia de compra, posiblemente como opciones para complementar sus comidas o como tentempiés durante el día."
      ],
      "metadata": {
        "id": "MTazRS9HMLZI"
      }
    },
    {
      "cell_type": "code",
      "source": [
        "# Filtrar reglas que contienen 'burguer' como antecedente\n",
        "vegetables_rules = all_rules_unique[all_rules_unique['antecedents'].apply(lambda x: 'frozen vegetables' in x)]\n",
        "\n",
        "# Imprimir las reglas encontradas\n",
        "print(vegetables_rules)"
      ],
      "metadata": {
        "id": "GqKdo5CybMwy"
      },
      "execution_count": null,
      "outputs": []
    },
    {
      "cell_type": "markdown",
      "source": [
        "Estas reglas proporcionan información valiosa sobre las relaciones entre los productos y los patrones de compra de los clientes, lo que puede ser útil para la planificación de inventario, la disposición de la tienda, la segmentación de clientes y la personalización de ofertas y promociones.\n",
        "\n",
        "\n",
        "**Complementariedad de productos:**\n",
        "\n",
        "Los productos en los antecedentes y consecuentes de estas reglas pueden ser naturalmente complementarios en términos de uso o consumo. Por ejemplo, la compra de verduras congeladas y gambas puede ser común porque son ingredientes comunes en una variedad de platos de mariscos o platos de cocina internacional.\n",
        "\n",
        "**Hábitos de compra:**\n",
        "\n",
        "Los patrones de compra de los clientes pueden influir en estas asociaciones. Por ejemplo, si los clientes suelen comprar leche y verduras congeladas juntos para abastecerse de productos básicos de la despensa, es probable que también agreguen otros artículos comunes a su carrito, como agua mineral.\n",
        "\n",
        "**Ofertas y promociones:**\n",
        "\n",
        "Las estrategias de venta y las promociones pueden influir en estas asociaciones. Por ejemplo, si hay una promoción que ofrece agua mineral a un precio especial cuando se compran verduras congeladas y espaguetis juntos, es probable que veamos una mayor asociación entre estos productos en las transacciones.\n",
        "\n",
        "**Preferencias culturales o estacionales:**\n",
        "\n",
        "Los productos que se compran juntos pueden reflejar preferencias culturales o estacionales. Por ejemplo, ciertos ingredientes pueden ser más populares en determinadas épocas del año debido a las temporadas de cultivo o a festividades específicas.\n",
        "\n",
        "\n",
        "\n"
      ],
      "metadata": {
        "id": "5Ym-EabTOrMy"
      }
    },
    {
      "cell_type": "markdown",
      "metadata": {
        "id": "Y4Dd2h6GOOrO"
      },
      "source": [
        "# Práctica 2 (Patrones Secuenciales)\n",
        "Valor (5 puntos)\n",
        "\n",
        "El conjunto de datos “Online Retail.xlsx” contiene productos (definidos por la columna StockCode y Description) comprados por diferentes clientes (definidos por la columna CustomerID) en diferentes momentos (definidos por el campo InvoiceDate).\n",
        "\n",
        "1.- (2 puntos) Habrá que procesar el fichero para crear una lista de los distintos clientes con las secuencias de las transacciones de las compras realizadas en distintos instantes.\n",
        "\n",
        "Una vez hecho esto y analizando esta información se pueden extraer conclusiones sobre en que orden compran los clientes los productos y así tomar decisiones de negocio. Este estudio se puede llevar a cabo aplicando el algoritmo Generalized Sequential Patterns utilizando la implementación de éste disponible en la librería gsppy.\n",
        "\n",
        "2.- (1 punto) Prueba al menos dos configuraciones de soporte diferentes.\n",
        "\n",
        "3.- (1 puntos) Para una de ellas, interpreta algunos de los patrones secuenciales que te resulten curiosos.\n",
        "\n",
        "4.- (1 punto) Saca conclusiones de negocio en virtud de algunas de las reglas elegidas por vosotros que mayor confianza tengan.\n",
        "\n",
        "Librería gsppy:\n",
        "Podéis encontrar su documentación en el siguiente enlace: https://pypi.org/project/gsppy/"
      ]
    },
    {
      "cell_type": "markdown",
      "metadata": {
        "id": "EhbTYNmmOOra"
      },
      "source": [
        "## 1.- (2 puntos)\n",
        "\n",
        "Habrá que procesar el fichero para crear una lista de los distintos clientes con las secuencias de las transacciones de las compras realizadas en distintos instantes."
      ]
    },
    {
      "cell_type": "markdown",
      "metadata": {
        "id": "EhSi8pXVOOrb"
      },
      "source": [
        "Cargamos la base de datos con la que vamos a trabajar. Por comodidad, se ha decidido subirla a Google Drive y cargarla desde ahí:"
      ]
    },
    {
      "cell_type": "code",
      "execution_count": null,
      "metadata": {
        "id": "u9JvIk2NCfLt"
      },
      "outputs": [],
      "source": [
        "import warnings\n",
        "warnings.filterwarnings(\"ignore\", category=DeprecationWarning)"
      ]
    },
    {
      "cell_type": "code",
      "execution_count": null,
      "metadata": {
        "id": "Y66v5KwmnrEj",
        "colab": {
          "base_uri": "https://localhost:8080/"
        },
        "outputId": "a34eb29a-c31c-4ab4-c8ed-0ab068a32427"
      },
      "outputs": [
        {
          "output_type": "stream",
          "name": "stdout",
          "text": [
            "Drive already mounted at /content/drive; to attempt to forcibly remount, call drive.mount(\"/content/drive\", force_remount=True).\n"
          ]
        }
      ],
      "source": [
        "import csv\n",
        "import numpy as np\n",
        "import pandas as pd\n",
        "import matplotlib.pyplot as plt\n",
        "\n",
        "from google.colab import drive\n",
        "drive.mount('/content/drive')#, force_remount=True)\n",
        "directorio_drive = '/content/drive/MyDrive/Colab/Online Retail.xlsx'\n",
        "\n",
        "# Carga el archivo Excel en un DataFrame.\n",
        "data = pd.read_excel(directorio_drive)"
      ]
    },
    {
      "cell_type": "markdown",
      "metadata": {
        "id": "bwrUNTEc8vh_"
      },
      "source": [
        "Se crea una copia del dataset para no perder los datos originales:"
      ]
    },
    {
      "cell_type": "code",
      "execution_count": null,
      "metadata": {
        "id": "4vE3enBPqYo9"
      },
      "outputs": [],
      "source": [
        "df = data.copy()"
      ]
    },
    {
      "cell_type": "markdown",
      "metadata": {
        "id": "rG-k94io0aDq"
      },
      "source": [
        "Representamos los datos para ver su formato."
      ]
    },
    {
      "cell_type": "code",
      "execution_count": null,
      "metadata": {
        "id": "26BbkzNaoJXi",
        "colab": {
          "base_uri": "https://localhost:8080/",
          "height": 204
        },
        "outputId": "b28ee571-7daf-47f6-aca6-d9edb8880a5a"
      },
      "outputs": [
        {
          "output_type": "execute_result",
          "data": {
            "text/plain": [
              "  InvoiceNo StockCode                          Description  Quantity  \\\n",
              "0    536365    85123A   WHITE HANGING HEART T-LIGHT HOLDER         6   \n",
              "1    536365     71053                  WHITE METAL LANTERN         6   \n",
              "2    536365    84406B       CREAM CUPID HEARTS COAT HANGER         8   \n",
              "3    536365    84029G  KNITTED UNION FLAG HOT WATER BOTTLE         6   \n",
              "4    536365    84029E       RED WOOLLY HOTTIE WHITE HEART.         6   \n",
              "\n",
              "          InvoiceDate  UnitPrice  CustomerID         Country  \n",
              "0 2010-12-01 08:26:00       2.55       17850  United Kingdom  \n",
              "1 2010-12-01 08:26:00       3.39       17850  United Kingdom  \n",
              "2 2010-12-01 08:26:00       2.75       17850  United Kingdom  \n",
              "3 2010-12-01 08:26:00       3.39       17850  United Kingdom  \n",
              "4 2010-12-01 08:26:00       3.39       17850  United Kingdom  "
            ],
            "text/html": [
              "\n",
              "  <div id=\"df-63f1416c-f3c5-4195-9315-dedcfcb32636\" class=\"colab-df-container\">\n",
              "    <div>\n",
              "<style scoped>\n",
              "    .dataframe tbody tr th:only-of-type {\n",
              "        vertical-align: middle;\n",
              "    }\n",
              "\n",
              "    .dataframe tbody tr th {\n",
              "        vertical-align: top;\n",
              "    }\n",
              "\n",
              "    .dataframe thead th {\n",
              "        text-align: right;\n",
              "    }\n",
              "</style>\n",
              "<table border=\"1\" class=\"dataframe\">\n",
              "  <thead>\n",
              "    <tr style=\"text-align: right;\">\n",
              "      <th></th>\n",
              "      <th>InvoiceNo</th>\n",
              "      <th>StockCode</th>\n",
              "      <th>Description</th>\n",
              "      <th>Quantity</th>\n",
              "      <th>InvoiceDate</th>\n",
              "      <th>UnitPrice</th>\n",
              "      <th>CustomerID</th>\n",
              "      <th>Country</th>\n",
              "    </tr>\n",
              "  </thead>\n",
              "  <tbody>\n",
              "    <tr>\n",
              "      <th>0</th>\n",
              "      <td>536365</td>\n",
              "      <td>85123A</td>\n",
              "      <td>WHITE HANGING HEART T-LIGHT HOLDER</td>\n",
              "      <td>6</td>\n",
              "      <td>2010-12-01 08:26:00</td>\n",
              "      <td>2.55</td>\n",
              "      <td>17850</td>\n",
              "      <td>United Kingdom</td>\n",
              "    </tr>\n",
              "    <tr>\n",
              "      <th>1</th>\n",
              "      <td>536365</td>\n",
              "      <td>71053</td>\n",
              "      <td>WHITE METAL LANTERN</td>\n",
              "      <td>6</td>\n",
              "      <td>2010-12-01 08:26:00</td>\n",
              "      <td>3.39</td>\n",
              "      <td>17850</td>\n",
              "      <td>United Kingdom</td>\n",
              "    </tr>\n",
              "    <tr>\n",
              "      <th>2</th>\n",
              "      <td>536365</td>\n",
              "      <td>84406B</td>\n",
              "      <td>CREAM CUPID HEARTS COAT HANGER</td>\n",
              "      <td>8</td>\n",
              "      <td>2010-12-01 08:26:00</td>\n",
              "      <td>2.75</td>\n",
              "      <td>17850</td>\n",
              "      <td>United Kingdom</td>\n",
              "    </tr>\n",
              "    <tr>\n",
              "      <th>3</th>\n",
              "      <td>536365</td>\n",
              "      <td>84029G</td>\n",
              "      <td>KNITTED UNION FLAG HOT WATER BOTTLE</td>\n",
              "      <td>6</td>\n",
              "      <td>2010-12-01 08:26:00</td>\n",
              "      <td>3.39</td>\n",
              "      <td>17850</td>\n",
              "      <td>United Kingdom</td>\n",
              "    </tr>\n",
              "    <tr>\n",
              "      <th>4</th>\n",
              "      <td>536365</td>\n",
              "      <td>84029E</td>\n",
              "      <td>RED WOOLLY HOTTIE WHITE HEART.</td>\n",
              "      <td>6</td>\n",
              "      <td>2010-12-01 08:26:00</td>\n",
              "      <td>3.39</td>\n",
              "      <td>17850</td>\n",
              "      <td>United Kingdom</td>\n",
              "    </tr>\n",
              "  </tbody>\n",
              "</table>\n",
              "</div>\n",
              "    <div class=\"colab-df-buttons\">\n",
              "\n",
              "  <div class=\"colab-df-container\">\n",
              "    <button class=\"colab-df-convert\" onclick=\"convertToInteractive('df-63f1416c-f3c5-4195-9315-dedcfcb32636')\"\n",
              "            title=\"Convert this dataframe to an interactive table.\"\n",
              "            style=\"display:none;\">\n",
              "\n",
              "  <svg xmlns=\"http://www.w3.org/2000/svg\" height=\"24px\" viewBox=\"0 -960 960 960\">\n",
              "    <path d=\"M120-120v-720h720v720H120Zm60-500h600v-160H180v160Zm220 220h160v-160H400v160Zm0 220h160v-160H400v160ZM180-400h160v-160H180v160Zm440 0h160v-160H620v160ZM180-180h160v-160H180v160Zm440 0h160v-160H620v160Z\"/>\n",
              "  </svg>\n",
              "    </button>\n",
              "\n",
              "  <style>\n",
              "    .colab-df-container {\n",
              "      display:flex;\n",
              "      gap: 12px;\n",
              "    }\n",
              "\n",
              "    .colab-df-convert {\n",
              "      background-color: #E8F0FE;\n",
              "      border: none;\n",
              "      border-radius: 50%;\n",
              "      cursor: pointer;\n",
              "      display: none;\n",
              "      fill: #1967D2;\n",
              "      height: 32px;\n",
              "      padding: 0 0 0 0;\n",
              "      width: 32px;\n",
              "    }\n",
              "\n",
              "    .colab-df-convert:hover {\n",
              "      background-color: #E2EBFA;\n",
              "      box-shadow: 0px 1px 2px rgba(60, 64, 67, 0.3), 0px 1px 3px 1px rgba(60, 64, 67, 0.15);\n",
              "      fill: #174EA6;\n",
              "    }\n",
              "\n",
              "    .colab-df-buttons div {\n",
              "      margin-bottom: 4px;\n",
              "    }\n",
              "\n",
              "    [theme=dark] .colab-df-convert {\n",
              "      background-color: #3B4455;\n",
              "      fill: #D2E3FC;\n",
              "    }\n",
              "\n",
              "    [theme=dark] .colab-df-convert:hover {\n",
              "      background-color: #434B5C;\n",
              "      box-shadow: 0px 1px 3px 1px rgba(0, 0, 0, 0.15);\n",
              "      filter: drop-shadow(0px 1px 2px rgba(0, 0, 0, 0.3));\n",
              "      fill: #FFFFFF;\n",
              "    }\n",
              "  </style>\n",
              "\n",
              "    <script>\n",
              "      const buttonEl =\n",
              "        document.querySelector('#df-63f1416c-f3c5-4195-9315-dedcfcb32636 button.colab-df-convert');\n",
              "      buttonEl.style.display =\n",
              "        google.colab.kernel.accessAllowed ? 'block' : 'none';\n",
              "\n",
              "      async function convertToInteractive(key) {\n",
              "        const element = document.querySelector('#df-63f1416c-f3c5-4195-9315-dedcfcb32636');\n",
              "        const dataTable =\n",
              "          await google.colab.kernel.invokeFunction('convertToInteractive',\n",
              "                                                    [key], {});\n",
              "        if (!dataTable) return;\n",
              "\n",
              "        const docLinkHtml = 'Like what you see? Visit the ' +\n",
              "          '<a target=\"_blank\" href=https://colab.research.google.com/notebooks/data_table.ipynb>data table notebook</a>'\n",
              "          + ' to learn more about interactive tables.';\n",
              "        element.innerHTML = '';\n",
              "        dataTable['output_type'] = 'display_data';\n",
              "        await google.colab.output.renderOutput(dataTable, element);\n",
              "        const docLink = document.createElement('div');\n",
              "        docLink.innerHTML = docLinkHtml;\n",
              "        element.appendChild(docLink);\n",
              "      }\n",
              "    </script>\n",
              "  </div>\n",
              "\n",
              "\n",
              "<div id=\"df-fe27b7f9-95e0-4f78-b608-bc200729dcbf\">\n",
              "  <button class=\"colab-df-quickchart\" onclick=\"quickchart('df-fe27b7f9-95e0-4f78-b608-bc200729dcbf')\"\n",
              "            title=\"Suggest charts\"\n",
              "            style=\"display:none;\">\n",
              "\n",
              "<svg xmlns=\"http://www.w3.org/2000/svg\" height=\"24px\"viewBox=\"0 0 24 24\"\n",
              "     width=\"24px\">\n",
              "    <g>\n",
              "        <path d=\"M19 3H5c-1.1 0-2 .9-2 2v14c0 1.1.9 2 2 2h14c1.1 0 2-.9 2-2V5c0-1.1-.9-2-2-2zM9 17H7v-7h2v7zm4 0h-2V7h2v10zm4 0h-2v-4h2v4z\"/>\n",
              "    </g>\n",
              "</svg>\n",
              "  </button>\n",
              "\n",
              "<style>\n",
              "  .colab-df-quickchart {\n",
              "      --bg-color: #E8F0FE;\n",
              "      --fill-color: #1967D2;\n",
              "      --hover-bg-color: #E2EBFA;\n",
              "      --hover-fill-color: #174EA6;\n",
              "      --disabled-fill-color: #AAA;\n",
              "      --disabled-bg-color: #DDD;\n",
              "  }\n",
              "\n",
              "  [theme=dark] .colab-df-quickchart {\n",
              "      --bg-color: #3B4455;\n",
              "      --fill-color: #D2E3FC;\n",
              "      --hover-bg-color: #434B5C;\n",
              "      --hover-fill-color: #FFFFFF;\n",
              "      --disabled-bg-color: #3B4455;\n",
              "      --disabled-fill-color: #666;\n",
              "  }\n",
              "\n",
              "  .colab-df-quickchart {\n",
              "    background-color: var(--bg-color);\n",
              "    border: none;\n",
              "    border-radius: 50%;\n",
              "    cursor: pointer;\n",
              "    display: none;\n",
              "    fill: var(--fill-color);\n",
              "    height: 32px;\n",
              "    padding: 0;\n",
              "    width: 32px;\n",
              "  }\n",
              "\n",
              "  .colab-df-quickchart:hover {\n",
              "    background-color: var(--hover-bg-color);\n",
              "    box-shadow: 0 1px 2px rgba(60, 64, 67, 0.3), 0 1px 3px 1px rgba(60, 64, 67, 0.15);\n",
              "    fill: var(--button-hover-fill-color);\n",
              "  }\n",
              "\n",
              "  .colab-df-quickchart-complete:disabled,\n",
              "  .colab-df-quickchart-complete:disabled:hover {\n",
              "    background-color: var(--disabled-bg-color);\n",
              "    fill: var(--disabled-fill-color);\n",
              "    box-shadow: none;\n",
              "  }\n",
              "\n",
              "  .colab-df-spinner {\n",
              "    border: 2px solid var(--fill-color);\n",
              "    border-color: transparent;\n",
              "    border-bottom-color: var(--fill-color);\n",
              "    animation:\n",
              "      spin 1s steps(1) infinite;\n",
              "  }\n",
              "\n",
              "  @keyframes spin {\n",
              "    0% {\n",
              "      border-color: transparent;\n",
              "      border-bottom-color: var(--fill-color);\n",
              "      border-left-color: var(--fill-color);\n",
              "    }\n",
              "    20% {\n",
              "      border-color: transparent;\n",
              "      border-left-color: var(--fill-color);\n",
              "      border-top-color: var(--fill-color);\n",
              "    }\n",
              "    30% {\n",
              "      border-color: transparent;\n",
              "      border-left-color: var(--fill-color);\n",
              "      border-top-color: var(--fill-color);\n",
              "      border-right-color: var(--fill-color);\n",
              "    }\n",
              "    40% {\n",
              "      border-color: transparent;\n",
              "      border-right-color: var(--fill-color);\n",
              "      border-top-color: var(--fill-color);\n",
              "    }\n",
              "    60% {\n",
              "      border-color: transparent;\n",
              "      border-right-color: var(--fill-color);\n",
              "    }\n",
              "    80% {\n",
              "      border-color: transparent;\n",
              "      border-right-color: var(--fill-color);\n",
              "      border-bottom-color: var(--fill-color);\n",
              "    }\n",
              "    90% {\n",
              "      border-color: transparent;\n",
              "      border-bottom-color: var(--fill-color);\n",
              "    }\n",
              "  }\n",
              "</style>\n",
              "\n",
              "  <script>\n",
              "    async function quickchart(key) {\n",
              "      const quickchartButtonEl =\n",
              "        document.querySelector('#' + key + ' button');\n",
              "      quickchartButtonEl.disabled = true;  // To prevent multiple clicks.\n",
              "      quickchartButtonEl.classList.add('colab-df-spinner');\n",
              "      try {\n",
              "        const charts = await google.colab.kernel.invokeFunction(\n",
              "            'suggestCharts', [key], {});\n",
              "      } catch (error) {\n",
              "        console.error('Error during call to suggestCharts:', error);\n",
              "      }\n",
              "      quickchartButtonEl.classList.remove('colab-df-spinner');\n",
              "      quickchartButtonEl.classList.add('colab-df-quickchart-complete');\n",
              "    }\n",
              "    (() => {\n",
              "      let quickchartButtonEl =\n",
              "        document.querySelector('#df-fe27b7f9-95e0-4f78-b608-bc200729dcbf button');\n",
              "      quickchartButtonEl.style.display =\n",
              "        google.colab.kernel.accessAllowed ? 'block' : 'none';\n",
              "    })();\n",
              "  </script>\n",
              "</div>\n",
              "    </div>\n",
              "  </div>\n"
            ],
            "application/vnd.google.colaboratory.intrinsic+json": {
              "type": "dataframe",
              "variable_name": "df"
            }
          },
          "metadata": {},
          "execution_count": 36
        }
      ],
      "source": [
        "# Visualización de los datos.\n",
        "df.head()"
      ]
    },
    {
      "cell_type": "markdown",
      "metadata": {
        "id": "vif67Pgy0tZ6"
      },
      "source": [
        "La base de datos representan características de pedidos de clientes en la que se incluyen el tipo de pedido, la cantidad del mismo, el precio por unidad y de qué país es el cliente."
      ]
    },
    {
      "cell_type": "code",
      "execution_count": null,
      "metadata": {
        "id": "y880SXgJtU4u",
        "colab": {
          "base_uri": "https://localhost:8080/"
        },
        "outputId": "ebdbdfcc-47c8-43e3-f3b9-4acef904be61"
      },
      "outputs": [
        {
          "output_type": "execute_result",
          "data": {
            "text/plain": [
              "(541909, 8)"
            ]
          },
          "metadata": {},
          "execution_count": 37
        }
      ],
      "source": [
        "# Dimensiones de la base de datos.\n",
        "df.shape"
      ]
    },
    {
      "cell_type": "markdown",
      "metadata": {
        "id": "dq2uvJJr1BCH"
      },
      "source": [
        "En la base de datos hay más de medio millón de registros, 541909, en cada uno de ellos se guardan 8 características."
      ]
    },
    {
      "cell_type": "code",
      "execution_count": null,
      "metadata": {
        "id": "kG5kV7IRtYNp",
        "colab": {
          "base_uri": "https://localhost:8080/"
        },
        "outputId": "6d2737a6-9ced-4e8a-a8ac-ed22b37b9d92"
      },
      "outputs": [
        {
          "output_type": "stream",
          "name": "stdout",
          "text": [
            "['InvoiceNo', 'StockCode', 'Description', 'Quantity', 'InvoiceDate', 'UnitPrice', 'CustomerID', 'Country']\n"
          ]
        }
      ],
      "source": [
        "# Características de cada pedido.\n",
        "print(df.columns.tolist())"
      ]
    },
    {
      "cell_type": "markdown",
      "metadata": {
        "id": "4ZLBSJcP1Nzl"
      },
      "source": [
        "* InvoiceNo: Número de factura de la transacción realizada. Variable importante debido a que nos sirve como un identificador del tiempo.\n",
        "\n",
        "* StockCode: Identificador del producto.\n",
        "\n",
        "* Description: descripción del producto.\n",
        "\n",
        "* Quantity: cantidad de productos \"StockCode\" que el cliente ha comprado.\n",
        "\n",
        "* InvoiceDate: Fecha en la que se ha realizado la transacción. También es un indicador del tiempo, pero es mejor 'InvoiceNo'.\n",
        "\n",
        "* UnitPrice: Valor de una unidad del producto identificado por \"StockCode\".\n",
        "\n",
        "* CustomerID: Identificador del cliente. Variable importante debido a que nos va a permitir agrupar todas las transacciones por cliente.\n",
        "\n",
        "* Country: País donde se envían los productos comprados en la transacción."
      ]
    },
    {
      "cell_type": "code",
      "execution_count": null,
      "metadata": {
        "id": "KtZ4340Qtkze",
        "colab": {
          "base_uri": "https://localhost:8080/"
        },
        "outputId": "753c617d-9299-4a83-e6af-202911ad5904"
      },
      "outputs": [
        {
          "output_type": "stream",
          "name": "stdout",
          "text": [
            "['United Kingdom', 'France', 'Australia', 'Netherlands', 'Germany', 'Norway', 'EIRE', 'Switzerland', 'Spain', 'Poland', 'Portugal', 'Italy', 'Belgium', 'Lithuania', 'Japan', 'Iceland', 'Channel Islands', 'Denmark', 'Cyprus', 'Sweden', 'Austria', 'Israel', 'Finland', 'Bahrain', 'Greece', 'Hong Kong', 'Singapore', 'Lebanon', 'United Arab Emirates', 'Saudi Arabia', 'Czech Republic', 'Canada', 'Unspecified', 'Brazil', 'USA', 'European Community', 'Malta', 'RSA']\n",
            "Nº de países: 38\n"
          ]
        }
      ],
      "source": [
        "paises = df.loc[:,'Country'].unique().tolist()\n",
        "\n",
        "# Paises en la base de datos\n",
        "print(paises)\n",
        "# Cantidad de paises\n",
        "print(\"Nº de países:\",len(paises))"
      ]
    },
    {
      "cell_type": "markdown",
      "metadata": {
        "id": "dh5090r61w1X"
      },
      "source": [
        "Hay registros de pedidos en 38 países distintos.\n",
        "\n",
        "Se procede a analizar el tipo de variable que guarda cada columna y si exite algún Nan en alguna de ellas."
      ]
    },
    {
      "cell_type": "code",
      "execution_count": null,
      "metadata": {
        "id": "6Db_B3l02XoU",
        "colab": {
          "base_uri": "https://localhost:8080/"
        },
        "outputId": "4cb04f49-2ce4-491e-eca2-3d045c471f14"
      },
      "outputs": [
        {
          "output_type": "stream",
          "name": "stdout",
          "text": [
            "<class 'pandas.core.frame.DataFrame'>\n",
            "RangeIndex: 541909 entries, 0 to 541908\n",
            "Data columns (total 8 columns):\n",
            " #   Column       Non-Null Count   Dtype         \n",
            "---  ------       --------------   -----         \n",
            " 0   InvoiceNo    541909 non-null  object        \n",
            " 1   StockCode    541909 non-null  object        \n",
            " 2   Description  540455 non-null  object        \n",
            " 3   Quantity     541909 non-null  int64         \n",
            " 4   InvoiceDate  541909 non-null  datetime64[ns]\n",
            " 5   UnitPrice    541909 non-null  float64       \n",
            " 6   CustomerID   541909 non-null  int64         \n",
            " 7   Country      541909 non-null  object        \n",
            "dtypes: datetime64[ns](1), float64(1), int64(2), object(4)\n",
            "memory usage: 33.1+ MB\n"
          ]
        }
      ],
      "source": [
        "df.info()"
      ]
    },
    {
      "cell_type": "markdown",
      "metadata": {
        "id": "3sFqqaRa27uq"
      },
      "source": [
        "Se puede ver que sólo en la variable Description existen Nan, veamos si con el StockCode podemos determinar qué productos son haciendo uso de información de otros datos que puedan tener el mismo StockCode.\n",
        "\n",
        "Así, se va a intentar rellenar las descripciones que tienen Nan utilizando otros registros con el mismo 'StockCode' que sí tengan descripción.\n",
        "\n",
        "Antes de realizar esta tarea de recuperación de información, se ha considerado que hay valores de 'UnitPrice' y 'Quantity' erróneos, estos son aquellos que sean menores o iguales que cero. Antes de tomar decisiones, veamos datos estadísticos de estas variables y visualizemos sus distribuciones con boxplots:"
      ]
    },
    {
      "cell_type": "code",
      "execution_count": null,
      "metadata": {
        "id": "M_5gZXR5bZ8Y",
        "colab": {
          "base_uri": "https://localhost:8080/"
        },
        "outputId": "80f94636-fc35-4b77-c4c9-5b4f90627564"
      },
      "outputs": [
        {
          "output_type": "stream",
          "name": "stdout",
          "text": [
            "          Quantity     UnitPrice    CustomerID\n",
            "mean      9.552250      4.611114  15287.518434\n",
            "std     218.081158     96.759853   1484.746041\n",
            "min  -80995.000000 -11062.060000  12346.000000\n",
            "50%       3.000000      2.080000  15287.000000\n",
            "max   80995.000000  38970.000000  18287.000000\n"
          ]
        }
      ],
      "source": [
        "print(df.describe().loc[['mean', 'std', 'min','50%', 'max']])"
      ]
    },
    {
      "cell_type": "code",
      "execution_count": null,
      "metadata": {
        "id": "pmlxsJDLaoHT",
        "colab": {
          "base_uri": "https://localhost:8080/",
          "height": 407
        },
        "outputId": "cf10068b-c6dd-4bb7-8848-a2c3a4ccec8d"
      },
      "outputs": [
        {
          "output_type": "display_data",
          "data": {
            "text/plain": [
              "<Figure size 1000x400 with 2 Axes>"
            ],
            "image/png": "[encoded data removed]"
          },
          "metadata": {}
        }
      ],
      "source": [
        "# Crear subplots para cada variable\n",
        "fig, axes = plt.subplots(nrows=1, ncols=2, figsize=(10, 4))\n",
        "\n",
        "# Crear boxplot para UnitPrice\n",
        "axes[0].boxplot(df['UnitPrice'])\n",
        "axes[0].set_title('Boxplot de Unit Price')\n",
        "axes[0].set_xlabel('Unit Price')\n",
        "axes[0].set_ylabel('')\n",
        "\n",
        "# Crear boxplot para Quantity\n",
        "axes[1].boxplot(df['Quantity'])\n",
        "axes[1].set_title('Boxplot de Quantity')\n",
        "axes[1].set_xlabel('Quantity')\n",
        "axes[1].set_ylabel('')\n",
        "\n",
        "plt.tight_layout()\n",
        "plt.show()"
      ]
    },
    {
      "cell_type": "markdown",
      "metadata": {
        "id": "e1kyrZ2Wc54t"
      },
      "source": [
        "Como se puede observar, hay una gran cantidad de outliers en ambas variables. En principio, lo que más sentido tiene es solo eliminar aquellos valores que sean <= que 0. Y aunque podría tener sentido que alguien compre una gran cantidad de productos (como 80000) o que un producto tenga un valor muy alto (como 40000), se entiende que al ser matemáticamente outliers, están muy alejados de la distribución real de cada variable y por lo tanto, se decide eliminar también a los outliers de las zonas superiores. Aun así, veamos qué porción del dataset forman los outliers:"
      ]
    },
    {
      "cell_type": "code",
      "execution_count": null,
      "metadata": {
        "id": "4iu-Ounwd1VK",
        "colab": {
          "base_uri": "https://localhost:8080/"
        },
        "outputId": "ecfe7171-2be0-496d-9fec-70f14ff42123"
      },
      "outputs": [
        {
          "output_type": "stream",
          "name": "stdout",
          "text": [
            "Outliers en UNITPRICE:\n",
            "Tamaño:  (39627,)\n",
            "\n",
            "Datos estadísticos:\n",
            "count    39627.000000\n",
            "mean        31.084752\n",
            "std        356.699161\n",
            "min     -11062.060000\n",
            "25%          9.950000\n",
            "50%         11.630000\n",
            "75%         15.790000\n",
            "max      38970.000000\n",
            "Name: UnitPrice, dtype: float64\n",
            "\n",
            "Outliers en QUANTITY:\n",
            "Tamaño:  (58619,)\n",
            "\n",
            "Datos estadísticos:\n",
            "count    58619.000000\n",
            "mean        50.590969\n",
            "std        661.524902\n",
            "min     -80995.000000\n",
            "25%         24.000000\n",
            "50%         25.000000\n",
            "75%         48.000000\n",
            "max      80995.000000\n",
            "Name: Quantity, dtype: float64\n",
            "\n"
          ]
        }
      ],
      "source": [
        "# Función para detectar outliers usando el rango intercuartílico (IQR)\n",
        "def detectar_outliers(data, variable):\n",
        "    Q1 = data[variable].quantile(0.25)\n",
        "    Q3 = data[variable].quantile(0.75)\n",
        "    IQR = Q3 - Q1\n",
        "    lower_bound = Q1 - 1.5 * IQR\n",
        "    upper_bound = Q3 + 1.5 * IQR\n",
        "    outliers = data[(data[variable] < lower_bound) | (data[variable] > upper_bound)].copy()  # Utilizar copy()\n",
        "    outliers['Outlier_Variable'] = variable  # Agregar el nuevo campo\n",
        "    return outliers\n",
        "\n",
        "variables_interes = ['UnitPrice', 'Quantity']\n",
        "for variable in variables_interes:\n",
        "    outliers = detectar_outliers(df, variable)\n",
        "    print(f\"Outliers en {variable.upper()}:\")\n",
        "    print(\"Tamaño: \", outliers[variable].shape)\n",
        "    print(\"\\nDatos estadísticos:\")\n",
        "    print(outliers[variable].describe())\n",
        "    print()"
      ]
    },
    {
      "cell_type": "markdown",
      "metadata": {
        "id": "zq0BPHKTfDOb"
      },
      "source": [
        "Los outliers son una gran cantidad de datos (39627 registros en UnitPrice y 58619 en Quantity), y aunque formen una muestra significativa de los datos, debido a cuestiones de tiempo de computación (tantos datos podrían ralentizar la ejecución de GSP), se decide eliminar todos los outliers (forzando la eliminación de valores <= que 0)."
      ]
    },
    {
      "cell_type": "code",
      "execution_count": null,
      "metadata": {
        "id": "XICiloT7pkJA"
      },
      "outputs": [],
      "source": [
        "def eliminar_outliers(data, variables):\n",
        "  # Crear una copia del DataFrame para evitar modificar el original\n",
        "  data_no_outliers = data.copy()\n",
        "  lower_bound = []\n",
        "  upper_bound = []\n",
        "  for variable in variables:\n",
        "    Q1 = data_no_outliers[variable].quantile(0.25)\n",
        "    Q3 = data_no_outliers[variable].quantile(0.75)\n",
        "    IQR = Q3 - Q1\n",
        "    lower_bound.append(Q1 - 1.5 * IQR)\n",
        "    upper_bound.append(Q3 + 1.5 * IQR)\n",
        "\n",
        "  for i in range(len(variables)):\n",
        "    # Filtrar los outliers y mantener solo los valores dentro del rango\n",
        "    data_no_outliers = data_no_outliers[(data_no_outliers[variables[i]] >= lower_bound[i]) & (data_no_outliers[variables[i]] <= upper_bound[i])]\n",
        "    data_no_outliers = data_no_outliers[(data_no_outliers[variables[i]] > 0)]\n",
        "\n",
        "  return data_no_outliers\n",
        "\n",
        "variables_interes = ['UnitPrice', 'Quantity']\n",
        "df = eliminar_outliers(df, variables_interes)"
      ]
    },
    {
      "cell_type": "code",
      "execution_count": null,
      "metadata": {
        "id": "_ahqtanWgQvI",
        "colab": {
          "base_uri": "https://localhost:8080/",
          "height": 407
        },
        "outputId": "a5703536-60e4-4a99-802d-4f3985ae1f26"
      },
      "outputs": [
        {
          "output_type": "display_data",
          "data": {
            "text/plain": [
              "<Figure size 1000x400 with 2 Axes>"
            ],
            "image/png": "[encoded data removed]"
          },
          "metadata": {}
        }
      ],
      "source": [
        "# Verificar los cambios\n",
        "# Crear subplots para cada variable\n",
        "fig, axes = plt.subplots(nrows=1, ncols=2, figsize=(10, 4))\n",
        "\n",
        "# Crear boxplot para UnitPrice\n",
        "axes[0].boxplot(df['UnitPrice'])\n",
        "axes[0].set_title('Boxplot de Unit Price')\n",
        "axes[0].set_xlabel('Unit Price')\n",
        "axes[0].set_ylabel('')\n",
        "\n",
        "# Crear boxplot para Quantity\n",
        "axes[1].boxplot(df['Quantity'])\n",
        "axes[1].set_title('Boxplot de Quantity')\n",
        "axes[1].set_xlabel('Quantity')\n",
        "axes[1].set_ylabel('')\n",
        "\n",
        "plt.tight_layout()\n",
        "plt.show()\n",
        "\n",
        "# variables_interes = ['UnitPrice', 'Quantity']\n",
        "# for variable in variables_interes:\n",
        "#     outliers = detectar_outliers(df, variable)\n",
        "#     print(f\"\\nOUTLIERS EN '{variable}':\")\n",
        "#     print(\"Tamaño:\",outliers[variable].shape,\"\\n\")\n",
        "#     print(\"Datos estadísticos:\")\n",
        "#     print(outliers[variable].describe())"
      ]
    },
    {
      "cell_type": "code",
      "execution_count": null,
      "metadata": {
        "id": "k67VGs8E196b",
        "colab": {
          "base_uri": "https://localhost:8080/"
        },
        "outputId": "939e04d4-1203-4ed3-b066-e74b4efdda0f"
      },
      "outputs": [
        {
          "output_type": "stream",
          "name": "stdout",
          "text": [
            "Nuevo tamaño del dataset:  (436166, 8)\n"
          ]
        }
      ],
      "source": [
        "print(\"Nuevo tamaño del dataset: \", df.shape)"
      ]
    },
    {
      "cell_type": "markdown",
      "metadata": {
        "id": "kYVVQMlq2dEX"
      },
      "source": [
        "Ahora, se procede a lo mencionado anteriormente: intentar rellenar las descripciones que tienen Nan utilizando otros registros con el mismo 'StockCode' que sí tengan descripción. Veamos cuántos Nan nos quedan tras la depuración:"
      ]
    },
    {
      "cell_type": "code",
      "execution_count": null,
      "metadata": {
        "id": "98z-G-rch0c3",
        "colab": {
          "base_uri": "https://localhost:8080/"
        },
        "outputId": "45c2d5ab-2c76-4d1d-cfbe-7fcf17ded2cd"
      },
      "outputs": [
        {
          "output_type": "stream",
          "name": "stdout",
          "text": [
            "(0, 8)\n"
          ]
        }
      ],
      "source": [
        "print(df[pd.isna(df['Description'])].shape)"
      ]
    },
    {
      "cell_type": "markdown",
      "metadata": {
        "id": "40BXThngt6gs"
      },
      "source": [
        "No obstante, se observa que al realizar la depuración de las variables 'UnitPrice' y 'Quantity' se han borrado también todos los registros que tenían Nan en 'Description'."
      ]
    },
    {
      "cell_type": "code",
      "execution_count": null,
      "metadata": {
        "id": "mIit6rYw2qzr",
        "colab": {
          "base_uri": "https://localhost:8080/"
        },
        "outputId": "617ef25f-3fba-4501-9c2f-1873ec25eb42"
      },
      "outputs": [
        {
          "output_type": "stream",
          "name": "stdout",
          "text": [
            "<class 'pandas.core.frame.DataFrame'>\n",
            "Int64Index: 436166 entries, 0 to 541908\n",
            "Data columns (total 8 columns):\n",
            " #   Column       Non-Null Count   Dtype         \n",
            "---  ------       --------------   -----         \n",
            " 0   InvoiceNo    436166 non-null  object        \n",
            " 1   StockCode    436166 non-null  object        \n",
            " 2   Description  436166 non-null  object        \n",
            " 3   Quantity     436166 non-null  int64         \n",
            " 4   InvoiceDate  436166 non-null  datetime64[ns]\n",
            " 5   UnitPrice    436166 non-null  float64       \n",
            " 6   CustomerID   436166 non-null  int64         \n",
            " 7   Country      436166 non-null  object        \n",
            "dtypes: datetime64[ns](1), float64(1), int64(2), object(4)\n",
            "memory usage: 29.9+ MB\n"
          ]
        }
      ],
      "source": [
        "df.info()"
      ]
    },
    {
      "cell_type": "markdown",
      "metadata": {
        "id": "4sUy9dlD8aDq"
      },
      "source": [
        "Antes de proceder a la construcción de la base de datos en el formato necesario, se hacen unas últimas comprobaciones de que nuestros datos no contienen ninguna anomalía:"
      ]
    },
    {
      "cell_type": "code",
      "execution_count": null,
      "metadata": {
        "id": "jxAz4_Mb8zs-",
        "colab": {
          "base_uri": "https://localhost:8080/"
        },
        "outputId": "5b31a3b7-6921-4af6-8bdd-168730a77b0f"
      },
      "outputs": [
        {
          "output_type": "stream",
          "name": "stdout",
          "text": [
            "InvoiceNo      17875\n",
            "StockCode       3656\n",
            "Description     3750\n",
            "Quantity          23\n",
            "InvoiceDate    16679\n",
            "UnitPrice        278\n",
            "CustomerID      4165\n",
            "Country           38\n",
            "dtype: int64\n"
          ]
        }
      ],
      "source": [
        "print(df.nunique())"
      ]
    },
    {
      "cell_type": "code",
      "execution_count": null,
      "metadata": {
        "id": "BdiUWKcW8kfx",
        "colab": {
          "base_uri": "https://localhost:8080/"
        },
        "outputId": "c3906e34-8ca8-4ba1-af56-172356003fa6"
      },
      "outputs": [
        {
          "output_type": "stream",
          "name": "stdout",
          "text": [
            "4944\n"
          ]
        }
      ],
      "source": [
        "print(df.duplicated().sum())#HAY FILAS DUPLICADAS"
      ]
    },
    {
      "cell_type": "code",
      "execution_count": null,
      "metadata": {
        "id": "3JynVQQc-JHW",
        "colab": {
          "base_uri": "https://localhost:8080/",
          "height": 204
        },
        "outputId": "a135e182-2599-4569-d718-59aef1fa823a"
      },
      "outputs": [
        {
          "output_type": "execute_result",
          "data": {
            "text/plain": [
              "    InvoiceNo StockCode                    Description  Quantity\n",
              "494    536409     21866    UNION JACK FLAG LUGGAGE TAG         1\n",
              "517    536409     21866    UNION JACK FLAG LUGGAGE TAG         1\n",
              "485    536409     22111   SCOTTIE DOG HOT WATER BOTTLE         1\n",
              "539    536409     22111   SCOTTIE DOG HOT WATER BOTTLE         1\n",
              "489    536409     22866  HAND WARMER SCOTTY DOG DESIGN         1"
            ],
            "text/html": [
              "\n",
              "  <div id=\"df-0626dc40-356f-4cef-bff6-a81ef9b903c0\" class=\"colab-df-container\">\n",
              "    <div>\n",
              "<style scoped>\n",
              "    .dataframe tbody tr th:only-of-type {\n",
              "        vertical-align: middle;\n",
              "    }\n",
              "\n",
              "    .dataframe tbody tr th {\n",
              "        vertical-align: top;\n",
              "    }\n",
              "\n",
              "    .dataframe thead th {\n",
              "        text-align: right;\n",
              "    }\n",
              "</style>\n",
              "<table border=\"1\" class=\"dataframe\">\n",
              "  <thead>\n",
              "    <tr style=\"text-align: right;\">\n",
              "      <th></th>\n",
              "      <th>InvoiceNo</th>\n",
              "      <th>StockCode</th>\n",
              "      <th>Description</th>\n",
              "      <th>Quantity</th>\n",
              "    </tr>\n",
              "  </thead>\n",
              "  <tbody>\n",
              "    <tr>\n",
              "      <th>494</th>\n",
              "      <td>536409</td>\n",
              "      <td>21866</td>\n",
              "      <td>UNION JACK FLAG LUGGAGE TAG</td>\n",
              "      <td>1</td>\n",
              "    </tr>\n",
              "    <tr>\n",
              "      <th>517</th>\n",
              "      <td>536409</td>\n",
              "      <td>21866</td>\n",
              "      <td>UNION JACK FLAG LUGGAGE TAG</td>\n",
              "      <td>1</td>\n",
              "    </tr>\n",
              "    <tr>\n",
              "      <th>485</th>\n",
              "      <td>536409</td>\n",
              "      <td>22111</td>\n",
              "      <td>SCOTTIE DOG HOT WATER BOTTLE</td>\n",
              "      <td>1</td>\n",
              "    </tr>\n",
              "    <tr>\n",
              "      <th>539</th>\n",
              "      <td>536409</td>\n",
              "      <td>22111</td>\n",
              "      <td>SCOTTIE DOG HOT WATER BOTTLE</td>\n",
              "      <td>1</td>\n",
              "    </tr>\n",
              "    <tr>\n",
              "      <th>489</th>\n",
              "      <td>536409</td>\n",
              "      <td>22866</td>\n",
              "      <td>HAND WARMER SCOTTY DOG DESIGN</td>\n",
              "      <td>1</td>\n",
              "    </tr>\n",
              "  </tbody>\n",
              "</table>\n",
              "</div>\n",
              "    <div class=\"colab-df-buttons\">\n",
              "\n",
              "  <div class=\"colab-df-container\">\n",
              "    <button class=\"colab-df-convert\" onclick=\"convertToInteractive('df-0626dc40-356f-4cef-bff6-a81ef9b903c0')\"\n",
              "            title=\"Convert this dataframe to an interactive table.\"\n",
              "            style=\"display:none;\">\n",
              "\n",
              "  <svg xmlns=\"http://www.w3.org/2000/svg\" height=\"24px\" viewBox=\"0 -960 960 960\">\n",
              "    <path d=\"M120-120v-720h720v720H120Zm60-500h600v-160H180v160Zm220 220h160v-160H400v160Zm0 220h160v-160H400v160ZM180-400h160v-160H180v160Zm440 0h160v-160H620v160ZM180-180h160v-160H180v160Zm440 0h160v-160H620v160Z\"/>\n",
              "  </svg>\n",
              "    </button>\n",
              "\n",
              "  <style>\n",
              "    .colab-df-container {\n",
              "      display:flex;\n",
              "      gap: 12px;\n",
              "    }\n",
              "\n",
              "    .colab-df-convert {\n",
              "      background-color: #E8F0FE;\n",
              "      border: none;\n",
              "      border-radius: 50%;\n",
              "      cursor: pointer;\n",
              "      display: none;\n",
              "      fill: #1967D2;\n",
              "      height: 32px;\n",
              "      padding: 0 0 0 0;\n",
              "      width: 32px;\n",
              "    }\n",
              "\n",
              "    .colab-df-convert:hover {\n",
              "      background-color: #E2EBFA;\n",
              "      box-shadow: 0px 1px 2px rgba(60, 64, 67, 0.3), 0px 1px 3px 1px rgba(60, 64, 67, 0.15);\n",
              "      fill: #174EA6;\n",
              "    }\n",
              "\n",
              "    .colab-df-buttons div {\n",
              "      margin-bottom: 4px;\n",
              "    }\n",
              "\n",
              "    [theme=dark] .colab-df-convert {\n",
              "      background-color: #3B4455;\n",
              "      fill: #D2E3FC;\n",
              "    }\n",
              "\n",
              "    [theme=dark] .colab-df-convert:hover {\n",
              "      background-color: #434B5C;\n",
              "      box-shadow: 0px 1px 3px 1px rgba(0, 0, 0, 0.15);\n",
              "      filter: drop-shadow(0px 1px 2px rgba(0, 0, 0, 0.3));\n",
              "      fill: #FFFFFF;\n",
              "    }\n",
              "  </style>\n",
              "\n",
              "    <script>\n",
              "      const buttonEl =\n",
              "        document.querySelector('#df-0626dc40-356f-4cef-bff6-a81ef9b903c0 button.colab-df-convert');\n",
              "      buttonEl.style.display =\n",
              "        google.colab.kernel.accessAllowed ? 'block' : 'none';\n",
              "\n",
              "      async function convertToInteractive(key) {\n",
              "        const element = document.querySelector('#df-0626dc40-356f-4cef-bff6-a81ef9b903c0');\n",
              "        const dataTable =\n",
              "          await google.colab.kernel.invokeFunction('convertToInteractive',\n",
              "                                                    [key], {});\n",
              "        if (!dataTable) return;\n",
              "\n",
              "        const docLinkHtml = 'Like what you see? Visit the ' +\n",
              "          '<a target=\"_blank\" href=https://colab.research.google.com/notebooks/data_table.ipynb>data table notebook</a>'\n",
              "          + ' to learn more about interactive tables.';\n",
              "        element.innerHTML = '';\n",
              "        dataTable['output_type'] = 'display_data';\n",
              "        await google.colab.output.renderOutput(dataTable, element);\n",
              "        const docLink = document.createElement('div');\n",
              "        docLink.innerHTML = docLinkHtml;\n",
              "        element.appendChild(docLink);\n",
              "      }\n",
              "    </script>\n",
              "  </div>\n",
              "\n",
              "\n",
              "<div id=\"df-eedbe5cb-824c-4263-abbb-daca15bf507f\">\n",
              "  <button class=\"colab-df-quickchart\" onclick=\"quickchart('df-eedbe5cb-824c-4263-abbb-daca15bf507f')\"\n",
              "            title=\"Suggest charts\"\n",
              "            style=\"display:none;\">\n",
              "\n",
              "<svg xmlns=\"http://www.w3.org/2000/svg\" height=\"24px\"viewBox=\"0 0 24 24\"\n",
              "     width=\"24px\">\n",
              "    <g>\n",
              "        <path d=\"M19 3H5c-1.1 0-2 .9-2 2v14c0 1.1.9 2 2 2h14c1.1 0 2-.9 2-2V5c0-1.1-.9-2-2-2zM9 17H7v-7h2v7zm4 0h-2V7h2v10zm4 0h-2v-4h2v4z\"/>\n",
              "    </g>\n",
              "</svg>\n",
              "  </button>\n",
              "\n",
              "<style>\n",
              "  .colab-df-quickchart {\n",
              "      --bg-color: #E8F0FE;\n",
              "      --fill-color: #1967D2;\n",
              "      --hover-bg-color: #E2EBFA;\n",
              "      --hover-fill-color: #174EA6;\n",
              "      --disabled-fill-color: #AAA;\n",
              "      --disabled-bg-color: #DDD;\n",
              "  }\n",
              "\n",
              "  [theme=dark] .colab-df-quickchart {\n",
              "      --bg-color: #3B4455;\n",
              "      --fill-color: #D2E3FC;\n",
              "      --hover-bg-color: #434B5C;\n",
              "      --hover-fill-color: #FFFFFF;\n",
              "      --disabled-bg-color: #3B4455;\n",
              "      --disabled-fill-color: #666;\n",
              "  }\n",
              "\n",
              "  .colab-df-quickchart {\n",
              "    background-color: var(--bg-color);\n",
              "    border: none;\n",
              "    border-radius: 50%;\n",
              "    cursor: pointer;\n",
              "    display: none;\n",
              "    fill: var(--fill-color);\n",
              "    height: 32px;\n",
              "    padding: 0;\n",
              "    width: 32px;\n",
              "  }\n",
              "\n",
              "  .colab-df-quickchart:hover {\n",
              "    background-color: var(--hover-bg-color);\n",
              "    box-shadow: 0 1px 2px rgba(60, 64, 67, 0.3), 0 1px 3px 1px rgba(60, 64, 67, 0.15);\n",
              "    fill: var(--button-hover-fill-color);\n",
              "  }\n",
              "\n",
              "  .colab-df-quickchart-complete:disabled,\n",
              "  .colab-df-quickchart-complete:disabled:hover {\n",
              "    background-color: var(--disabled-bg-color);\n",
              "    fill: var(--disabled-fill-color);\n",
              "    box-shadow: none;\n",
              "  }\n",
              "\n",
              "  .colab-df-spinner {\n",
              "    border: 2px solid var(--fill-color);\n",
              "    border-color: transparent;\n",
              "    border-bottom-color: var(--fill-color);\n",
              "    animation:\n",
              "      spin 1s steps(1) infinite;\n",
              "  }\n",
              "\n",
              "  @keyframes spin {\n",
              "    0% {\n",
              "      border-color: transparent;\n",
              "      border-bottom-color: var(--fill-color);\n",
              "      border-left-color: var(--fill-color);\n",
              "    }\n",
              "    20% {\n",
              "      border-color: transparent;\n",
              "      border-left-color: var(--fill-color);\n",
              "      border-top-color: var(--fill-color);\n",
              "    }\n",
              "    30% {\n",
              "      border-color: transparent;\n",
              "      border-left-color: var(--fill-color);\n",
              "      border-top-color: var(--fill-color);\n",
              "      border-right-color: var(--fill-color);\n",
              "    }\n",
              "    40% {\n",
              "      border-color: transparent;\n",
              "      border-right-color: var(--fill-color);\n",
              "      border-top-color: var(--fill-color);\n",
              "    }\n",
              "    60% {\n",
              "      border-color: transparent;\n",
              "      border-right-color: var(--fill-color);\n",
              "    }\n",
              "    80% {\n",
              "      border-color: transparent;\n",
              "      border-right-color: var(--fill-color);\n",
              "      border-bottom-color: var(--fill-color);\n",
              "    }\n",
              "    90% {\n",
              "      border-color: transparent;\n",
              "      border-bottom-color: var(--fill-color);\n",
              "    }\n",
              "  }\n",
              "</style>\n",
              "\n",
              "  <script>\n",
              "    async function quickchart(key) {\n",
              "      const quickchartButtonEl =\n",
              "        document.querySelector('#' + key + ' button');\n",
              "      quickchartButtonEl.disabled = true;  // To prevent multiple clicks.\n",
              "      quickchartButtonEl.classList.add('colab-df-spinner');\n",
              "      try {\n",
              "        const charts = await google.colab.kernel.invokeFunction(\n",
              "            'suggestCharts', [key], {});\n",
              "      } catch (error) {\n",
              "        console.error('Error during call to suggestCharts:', error);\n",
              "      }\n",
              "      quickchartButtonEl.classList.remove('colab-df-spinner');\n",
              "      quickchartButtonEl.classList.add('colab-df-quickchart-complete');\n",
              "    }\n",
              "    (() => {\n",
              "      let quickchartButtonEl =\n",
              "        document.querySelector('#df-eedbe5cb-824c-4263-abbb-daca15bf507f button');\n",
              "      quickchartButtonEl.style.display =\n",
              "        google.colab.kernel.accessAllowed ? 'block' : 'none';\n",
              "    })();\n",
              "  </script>\n",
              "</div>\n",
              "    </div>\n",
              "  </div>\n"
            ],
            "application/vnd.google.colaboratory.intrinsic+json": {
              "type": "dataframe",
              "repr_error": "0"
            }
          },
          "metadata": {},
          "execution_count": 51
        }
      ],
      "source": [
        "duplicated_rows = df[df.duplicated(keep=False)]\n",
        "sorted_rows = duplicated_rows.sort_values(by=df.columns.tolist())\n",
        "sorted_rows[['InvoiceNo', 'StockCode', 'Description', 'Quantity']].head()"
      ]
    },
    {
      "cell_type": "markdown",
      "metadata": {
        "id": "3v_lUGebAu8D"
      },
      "source": [
        "Se detectan filas duplicadas. Para evitar la redundancia y solo contar con registros únicos, se eliminan:"
      ]
    },
    {
      "cell_type": "code",
      "execution_count": null,
      "metadata": {
        "id": "6_8vWtcuBMvm"
      },
      "outputs": [],
      "source": [
        "df = df.drop_duplicates()"
      ]
    },
    {
      "cell_type": "code",
      "execution_count": null,
      "metadata": {
        "id": "sm71ZMowBSbD",
        "colab": {
          "base_uri": "https://localhost:8080/"
        },
        "outputId": "7a345a18-f768-44af-e9e2-95439faad915"
      },
      "outputs": [
        {
          "output_type": "stream",
          "name": "stdout",
          "text": [
            "Nuevo tamaño del dataset:  (431222, 8)\n"
          ]
        }
      ],
      "source": [
        "print(\"Nuevo tamaño del dataset: \", df.shape)"
      ]
    },
    {
      "cell_type": "markdown",
      "metadata": {
        "id": "PGtFXzhVOOrg"
      },
      "source": [
        "Tras una primera fase de depuración de datos, se procede a la construcción de la base de datos en el formato necesario para aplicar el algoritmo GSP, que es una lista de listas en la que cada sublista representa un cliente. Luego cada cliente debería ser una lista de listas también, en la que cada sublista representa una transacción (con las transacciones ordenadas por el momento de tiempo).\n",
        "\n",
        "Para ello:\n",
        "\n",
        "1. Se ordena el dataframe en función de 'InvoiceNo' (indicador del tiempo):"
      ]
    },
    {
      "cell_type": "code",
      "execution_count": null,
      "metadata": {
        "id": "oIbTEkjOOOrh",
        "colab": {
          "base_uri": "https://localhost:8080/",
          "height": 204
        },
        "outputId": "49940570-25fa-4053-a97e-c385ebe385bf"
      },
      "outputs": [
        {
          "output_type": "execute_result",
          "data": {
            "text/plain": [
              "  InvoiceNo StockCode                          Description  Quantity  \\\n",
              "0    536365    85123A   WHITE HANGING HEART T-LIGHT HOLDER         6   \n",
              "1    536365     71053                  WHITE METAL LANTERN         6   \n",
              "2    536365    84406B       CREAM CUPID HEARTS COAT HANGER         8   \n",
              "3    536365    84029G  KNITTED UNION FLAG HOT WATER BOTTLE         6   \n",
              "4    536365    84029E       RED WOOLLY HOTTIE WHITE HEART.         6   \n",
              "\n",
              "          InvoiceDate  UnitPrice  CustomerID         Country  \n",
              "0 2010-12-01 08:26:00       2.55       17850  United Kingdom  \n",
              "1 2010-12-01 08:26:00       3.39       17850  United Kingdom  \n",
              "2 2010-12-01 08:26:00       2.75       17850  United Kingdom  \n",
              "3 2010-12-01 08:26:00       3.39       17850  United Kingdom  \n",
              "4 2010-12-01 08:26:00       3.39       17850  United Kingdom  "
            ],
            "text/html": [
              "\n",
              "  <div id=\"df-55e287f5-0112-4517-808f-9f99bd427420\" class=\"colab-df-container\">\n",
              "    <div>\n",
              "<style scoped>\n",
              "    .dataframe tbody tr th:only-of-type {\n",
              "        vertical-align: middle;\n",
              "    }\n",
              "\n",
              "    .dataframe tbody tr th {\n",
              "        vertical-align: top;\n",
              "    }\n",
              "\n",
              "    .dataframe thead th {\n",
              "        text-align: right;\n",
              "    }\n",
              "</style>\n",
              "<table border=\"1\" class=\"dataframe\">\n",
              "  <thead>\n",
              "    <tr style=\"text-align: right;\">\n",
              "      <th></th>\n",
              "      <th>InvoiceNo</th>\n",
              "      <th>StockCode</th>\n",
              "      <th>Description</th>\n",
              "      <th>Quantity</th>\n",
              "      <th>InvoiceDate</th>\n",
              "      <th>UnitPrice</th>\n",
              "      <th>CustomerID</th>\n",
              "      <th>Country</th>\n",
              "    </tr>\n",
              "  </thead>\n",
              "  <tbody>\n",
              "    <tr>\n",
              "      <th>0</th>\n",
              "      <td>536365</td>\n",
              "      <td>85123A</td>\n",
              "      <td>WHITE HANGING HEART T-LIGHT HOLDER</td>\n",
              "      <td>6</td>\n",
              "      <td>2010-12-01 08:26:00</td>\n",
              "      <td>2.55</td>\n",
              "      <td>17850</td>\n",
              "      <td>United Kingdom</td>\n",
              "    </tr>\n",
              "    <tr>\n",
              "      <th>1</th>\n",
              "      <td>536365</td>\n",
              "      <td>71053</td>\n",
              "      <td>WHITE METAL LANTERN</td>\n",
              "      <td>6</td>\n",
              "      <td>2010-12-01 08:26:00</td>\n",
              "      <td>3.39</td>\n",
              "      <td>17850</td>\n",
              "      <td>United Kingdom</td>\n",
              "    </tr>\n",
              "    <tr>\n",
              "      <th>2</th>\n",
              "      <td>536365</td>\n",
              "      <td>84406B</td>\n",
              "      <td>CREAM CUPID HEARTS COAT HANGER</td>\n",
              "      <td>8</td>\n",
              "      <td>2010-12-01 08:26:00</td>\n",
              "      <td>2.75</td>\n",
              "      <td>17850</td>\n",
              "      <td>United Kingdom</td>\n",
              "    </tr>\n",
              "    <tr>\n",
              "      <th>3</th>\n",
              "      <td>536365</td>\n",
              "      <td>84029G</td>\n",
              "      <td>KNITTED UNION FLAG HOT WATER BOTTLE</td>\n",
              "      <td>6</td>\n",
              "      <td>2010-12-01 08:26:00</td>\n",
              "      <td>3.39</td>\n",
              "      <td>17850</td>\n",
              "      <td>United Kingdom</td>\n",
              "    </tr>\n",
              "    <tr>\n",
              "      <th>4</th>\n",
              "      <td>536365</td>\n",
              "      <td>84029E</td>\n",
              "      <td>RED WOOLLY HOTTIE WHITE HEART.</td>\n",
              "      <td>6</td>\n",
              "      <td>2010-12-01 08:26:00</td>\n",
              "      <td>3.39</td>\n",
              "      <td>17850</td>\n",
              "      <td>United Kingdom</td>\n",
              "    </tr>\n",
              "  </tbody>\n",
              "</table>\n",
              "</div>\n",
              "    <div class=\"colab-df-buttons\">\n",
              "\n",
              "  <div class=\"colab-df-container\">\n",
              "    <button class=\"colab-df-convert\" onclick=\"convertToInteractive('df-55e287f5-0112-4517-808f-9f99bd427420')\"\n",
              "            title=\"Convert this dataframe to an interactive table.\"\n",
              "            style=\"display:none;\">\n",
              "\n",
              "  <svg xmlns=\"http://www.w3.org/2000/svg\" height=\"24px\" viewBox=\"0 -960 960 960\">\n",
              "    <path d=\"M120-120v-720h720v720H120Zm60-500h600v-160H180v160Zm220 220h160v-160H400v160Zm0 220h160v-160H400v160ZM180-400h160v-160H180v160Zm440 0h160v-160H620v160ZM180-180h160v-160H180v160Zm440 0h160v-160H620v160Z\"/>\n",
              "  </svg>\n",
              "    </button>\n",
              "\n",
              "  <style>\n",
              "    .colab-df-container {\n",
              "      display:flex;\n",
              "      gap: 12px;\n",
              "    }\n",
              "\n",
              "    .colab-df-convert {\n",
              "      background-color: #E8F0FE;\n",
              "      border: none;\n",
              "      border-radius: 50%;\n",
              "      cursor: pointer;\n",
              "      display: none;\n",
              "      fill: #1967D2;\n",
              "      height: 32px;\n",
              "      padding: 0 0 0 0;\n",
              "      width: 32px;\n",
              "    }\n",
              "\n",
              "    .colab-df-convert:hover {\n",
              "      background-color: #E2EBFA;\n",
              "      box-shadow: 0px 1px 2px rgba(60, 64, 67, 0.3), 0px 1px 3px 1px rgba(60, 64, 67, 0.15);\n",
              "      fill: #174EA6;\n",
              "    }\n",
              "\n",
              "    .colab-df-buttons div {\n",
              "      margin-bottom: 4px;\n",
              "    }\n",
              "\n",
              "    [theme=dark] .colab-df-convert {\n",
              "      background-color: #3B4455;\n",
              "      fill: #D2E3FC;\n",
              "    }\n",
              "\n",
              "    [theme=dark] .colab-df-convert:hover {\n",
              "      background-color: #434B5C;\n",
              "      box-shadow: 0px 1px 3px 1px rgba(0, 0, 0, 0.15);\n",
              "      filter: drop-shadow(0px 1px 2px rgba(0, 0, 0, 0.3));\n",
              "      fill: #FFFFFF;\n",
              "    }\n",
              "  </style>\n",
              "\n",
              "    <script>\n",
              "      const buttonEl =\n",
              "        document.querySelector('#df-55e287f5-0112-4517-808f-9f99bd427420 button.colab-df-convert');\n",
              "      buttonEl.style.display =\n",
              "        google.colab.kernel.accessAllowed ? 'block' : 'none';\n",
              "\n",
              "      async function convertToInteractive(key) {\n",
              "        const element = document.querySelector('#df-55e287f5-0112-4517-808f-9f99bd427420');\n",
              "        const dataTable =\n",
              "          await google.colab.kernel.invokeFunction('convertToInteractive',\n",
              "                                                    [key], {});\n",
              "        if (!dataTable) return;\n",
              "\n",
              "        const docLinkHtml = 'Like what you see? Visit the ' +\n",
              "          '<a target=\"_blank\" href=https://colab.research.google.com/notebooks/data_table.ipynb>data table notebook</a>'\n",
              "          + ' to learn more about interactive tables.';\n",
              "        element.innerHTML = '';\n",
              "        dataTable['output_type'] = 'display_data';\n",
              "        await google.colab.output.renderOutput(dataTable, element);\n",
              "        const docLink = document.createElement('div');\n",
              "        docLink.innerHTML = docLinkHtml;\n",
              "        element.appendChild(docLink);\n",
              "      }\n",
              "    </script>\n",
              "  </div>\n",
              "\n",
              "\n",
              "<div id=\"df-2f00cdfa-0f49-46ac-b00f-4be9965b0d8b\">\n",
              "  <button class=\"colab-df-quickchart\" onclick=\"quickchart('df-2f00cdfa-0f49-46ac-b00f-4be9965b0d8b')\"\n",
              "            title=\"Suggest charts\"\n",
              "            style=\"display:none;\">\n",
              "\n",
              "<svg xmlns=\"http://www.w3.org/2000/svg\" height=\"24px\"viewBox=\"0 0 24 24\"\n",
              "     width=\"24px\">\n",
              "    <g>\n",
              "        <path d=\"M19 3H5c-1.1 0-2 .9-2 2v14c0 1.1.9 2 2 2h14c1.1 0 2-.9 2-2V5c0-1.1-.9-2-2-2zM9 17H7v-7h2v7zm4 0h-2V7h2v10zm4 0h-2v-4h2v4z\"/>\n",
              "    </g>\n",
              "</svg>\n",
              "  </button>\n",
              "\n",
              "<style>\n",
              "  .colab-df-quickchart {\n",
              "      --bg-color: #E8F0FE;\n",
              "      --fill-color: #1967D2;\n",
              "      --hover-bg-color: #E2EBFA;\n",
              "      --hover-fill-color: #174EA6;\n",
              "      --disabled-fill-color: #AAA;\n",
              "      --disabled-bg-color: #DDD;\n",
              "  }\n",
              "\n",
              "  [theme=dark] .colab-df-quickchart {\n",
              "      --bg-color: #3B4455;\n",
              "      --fill-color: #D2E3FC;\n",
              "      --hover-bg-color: #434B5C;\n",
              "      --hover-fill-color: #FFFFFF;\n",
              "      --disabled-bg-color: #3B4455;\n",
              "      --disabled-fill-color: #666;\n",
              "  }\n",
              "\n",
              "  .colab-df-quickchart {\n",
              "    background-color: var(--bg-color);\n",
              "    border: none;\n",
              "    border-radius: 50%;\n",
              "    cursor: pointer;\n",
              "    display: none;\n",
              "    fill: var(--fill-color);\n",
              "    height: 32px;\n",
              "    padding: 0;\n",
              "    width: 32px;\n",
              "  }\n",
              "\n",
              "  .colab-df-quickchart:hover {\n",
              "    background-color: var(--hover-bg-color);\n",
              "    box-shadow: 0 1px 2px rgba(60, 64, 67, 0.3), 0 1px 3px 1px rgba(60, 64, 67, 0.15);\n",
              "    fill: var(--button-hover-fill-color);\n",
              "  }\n",
              "\n",
              "  .colab-df-quickchart-complete:disabled,\n",
              "  .colab-df-quickchart-complete:disabled:hover {\n",
              "    background-color: var(--disabled-bg-color);\n",
              "    fill: var(--disabled-fill-color);\n",
              "    box-shadow: none;\n",
              "  }\n",
              "\n",
              "  .colab-df-spinner {\n",
              "    border: 2px solid var(--fill-color);\n",
              "    border-color: transparent;\n",
              "    border-bottom-color: var(--fill-color);\n",
              "    animation:\n",
              "      spin 1s steps(1) infinite;\n",
              "  }\n",
              "\n",
              "  @keyframes spin {\n",
              "    0% {\n",
              "      border-color: transparent;\n",
              "      border-bottom-color: var(--fill-color);\n",
              "      border-left-color: var(--fill-color);\n",
              "    }\n",
              "    20% {\n",
              "      border-color: transparent;\n",
              "      border-left-color: var(--fill-color);\n",
              "      border-top-color: var(--fill-color);\n",
              "    }\n",
              "    30% {\n",
              "      border-color: transparent;\n",
              "      border-left-color: var(--fill-color);\n",
              "      border-top-color: var(--fill-color);\n",
              "      border-right-color: var(--fill-color);\n",
              "    }\n",
              "    40% {\n",
              "      border-color: transparent;\n",
              "      border-right-color: var(--fill-color);\n",
              "      border-top-color: var(--fill-color);\n",
              "    }\n",
              "    60% {\n",
              "      border-color: transparent;\n",
              "      border-right-color: var(--fill-color);\n",
              "    }\n",
              "    80% {\n",
              "      border-color: transparent;\n",
              "      border-right-color: var(--fill-color);\n",
              "      border-bottom-color: var(--fill-color);\n",
              "    }\n",
              "    90% {\n",
              "      border-color: transparent;\n",
              "      border-bottom-color: var(--fill-color);\n",
              "    }\n",
              "  }\n",
              "</style>\n",
              "\n",
              "  <script>\n",
              "    async function quickchart(key) {\n",
              "      const quickchartButtonEl =\n",
              "        document.querySelector('#' + key + ' button');\n",
              "      quickchartButtonEl.disabled = true;  // To prevent multiple clicks.\n",
              "      quickchartButtonEl.classList.add('colab-df-spinner');\n",
              "      try {\n",
              "        const charts = await google.colab.kernel.invokeFunction(\n",
              "            'suggestCharts', [key], {});\n",
              "      } catch (error) {\n",
              "        console.error('Error during call to suggestCharts:', error);\n",
              "      }\n",
              "      quickchartButtonEl.classList.remove('colab-df-spinner');\n",
              "      quickchartButtonEl.classList.add('colab-df-quickchart-complete');\n",
              "    }\n",
              "    (() => {\n",
              "      let quickchartButtonEl =\n",
              "        document.querySelector('#df-2f00cdfa-0f49-46ac-b00f-4be9965b0d8b button');\n",
              "      quickchartButtonEl.style.display =\n",
              "        google.colab.kernel.accessAllowed ? 'block' : 'none';\n",
              "    })();\n",
              "  </script>\n",
              "</div>\n",
              "    </div>\n",
              "  </div>\n"
            ],
            "application/vnd.google.colaboratory.intrinsic+json": {
              "type": "dataframe",
              "variable_name": "gsp_df"
            }
          },
          "metadata": {},
          "execution_count": 54
        }
      ],
      "source": [
        "gsp_df = pd.DataFrame(df.sort_values('InvoiceNo')) #En cada paso, creamos un dataframe.\n",
        "gsp_df.head()"
      ]
    },
    {
      "cell_type": "markdown",
      "metadata": {
        "id": "ryReqXQrOOrh"
      },
      "source": [
        "2. Se agrupa el dataframe en función de 'InvoiceNo' y 'CustomerID', aplicando el método 'agg(list).reset_index()', el cual nos permite convertir cada transacción (dada por 'InvoiceNo') en una lista. Y se elimina la columna 'InvoiceNo':"
      ]
    },
    {
      "cell_type": "code",
      "execution_count": null,
      "metadata": {
        "id": "Mt0-NSExOOrh",
        "colab": {
          "base_uri": "https://localhost:8080/",
          "height": 204
        },
        "outputId": "99b11790-037b-4c31-c950-325f73d3304f"
      },
      "outputs": [
        {
          "output_type": "execute_result",
          "data": {
            "text/plain": [
              "   CustomerID                                          StockCode\n",
              "0       17850  [85123A, 71053, 84406B, 84029G, 84029E, 22752,...\n",
              "1       17850                                     [22633, 22632]\n",
              "2       13047  [22745, 22748, 22749, 22310, 84969, 22623, 217...\n",
              "3       13047                       [22960, 22913, 22912, 22914]\n",
              "4       13047                                            [21756]"
            ],
            "text/html": [
              "\n",
              "  <div id=\"df-96f10759-5c79-4320-bdb8-8d737a70ba81\" class=\"colab-df-container\">\n",
              "    <div>\n",
              "<style scoped>\n",
              "    .dataframe tbody tr th:only-of-type {\n",
              "        vertical-align: middle;\n",
              "    }\n",
              "\n",
              "    .dataframe tbody tr th {\n",
              "        vertical-align: top;\n",
              "    }\n",
              "\n",
              "    .dataframe thead th {\n",
              "        text-align: right;\n",
              "    }\n",
              "</style>\n",
              "<table border=\"1\" class=\"dataframe\">\n",
              "  <thead>\n",
              "    <tr style=\"text-align: right;\">\n",
              "      <th></th>\n",
              "      <th>CustomerID</th>\n",
              "      <th>StockCode</th>\n",
              "    </tr>\n",
              "  </thead>\n",
              "  <tbody>\n",
              "    <tr>\n",
              "      <th>0</th>\n",
              "      <td>17850</td>\n",
              "      <td>[85123A, 71053, 84406B, 84029G, 84029E, 22752,...</td>\n",
              "    </tr>\n",
              "    <tr>\n",
              "      <th>1</th>\n",
              "      <td>17850</td>\n",
              "      <td>[22633, 22632]</td>\n",
              "    </tr>\n",
              "    <tr>\n",
              "      <th>2</th>\n",
              "      <td>13047</td>\n",
              "      <td>[22745, 22748, 22749, 22310, 84969, 22623, 217...</td>\n",
              "    </tr>\n",
              "    <tr>\n",
              "      <th>3</th>\n",
              "      <td>13047</td>\n",
              "      <td>[22960, 22913, 22912, 22914]</td>\n",
              "    </tr>\n",
              "    <tr>\n",
              "      <th>4</th>\n",
              "      <td>13047</td>\n",
              "      <td>[21756]</td>\n",
              "    </tr>\n",
              "  </tbody>\n",
              "</table>\n",
              "</div>\n",
              "    <div class=\"colab-df-buttons\">\n",
              "\n",
              "  <div class=\"colab-df-container\">\n",
              "    <button class=\"colab-df-convert\" onclick=\"convertToInteractive('df-96f10759-5c79-4320-bdb8-8d737a70ba81')\"\n",
              "            title=\"Convert this dataframe to an interactive table.\"\n",
              "            style=\"display:none;\">\n",
              "\n",
              "  <svg xmlns=\"http://www.w3.org/2000/svg\" height=\"24px\" viewBox=\"0 -960 960 960\">\n",
              "    <path d=\"M120-120v-720h720v720H120Zm60-500h600v-160H180v160Zm220 220h160v-160H400v160Zm0 220h160v-160H400v160ZM180-400h160v-160H180v160Zm440 0h160v-160H620v160ZM180-180h160v-160H180v160Zm440 0h160v-160H620v160Z\"/>\n",
              "  </svg>\n",
              "    </button>\n",
              "\n",
              "  <style>\n",
              "    .colab-df-container {\n",
              "      display:flex;\n",
              "      gap: 12px;\n",
              "    }\n",
              "\n",
              "    .colab-df-convert {\n",
              "      background-color: #E8F0FE;\n",
              "      border: none;\n",
              "      border-radius: 50%;\n",
              "      cursor: pointer;\n",
              "      display: none;\n",
              "      fill: #1967D2;\n",
              "      height: 32px;\n",
              "      padding: 0 0 0 0;\n",
              "      width: 32px;\n",
              "    }\n",
              "\n",
              "    .colab-df-convert:hover {\n",
              "      background-color: #E2EBFA;\n",
              "      box-shadow: 0px 1px 2px rgba(60, 64, 67, 0.3), 0px 1px 3px 1px rgba(60, 64, 67, 0.15);\n",
              "      fill: #174EA6;\n",
              "    }\n",
              "\n",
              "    .colab-df-buttons div {\n",
              "      margin-bottom: 4px;\n",
              "    }\n",
              "\n",
              "    [theme=dark] .colab-df-convert {\n",
              "      background-color: #3B4455;\n",
              "      fill: #D2E3FC;\n",
              "    }\n",
              "\n",
              "    [theme=dark] .colab-df-convert:hover {\n",
              "      background-color: #434B5C;\n",
              "      box-shadow: 0px 1px 3px 1px rgba(0, 0, 0, 0.15);\n",
              "      filter: drop-shadow(0px 1px 2px rgba(0, 0, 0, 0.3));\n",
              "      fill: #FFFFFF;\n",
              "    }\n",
              "  </style>\n",
              "\n",
              "    <script>\n",
              "      const buttonEl =\n",
              "        document.querySelector('#df-96f10759-5c79-4320-bdb8-8d737a70ba81 button.colab-df-convert');\n",
              "      buttonEl.style.display =\n",
              "        google.colab.kernel.accessAllowed ? 'block' : 'none';\n",
              "\n",
              "      async function convertToInteractive(key) {\n",
              "        const element = document.querySelector('#df-96f10759-5c79-4320-bdb8-8d737a70ba81');\n",
              "        const dataTable =\n",
              "          await google.colab.kernel.invokeFunction('convertToInteractive',\n",
              "                                                    [key], {});\n",
              "        if (!dataTable) return;\n",
              "\n",
              "        const docLinkHtml = 'Like what you see? Visit the ' +\n",
              "          '<a target=\"_blank\" href=https://colab.research.google.com/notebooks/data_table.ipynb>data table notebook</a>'\n",
              "          + ' to learn more about interactive tables.';\n",
              "        element.innerHTML = '';\n",
              "        dataTable['output_type'] = 'display_data';\n",
              "        await google.colab.output.renderOutput(dataTable, element);\n",
              "        const docLink = document.createElement('div');\n",
              "        docLink.innerHTML = docLinkHtml;\n",
              "        element.appendChild(docLink);\n",
              "      }\n",
              "    </script>\n",
              "  </div>\n",
              "\n",
              "\n",
              "<div id=\"df-cc911252-3643-40cd-9f24-1f575d5e6c4b\">\n",
              "  <button class=\"colab-df-quickchart\" onclick=\"quickchart('df-cc911252-3643-40cd-9f24-1f575d5e6c4b')\"\n",
              "            title=\"Suggest charts\"\n",
              "            style=\"display:none;\">\n",
              "\n",
              "<svg xmlns=\"http://www.w3.org/2000/svg\" height=\"24px\"viewBox=\"0 0 24 24\"\n",
              "     width=\"24px\">\n",
              "    <g>\n",
              "        <path d=\"M19 3H5c-1.1 0-2 .9-2 2v14c0 1.1.9 2 2 2h14c1.1 0 2-.9 2-2V5c0-1.1-.9-2-2-2zM9 17H7v-7h2v7zm4 0h-2V7h2v10zm4 0h-2v-4h2v4z\"/>\n",
              "    </g>\n",
              "</svg>\n",
              "  </button>\n",
              "\n",
              "<style>\n",
              "  .colab-df-quickchart {\n",
              "      --bg-color: #E8F0FE;\n",
              "      --fill-color: #1967D2;\n",
              "      --hover-bg-color: #E2EBFA;\n",
              "      --hover-fill-color: #174EA6;\n",
              "      --disabled-fill-color: #AAA;\n",
              "      --disabled-bg-color: #DDD;\n",
              "  }\n",
              "\n",
              "  [theme=dark] .colab-df-quickchart {\n",
              "      --bg-color: #3B4455;\n",
              "      --fill-color: #D2E3FC;\n",
              "      --hover-bg-color: #434B5C;\n",
              "      --hover-fill-color: #FFFFFF;\n",
              "      --disabled-bg-color: #3B4455;\n",
              "      --disabled-fill-color: #666;\n",
              "  }\n",
              "\n",
              "  .colab-df-quickchart {\n",
              "    background-color: var(--bg-color);\n",
              "    border: none;\n",
              "    border-radius: 50%;\n",
              "    cursor: pointer;\n",
              "    display: none;\n",
              "    fill: var(--fill-color);\n",
              "    height: 32px;\n",
              "    padding: 0;\n",
              "    width: 32px;\n",
              "  }\n",
              "\n",
              "  .colab-df-quickchart:hover {\n",
              "    background-color: var(--hover-bg-color);\n",
              "    box-shadow: 0 1px 2px rgba(60, 64, 67, 0.3), 0 1px 3px 1px rgba(60, 64, 67, 0.15);\n",
              "    fill: var(--button-hover-fill-color);\n",
              "  }\n",
              "\n",
              "  .colab-df-quickchart-complete:disabled,\n",
              "  .colab-df-quickchart-complete:disabled:hover {\n",
              "    background-color: var(--disabled-bg-color);\n",
              "    fill: var(--disabled-fill-color);\n",
              "    box-shadow: none;\n",
              "  }\n",
              "\n",
              "  .colab-df-spinner {\n",
              "    border: 2px solid var(--fill-color);\n",
              "    border-color: transparent;\n",
              "    border-bottom-color: var(--fill-color);\n",
              "    animation:\n",
              "      spin 1s steps(1) infinite;\n",
              "  }\n",
              "\n",
              "  @keyframes spin {\n",
              "    0% {\n",
              "      border-color: transparent;\n",
              "      border-bottom-color: var(--fill-color);\n",
              "      border-left-color: var(--fill-color);\n",
              "    }\n",
              "    20% {\n",
              "      border-color: transparent;\n",
              "      border-left-color: var(--fill-color);\n",
              "      border-top-color: var(--fill-color);\n",
              "    }\n",
              "    30% {\n",
              "      border-color: transparent;\n",
              "      border-left-color: var(--fill-color);\n",
              "      border-top-color: var(--fill-color);\n",
              "      border-right-color: var(--fill-color);\n",
              "    }\n",
              "    40% {\n",
              "      border-color: transparent;\n",
              "      border-right-color: var(--fill-color);\n",
              "      border-top-color: var(--fill-color);\n",
              "    }\n",
              "    60% {\n",
              "      border-color: transparent;\n",
              "      border-right-color: var(--fill-color);\n",
              "    }\n",
              "    80% {\n",
              "      border-color: transparent;\n",
              "      border-right-color: var(--fill-color);\n",
              "      border-bottom-color: var(--fill-color);\n",
              "    }\n",
              "    90% {\n",
              "      border-color: transparent;\n",
              "      border-bottom-color: var(--fill-color);\n",
              "    }\n",
              "  }\n",
              "</style>\n",
              "\n",
              "  <script>\n",
              "    async function quickchart(key) {\n",
              "      const quickchartButtonEl =\n",
              "        document.querySelector('#' + key + ' button');\n",
              "      quickchartButtonEl.disabled = true;  // To prevent multiple clicks.\n",
              "      quickchartButtonEl.classList.add('colab-df-spinner');\n",
              "      try {\n",
              "        const charts = await google.colab.kernel.invokeFunction(\n",
              "            'suggestCharts', [key], {});\n",
              "      } catch (error) {\n",
              "        console.error('Error during call to suggestCharts:', error);\n",
              "      }\n",
              "      quickchartButtonEl.classList.remove('colab-df-spinner');\n",
              "      quickchartButtonEl.classList.add('colab-df-quickchart-complete');\n",
              "    }\n",
              "    (() => {\n",
              "      let quickchartButtonEl =\n",
              "        document.querySelector('#df-cc911252-3643-40cd-9f24-1f575d5e6c4b button');\n",
              "      quickchartButtonEl.style.display =\n",
              "        google.colab.kernel.accessAllowed ? 'block' : 'none';\n",
              "    })();\n",
              "  </script>\n",
              "</div>\n",
              "    </div>\n",
              "  </div>\n"
            ],
            "application/vnd.google.colaboratory.intrinsic+json": {
              "type": "dataframe",
              "variable_name": "gsp_df",
              "summary": "{\n  \"name\": \"gsp_df\",\n  \"rows\": 17875,\n  \"fields\": [\n    {\n      \"column\": \"CustomerID\",\n      \"properties\": {\n        \"dtype\": \"number\",\n        \"std\": 1660,\n        \"min\": 12347,\n        \"max\": 18287,\n        \"num_unique_values\": 4165,\n        \"samples\": [\n          18078,\n          13630,\n          17154\n        ],\n        \"semantic_type\": \"\",\n        \"description\": \"\"\n      }\n    },\n    {\n      \"column\": \"StockCode\",\n      \"properties\": {\n        \"dtype\": \"object\",\n        \"semantic_type\": \"\",\n        \"description\": \"\"\n      }\n    }\n  ]\n}"
            }
          },
          "metadata": {},
          "execution_count": 55
        }
      ],
      "source": [
        "gsp_df = pd.DataFrame(df.groupby(['InvoiceNo', 'CustomerID'])['StockCode'].agg(list).reset_index())\n",
        "gsp_df = gsp_df.drop(columns=['InvoiceNo'])\n",
        "gsp_df.head()"
      ]
    },
    {
      "cell_type": "markdown",
      "metadata": {
        "id": "OoxoANRpOOrh"
      },
      "source": [
        "3. Mediante 'gsp_df['StockCode'].apply(lambda x: [str(item) for item in x]' se convierte cada 'StockCode' (indicador del producto comprado) en cadenas de caracteres para evitar errores por mezcla de tipos de dato:"
      ]
    },
    {
      "cell_type": "code",
      "execution_count": null,
      "metadata": {
        "id": "rFMpE6ThOOrh",
        "colab": {
          "base_uri": "https://localhost:8080/",
          "height": 204
        },
        "outputId": "38358c65-c1c4-4f50-cd80-f4a48804ed18"
      },
      "outputs": [
        {
          "output_type": "execute_result",
          "data": {
            "text/plain": [
              "   CustomerID                                          StockCode\n",
              "0       17850  [85123A, 71053, 84406B, 84029G, 84029E, 22752,...\n",
              "1       17850                                     [22633, 22632]\n",
              "2       13047  [22745, 22748, 22749, 22310, 84969, 22623, 217...\n",
              "3       13047                       [22960, 22913, 22912, 22914]\n",
              "4       13047                                            [21756]"
            ],
            "text/html": [
              "\n",
              "  <div id=\"df-752e8200-7963-4dff-834d-692c874467e4\" class=\"colab-df-container\">\n",
              "    <div>\n",
              "<style scoped>\n",
              "    .dataframe tbody tr th:only-of-type {\n",
              "        vertical-align: middle;\n",
              "    }\n",
              "\n",
              "    .dataframe tbody tr th {\n",
              "        vertical-align: top;\n",
              "    }\n",
              "\n",
              "    .dataframe thead th {\n",
              "        text-align: right;\n",
              "    }\n",
              "</style>\n",
              "<table border=\"1\" class=\"dataframe\">\n",
              "  <thead>\n",
              "    <tr style=\"text-align: right;\">\n",
              "      <th></th>\n",
              "      <th>CustomerID</th>\n",
              "      <th>StockCode</th>\n",
              "    </tr>\n",
              "  </thead>\n",
              "  <tbody>\n",
              "    <tr>\n",
              "      <th>0</th>\n",
              "      <td>17850</td>\n",
              "      <td>[85123A, 71053, 84406B, 84029G, 84029E, 22752,...</td>\n",
              "    </tr>\n",
              "    <tr>\n",
              "      <th>1</th>\n",
              "      <td>17850</td>\n",
              "      <td>[22633, 22632]</td>\n",
              "    </tr>\n",
              "    <tr>\n",
              "      <th>2</th>\n",
              "      <td>13047</td>\n",
              "      <td>[22745, 22748, 22749, 22310, 84969, 22623, 217...</td>\n",
              "    </tr>\n",
              "    <tr>\n",
              "      <th>3</th>\n",
              "      <td>13047</td>\n",
              "      <td>[22960, 22913, 22912, 22914]</td>\n",
              "    </tr>\n",
              "    <tr>\n",
              "      <th>4</th>\n",
              "      <td>13047</td>\n",
              "      <td>[21756]</td>\n",
              "    </tr>\n",
              "  </tbody>\n",
              "</table>\n",
              "</div>\n",
              "    <div class=\"colab-df-buttons\">\n",
              "\n",
              "  <div class=\"colab-df-container\">\n",
              "    <button class=\"colab-df-convert\" onclick=\"convertToInteractive('df-752e8200-7963-4dff-834d-692c874467e4')\"\n",
              "            title=\"Convert this dataframe to an interactive table.\"\n",
              "            style=\"display:none;\">\n",
              "\n",
              "  <svg xmlns=\"http://www.w3.org/2000/svg\" height=\"24px\" viewBox=\"0 -960 960 960\">\n",
              "    <path d=\"M120-120v-720h720v720H120Zm60-500h600v-160H180v160Zm220 220h160v-160H400v160Zm0 220h160v-160H400v160ZM180-400h160v-160H180v160Zm440 0h160v-160H620v160ZM180-180h160v-160H180v160Zm440 0h160v-160H620v160Z\"/>\n",
              "  </svg>\n",
              "    </button>\n",
              "\n",
              "  <style>\n",
              "    .colab-df-container {\n",
              "      display:flex;\n",
              "      gap: 12px;\n",
              "    }\n",
              "\n",
              "    .colab-df-convert {\n",
              "      background-color: #E8F0FE;\n",
              "      border: none;\n",
              "      border-radius: 50%;\n",
              "      cursor: pointer;\n",
              "      display: none;\n",
              "      fill: #1967D2;\n",
              "      height: 32px;\n",
              "      padding: 0 0 0 0;\n",
              "      width: 32px;\n",
              "    }\n",
              "\n",
              "    .colab-df-convert:hover {\n",
              "      background-color: #E2EBFA;\n",
              "      box-shadow: 0px 1px 2px rgba(60, 64, 67, 0.3), 0px 1px 3px 1px rgba(60, 64, 67, 0.15);\n",
              "      fill: #174EA6;\n",
              "    }\n",
              "\n",
              "    .colab-df-buttons div {\n",
              "      margin-bottom: 4px;\n",
              "    }\n",
              "\n",
              "    [theme=dark] .colab-df-convert {\n",
              "      background-color: #3B4455;\n",
              "      fill: #D2E3FC;\n",
              "    }\n",
              "\n",
              "    [theme=dark] .colab-df-convert:hover {\n",
              "      background-color: #434B5C;\n",
              "      box-shadow: 0px 1px 3px 1px rgba(0, 0, 0, 0.15);\n",
              "      filter: drop-shadow(0px 1px 2px rgba(0, 0, 0, 0.3));\n",
              "      fill: #FFFFFF;\n",
              "    }\n",
              "  </style>\n",
              "\n",
              "    <script>\n",
              "      const buttonEl =\n",
              "        document.querySelector('#df-752e8200-7963-4dff-834d-692c874467e4 button.colab-df-convert');\n",
              "      buttonEl.style.display =\n",
              "        google.colab.kernel.accessAllowed ? 'block' : 'none';\n",
              "\n",
              "      async function convertToInteractive(key) {\n",
              "        const element = document.querySelector('#df-752e8200-7963-4dff-834d-692c874467e4');\n",
              "        const dataTable =\n",
              "          await google.colab.kernel.invokeFunction('convertToInteractive',\n",
              "                                                    [key], {});\n",
              "        if (!dataTable) return;\n",
              "\n",
              "        const docLinkHtml = 'Like what you see? Visit the ' +\n",
              "          '<a target=\"_blank\" href=https://colab.research.google.com/notebooks/data_table.ipynb>data table notebook</a>'\n",
              "          + ' to learn more about interactive tables.';\n",
              "        element.innerHTML = '';\n",
              "        dataTable['output_type'] = 'display_data';\n",
              "        await google.colab.output.renderOutput(dataTable, element);\n",
              "        const docLink = document.createElement('div');\n",
              "        docLink.innerHTML = docLinkHtml;\n",
              "        element.appendChild(docLink);\n",
              "      }\n",
              "    </script>\n",
              "  </div>\n",
              "\n",
              "\n",
              "<div id=\"df-e0d0a1ac-d3cf-4514-a243-b7350b18420e\">\n",
              "  <button class=\"colab-df-quickchart\" onclick=\"quickchart('df-e0d0a1ac-d3cf-4514-a243-b7350b18420e')\"\n",
              "            title=\"Suggest charts\"\n",
              "            style=\"display:none;\">\n",
              "\n",
              "<svg xmlns=\"http://www.w3.org/2000/svg\" height=\"24px\"viewBox=\"0 0 24 24\"\n",
              "     width=\"24px\">\n",
              "    <g>\n",
              "        <path d=\"M19 3H5c-1.1 0-2 .9-2 2v14c0 1.1.9 2 2 2h14c1.1 0 2-.9 2-2V5c0-1.1-.9-2-2-2zM9 17H7v-7h2v7zm4 0h-2V7h2v10zm4 0h-2v-4h2v4z\"/>\n",
              "    </g>\n",
              "</svg>\n",
              "  </button>\n",
              "\n",
              "<style>\n",
              "  .colab-df-quickchart {\n",
              "      --bg-color: #E8F0FE;\n",
              "      --fill-color: #1967D2;\n",
              "      --hover-bg-color: #E2EBFA;\n",
              "      --hover-fill-color: #174EA6;\n",
              "      --disabled-fill-color: #AAA;\n",
              "      --disabled-bg-color: #DDD;\n",
              "  }\n",
              "\n",
              "  [theme=dark] .colab-df-quickchart {\n",
              "      --bg-color: #3B4455;\n",
              "      --fill-color: #D2E3FC;\n",
              "      --hover-bg-color: #434B5C;\n",
              "      --hover-fill-color: #FFFFFF;\n",
              "      --disabled-bg-color: #3B4455;\n",
              "      --disabled-fill-color: #666;\n",
              "  }\n",
              "\n",
              "  .colab-df-quickchart {\n",
              "    background-color: var(--bg-color);\n",
              "    border: none;\n",
              "    border-radius: 50%;\n",
              "    cursor: pointer;\n",
              "    display: none;\n",
              "    fill: var(--fill-color);\n",
              "    height: 32px;\n",
              "    padding: 0;\n",
              "    width: 32px;\n",
              "  }\n",
              "\n",
              "  .colab-df-quickchart:hover {\n",
              "    background-color: var(--hover-bg-color);\n",
              "    box-shadow: 0 1px 2px rgba(60, 64, 67, 0.3), 0 1px 3px 1px rgba(60, 64, 67, 0.15);\n",
              "    fill: var(--button-hover-fill-color);\n",
              "  }\n",
              "\n",
              "  .colab-df-quickchart-complete:disabled,\n",
              "  .colab-df-quickchart-complete:disabled:hover {\n",
              "    background-color: var(--disabled-bg-color);\n",
              "    fill: var(--disabled-fill-color);\n",
              "    box-shadow: none;\n",
              "  }\n",
              "\n",
              "  .colab-df-spinner {\n",
              "    border: 2px solid var(--fill-color);\n",
              "    border-color: transparent;\n",
              "    border-bottom-color: var(--fill-color);\n",
              "    animation:\n",
              "      spin 1s steps(1) infinite;\n",
              "  }\n",
              "\n",
              "  @keyframes spin {\n",
              "    0% {\n",
              "      border-color: transparent;\n",
              "      border-bottom-color: var(--fill-color);\n",
              "      border-left-color: var(--fill-color);\n",
              "    }\n",
              "    20% {\n",
              "      border-color: transparent;\n",
              "      border-left-color: var(--fill-color);\n",
              "      border-top-color: var(--fill-color);\n",
              "    }\n",
              "    30% {\n",
              "      border-color: transparent;\n",
              "      border-left-color: var(--fill-color);\n",
              "      border-top-color: var(--fill-color);\n",
              "      border-right-color: var(--fill-color);\n",
              "    }\n",
              "    40% {\n",
              "      border-color: transparent;\n",
              "      border-right-color: var(--fill-color);\n",
              "      border-top-color: var(--fill-color);\n",
              "    }\n",
              "    60% {\n",
              "      border-color: transparent;\n",
              "      border-right-color: var(--fill-color);\n",
              "    }\n",
              "    80% {\n",
              "      border-color: transparent;\n",
              "      border-right-color: var(--fill-color);\n",
              "      border-bottom-color: var(--fill-color);\n",
              "    }\n",
              "    90% {\n",
              "      border-color: transparent;\n",
              "      border-bottom-color: var(--fill-color);\n",
              "    }\n",
              "  }\n",
              "</style>\n",
              "\n",
              "  <script>\n",
              "    async function quickchart(key) {\n",
              "      const quickchartButtonEl =\n",
              "        document.querySelector('#' + key + ' button');\n",
              "      quickchartButtonEl.disabled = true;  // To prevent multiple clicks.\n",
              "      quickchartButtonEl.classList.add('colab-df-spinner');\n",
              "      try {\n",
              "        const charts = await google.colab.kernel.invokeFunction(\n",
              "            'suggestCharts', [key], {});\n",
              "      } catch (error) {\n",
              "        console.error('Error during call to suggestCharts:', error);\n",
              "      }\n",
              "      quickchartButtonEl.classList.remove('colab-df-spinner');\n",
              "      quickchartButtonEl.classList.add('colab-df-quickchart-complete');\n",
              "    }\n",
              "    (() => {\n",
              "      let quickchartButtonEl =\n",
              "        document.querySelector('#df-e0d0a1ac-d3cf-4514-a243-b7350b18420e button');\n",
              "      quickchartButtonEl.style.display =\n",
              "        google.colab.kernel.accessAllowed ? 'block' : 'none';\n",
              "    })();\n",
              "  </script>\n",
              "</div>\n",
              "    </div>\n",
              "  </div>\n"
            ],
            "application/vnd.google.colaboratory.intrinsic+json": {
              "type": "dataframe",
              "variable_name": "gsp_df",
              "summary": "{\n  \"name\": \"gsp_df\",\n  \"rows\": 17875,\n  \"fields\": [\n    {\n      \"column\": \"CustomerID\",\n      \"properties\": {\n        \"dtype\": \"number\",\n        \"std\": 1660,\n        \"min\": 12347,\n        \"max\": 18287,\n        \"num_unique_values\": 4165,\n        \"samples\": [\n          18078,\n          13630,\n          17154\n        ],\n        \"semantic_type\": \"\",\n        \"description\": \"\"\n      }\n    },\n    {\n      \"column\": \"StockCode\",\n      \"properties\": {\n        \"dtype\": \"object\",\n        \"semantic_type\": \"\",\n        \"description\": \"\"\n      }\n    }\n  ]\n}"
            }
          },
          "metadata": {},
          "execution_count": 56
        }
      ],
      "source": [
        "gsp_df['StockCode'] = gsp_df['StockCode'].apply(lambda x: [str(item) for item in x])\n",
        "gsp_df.head()"
      ]
    },
    {
      "cell_type": "markdown",
      "metadata": {
        "id": "Om8gnldyOOrh"
      },
      "source": [
        "4. De nuevo, se realiza una agrupación, esta vez en función de 'CustomerID'. Y se vuelve a aplicar el método 'agg(list).reset_index()' consiguiendo que cada cliente sea una lista de listas:"
      ]
    },
    {
      "cell_type": "code",
      "execution_count": null,
      "metadata": {
        "id": "39QqnJ2wOOri",
        "colab": {
          "base_uri": "https://localhost:8080/",
          "height": 204
        },
        "outputId": "beebff1b-368b-4251-db29-83f59841816f"
      },
      "outputs": [
        {
          "output_type": "execute_result",
          "data": {
            "text/plain": [
              "   CustomerID                                          StockCode\n",
              "0       12347  [[85116, 22375, 71477, 22771, 22772, 22773, 22...\n",
              "1       12348                                          [[22437]]\n",
              "2       12349  [[23112, 21564, 21411, 21563, 22131, 22195, 48...\n",
              "3       12350  [[21908, 22412, 79066K, 79191C, 84086C, 22551,...\n",
              "4       12352  [[21380, 22064, 21232, 22646, 22779, 22654, 21..."
            ],
            "text/html": [
              "\n",
              "  <div id=\"df-8330c2e3-4c86-4316-a008-fcf3e1470917\" class=\"colab-df-container\">\n",
              "    <div>\n",
              "<style scoped>\n",
              "    .dataframe tbody tr th:only-of-type {\n",
              "        vertical-align: middle;\n",
              "    }\n",
              "\n",
              "    .dataframe tbody tr th {\n",
              "        vertical-align: top;\n",
              "    }\n",
              "\n",
              "    .dataframe thead th {\n",
              "        text-align: right;\n",
              "    }\n",
              "</style>\n",
              "<table border=\"1\" class=\"dataframe\">\n",
              "  <thead>\n",
              "    <tr style=\"text-align: right;\">\n",
              "      <th></th>\n",
              "      <th>CustomerID</th>\n",
              "      <th>StockCode</th>\n",
              "    </tr>\n",
              "  </thead>\n",
              "  <tbody>\n",
              "    <tr>\n",
              "      <th>0</th>\n",
              "      <td>12347</td>\n",
              "      <td>[[85116, 22375, 71477, 22771, 22772, 22773, 22...</td>\n",
              "    </tr>\n",
              "    <tr>\n",
              "      <th>1</th>\n",
              "      <td>12348</td>\n",
              "      <td>[[22437]]</td>\n",
              "    </tr>\n",
              "    <tr>\n",
              "      <th>2</th>\n",
              "      <td>12349</td>\n",
              "      <td>[[23112, 21564, 21411, 21563, 22131, 22195, 48...</td>\n",
              "    </tr>\n",
              "    <tr>\n",
              "      <th>3</th>\n",
              "      <td>12350</td>\n",
              "      <td>[[21908, 22412, 79066K, 79191C, 84086C, 22551,...</td>\n",
              "    </tr>\n",
              "    <tr>\n",
              "      <th>4</th>\n",
              "      <td>12352</td>\n",
              "      <td>[[21380, 22064, 21232, 22646, 22779, 22654, 21...</td>\n",
              "    </tr>\n",
              "  </tbody>\n",
              "</table>\n",
              "</div>\n",
              "    <div class=\"colab-df-buttons\">\n",
              "\n",
              "  <div class=\"colab-df-container\">\n",
              "    <button class=\"colab-df-convert\" onclick=\"convertToInteractive('df-8330c2e3-4c86-4316-a008-fcf3e1470917')\"\n",
              "            title=\"Convert this dataframe to an interactive table.\"\n",
              "            style=\"display:none;\">\n",
              "\n",
              "  <svg xmlns=\"http://www.w3.org/2000/svg\" height=\"24px\" viewBox=\"0 -960 960 960\">\n",
              "    <path d=\"M120-120v-720h720v720H120Zm60-500h600v-160H180v160Zm220 220h160v-160H400v160Zm0 220h160v-160H400v160ZM180-400h160v-160H180v160Zm440 0h160v-160H620v160ZM180-180h160v-160H180v160Zm440 0h160v-160H620v160Z\"/>\n",
              "  </svg>\n",
              "    </button>\n",
              "\n",
              "  <style>\n",
              "    .colab-df-container {\n",
              "      display:flex;\n",
              "      gap: 12px;\n",
              "    }\n",
              "\n",
              "    .colab-df-convert {\n",
              "      background-color: #E8F0FE;\n",
              "      border: none;\n",
              "      border-radius: 50%;\n",
              "      cursor: pointer;\n",
              "      display: none;\n",
              "      fill: #1967D2;\n",
              "      height: 32px;\n",
              "      padding: 0 0 0 0;\n",
              "      width: 32px;\n",
              "    }\n",
              "\n",
              "    .colab-df-convert:hover {\n",
              "      background-color: #E2EBFA;\n",
              "      box-shadow: 0px 1px 2px rgba(60, 64, 67, 0.3), 0px 1px 3px 1px rgba(60, 64, 67, 0.15);\n",
              "      fill: #174EA6;\n",
              "    }\n",
              "\n",
              "    .colab-df-buttons div {\n",
              "      margin-bottom: 4px;\n",
              "    }\n",
              "\n",
              "    [theme=dark] .colab-df-convert {\n",
              "      background-color: #3B4455;\n",
              "      fill: #D2E3FC;\n",
              "    }\n",
              "\n",
              "    [theme=dark] .colab-df-convert:hover {\n",
              "      background-color: #434B5C;\n",
              "      box-shadow: 0px 1px 3px 1px rgba(0, 0, 0, 0.15);\n",
              "      filter: drop-shadow(0px 1px 2px rgba(0, 0, 0, 0.3));\n",
              "      fill: #FFFFFF;\n",
              "    }\n",
              "  </style>\n",
              "\n",
              "    <script>\n",
              "      const buttonEl =\n",
              "        document.querySelector('#df-8330c2e3-4c86-4316-a008-fcf3e1470917 button.colab-df-convert');\n",
              "      buttonEl.style.display =\n",
              "        google.colab.kernel.accessAllowed ? 'block' : 'none';\n",
              "\n",
              "      async function convertToInteractive(key) {\n",
              "        const element = document.querySelector('#df-8330c2e3-4c86-4316-a008-fcf3e1470917');\n",
              "        const dataTable =\n",
              "          await google.colab.kernel.invokeFunction('convertToInteractive',\n",
              "                                                    [key], {});\n",
              "        if (!dataTable) return;\n",
              "\n",
              "        const docLinkHtml = 'Like what you see? Visit the ' +\n",
              "          '<a target=\"_blank\" href=https://colab.research.google.com/notebooks/data_table.ipynb>data table notebook</a>'\n",
              "          + ' to learn more about interactive tables.';\n",
              "        element.innerHTML = '';\n",
              "        dataTable['output_type'] = 'display_data';\n",
              "        await google.colab.output.renderOutput(dataTable, element);\n",
              "        const docLink = document.createElement('div');\n",
              "        docLink.innerHTML = docLinkHtml;\n",
              "        element.appendChild(docLink);\n",
              "      }\n",
              "    </script>\n",
              "  </div>\n",
              "\n",
              "\n",
              "<div id=\"df-4bfc6c51-d765-4add-a1a6-47f196c8ed1c\">\n",
              "  <button class=\"colab-df-quickchart\" onclick=\"quickchart('df-4bfc6c51-d765-4add-a1a6-47f196c8ed1c')\"\n",
              "            title=\"Suggest charts\"\n",
              "            style=\"display:none;\">\n",
              "\n",
              "<svg xmlns=\"http://www.w3.org/2000/svg\" height=\"24px\"viewBox=\"0 0 24 24\"\n",
              "     width=\"24px\">\n",
              "    <g>\n",
              "        <path d=\"M19 3H5c-1.1 0-2 .9-2 2v14c0 1.1.9 2 2 2h14c1.1 0 2-.9 2-2V5c0-1.1-.9-2-2-2zM9 17H7v-7h2v7zm4 0h-2V7h2v10zm4 0h-2v-4h2v4z\"/>\n",
              "    </g>\n",
              "</svg>\n",
              "  </button>\n",
              "\n",
              "<style>\n",
              "  .colab-df-quickchart {\n",
              "      --bg-color: #E8F0FE;\n",
              "      --fill-color: #1967D2;\n",
              "      --hover-bg-color: #E2EBFA;\n",
              "      --hover-fill-color: #174EA6;\n",
              "      --disabled-fill-color: #AAA;\n",
              "      --disabled-bg-color: #DDD;\n",
              "  }\n",
              "\n",
              "  [theme=dark] .colab-df-quickchart {\n",
              "      --bg-color: #3B4455;\n",
              "      --fill-color: #D2E3FC;\n",
              "      --hover-bg-color: #434B5C;\n",
              "      --hover-fill-color: #FFFFFF;\n",
              "      --disabled-bg-color: #3B4455;\n",
              "      --disabled-fill-color: #666;\n",
              "  }\n",
              "\n",
              "  .colab-df-quickchart {\n",
              "    background-color: var(--bg-color);\n",
              "    border: none;\n",
              "    border-radius: 50%;\n",
              "    cursor: pointer;\n",
              "    display: none;\n",
              "    fill: var(--fill-color);\n",
              "    height: 32px;\n",
              "    padding: 0;\n",
              "    width: 32px;\n",
              "  }\n",
              "\n",
              "  .colab-df-quickchart:hover {\n",
              "    background-color: var(--hover-bg-color);\n",
              "    box-shadow: 0 1px 2px rgba(60, 64, 67, 0.3), 0 1px 3px 1px rgba(60, 64, 67, 0.15);\n",
              "    fill: var(--button-hover-fill-color);\n",
              "  }\n",
              "\n",
              "  .colab-df-quickchart-complete:disabled,\n",
              "  .colab-df-quickchart-complete:disabled:hover {\n",
              "    background-color: var(--disabled-bg-color);\n",
              "    fill: var(--disabled-fill-color);\n",
              "    box-shadow: none;\n",
              "  }\n",
              "\n",
              "  .colab-df-spinner {\n",
              "    border: 2px solid var(--fill-color);\n",
              "    border-color: transparent;\n",
              "    border-bottom-color: var(--fill-color);\n",
              "    animation:\n",
              "      spin 1s steps(1) infinite;\n",
              "  }\n",
              "\n",
              "  @keyframes spin {\n",
              "    0% {\n",
              "      border-color: transparent;\n",
              "      border-bottom-color: var(--fill-color);\n",
              "      border-left-color: var(--fill-color);\n",
              "    }\n",
              "    20% {\n",
              "      border-color: transparent;\n",
              "      border-left-color: var(--fill-color);\n",
              "      border-top-color: var(--fill-color);\n",
              "    }\n",
              "    30% {\n",
              "      border-color: transparent;\n",
              "      border-left-color: var(--fill-color);\n",
              "      border-top-color: var(--fill-color);\n",
              "      border-right-color: var(--fill-color);\n",
              "    }\n",
              "    40% {\n",
              "      border-color: transparent;\n",
              "      border-right-color: var(--fill-color);\n",
              "      border-top-color: var(--fill-color);\n",
              "    }\n",
              "    60% {\n",
              "      border-color: transparent;\n",
              "      border-right-color: var(--fill-color);\n",
              "    }\n",
              "    80% {\n",
              "      border-color: transparent;\n",
              "      border-right-color: var(--fill-color);\n",
              "      border-bottom-color: var(--fill-color);\n",
              "    }\n",
              "    90% {\n",
              "      border-color: transparent;\n",
              "      border-bottom-color: var(--fill-color);\n",
              "    }\n",
              "  }\n",
              "</style>\n",
              "\n",
              "  <script>\n",
              "    async function quickchart(key) {\n",
              "      const quickchartButtonEl =\n",
              "        document.querySelector('#' + key + ' button');\n",
              "      quickchartButtonEl.disabled = true;  // To prevent multiple clicks.\n",
              "      quickchartButtonEl.classList.add('colab-df-spinner');\n",
              "      try {\n",
              "        const charts = await google.colab.kernel.invokeFunction(\n",
              "            'suggestCharts', [key], {});\n",
              "      } catch (error) {\n",
              "        console.error('Error during call to suggestCharts:', error);\n",
              "      }\n",
              "      quickchartButtonEl.classList.remove('colab-df-spinner');\n",
              "      quickchartButtonEl.classList.add('colab-df-quickchart-complete');\n",
              "    }\n",
              "    (() => {\n",
              "      let quickchartButtonEl =\n",
              "        document.querySelector('#df-4bfc6c51-d765-4add-a1a6-47f196c8ed1c button');\n",
              "      quickchartButtonEl.style.display =\n",
              "        google.colab.kernel.accessAllowed ? 'block' : 'none';\n",
              "    })();\n",
              "  </script>\n",
              "</div>\n",
              "    </div>\n",
              "  </div>\n"
            ],
            "application/vnd.google.colaboratory.intrinsic+json": {
              "type": "dataframe",
              "variable_name": "gsp_df",
              "summary": "{\n  \"name\": \"gsp_df\",\n  \"rows\": 4165,\n  \"fields\": [\n    {\n      \"column\": \"CustomerID\",\n      \"properties\": {\n        \"dtype\": \"number\",\n        \"std\": 1719,\n        \"min\": 12347,\n        \"max\": 18287,\n        \"num_unique_values\": 4165,\n        \"samples\": [\n          15091,\n          14522,\n          17146\n        ],\n        \"semantic_type\": \"\",\n        \"description\": \"\"\n      }\n    },\n    {\n      \"column\": \"StockCode\",\n      \"properties\": {\n        \"dtype\": \"object\",\n        \"semantic_type\": \"\",\n        \"description\": \"\"\n      }\n    }\n  ]\n}"
            }
          },
          "metadata": {},
          "execution_count": 57
        }
      ],
      "source": [
        "gsp_df = pd.DataFrame(gsp_df.groupby(['CustomerID'])['StockCode'].agg(list).reset_index())\n",
        "gsp_df.head()"
      ]
    },
    {
      "cell_type": "code",
      "execution_count": null,
      "metadata": {
        "id": "hHqlK6k3OOri",
        "colab": {
          "base_uri": "https://localhost:8080/"
        },
        "outputId": "6e9932dc-d336-43c9-bfa1-b53548d0a8d1"
      },
      "outputs": [
        {
          "output_type": "stream",
          "name": "stdout",
          "text": [
            "Todas las transacciones del cliente 5: [['37446', '37450']]\n"
          ]
        }
      ],
      "source": [
        "print(\"Todas las transacciones del cliente 5:\", gsp_df.loc[5, 'StockCode'])"
      ]
    },
    {
      "cell_type": "markdown",
      "metadata": {
        "id": "dsisIwsuOOri"
      },
      "source": [
        "5. Eliminamos todos aquellos clientes que contengan una sola transacción de un solo producto. Esto es porque estos clientes no aportan información significativa a la hora de obtener patrones frecuentes debido a que han realizado una sola compra de un solo producto (no se puede obtener consecuente):"
      ]
    },
    {
      "cell_type": "code",
      "execution_count": null,
      "metadata": {
        "id": "pd3suzfOOOri",
        "colab": {
          "base_uri": "https://localhost:8080/",
          "height": 204
        },
        "outputId": "dbdc19ef-9219-49d5-881a-b735abce3e0d"
      },
      "outputs": [
        {
          "output_type": "execute_result",
          "data": {
            "text/plain": [
              "   CustomerID                                          StockCode\n",
              "0       12347  [[85116, 22375, 71477, 22771, 22772, 22773, 22...\n",
              "2       12349  [[23112, 21564, 21411, 21563, 22131, 22195, 48...\n",
              "3       12350  [[21908, 22412, 79066K, 79191C, 84086C, 22551,...\n",
              "4       12352  [[21380, 22064, 21232, 22646, 22779, 22654, 21...\n",
              "5       12353                                   [[37446, 37450]]"
            ],
            "text/html": [
              "\n",
              "  <div id=\"df-f983f2a5-e101-42dc-b465-c1abb0ace070\" class=\"colab-df-container\">\n",
              "    <div>\n",
              "<style scoped>\n",
              "    .dataframe tbody tr th:only-of-type {\n",
              "        vertical-align: middle;\n",
              "    }\n",
              "\n",
              "    .dataframe tbody tr th {\n",
              "        vertical-align: top;\n",
              "    }\n",
              "\n",
              "    .dataframe thead th {\n",
              "        text-align: right;\n",
              "    }\n",
              "</style>\n",
              "<table border=\"1\" class=\"dataframe\">\n",
              "  <thead>\n",
              "    <tr style=\"text-align: right;\">\n",
              "      <th></th>\n",
              "      <th>CustomerID</th>\n",
              "      <th>StockCode</th>\n",
              "    </tr>\n",
              "  </thead>\n",
              "  <tbody>\n",
              "    <tr>\n",
              "      <th>0</th>\n",
              "      <td>12347</td>\n",
              "      <td>[[85116, 22375, 71477, 22771, 22772, 22773, 22...</td>\n",
              "    </tr>\n",
              "    <tr>\n",
              "      <th>2</th>\n",
              "      <td>12349</td>\n",
              "      <td>[[23112, 21564, 21411, 21563, 22131, 22195, 48...</td>\n",
              "    </tr>\n",
              "    <tr>\n",
              "      <th>3</th>\n",
              "      <td>12350</td>\n",
              "      <td>[[21908, 22412, 79066K, 79191C, 84086C, 22551,...</td>\n",
              "    </tr>\n",
              "    <tr>\n",
              "      <th>4</th>\n",
              "      <td>12352</td>\n",
              "      <td>[[21380, 22064, 21232, 22646, 22779, 22654, 21...</td>\n",
              "    </tr>\n",
              "    <tr>\n",
              "      <th>5</th>\n",
              "      <td>12353</td>\n",
              "      <td>[[37446, 37450]]</td>\n",
              "    </tr>\n",
              "  </tbody>\n",
              "</table>\n",
              "</div>\n",
              "    <div class=\"colab-df-buttons\">\n",
              "\n",
              "  <div class=\"colab-df-container\">\n",
              "    <button class=\"colab-df-convert\" onclick=\"convertToInteractive('df-f983f2a5-e101-42dc-b465-c1abb0ace070')\"\n",
              "            title=\"Convert this dataframe to an interactive table.\"\n",
              "            style=\"display:none;\">\n",
              "\n",
              "  <svg xmlns=\"http://www.w3.org/2000/svg\" height=\"24px\" viewBox=\"0 -960 960 960\">\n",
              "    <path d=\"M120-120v-720h720v720H120Zm60-500h600v-160H180v160Zm220 220h160v-160H400v160Zm0 220h160v-160H400v160ZM180-400h160v-160H180v160Zm440 0h160v-160H620v160ZM180-180h160v-160H180v160Zm440 0h160v-160H620v160Z\"/>\n",
              "  </svg>\n",
              "    </button>\n",
              "\n",
              "  <style>\n",
              "    .colab-df-container {\n",
              "      display:flex;\n",
              "      gap: 12px;\n",
              "    }\n",
              "\n",
              "    .colab-df-convert {\n",
              "      background-color: #E8F0FE;\n",
              "      border: none;\n",
              "      border-radius: 50%;\n",
              "      cursor: pointer;\n",
              "      display: none;\n",
              "      fill: #1967D2;\n",
              "      height: 32px;\n",
              "      padding: 0 0 0 0;\n",
              "      width: 32px;\n",
              "    }\n",
              "\n",
              "    .colab-df-convert:hover {\n",
              "      background-color: #E2EBFA;\n",
              "      box-shadow: 0px 1px 2px rgba(60, 64, 67, 0.3), 0px 1px 3px 1px rgba(60, 64, 67, 0.15);\n",
              "      fill: #174EA6;\n",
              "    }\n",
              "\n",
              "    .colab-df-buttons div {\n",
              "      margin-bottom: 4px;\n",
              "    }\n",
              "\n",
              "    [theme=dark] .colab-df-convert {\n",
              "      background-color: #3B4455;\n",
              "      fill: #D2E3FC;\n",
              "    }\n",
              "\n",
              "    [theme=dark] .colab-df-convert:hover {\n",
              "      background-color: #434B5C;\n",
              "      box-shadow: 0px 1px 3px 1px rgba(0, 0, 0, 0.15);\n",
              "      filter: drop-shadow(0px 1px 2px rgba(0, 0, 0, 0.3));\n",
              "      fill: #FFFFFF;\n",
              "    }\n",
              "  </style>\n",
              "\n",
              "    <script>\n",
              "      const buttonEl =\n",
              "        document.querySelector('#df-f983f2a5-e101-42dc-b465-c1abb0ace070 button.colab-df-convert');\n",
              "      buttonEl.style.display =\n",
              "        google.colab.kernel.accessAllowed ? 'block' : 'none';\n",
              "\n",
              "      async function convertToInteractive(key) {\n",
              "        const element = document.querySelector('#df-f983f2a5-e101-42dc-b465-c1abb0ace070');\n",
              "        const dataTable =\n",
              "          await google.colab.kernel.invokeFunction('convertToInteractive',\n",
              "                                                    [key], {});\n",
              "        if (!dataTable) return;\n",
              "\n",
              "        const docLinkHtml = 'Like what you see? Visit the ' +\n",
              "          '<a target=\"_blank\" href=https://colab.research.google.com/notebooks/data_table.ipynb>data table notebook</a>'\n",
              "          + ' to learn more about interactive tables.';\n",
              "        element.innerHTML = '';\n",
              "        dataTable['output_type'] = 'display_data';\n",
              "        await google.colab.output.renderOutput(dataTable, element);\n",
              "        const docLink = document.createElement('div');\n",
              "        docLink.innerHTML = docLinkHtml;\n",
              "        element.appendChild(docLink);\n",
              "      }\n",
              "    </script>\n",
              "  </div>\n",
              "\n",
              "\n",
              "<div id=\"df-501b20c5-5c7b-4f0c-bb49-2a95ba6c448b\">\n",
              "  <button class=\"colab-df-quickchart\" onclick=\"quickchart('df-501b20c5-5c7b-4f0c-bb49-2a95ba6c448b')\"\n",
              "            title=\"Suggest charts\"\n",
              "            style=\"display:none;\">\n",
              "\n",
              "<svg xmlns=\"http://www.w3.org/2000/svg\" height=\"24px\"viewBox=\"0 0 24 24\"\n",
              "     width=\"24px\">\n",
              "    <g>\n",
              "        <path d=\"M19 3H5c-1.1 0-2 .9-2 2v14c0 1.1.9 2 2 2h14c1.1 0 2-.9 2-2V5c0-1.1-.9-2-2-2zM9 17H7v-7h2v7zm4 0h-2V7h2v10zm4 0h-2v-4h2v4z\"/>\n",
              "    </g>\n",
              "</svg>\n",
              "  </button>\n",
              "\n",
              "<style>\n",
              "  .colab-df-quickchart {\n",
              "      --bg-color: #E8F0FE;\n",
              "      --fill-color: #1967D2;\n",
              "      --hover-bg-color: #E2EBFA;\n",
              "      --hover-fill-color: #174EA6;\n",
              "      --disabled-fill-color: #AAA;\n",
              "      --disabled-bg-color: #DDD;\n",
              "  }\n",
              "\n",
              "  [theme=dark] .colab-df-quickchart {\n",
              "      --bg-color: #3B4455;\n",
              "      --fill-color: #D2E3FC;\n",
              "      --hover-bg-color: #434B5C;\n",
              "      --hover-fill-color: #FFFFFF;\n",
              "      --disabled-bg-color: #3B4455;\n",
              "      --disabled-fill-color: #666;\n",
              "  }\n",
              "\n",
              "  .colab-df-quickchart {\n",
              "    background-color: var(--bg-color);\n",
              "    border: none;\n",
              "    border-radius: 50%;\n",
              "    cursor: pointer;\n",
              "    display: none;\n",
              "    fill: var(--fill-color);\n",
              "    height: 32px;\n",
              "    padding: 0;\n",
              "    width: 32px;\n",
              "  }\n",
              "\n",
              "  .colab-df-quickchart:hover {\n",
              "    background-color: var(--hover-bg-color);\n",
              "    box-shadow: 0 1px 2px rgba(60, 64, 67, 0.3), 0 1px 3px 1px rgba(60, 64, 67, 0.15);\n",
              "    fill: var(--button-hover-fill-color);\n",
              "  }\n",
              "\n",
              "  .colab-df-quickchart-complete:disabled,\n",
              "  .colab-df-quickchart-complete:disabled:hover {\n",
              "    background-color: var(--disabled-bg-color);\n",
              "    fill: var(--disabled-fill-color);\n",
              "    box-shadow: none;\n",
              "  }\n",
              "\n",
              "  .colab-df-spinner {\n",
              "    border: 2px solid var(--fill-color);\n",
              "    border-color: transparent;\n",
              "    border-bottom-color: var(--fill-color);\n",
              "    animation:\n",
              "      spin 1s steps(1) infinite;\n",
              "  }\n",
              "\n",
              "  @keyframes spin {\n",
              "    0% {\n",
              "      border-color: transparent;\n",
              "      border-bottom-color: var(--fill-color);\n",
              "      border-left-color: var(--fill-color);\n",
              "    }\n",
              "    20% {\n",
              "      border-color: transparent;\n",
              "      border-left-color: var(--fill-color);\n",
              "      border-top-color: var(--fill-color);\n",
              "    }\n",
              "    30% {\n",
              "      border-color: transparent;\n",
              "      border-left-color: var(--fill-color);\n",
              "      border-top-color: var(--fill-color);\n",
              "      border-right-color: var(--fill-color);\n",
              "    }\n",
              "    40% {\n",
              "      border-color: transparent;\n",
              "      border-right-color: var(--fill-color);\n",
              "      border-top-color: var(--fill-color);\n",
              "    }\n",
              "    60% {\n",
              "      border-color: transparent;\n",
              "      border-right-color: var(--fill-color);\n",
              "    }\n",
              "    80% {\n",
              "      border-color: transparent;\n",
              "      border-right-color: var(--fill-color);\n",
              "      border-bottom-color: var(--fill-color);\n",
              "    }\n",
              "    90% {\n",
              "      border-color: transparent;\n",
              "      border-bottom-color: var(--fill-color);\n",
              "    }\n",
              "  }\n",
              "</style>\n",
              "\n",
              "  <script>\n",
              "    async function quickchart(key) {\n",
              "      const quickchartButtonEl =\n",
              "        document.querySelector('#' + key + ' button');\n",
              "      quickchartButtonEl.disabled = true;  // To prevent multiple clicks.\n",
              "      quickchartButtonEl.classList.add('colab-df-spinner');\n",
              "      try {\n",
              "        const charts = await google.colab.kernel.invokeFunction(\n",
              "            'suggestCharts', [key], {});\n",
              "      } catch (error) {\n",
              "        console.error('Error during call to suggestCharts:', error);\n",
              "      }\n",
              "      quickchartButtonEl.classList.remove('colab-df-spinner');\n",
              "      quickchartButtonEl.classList.add('colab-df-quickchart-complete');\n",
              "    }\n",
              "    (() => {\n",
              "      let quickchartButtonEl =\n",
              "        document.querySelector('#df-501b20c5-5c7b-4f0c-bb49-2a95ba6c448b button');\n",
              "      quickchartButtonEl.style.display =\n",
              "        google.colab.kernel.accessAllowed ? 'block' : 'none';\n",
              "    })();\n",
              "  </script>\n",
              "</div>\n",
              "    </div>\n",
              "  </div>\n"
            ],
            "application/vnd.google.colaboratory.intrinsic+json": {
              "type": "dataframe",
              "variable_name": "gsp_df",
              "summary": "{\n  \"name\": \"gsp_df\",\n  \"rows\": 4090,\n  \"fields\": [\n    {\n      \"column\": \"CustomerID\",\n      \"properties\": {\n        \"dtype\": \"number\",\n        \"std\": 1717,\n        \"min\": 12347,\n        \"max\": 18287,\n        \"num_unique_values\": 4090,\n        \"samples\": [\n          13192,\n          13421,\n          15245\n        ],\n        \"semantic_type\": \"\",\n        \"description\": \"\"\n      }\n    },\n    {\n      \"column\": \"StockCode\",\n      \"properties\": {\n        \"dtype\": \"object\",\n        \"semantic_type\": \"\",\n        \"description\": \"\"\n      }\n    }\n  ]\n}"
            }
          },
          "metadata": {},
          "execution_count": 59
        }
      ],
      "source": [
        "gsp_df = gsp_df[(gsp_df['StockCode'].map(len) > 1) | (gsp_df['StockCode'].map(lambda x: len(x[0]) > 1))]\n",
        "gsp_df.head()"
      ]
    },
    {
      "cell_type": "markdown",
      "metadata": {
        "id": "ttlspnhwOOri"
      },
      "source": [
        "6. Por último, convertimos la columna de productos en una lista que esta ordenada en el tiempo y por cliente consiguiendo el formato requerido:"
      ]
    },
    {
      "cell_type": "code",
      "execution_count": null,
      "metadata": {
        "id": "Y-rA4vVmOOri"
      },
      "outputs": [],
      "source": [
        "gsp_list = gsp_df['StockCode'].tolist()"
      ]
    },
    {
      "cell_type": "markdown",
      "metadata": {
        "id": "7IQSmNKQOOri"
      },
      "source": [
        "Verificamos que está bien mirando si el tamaño de la lista creada coincide con el nº de clientes:"
      ]
    },
    {
      "cell_type": "code",
      "execution_count": null,
      "metadata": {
        "id": "H3aMxZJTOOrj",
        "colab": {
          "base_uri": "https://localhost:8080/"
        },
        "outputId": "254eac71-f4ae-499a-ca18-9919f198966e"
      },
      "outputs": [
        {
          "output_type": "stream",
          "name": "stdout",
          "text": [
            "Clientes únicos:  4090\n",
            "Tamaño de la lista:  4090\n"
          ]
        }
      ],
      "source": [
        "print(\"Clientes únicos: \", len(gsp_df['CustomerID'].unique()))\n",
        "\n",
        "print(\"Tamaño de la lista: \", len(gsp_list)) #La lista tiene la misma longitud que el nº total de clientes"
      ]
    },
    {
      "cell_type": "markdown",
      "metadata": {
        "id": "AQeIMMjtOOrj"
      },
      "source": [
        "Se procede a instalar la librería propuesta para aplicar GSP:"
      ]
    },
    {
      "cell_type": "code",
      "execution_count": null,
      "metadata": {
        "id": "2IE2wcDfOOrj",
        "colab": {
          "base_uri": "https://localhost:8080/"
        },
        "outputId": "31a54d63-324f-4ddc-94d2-67fdac97ffef"
      },
      "outputs": [
        {
          "output_type": "stream",
          "name": "stdout",
          "text": [
            "Collecting gsppy\n",
            "  Downloading gsppy-1.1-py3-none-any.whl (5.7 kB)\n",
            "Installing collected packages: gsppy\n",
            "Successfully installed gsppy-1.1\n"
          ]
        }
      ],
      "source": [
        "!pip install gsppy"
      ]
    },
    {
      "cell_type": "code",
      "execution_count": null,
      "metadata": {
        "id": "R4XN8FxiOOrj"
      },
      "outputs": [],
      "source": [
        "from gsppy.gsp import GSP"
      ]
    },
    {
      "cell_type": "code",
      "execution_count": null,
      "metadata": {
        "id": "CS34h73YOOrj",
        "colab": {
          "base_uri": "https://localhost:8080/",
          "height": 282
        },
        "outputId": "d04c4a00-691b-4c65-f4ac-57f42359b36c"
      },
      "outputs": [
        {
          "output_type": "error",
          "ename": "TypeError",
          "evalue": "unhashable type: 'list'",
          "traceback": [
            "\u001b[0;31m---------------------------------------------------------------------------\u001b[0m",
            "\u001b[0;31mTypeError\u001b[0m                                 Traceback (most recent call last)",
            "\u001b[0;32m<ipython-input-64-66f9c4b5d4c8>\u001b[0m in \u001b[0;36m<cell line: 1>\u001b[0;34m()\u001b[0m\n\u001b[0;32m----> 1\u001b[0;31m \u001b[0mgsp_object\u001b[0m \u001b[0;34m=\u001b[0m \u001b[0mGSP\u001b[0m\u001b[0;34m(\u001b[0m\u001b[0mgsp_list\u001b[0m\u001b[0;34m)\u001b[0m\u001b[0;34m\u001b[0m\u001b[0;34m\u001b[0m\u001b[0m\n\u001b[0m",
            "\u001b[0;32m/usr/local/lib/python3.10/dist-packages/gsppy/gsp.py\u001b[0m in \u001b[0;36m__init__\u001b[0;34m(self, raw_transactions)\u001b[0m\n\u001b[1;32m     37\u001b[0m     \u001b[0;32mdef\u001b[0m \u001b[0m__init__\u001b[0m\u001b[0;34m(\u001b[0m\u001b[0mself\u001b[0m\u001b[0;34m,\u001b[0m \u001b[0mraw_transactions\u001b[0m\u001b[0;34m)\u001b[0m\u001b[0;34m:\u001b[0m\u001b[0;34m\u001b[0m\u001b[0;34m\u001b[0m\u001b[0m\n\u001b[1;32m     38\u001b[0m         \u001b[0mself\u001b[0m\u001b[0;34m.\u001b[0m\u001b[0mfreq_patterns\u001b[0m \u001b[0;34m=\u001b[0m \u001b[0;34m[\u001b[0m\u001b[0;34m]\u001b[0m\u001b[0;34m\u001b[0m\u001b[0;34m\u001b[0m\u001b[0m\n\u001b[0;32m---> 39\u001b[0;31m         \u001b[0mself\u001b[0m\u001b[0;34m.\u001b[0m\u001b[0m_pre_processing\u001b[0m\u001b[0;34m(\u001b[0m\u001b[0mraw_transactions\u001b[0m\u001b[0;34m)\u001b[0m\u001b[0;34m\u001b[0m\u001b[0;34m\u001b[0m\u001b[0m\n\u001b[0m\u001b[1;32m     40\u001b[0m \u001b[0;34m\u001b[0m\u001b[0m\n\u001b[1;32m     41\u001b[0m     \u001b[0;32mdef\u001b[0m \u001b[0m_pre_processing\u001b[0m\u001b[0;34m(\u001b[0m\u001b[0mself\u001b[0m\u001b[0;34m,\u001b[0m \u001b[0mraw_transactions\u001b[0m\u001b[0;34m)\u001b[0m\u001b[0;34m:\u001b[0m\u001b[0;34m\u001b[0m\u001b[0;34m\u001b[0m\u001b[0m\n",
            "\u001b[0;32m/usr/local/lib/python3.10/dist-packages/gsppy/gsp.py\u001b[0m in \u001b[0;36m_pre_processing\u001b[0;34m(self, raw_transactions)\u001b[0m\n\u001b[1;32m     48\u001b[0m         \u001b[0mself\u001b[0m\u001b[0;34m.\u001b[0m\u001b[0mmax_size\u001b[0m \u001b[0;34m=\u001b[0m \u001b[0mmax\u001b[0m\u001b[0;34m(\u001b[0m\u001b[0;34m[\u001b[0m\u001b[0mlen\u001b[0m\u001b[0;34m(\u001b[0m\u001b[0mitem\u001b[0m\u001b[0;34m)\u001b[0m \u001b[0;32mfor\u001b[0m \u001b[0mitem\u001b[0m \u001b[0;32min\u001b[0m \u001b[0mraw_transactions\u001b[0m\u001b[0;34m]\u001b[0m\u001b[0;34m)\u001b[0m\u001b[0;34m\u001b[0m\u001b[0;34m\u001b[0m\u001b[0m\n\u001b[1;32m     49\u001b[0m         \u001b[0mself\u001b[0m\u001b[0;34m.\u001b[0m\u001b[0mtransactions\u001b[0m \u001b[0;34m=\u001b[0m \u001b[0;34m[\u001b[0m\u001b[0mtuple\u001b[0m\u001b[0;34m(\u001b[0m\u001b[0mlist\u001b[0m\u001b[0;34m(\u001b[0m\u001b[0mi\u001b[0m\u001b[0;34m)\u001b[0m\u001b[0;34m)\u001b[0m \u001b[0;32mfor\u001b[0m \u001b[0mi\u001b[0m \u001b[0;32min\u001b[0m \u001b[0mraw_transactions\u001b[0m\u001b[0;34m]\u001b[0m\u001b[0;34m\u001b[0m\u001b[0;34m\u001b[0m\u001b[0m\n\u001b[0;32m---> 50\u001b[0;31m         \u001b[0mcounts\u001b[0m \u001b[0;34m=\u001b[0m \u001b[0mCounter\u001b[0m\u001b[0;34m(\u001b[0m\u001b[0mchain\u001b[0m\u001b[0;34m.\u001b[0m\u001b[0mfrom_iterable\u001b[0m\u001b[0;34m(\u001b[0m\u001b[0mraw_transactions\u001b[0m\u001b[0;34m)\u001b[0m\u001b[0;34m)\u001b[0m\u001b[0;34m\u001b[0m\u001b[0;34m\u001b[0m\u001b[0m\n\u001b[0m\u001b[1;32m     51\u001b[0m         \u001b[0mself\u001b[0m\u001b[0;34m.\u001b[0m\u001b[0munique_candidates\u001b[0m \u001b[0;34m=\u001b[0m \u001b[0;34m[\u001b[0m\u001b[0mtuple\u001b[0m\u001b[0;34m(\u001b[0m\u001b[0;34m[\u001b[0m\u001b[0mk\u001b[0m\u001b[0;34m]\u001b[0m\u001b[0;34m)\u001b[0m \u001b[0;32mfor\u001b[0m \u001b[0mk\u001b[0m\u001b[0;34m,\u001b[0m \u001b[0mc\u001b[0m \u001b[0;32min\u001b[0m \u001b[0mcounts\u001b[0m\u001b[0;34m.\u001b[0m\u001b[0mitems\u001b[0m\u001b[0;34m(\u001b[0m\u001b[0;34m)\u001b[0m\u001b[0;34m]\u001b[0m\u001b[0;34m\u001b[0m\u001b[0;34m\u001b[0m\u001b[0m\n\u001b[1;32m     52\u001b[0m \u001b[0;34m\u001b[0m\u001b[0m\n",
            "\u001b[0;32m/usr/lib/python3.10/collections/__init__.py\u001b[0m in \u001b[0;36m__init__\u001b[0;34m(self, iterable, **kwds)\u001b[0m\n\u001b[1;32m    575\u001b[0m         '''\n\u001b[1;32m    576\u001b[0m         \u001b[0msuper\u001b[0m\u001b[0;34m(\u001b[0m\u001b[0;34m)\u001b[0m\u001b[0;34m.\u001b[0m\u001b[0m__init__\u001b[0m\u001b[0;34m(\u001b[0m\u001b[0;34m)\u001b[0m\u001b[0;34m\u001b[0m\u001b[0;34m\u001b[0m\u001b[0m\n\u001b[0;32m--> 577\u001b[0;31m         \u001b[0mself\u001b[0m\u001b[0;34m.\u001b[0m\u001b[0mupdate\u001b[0m\u001b[0;34m(\u001b[0m\u001b[0miterable\u001b[0m\u001b[0;34m,\u001b[0m \u001b[0;34m**\u001b[0m\u001b[0mkwds\u001b[0m\u001b[0;34m)\u001b[0m\u001b[0;34m\u001b[0m\u001b[0;34m\u001b[0m\u001b[0m\n\u001b[0m\u001b[1;32m    578\u001b[0m \u001b[0;34m\u001b[0m\u001b[0m\n\u001b[1;32m    579\u001b[0m     \u001b[0;32mdef\u001b[0m \u001b[0m__missing__\u001b[0m\u001b[0;34m(\u001b[0m\u001b[0mself\u001b[0m\u001b[0;34m,\u001b[0m \u001b[0mkey\u001b[0m\u001b[0;34m)\u001b[0m\u001b[0;34m:\u001b[0m\u001b[0;34m\u001b[0m\u001b[0;34m\u001b[0m\u001b[0m\n",
            "\u001b[0;32m/usr/lib/python3.10/collections/__init__.py\u001b[0m in \u001b[0;36mupdate\u001b[0;34m(self, iterable, **kwds)\u001b[0m\n\u001b[1;32m    668\u001b[0m                     \u001b[0msuper\u001b[0m\u001b[0;34m(\u001b[0m\u001b[0;34m)\u001b[0m\u001b[0;34m.\u001b[0m\u001b[0mupdate\u001b[0m\u001b[0;34m(\u001b[0m\u001b[0miterable\u001b[0m\u001b[0;34m)\u001b[0m\u001b[0;34m\u001b[0m\u001b[0;34m\u001b[0m\u001b[0m\n\u001b[1;32m    669\u001b[0m             \u001b[0;32melse\u001b[0m\u001b[0;34m:\u001b[0m\u001b[0;34m\u001b[0m\u001b[0;34m\u001b[0m\u001b[0m\n\u001b[0;32m--> 670\u001b[0;31m                 \u001b[0m_count_elements\u001b[0m\u001b[0;34m(\u001b[0m\u001b[0mself\u001b[0m\u001b[0;34m,\u001b[0m \u001b[0miterable\u001b[0m\u001b[0;34m)\u001b[0m\u001b[0;34m\u001b[0m\u001b[0;34m\u001b[0m\u001b[0m\n\u001b[0m\u001b[1;32m    671\u001b[0m         \u001b[0;32mif\u001b[0m \u001b[0mkwds\u001b[0m\u001b[0;34m:\u001b[0m\u001b[0;34m\u001b[0m\u001b[0;34m\u001b[0m\u001b[0m\n\u001b[1;32m    672\u001b[0m             \u001b[0mself\u001b[0m\u001b[0;34m.\u001b[0m\u001b[0mupdate\u001b[0m\u001b[0;34m(\u001b[0m\u001b[0mkwds\u001b[0m\u001b[0;34m)\u001b[0m\u001b[0;34m\u001b[0m\u001b[0;34m\u001b[0m\u001b[0m\n",
            "\u001b[0;31mTypeError\u001b[0m: unhashable type: 'list'"
          ]
        }
      ],
      "source": [
        "gsp_object = GSP(gsp_list)"
      ]
    },
    {
      "cell_type": "markdown",
      "metadata": {
        "id": "tM5-K3pZOOrj"
      },
      "source": [
        "Observamos que hay un error al crear el objeto de la clase GSP con el error:\n",
        "\n",
        "**TypeError: unhashable type: 'list'**\n",
        "\n",
        "Tras revisar la documentación de la libería, se observa que el formato que esta librería requiere es una lista de listas, donde cada sublista representa una transacción. Esto choca con el formato que nosotros necesitamos, que es lista de listas de listas (lista de clientes, y cada cliente lista de transacciones; 3 niveles de profundidad). Veamos como funciona con su formato requerido:"
      ]
    },
    {
      "cell_type": "code",
      "execution_count": null,
      "metadata": {
        "id": "JFge6NBWOOrk"
      },
      "outputs": [],
      "source": [
        "transactions = [\n",
        "            ['Bread', 'Milk'],\n",
        "            ['Bread', 'Diaper', 'Beer', 'Eggs'],\n",
        "            ['Milk', 'Diaper', 'Beer', 'Coke'],\n",
        "            ['Bread', 'Milk', 'Diaper', 'Beer'],\n",
        "            ['Bread', 'Milk', 'Diaper', 'Coke']\n",
        "]"
      ]
    },
    {
      "cell_type": "code",
      "execution_count": null,
      "metadata": {
        "id": "lPP3XaSjOOrk"
      },
      "outputs": [],
      "source": [
        "gsp_object = GSP(transactions)"
      ]
    },
    {
      "cell_type": "code",
      "execution_count": null,
      "metadata": {
        "id": "mTgWcO2NOOrk",
        "colab": {
          "base_uri": "https://localhost:8080/"
        },
        "outputId": "1a36ceb0-2987-4cc9-b780-2029ba910431"
      },
      "outputs": [
        {
          "output_type": "execute_result",
          "data": {
            "text/plain": [
              "[{('Bread',): 4, ('Milk',): 4, ('Diaper',): 4, ('Beer',): 3, ('Coke',): 2},\n",
              " {('Bread', 'Milk'): 3, ('Diaper', 'Beer'): 3, ('Milk', 'Diaper'): 3},\n",
              " {('Bread', 'Milk', 'Diaper'): 2, ('Milk', 'Diaper', 'Beer'): 2}]"
            ]
          },
          "metadata": {},
          "execution_count": 67
        }
      ],
      "source": [
        "gsp_object.search(0.3) #0.3 de soporte mínimo."
      ]
    },
    {
      "cell_type": "markdown",
      "metadata": {
        "id": "7KptrYxZOOrk"
      },
      "source": [
        "Vemos que con ese formato, la librería funciona correctamente. No obstante, a nosotros no nos sirve debido a que como mucho, podríamos ejecutar la función cliente a cliente. Veamos como sería con un cliente:"
      ]
    },
    {
      "cell_type": "code",
      "execution_count": null,
      "metadata": {
        "id": "LoS5QAyROOrk",
        "colab": {
          "base_uri": "https://localhost:8080/"
        },
        "outputId": "0b618679-e4cd-4e40-89d7-2a2a18241642"
      },
      "outputs": [
        {
          "output_type": "stream",
          "name": "stdout",
          "text": [
            "Nº de transacciones del cliente 3:  7\n"
          ]
        }
      ],
      "source": [
        "print(\"Nº de transacciones del cliente 3: \", len(gsp_list[3]))"
      ]
    },
    {
      "cell_type": "code",
      "execution_count": null,
      "metadata": {
        "id": "TCAatvTTOOrl"
      },
      "outputs": [],
      "source": [
        "gsp_object = GSP(gsp_list[3])"
      ]
    },
    {
      "cell_type": "code",
      "execution_count": null,
      "metadata": {
        "id": "ui33z_5TOOrl",
        "colab": {
          "base_uri": "https://localhost:8080/"
        },
        "outputId": "70b70c2e-18e9-4902-d747-a52687f7c073"
      },
      "outputs": [
        {
          "output_type": "execute_result",
          "data": {
            "text/plain": [
              "[{('22779',): 3, ('22780',): 3, ('84050',): 3}]"
            ]
          },
          "metadata": {},
          "execution_count": 70
        }
      ],
      "source": [
        "gsp_object.search(0.3)"
      ]
    },
    {
      "cell_type": "markdown",
      "metadata": {
        "id": "HExvqxwPOOrl"
      },
      "source": [
        "No obstante, como se quiere aplicar el algoritmo GSP a todos los clientes a la vez, se recurre a otra librería que sí permite este formato. Esta es 'gsp-python' (documentación [aquí](https://pypi.org/project/gsp-python/))."
      ]
    },
    {
      "cell_type": "code",
      "execution_count": null,
      "metadata": {
        "id": "LOG_P4LzOOrl",
        "colab": {
          "base_uri": "https://localhost:8080/"
        },
        "outputId": "0f33425b-cd32-4d93-8489-3875d95deaef"
      },
      "outputs": [
        {
          "output_type": "stream",
          "name": "stdout",
          "text": [
            "Collecting gsp-python\n",
            "  Downloading gsp_python-0.0.10-py3-none-any.whl (10 kB)\n",
            "Installing collected packages: gsp-python\n",
            "Successfully installed gsp-python-0.0.10\n"
          ]
        }
      ],
      "source": [
        "!pip install gsp-python"
      ]
    },
    {
      "cell_type": "markdown",
      "metadata": {
        "id": "bedUywj8OOrl"
      },
      "source": [
        "Para asegurarnos, probemosla con un ejemplo pequeño en primer lugar:"
      ]
    },
    {
      "cell_type": "code",
      "execution_count": null,
      "metadata": {
        "id": "-mepo3B0OOrl"
      },
      "outputs": [],
      "source": [
        "#Primero se prueba con un ejemplo pequeño en el formato requerido:\n",
        "clients_transactions = [\n",
        "            [['Bread', 'Milk'], ['Bread', 'Coke', 'Milk']],\n",
        "            [['Bread', 'Diaper'], ['Beer', 'Eggs'], ['Coke']],\n",
        "            [['Milk'],['Diaper', 'Beer', 'Coke']],\n",
        "            [['Bread'], ['Milk', 'Diaper'], ['Beer']],\n",
        "            [['Bread', 'Milk'], ['Diaper', 'Coke']],\n",
        "            [['Coke']]\n",
        "]"
      ]
    },
    {
      "cell_type": "code",
      "execution_count": null,
      "metadata": {
        "id": "MlJA3RrvOOrm",
        "colab": {
          "base_uri": "https://localhost:8080/"
        },
        "outputId": "7d6c539c-2dab-4602-e03d-8cf0535727b0"
      },
      "outputs": [
        {
          "output_type": "stream",
          "name": "stdout",
          "text": [
            "[([['Bread']], 4), ([['Milk']], 4), ([['Coke']], 5), ([['Diaper']], 4), ([['Beer']], 3), ([['Bread'], ['Coke']], 3), ([['Milk'], ['Coke']], 3)]\n"
          ]
        }
      ],
      "source": [
        "from gsp_python.gsp import GSP\n",
        "\n",
        "gsp_object = GSP(clients_transactions, minsup=0.5)#, mingap=1, maxgap=2, maxspan=5)\n",
        "output = gsp_object.run_gsp()\n",
        "print(output)"
      ]
    },
    {
      "cell_type": "markdown",
      "metadata": {
        "id": "WpJciduZOOrm"
      },
      "source": [
        "Vemos que funciona correctamente, no obstante, para asegurarnos del todo, le pasamos uno de los ejemplos visto en clase para ver si da lo mismo:"
      ]
    },
    {
      "cell_type": "code",
      "execution_count": null,
      "metadata": {
        "id": "t7-J2MuFOOrm"
      },
      "outputs": [],
      "source": [
        "clients_transactions = [\n",
        "            [['A'], ['B'], ['F', 'G'], ['C'], ['D']],\n",
        "            [['B'], ['G'], ['D']],\n",
        "            [['B'],['F'], ['G'], ['A', 'B']],\n",
        "            [['F'], ['A', 'B'], ['C'], ['D']],\n",
        "            [['A'], ['B', 'C'],['G'], ['F'],['D', 'E']]\n",
        "]"
      ]
    },
    {
      "cell_type": "code",
      "execution_count": null,
      "metadata": {
        "id": "_O2aQbbgOOrm"
      },
      "outputs": [],
      "source": [
        "#Pongo soporte mínimo bajo porque hay muchos datos\n",
        "gsp_object = GSP(clients_transactions, minsup=0.4)\n",
        "output = gsp_object.run_gsp()"
      ]
    },
    {
      "cell_type": "markdown",
      "metadata": {
        "id": "hNjvrnnrOOrm"
      },
      "source": [
        "Y filtramos para quedarnos solo con las secuencias frecuentes más grandes encontradas:"
      ]
    },
    {
      "cell_type": "code",
      "execution_count": null,
      "metadata": {
        "id": "fdxUMCYROOrm",
        "colab": {
          "base_uri": "https://localhost:8080/"
        },
        "outputId": "c2284589-789f-492d-ba2a-5a3e9efe1e93"
      },
      "outputs": [
        {
          "output_type": "stream",
          "name": "stdout",
          "text": [
            "([['A'], ['B'], ['F'], ['D']], 2)\n",
            "([['A'], ['B'], ['G'], ['D']], 2)\n"
          ]
        }
      ],
      "source": [
        "# Filtra las secuencias que tienen el tamaño de la mayor k-secuencia.\n",
        "len_max = 1\n",
        "for elemento in output:\n",
        "  if len(elemento[0]) >= len_max:\n",
        "    len_max = len(elemento[0])\n",
        "# print(len_max)\n",
        "filtered_output = [elemento for elemento in output if (len(elemento[0]) == len_max)]\n",
        "\n",
        "# Imprime el resultado\n",
        "for seq in filtered_output:\n",
        "    print(seq)"
      ]
    },
    {
      "cell_type": "markdown",
      "metadata": {
        "id": "D6TXCei3OOrm"
      },
      "source": [
        "Da lo mismo. Así, utilizamos esta librería con nuestros datos."
      ]
    },
    {
      "cell_type": "markdown",
      "metadata": {
        "id": "6juPG09pOOrn"
      },
      "source": [
        "## 2.- (1 punto)\n",
        "\n",
        "Prueba al menos dos configuraciones de soporte diferentes."
      ]
    },
    {
      "cell_type": "markdown",
      "metadata": {
        "id": "4PAW33DiOOrn"
      },
      "source": [
        "Se comienza probando con un soporte mínimo = 0.5:"
      ]
    },
    {
      "cell_type": "code",
      "execution_count": null,
      "metadata": {
        "id": "izvRzpbnOOrn",
        "colab": {
          "base_uri": "https://localhost:8080/"
        },
        "outputId": "80738223-fd90-472f-ec43-6b556640a5e5"
      },
      "outputs": [
        {
          "output_type": "stream",
          "name": "stdout",
          "text": [
            "[]\n"
          ]
        }
      ],
      "source": [
        "#Pongo soporte mínimo bajo porque hay muchos datos\n",
        "gsp_object = GSP(gsp_list, minsup=0.5)\n",
        "output = gsp_object.run_gsp()\n",
        "print(output)"
      ]
    },
    {
      "cell_type": "markdown",
      "metadata": {
        "id": "B2GqWhBIOOrn"
      },
      "source": [
        "Se prueba otro, el cual se elige bajo (0.1) debido a que hay muchos datos y se acaba de ver que con un soporte alto no se generan patrones frecuentes:"
      ]
    },
    {
      "cell_type": "code",
      "execution_count": null,
      "metadata": {
        "id": "VZuQnbcdOOrn"
      },
      "outputs": [],
      "source": [
        "#Pongo soporte mínimo bajo porque hay muchos datos\n",
        "gsp_object = GSP(gsp_list, minsup=0.1)\n",
        "output = gsp_object.run_gsp()"
      ]
    },
    {
      "cell_type": "code",
      "execution_count": null,
      "metadata": {
        "id": "Uuz5EVq3MDQB",
        "colab": {
          "base_uri": "https://localhost:8080/"
        },
        "outputId": "d0468ebf-a780-44ba-d11a-dc1f7c06eb42"
      },
      "outputs": [
        {
          "output_type": "stream",
          "name": "stdout",
          "text": [
            "([['22666']], 453)\n",
            "([['22720']], 620)\n",
            "([['22960']], 557)\n",
            "([['22138']], 567)\n",
            "([['23245']], 463)\n",
            "([['23298']], 563)\n",
            "([['22384']], 435)\n",
            "([['20725']], 515)\n",
            "([['22961']], 479)\n",
            "([['47566']], 669)\n",
            "([['23355']], 439)\n",
            "([['85099B']], 579)\n",
            "([['22139']], 473)\n",
            "([['22382']], 481)\n",
            "([['20728']], 467)\n",
            "([['22383']], 423)\n",
            "([['23209']], 452)\n",
            "([['23203']], 483)\n",
            "([['22111']], 410)\n",
            "([['20727']], 447)\n",
            "([['22910']], 415)\n",
            "([['22086']], 544)\n",
            "([['85123A']], 763)\n",
            "([['21034']], 480)\n",
            "([['22457']], 569)\n",
            "([['22469']], 520)\n",
            "([['84879']], 575)\n",
            "([['22470']], 467)\n"
          ]
        }
      ],
      "source": [
        "# El siguiente código filtra las secuencias que tienen el tamaño de la mayor k-secuencia.\n",
        "\n",
        "len_max = 1\n",
        "for elemento in output:\n",
        "  if len(elemento[0]) >= len_max:\n",
        "    len_max = len(elemento[0])\n",
        "\n",
        "# Aquí se guardan los patrones filtrados.\n",
        "filtered_output = [elemento for elemento in output if (len(elemento[0]) == len_max)]\n",
        "\n",
        "# Imprime el resultado\n",
        "for seq in filtered_output:\n",
        "    print(seq)"
      ]
    },
    {
      "cell_type": "code",
      "execution_count": null,
      "metadata": {
        "id": "AfBPtp2tLuQh",
        "colab": {
          "base_uri": "https://localhost:8080/"
        },
        "outputId": "f8f9758d-555b-4bf2-e704-458165524800"
      },
      "outputs": [
        {
          "output_type": "stream",
          "name": "stdout",
          "text": [
            "([['RECIPE BOX PANTRY YELLOW DESIGN']], 453)\n",
            "([['SET OF 3 CAKE TINS PANTRY DESIGN ']], 620)\n",
            "([['JAM MAKING SET WITH JARS']], 557)\n",
            "([['BAKING SET 9 PIECE RETROSPOT ']], 567)\n",
            "([['SET OF 3 REGENCY CAKE TINS']], 463)\n",
            "([['SPOTTY BUNTING']], 563)\n",
            "([['LUNCH BAG PINK POLKADOT']], 435)\n",
            "([['LUNCH BAG RED RETROSPOT']], 515)\n",
            "([['JAM MAKING SET PRINTED']], 479)\n",
            "([['PARTY BUNTING']], 669)\n",
            "([['HOT WATER BOTTLE KEEP CALM']], 439)\n",
            "([['JUMBO BAG RED RETROSPOT']], 579)\n",
            "([['RETROSPOT TEA SET CERAMIC 11 PC ']], 473)\n",
            "([['LUNCH BAG SPACEBOY DESIGN ']], 481)\n",
            "([['LUNCH BAG CARS BLUE']], 467)\n",
            "([['LUNCH BAG SUKI  DESIGN ']], 423)\n",
            "([['LUNCH BAG DOILEY PATTERN ']], 452)\n",
            "([['JUMBO BAG DOILEY PATTERNS']], 483)\n",
            "([['SCOTTIE DOG HOT WATER BOTTLE']], 410)\n",
            "([['LUNCH BAG  BLACK SKULL.']], 447)\n",
            "([['PAPER CHAIN KIT VINTAGE CHRISTMAS']], 415)\n",
            "([[\"PAPER CHAIN KIT 50'S CHRISTMAS \"]], 544)\n",
            "([['WHITE HANGING HEART T-LIGHT HOLDER']], 763)\n",
            "([['REX CASH+CARRY JUMBO SHOPPER']], 480)\n",
            "([['NATURAL SLATE HEART CHALKBOARD ']], 569)\n",
            "([['HEART OF WICKER SMALL']], 520)\n",
            "([['ASSORTED COLOUR BIRD ORNAMENT']], 575)\n",
            "([['HEART OF WICKER LARGE']], 467)\n"
          ]
        }
      ],
      "source": [
        "# El siguiente código traduce de 'StockCode' a 'Description'.\n",
        "\n",
        "# Se crea un dataframe con stockcode y su descripción.\n",
        "stock = df[['StockCode', 'Description']]\n",
        "stock = stock.drop_duplicates(subset=['StockCode'])\n",
        "stock.loc[:,'StockCode'] = stock.loc[:,'StockCode'].astype(str)\n",
        "\n",
        "# Aquí se guardarán los patrones traducidos a 'Description'\n",
        "filtered_output_desc = []\n",
        "\n",
        "# Se procede a cambiar el número del stockcode por el nombre del producto.\n",
        "for tupla in filtered_output:\n",
        "    new_tupla = []\n",
        "    for time in tupla[0]:\n",
        "        new_time = []\n",
        "        for code in time:\n",
        "            description = stock[stock['StockCode'] == code]['Description'].values[0]\n",
        "            new_time.append(description)\n",
        "        new_tupla.append(new_time)\n",
        "    filtered_output_desc.append((new_tupla, tupla[1]))\n",
        "\n",
        "for c in filtered_output_desc:\n",
        "  print(c)"
      ]
    },
    {
      "cell_type": "markdown",
      "metadata": {
        "id": "AMfwuRGbOOro"
      },
      "source": [
        "Se puede observar que con un soporte mínimo = 0.1 y al filtrar para solo mostrar las mayores k-secuencias, solo se generan patrones frecuentes de tamaño 1, lo cual no es muy interesante a la hora de tratar de sacar reglas o conclusiones de estos patrones frecuentes. Por esto, se decide hacer una última prueba con un soporte aún más pequeño. Después de muchas pruebas, se decide utilizar un soporte mínimo de 0.03 debido a que se ha visto que saca patrones más interesantes, sobre todo los de tamaño temporal 2:"
      ]
    },
    {
      "cell_type": "code",
      "execution_count": null,
      "metadata": {
        "id": "jLo1qZAYOOro"
      },
      "outputs": [],
      "source": [
        "#Pongo soporte mínimo bajo porque hay muchos datos\n",
        "gsp_object = GSP(gsp_list, minsup=0.03)\n",
        "output = gsp_object.run_gsp()"
      ]
    },
    {
      "cell_type": "code",
      "execution_count": null,
      "metadata": {
        "id": "15B-QX7SIAI6",
        "colab": {
          "base_uri": "https://localhost:8080/"
        },
        "outputId": "836d71df-dfc0-4283-a178-5e88f4c16b74"
      },
      "outputs": [
        {
          "output_type": "stream",
          "name": "stdout",
          "text": [
            "\n",
            "Patrones de tamaño temporal  1 :\n",
            "([['22725', '22727']], 127)\n",
            "([['22726', '22727']], 238)\n",
            "([['22726', '22728']], 176)\n",
            "([['22726', '22730']], 145)\n",
            "([['22727', '22728']], 199)\n",
            "([['22727', '22729']], 133)\n",
            "([['22727', '22730']], 170)\n",
            "([['22728', '22730']], 134)\n",
            "([['84997C', '84997D']], 148)\n",
            "([['20719', '20724']], 136)\n",
            "([['22699', '23170']], 123)\n",
            "([['23171', '23172']], 128)\n",
            "([['23170', '23171']], 142)\n",
            "([['23174', '23175']], 149)\n",
            "([['22698', '22699']], 231)\n",
            "([['22697', '22699']], 281)\n",
            "([['22697', '22698']], 260)\n",
            "([['22666', '22720']], 179)\n",
            "([['22666', '22960']], 129)\n",
            "([['22720', '22960']], 165)\n",
            "([['22720', '22722']], 211)\n",
            "([['22720', '23245']], 137)\n",
            "([['22720', '23243']], 162)\n",
            "([['22720', '22961']], 126)\n",
            "([['22960', '22961']], 199)\n",
            "([['22722', '22960']], 125)\n",
            "([['23293', '23296']], 150)\n",
            "([['23293', '23294']], 148)\n",
            "([['23293', '23295']], 166)\n",
            "([['23294', '23296']], 129)\n",
            "([['23294', '23295']], 140)\n",
            "([['23295', '23296']], 135)\n",
            "([['22326', '22328']], 131)\n",
            "([['22554', '22557']], 127)\n",
            "([['22554', '22555']], 137)\n",
            "([['22554', '22556']], 145)\n",
            "([['22555', '22556']], 131)\n",
            "([['21136', '84879']], 152)\n",
            "([['22551', '22554']], 166)\n",
            "([['22551', '22556']], 138)\n",
            "([['21754', '21755']], 183)\n",
            "([['22138', '22617']], 228)\n",
            "([['22138', '22139']], 162)\n",
            "([['21914', '21915']], 157)\n",
            "([['23298', '47566']], 230)\n",
            "([['23201', '23202']], 153)\n",
            "([['23201', '85099B']], 159)\n",
            "([['23201', '23203']], 170)\n",
            "([['23201', '23207']], 151)\n",
            "([['23254', '23256']], 165)\n",
            "([['22629', '22630']], 204)\n",
            "([['22384', '23206']], 156)\n",
            "([['22384', '85099B']], 146)\n",
            "([['22384', '22662']], 131)\n",
            "([['22384', '23209']], 168)\n",
            "([['22384', '23207']], 139)\n",
            "([['22384', '22386']], 132)\n",
            "([['20725', '22384']], 245)\n",
            "([['20725', '23208']], 137)\n",
            "([['20725', '23206']], 185)\n",
            "([['20725', '85099B']], 194)\n",
            "([['20725', '20726']], 206)\n",
            "([['20725', '22382']], 234)\n",
            "([['20725', '20728']], 238)\n",
            "([['20725', '22383']], 234)\n",
            "([['20725', '22662']], 162)\n",
            "([['20725', '23209']], 199)\n",
            "([['20725', '23203']], 133)\n",
            "([['20725', '20727']], 242)\n",
            "([['20725', '23207']], 154)\n",
            "([['20971', '20972']], 140)\n",
            "([['84378', '84380']], 170)\n",
            "([['22411', '85099B']], 174)\n",
            "([['22411', '23203']], 146)\n",
            "([['22385', '85099B']], 134)\n",
            "([['21790', '21791']], 159)\n",
            "([['21931', '85099B']], 177)\n",
            "([['21931', '22383']], 123)\n",
            "([['47566', '85123A']], 151)\n",
            "([['23199', '23201']], 145)\n",
            "([['23199', '23206']], 160)\n",
            "([['23199', '23202']], 150)\n",
            "([['23199', '85099B']], 165)\n",
            "([['23199', '23200']], 165)\n",
            "([['23199', '23203']], 173)\n",
            "([['23208', '23209']], 170)\n",
            "([['23206', '23208']], 166)\n",
            "([['23206', '85099B']], 124)\n",
            "([['23206', '23209']], 196)\n",
            "([['23206', '23207']], 184)\n",
            "([['23202', '23208']], 127)\n",
            "([['23202', '85099B']], 170)\n",
            "([['23202', '23209']], 133)\n",
            "([['23202', '23203']], 207)\n",
            "([['23355', '23356']], 158)\n",
            "([['21166', '85152']], 135)\n",
            "([['21166', '21181']], 129)\n",
            "([['21166', '21175']], 154)\n",
            "([['85099B', '85099C']], 169)\n",
            "([['85099B', '85099F']], 183)\n",
            "([['23200', '23202']], 133)\n",
            "([['23200', '23203']], 146)\n",
            "([['21929', '22411']], 130)\n",
            "([['21929', '85099B']], 163)\n",
            "([['21929', '22386']], 131)\n",
            "([['23318', '23319']], 129)\n",
            "([['22141', '22144']], 148)\n",
            "([['22142', '22144']], 157)\n",
            "([['22367', '47591D']], 126)\n",
            "([['20726', '22384']], 167)\n",
            "([['20726', '23206']], 155)\n",
            "([['20726', '22382']], 220)\n",
            "([['20726', '20728']], 193)\n",
            "([['20726', '22383']], 174)\n",
            "([['20726', '22662']], 131)\n",
            "([['20726', '23209']], 149)\n",
            "([['20726', '20727']], 176)\n",
            "([['20726', '23207']], 126)\n",
            "([['22382', '22384']], 197)\n",
            "([['22382', '23206']], 168)\n",
            "([['22382', '22383']], 230)\n",
            "([['22382', '22662']], 190)\n",
            "([['22382', '23209']], 174)\n",
            "([['22382', '23207']], 154)\n",
            "([['20728', '22384']], 236)\n",
            "([['20728', '23208']], 125)\n",
            "([['20728', '23206']], 167)\n",
            "([['20728', '85099B']], 142)\n",
            "([['20728', '22382']], 218)\n",
            "([['20728', '22383']], 236)\n",
            "([['20728', '22662']], 136)\n",
            "([['20728', '23209']], 160)\n",
            "([['20728', '23207']], 156)\n",
            "([['22383', '22384']], 195)\n",
            "([['22383', '23208']], 135)\n",
            "([['22383', '23206']], 178)\n",
            "([['22383', '85099B']], 133)\n",
            "([['22383', '22662']], 150)\n",
            "([['22383', '23209']], 170)\n",
            "([['22383', '23207']], 153)\n",
            "([['23209', '85099B']], 142)\n",
            "([['23203', '23298']], 124)\n",
            "([['23203', '23206']], 123)\n",
            "([['23203', '85099B']], 222)\n",
            "([['23203', '23209']], 219)\n",
            "([['21485', '22111']], 150)\n",
            "([['21485', '22112']], 130)\n",
            "([['47590A', '47590B']], 188)\n",
            "([['22804', '85123A']], 180)\n",
            "([['21733', '22804']], 135)\n",
            "([['21733', '85123A']], 237)\n",
            "([['22749', '22750']], 161)\n",
            "([['22569', '22570']], 132)\n",
            "([['22568', '22570']], 137)\n",
            "([['22746', '22748']], 154)\n",
            "([['22745', '22746']], 149)\n",
            "([['22745', '22748']], 176)\n",
            "([['22632', '22865']], 126)\n",
            "([['22865', '23439']], 138)\n",
            "([['22865', '22866']], 182)\n",
            "([['22865', '22867']], 179)\n",
            "([['22866', '23439']], 126)\n",
            "([['22866', '22867']], 158)\n",
            "([['22111', '23355']], 134)\n",
            "([['22111', '22112']], 157)\n",
            "([['22111', '22835']], 123)\n",
            "([['20727', '22384']], 232)\n",
            "([['20727', '23208']], 134)\n",
            "([['20727', '23206']], 164)\n",
            "([['20727', '85099B']], 132)\n",
            "([['20727', '22382']], 213)\n",
            "([['20727', '20728']], 200)\n",
            "([['20727', '22383']], 215)\n",
            "([['20727', '22662']], 140)\n",
            "([['20727', '23209']], 177)\n",
            "([['20727', '23207']], 154)\n",
            "([['20712', '85099B']], 127)\n",
            "([['22112', '23355']], 148)\n",
            "([['22112', '22114']], 160)\n",
            "([['22112', '22835']], 175)\n",
            "([['22114', '23355']], 147)\n",
            "([['22114', '22835']], 132)\n",
            "([['23207', '23208']], 147)\n",
            "([['23207', '23209']], 160)\n",
            "([['22386', '85099F']], 135)\n",
            "([['22386', '85099B']], 230)\n",
            "([['22386', '23203']], 132)\n",
            "([['20724', '85099B']], 130)\n",
            "([['20724', '22356']], 139)\n",
            "([['20724', '22355']], 132)\n",
            "([['20723', '20724']], 126)\n",
            "([['22086', '22910']], 267)\n",
            "([['21932', '21933']], 137)\n",
            "([['22457', '85123A']], 164)\n",
            "([['21928', '85099B']], 145)\n",
            "([['21928', '21929']], 152)\n",
            "([['22835', '23355']], 132)\n",
            "([['22469', '85123A']], 159)\n",
            "([['22469', '23321']], 140)\n",
            "([['22469', '22470']], 250)\n",
            "([['23321', '23322']], 198)\n",
            "([['84879', '85123A']], 135)\n",
            "([['23343', '23344']], 169)\n",
            "([['23300', '23301']], 236)\n",
            "([['21175', '21181']], 134)\n",
            "([['82482', '85123A']], 140)\n",
            "([['82482', '82494L']], 234)\n",
            "([['82494L', '85123A']], 126)\n",
            "([['22470', '85123A']], 178)\n",
            "([['22470', '23322']], 149)\n",
            "([['22577', '22578']], 126)\n",
            "([['22633', '23439']], 129)\n",
            "([['22633', '22865']], 139)\n",
            "([['22633', '22866']], 135)\n",
            "([['23265', '23266']], 129)\n",
            "([['22726', '22727', '22728']], 147)\n",
            "([['22697', '22698', '22699']], 216)\n",
            "([['20725', '20726', '22382']], 138)\n",
            "([['20725', '20726', '20728']], 123)\n",
            "([['20725', '20726', '22383']], 129)\n",
            "([['20725', '22382', '22384']], 137)\n",
            "([['20725', '22382', '22383']], 136)\n",
            "([['20725', '20728', '22384']], 148)\n",
            "([['20725', '20728', '22382']], 129)\n",
            "([['20725', '20728', '22383']], 145)\n",
            "([['20725', '22383', '22384']], 133)\n",
            "([['20725', '20727', '22384']], 151)\n",
            "([['20725', '20727', '22382']], 135)\n",
            "([['20725', '20727', '20728']], 129)\n",
            "([['20725', '20727', '22383']], 135)\n",
            "([['20728', '22382', '22384']], 131)\n",
            "([['20728', '22382', '22383']], 138)\n",
            "([['20728', '22383', '22384']], 127)\n",
            "([['22745', '22746', '22748']], 138)\n",
            "([['20727', '22382', '22384']], 126)\n",
            "([['20727', '22382', '22383']], 136)\n",
            "([['20727', '20728', '22384']], 138)\n",
            "([['20727', '20728', '22383']], 128)\n",
            "([['20727', '22383', '22384']], 132)\n",
            "\n",
            "Patrones de tamaño temporal  2 :\n",
            "([['22726'], ['22726']], 154)\n",
            "([['22726'], ['22727']], 158)\n",
            "([['22727'], ['22726']], 163)\n",
            "([['22727'], ['22727']], 181)\n",
            "([['22727'], ['22728']], 135)\n",
            "([['22728'], ['22726']], 129)\n",
            "([['22728'], ['22727']], 142)\n",
            "([['22728'], ['22728']], 131)\n",
            "([['22666'], ['22666']], 142)\n",
            "([['22666'], ['22720']], 138)\n",
            "([['22720'], ['22666']], 123)\n",
            "([['22720'], ['22720']], 209)\n",
            "([['22720'], ['22722']], 132)\n",
            "([['22720'], ['23245']], 149)\n",
            "([['22720'], ['23298']], 134)\n",
            "([['22720'], ['23243']], 130)\n",
            "([['22960'], ['22960']], 133)\n",
            "([['22722'], ['22720']], 132)\n",
            "([['22722'], ['22722']], 134)\n",
            "([['20914'], ['20914']], 139)\n",
            "([['21754'], ['21754']], 146)\n",
            "([['22138'], ['22138']], 130)\n",
            "([['22993'], ['22993']], 154)\n",
            "([['23298'], ['23298']], 193)\n",
            "([['23298'], ['47566']], 141)\n",
            "([['23201'], ['23201']], 140)\n",
            "([['23201'], ['85099B']], 146)\n",
            "([['23201'], ['23203']], 136)\n",
            "([['23201'], ['23344']], 126)\n",
            "([['22384'], ['22384']], 187)\n",
            "([['22384'], ['20725']], 190)\n",
            "([['22384'], ['23206']], 153)\n",
            "([['22384'], ['85099B']], 156)\n",
            "([['22384'], ['22382']], 168)\n",
            "([['22384'], ['20728']], 166)\n",
            "([['22384'], ['22383']], 159)\n",
            "([['22384'], ['23209']], 163)\n",
            "([['22384'], ['23203']], 141)\n",
            "([['22384'], ['20727']], 174)\n",
            "([['22384'], ['23207']], 156)\n",
            "([['22384'], ['23344']], 130)\n",
            "([['20725'], ['22384']], 186)\n",
            "([['20725'], ['20725']], 259)\n",
            "([['20725'], ['23199']], 126)\n",
            "([['20725'], ['23208']], 142)\n",
            "([['20725'], ['23206']], 183)\n",
            "([['20725'], ['85099B']], 179)\n",
            "([['20725'], ['20726']], 167)\n",
            "([['20725'], ['22382']], 201)\n",
            "([['20725'], ['20728']], 182)\n",
            "([['20725'], ['22383']], 194)\n",
            "([['20725'], ['22662']], 127)\n",
            "([['20725'], ['23209']], 199)\n",
            "([['20725'], ['23203']], 161)\n",
            "([['20725'], ['20727']], 202)\n",
            "([['20725'], ['23207']], 163)\n",
            "([['20725'], ['22386']], 125)\n",
            "([['20725'], ['23344']], 133)\n",
            "([['22411'], ['22411']], 132)\n",
            "([['22411'], ['85099B']], 139)\n",
            "([['22411'], ['23203']], 133)\n",
            "([['21931'], ['21931']], 133)\n",
            "([['21931'], ['85099B']], 131)\n",
            "([['47566'], ['23245']], 128)\n",
            "([['47566'], ['23298']], 189)\n",
            "([['47566'], ['47566']], 252)\n",
            "([['47566'], ['23203']], 128)\n",
            "([['47566'], ['22086']], 127)\n",
            "([['47566'], ['85123A']], 137)\n",
            "([['85099C'], ['85099B']], 123)\n",
            "([['23199'], ['23199']], 130)\n",
            "([['23199'], ['85099B']], 139)\n",
            "([['23199'], ['23203']], 132)\n",
            "([['23208'], ['20725']], 132)\n",
            "([['23208'], ['23208']], 126)\n",
            "([['23208'], ['23209']], 132)\n",
            "([['23206'], ['20725']], 152)\n",
            "([['23206'], ['23206']], 176)\n",
            "([['23206'], ['20726']], 133)\n",
            "([['23206'], ['22382']], 141)\n",
            "([['23206'], ['20728']], 126)\n",
            "([['23206'], ['22383']], 137)\n",
            "([['23206'], ['23209']], 156)\n",
            "([['23206'], ['23203']], 131)\n",
            "([['23206'], ['20727']], 138)\n",
            "([['23206'], ['23207']], 129)\n",
            "([['23284'], ['23284']], 132)\n",
            "([['23202'], ['23202']], 144)\n",
            "([['23202'], ['85099B']], 132)\n",
            "([['23202'], ['23203']], 137)\n",
            "([['23301'], ['23301']], 128)\n",
            "([['85099F'], ['85099B']], 135)\n",
            "([['85099B'], ['23201']], 151)\n",
            "([['85099B'], ['22384']], 151)\n",
            "([['85099B'], ['20725']], 183)\n",
            "([['85099B'], ['22411']], 134)\n",
            "([['85099B'], ['21931']], 134)\n",
            "([['85099B'], ['85099C']], 129)\n",
            "([['85099B'], ['23199']], 165)\n",
            "([['85099B'], ['23206']], 131)\n",
            "([['85099B'], ['23202']], 166)\n",
            "([['85099B'], ['85099F']], 125)\n",
            "([['85099B'], ['85099B']], 264)\n",
            "([['85099B'], ['23200']], 123)\n",
            "([['85099B'], ['22382']], 135)\n",
            "([['85099B'], ['20728']], 131)\n",
            "([['85099B'], ['22383']], 125)\n",
            "([['85099B'], ['23209']], 149)\n",
            "([['85099B'], ['23203']], 214)\n",
            "([['85099B'], ['20727']], 148)\n",
            "([['85099B'], ['22386']], 165)\n",
            "([['85099B'], ['23344']], 165)\n",
            "([['85099B'], ['23343']], 131)\n",
            "([['85099B'], ['23581']], 125)\n",
            "([['21929'], ['23203']], 125)\n",
            "([['22139'], ['22139']], 129)\n",
            "([['20726'], ['22384']], 133)\n",
            "([['20726'], ['20725']], 166)\n",
            "([['20726'], ['23206']], 139)\n",
            "([['20726'], ['20726']], 182)\n",
            "([['20726'], ['22382']], 161)\n",
            "([['20726'], ['20728']], 140)\n",
            "([['20726'], ['22383']], 146)\n",
            "([['20726'], ['23209']], 139)\n",
            "([['20726'], ['20727']], 159)\n",
            "([['22382'], ['22384']], 155)\n",
            "([['22382'], ['20725']], 189)\n",
            "([['22382'], ['23208']], 125)\n",
            "([['22382'], ['23206']], 146)\n",
            "([['22382'], ['85099B']], 134)\n",
            "([['22382'], ['20726']], 161)\n",
            "([['22382'], ['22382']], 193)\n",
            "([['22382'], ['20728']], 159)\n",
            "([['22382'], ['22383']], 176)\n",
            "([['22382'], ['23209']], 166)\n",
            "([['22382'], ['23203']], 133)\n",
            "([['22382'], ['20727']], 170)\n",
            "([['22382'], ['23207']], 147)\n",
            "([['20728'], ['22384']], 178)\n",
            "([['20728'], ['20725']], 200)\n",
            "([['20728'], ['23208']], 130)\n",
            "([['20728'], ['23206']], 159)\n",
            "([['20728'], ['85099B']], 153)\n",
            "([['20728'], ['20726']], 146)\n",
            "([['20728'], ['22382']], 172)\n",
            "([['20728'], ['20728']], 194)\n",
            "([['20728'], ['22383']], 178)\n",
            "([['20728'], ['23209']], 174)\n",
            "([['20728'], ['23203']], 133)\n",
            "([['20728'], ['20727']], 182)\n",
            "([['20728'], ['23207']], 165)\n",
            "([['22383'], ['22384']], 157)\n",
            "([['22383'], ['20725']], 183)\n",
            "([['22383'], ['21931']], 124)\n",
            "([['22383'], ['23208']], 129)\n",
            "([['22383'], ['23206']], 157)\n",
            "([['22383'], ['85099B']], 135)\n",
            "([['22383'], ['20726']], 142)\n",
            "([['22383'], ['22382']], 178)\n",
            "([['22383'], ['20728']], 169)\n",
            "([['22383'], ['22383']], 212)\n",
            "([['22383'], ['23209']], 157)\n",
            "([['22383'], ['23203']], 132)\n",
            "([['22383'], ['20727']], 183)\n",
            "([['22383'], ['23207']], 151)\n",
            "([['22662'], ['20725']], 129)\n",
            "([['22662'], ['22382']], 130)\n",
            "([['22662'], ['20727']], 126)\n",
            "([['23209'], ['20725']], 156)\n",
            "([['23209'], ['23208']], 125)\n",
            "([['23209'], ['23206']], 138)\n",
            "([['23209'], ['85099B']], 134)\n",
            "([['23209'], ['22382']], 146)\n",
            "([['23209'], ['20728']], 125)\n",
            "([['23209'], ['22383']], 130)\n",
            "([['23209'], ['23209']], 198)\n",
            "([['23209'], ['23203']], 166)\n",
            "([['23209'], ['20727']], 144)\n",
            "([['23203'], ['20725']], 124)\n",
            "([['23203'], ['23202']], 138)\n",
            "([['23203'], ['85099B']], 184)\n",
            "([['23203'], ['23209']], 150)\n",
            "([['23203'], ['23203']], 210)\n",
            "([['23203'], ['23344']], 154)\n",
            "([['23203'], ['23581']], 127)\n",
            "([['23203'], ['23582']], 129)\n",
            "([['22804'], ['85123A']], 124)\n",
            "([['21733'], ['85123A']], 146)\n",
            "([['22111'], ['22111']], 124)\n",
            "([['20727'], ['22384']], 166)\n",
            "([['20727'], ['20725']], 194)\n",
            "([['20727'], ['23208']], 125)\n",
            "([['20727'], ['23206']], 148)\n",
            "([['20727'], ['85099B']], 144)\n",
            "([['20727'], ['20726']], 148)\n",
            "([['20727'], ['22382']], 167)\n",
            "([['20727'], ['20728']], 166)\n",
            "([['20727'], ['22383']], 175)\n",
            "([['20727'], ['23209']], 163)\n",
            "([['20727'], ['23203']], 137)\n",
            "([['20727'], ['20727']], 223)\n",
            "([['20727'], ['23207']], 148)\n",
            "([['22112'], ['22112']], 127)\n",
            "([['22197'], ['22197']], 135)\n",
            "([['23207'], ['22384']], 127)\n",
            "([['23207'], ['20725']], 145)\n",
            "([['23207'], ['23206']], 140)\n",
            "([['23207'], ['22382']], 147)\n",
            "([['23207'], ['22383']], 128)\n",
            "([['23207'], ['23209']], 155)\n",
            "([['23207'], ['23203']], 123)\n",
            "([['23207'], ['20727']], 140)\n",
            "([['23207'], ['23207']], 141)\n",
            "([['22386'], ['85099B']], 157)\n",
            "([['22386'], ['23203']], 147)\n",
            "([['22386'], ['22386']], 149)\n",
            "([['20724'], ['20724']], 129)\n",
            "([['22086'], ['22086']], 154)\n",
            "([['85123A'], ['23298']], 132)\n",
            "([['85123A'], ['47566']], 138)\n",
            "([['85123A'], ['85099B']], 132)\n",
            "([['85123A'], ['21733']], 146)\n",
            "([['85123A'], ['85123A']], 328)\n",
            "([['85123A'], ['22457']], 131)\n",
            "([['85123A'], ['22469']], 128)\n",
            "([['85123A'], ['23321']], 144)\n",
            "([['85123A'], ['84879']], 132)\n",
            "([['85123A'], ['82482']], 134)\n",
            "([['85123A'], ['22470']], 150)\n",
            "([['85123A'], ['23322']], 140)\n",
            "([['21034'], ['21034']], 179)\n",
            "([['22457'], ['85123A']], 136)\n",
            "([['22457'], ['22457']], 172)\n",
            "([['22469'], ['85123A']], 150)\n",
            "([['22469'], ['22469']], 167)\n",
            "([['22469'], ['23321']], 143)\n",
            "([['22469'], ['22470']], 130)\n",
            "([['22469'], ['23322']], 137)\n",
            "([['84879'], ['84879']], 219)\n",
            "([['82482'], ['85123A']], 135)\n",
            "([['82482'], ['82482']], 165)\n",
            "([['82482'], ['82494L']], 160)\n",
            "([['82494L'], ['82482']], 141)\n",
            "([['82494L'], ['82494L']], 153)\n",
            "([['22470'], ['85123A']], 147)\n",
            "([['22470'], ['22469']], 132)\n",
            "([['22470'], ['22470']], 152)\n",
            "([['22470'], ['23322']], 129)\n",
            "([['22726'], ['22726', '22727']], 135)\n",
            "([['22726', '22727'], ['22726']], 133)\n",
            "([['22726', '22727'], ['22727']], 135)\n",
            "([['22727'], ['22726', '22727']], 142)\n",
            "([['22384'], ['20725', '22384']], 129)\n",
            "([['20725', '22384'], ['22384']], 130)\n",
            "([['20725', '22384'], ['20725']], 140)\n",
            "([['20725', '22384'], ['22382']], 123)\n",
            "([['20725', '22384'], ['20727']], 128)\n",
            "([['20725'], ['20725', '22384']], 141)\n",
            "([['20725'], ['20725', '23206']], 127)\n",
            "([['20725'], ['20725', '20726']], 125)\n",
            "([['20725'], ['20725', '22382']], 132)\n",
            "([['20725'], ['20725', '20728']], 126)\n",
            "([['20725'], ['20725', '22383']], 145)\n",
            "([['20725'], ['20725', '23209']], 139)\n",
            "([['20725'], ['20725', '20727']], 139)\n",
            "([['20725', '85099B'], ['85099B']], 124)\n",
            "([['20725', '20726'], ['20725']], 130)\n",
            "([['20725'], ['22382', '22383']], 123)\n",
            "([['20725', '22382'], ['20725']], 132)\n",
            "([['20725', '22382'], ['22382']], 127)\n",
            "([['20725', '20728'], ['20725']], 137)\n",
            "([['20725', '20728'], ['20728']], 124)\n",
            "([['20725', '20728'], ['22383']], 124)\n",
            "([['20725', '20728'], ['20727']], 125)\n",
            "([['20725', '22383'], ['20725']], 139)\n",
            "([['20725', '22383'], ['22382']], 125)\n",
            "([['20725', '22383'], ['22383']], 140)\n",
            "([['20725'], ['20727', '22384']], 124)\n",
            "([['20725'], ['20727', '22383']], 124)\n",
            "([['20725', '20727'], ['20725']], 141)\n",
            "([['20725', '20727'], ['20727']], 145)\n",
            "([['47566'], ['23298', '47566']], 127)\n",
            "([['85099B'], ['23202', '23203']], 124)\n",
            "([['85099B'], ['23203', '85099B']], 152)\n",
            "([['85099B'], ['22386', '85099B']], 134)\n",
            "([['22382', '22383'], ['22382']], 124)\n",
            "([['22382', '22383'], ['22383']], 128)\n",
            "([['20728', '22384'], ['20725']], 128)\n",
            "([['20728'], ['20725', '22384']], 128)\n",
            "([['20728'], ['20725', '22383']], 125)\n",
            "([['20728'], ['20725', '20727']], 124)\n",
            "([['20728', '22383'], ['20725']], 124)\n",
            "([['20728', '22383'], ['22383']], 135)\n",
            "([['22383'], ['20725', '22383']], 135)\n",
            "([['22383'], ['20727', '22383']], 131)\n",
            "([['23209'], ['20725', '23209']], 126)\n",
            "([['23203'], ['23203', '85099B']], 135)\n",
            "([['20727', '22384'], ['22384']], 126)\n",
            "([['20727', '22384'], ['20725']], 125)\n",
            "([['20727', '22384'], ['20727']], 131)\n",
            "([['20727'], ['20725', '20727']], 142)\n",
            "([['20727', '22382'], ['20727']], 124)\n",
            "([['20727', '20728'], ['20727']], 128)\n",
            "([['20727', '22383'], ['22383']], 129)\n",
            "([['20727', '22383'], ['20727']], 133)\n",
            "([['20727'], ['20727', '22384']], 124)\n",
            "([['20727'], ['20727', '22383']], 133)\n",
            "([['22386', '85099B'], ['85099B']], 126)\n",
            "([['22726', '22727'], ['22726', '22727']], 123)\n",
            "\n",
            "Patrones de tamaño temporal  3 :\n",
            "([['20725'], ['20725'], ['20725']], 143)\n",
            "([['20725'], ['20725'], ['20727']], 130)\n",
            "([['85099B'], ['85099B'], ['85099B']], 157)\n",
            "([['85099B'], ['85099B'], ['23203']], 134)\n",
            "([['85099B'], ['23203'], ['85099B']], 138)\n",
            "([['85099B'], ['23203'], ['23203']], 130)\n",
            "([['85123A'], ['85123A'], ['85123A']], 175)\n"
          ]
        }
      ],
      "source": [
        "# El siguiente código muestra todos los patrones en todos los tamaños temporales generados,\n",
        "# excepto de los patrones que tengan una sola compra en un solo instante.\n",
        "len_max = 1\n",
        "for elemento in output:\n",
        "  if len(elemento[0]) >= len_max:\n",
        "    len_max = len(elemento[0])\n",
        "\n",
        "filtered_output2 = []\n",
        "# Imprime el resultado\n",
        "for i in range(1, len_max+1):\n",
        "  print(\"\\nPatrones de tamaño temporal \", i, \":\")\n",
        "  for seq in [elemento for elemento in output if (len(elemento[0]) == i)]:\n",
        "    if (len(seq[0][0]) > 1) | (len(seq[0]) > 1):\n",
        "      print(seq)\n",
        "      filtered_output2.append(seq)"
      ]
    },
    {
      "cell_type": "markdown",
      "source": [
        "Vemos que con este soporte elegido se han generado muchos patrones. Se ha decidido desechar los patrones de tamaño temporal 3, debido a que, como se puede observar en ellos, no son muy interesantes debido a que hay una gran repetición de los mismos productos en ellas. Por ejemplo, del patrón\n",
        "\n",
        "\\begin{pmatrix}\n",
        "[20725], & [20725], & [20725]\n",
        "\\end{pmatrix}\n",
        "\n",
        "como mucho se podría concluir que el producto 2075 se compra con una gran frecuencia y que este hay que promocionarlo. No obstante, se quieren sacar reglas que relaciones uno o varios productos y por esto no se tienen en cuenta. También se decide hacer esto por simplicidad, debido a que los patrones que se pueden obtener de tamaños temporales 1 o 2 son más fáciles de interpretar.\n",
        "\n",
        "Además, debido a que son muchos patrones los generados, se decide también realizar una criba para quedarnos solo con aquellos patrones que tengan una frecuencia mayor o igual a la mediana de las frecuencias de los patrones generados:"
      ],
      "metadata": {
        "id": "H-Ims-9MQ1_Y"
      }
    },
    {
      "cell_type": "code",
      "source": [
        "frecuencias = [elemento[1] for elemento in filtered_output2 if len(elemento[0]) != 3]\n",
        "frecuencias.sort()\n",
        "mediana = np.median(frecuencias)\n",
        "filtered_output2 = [elemento for elemento in filtered_output2 if (elemento[1] >= mediana) & (len(elemento[0]) != 3)]"
      ],
      "metadata": {
        "id": "c92bKkmRVcJ8"
      },
      "execution_count": null,
      "outputs": []
    },
    {
      "cell_type": "code",
      "source": [
        "len_max = 1\n",
        "for elemento in filtered_output2:\n",
        "  if len(elemento[0]) >= len_max:\n",
        "    len_max = len(elemento[0])\n",
        "\n",
        "# Imprime el resultado\n",
        "for i in range(1, len_max+1):\n",
        "  print(\"Patrones de tamaño temporal \", i, \":\")\n",
        "  for seq in [elemento for elemento in filtered_output2 if (len(elemento[0]) == i)]:\n",
        "    if (len(seq[0][0]) > 1) | (len(seq[0]) > 1):\n",
        "      print(seq)\n",
        "  print()"
      ],
      "metadata": {
        "id": "PGTD1pz0XQa5",
        "colab": {
          "base_uri": "https://localhost:8080/"
        },
        "outputId": "04931da1-f3ca-4207-fc29-b62e31815b47"
      },
      "execution_count": null,
      "outputs": [
        {
          "output_type": "stream",
          "name": "stdout",
          "text": [
            "Patrones de tamaño temporal  1 :\n",
            "([['22726', '22727']], 238)\n",
            "([['22726', '22728']], 176)\n",
            "([['22726', '22730']], 145)\n",
            "([['22727', '22728']], 199)\n",
            "([['22727', '22730']], 170)\n",
            "([['84997C', '84997D']], 148)\n",
            "([['23170', '23171']], 142)\n",
            "([['23174', '23175']], 149)\n",
            "([['22698', '22699']], 231)\n",
            "([['22697', '22699']], 281)\n",
            "([['22697', '22698']], 260)\n",
            "([['22666', '22720']], 179)\n",
            "([['22720', '22960']], 165)\n",
            "([['22720', '22722']], 211)\n",
            "([['22720', '23243']], 162)\n",
            "([['22960', '22961']], 199)\n",
            "([['23293', '23296']], 150)\n",
            "([['23293', '23294']], 148)\n",
            "([['23293', '23295']], 166)\n",
            "([['22554', '22556']], 145)\n",
            "([['21136', '84879']], 152)\n",
            "([['22551', '22554']], 166)\n",
            "([['21754', '21755']], 183)\n",
            "([['22138', '22617']], 228)\n",
            "([['22138', '22139']], 162)\n",
            "([['21914', '21915']], 157)\n",
            "([['23298', '47566']], 230)\n",
            "([['23201', '23202']], 153)\n",
            "([['23201', '85099B']], 159)\n",
            "([['23201', '23203']], 170)\n",
            "([['23201', '23207']], 151)\n",
            "([['23254', '23256']], 165)\n",
            "([['22629', '22630']], 204)\n",
            "([['22384', '23206']], 156)\n",
            "([['22384', '85099B']], 146)\n",
            "([['22384', '23209']], 168)\n",
            "([['20725', '22384']], 245)\n",
            "([['20725', '23206']], 185)\n",
            "([['20725', '85099B']], 194)\n",
            "([['20725', '20726']], 206)\n",
            "([['20725', '22382']], 234)\n",
            "([['20725', '20728']], 238)\n",
            "([['20725', '22383']], 234)\n",
            "([['20725', '22662']], 162)\n",
            "([['20725', '23209']], 199)\n",
            "([['20725', '20727']], 242)\n",
            "([['20725', '23207']], 154)\n",
            "([['84378', '84380']], 170)\n",
            "([['22411', '85099B']], 174)\n",
            "([['22411', '23203']], 146)\n",
            "([['21790', '21791']], 159)\n",
            "([['21931', '85099B']], 177)\n",
            "([['47566', '85123A']], 151)\n",
            "([['23199', '23201']], 145)\n",
            "([['23199', '23206']], 160)\n",
            "([['23199', '23202']], 150)\n",
            "([['23199', '85099B']], 165)\n",
            "([['23199', '23200']], 165)\n",
            "([['23199', '23203']], 173)\n",
            "([['23208', '23209']], 170)\n",
            "([['23206', '23208']], 166)\n",
            "([['23206', '23209']], 196)\n",
            "([['23206', '23207']], 184)\n",
            "([['23202', '85099B']], 170)\n",
            "([['23202', '23203']], 207)\n",
            "([['23355', '23356']], 158)\n",
            "([['21166', '21175']], 154)\n",
            "([['85099B', '85099C']], 169)\n",
            "([['85099B', '85099F']], 183)\n",
            "([['23200', '23203']], 146)\n",
            "([['21929', '85099B']], 163)\n",
            "([['22141', '22144']], 148)\n",
            "([['22142', '22144']], 157)\n",
            "([['20726', '22384']], 167)\n",
            "([['20726', '23206']], 155)\n",
            "([['20726', '22382']], 220)\n",
            "([['20726', '20728']], 193)\n",
            "([['20726', '22383']], 174)\n",
            "([['20726', '23209']], 149)\n",
            "([['20726', '20727']], 176)\n",
            "([['22382', '22384']], 197)\n",
            "([['22382', '23206']], 168)\n",
            "([['22382', '22383']], 230)\n",
            "([['22382', '22662']], 190)\n",
            "([['22382', '23209']], 174)\n",
            "([['22382', '23207']], 154)\n",
            "([['20728', '22384']], 236)\n",
            "([['20728', '23206']], 167)\n",
            "([['20728', '85099B']], 142)\n",
            "([['20728', '22382']], 218)\n",
            "([['20728', '22383']], 236)\n",
            "([['20728', '23209']], 160)\n",
            "([['20728', '23207']], 156)\n",
            "([['22383', '22384']], 195)\n",
            "([['22383', '23206']], 178)\n",
            "([['22383', '22662']], 150)\n",
            "([['22383', '23209']], 170)\n",
            "([['22383', '23207']], 153)\n",
            "([['23209', '85099B']], 142)\n",
            "([['23203', '85099B']], 222)\n",
            "([['23203', '23209']], 219)\n",
            "([['21485', '22111']], 150)\n",
            "([['47590A', '47590B']], 188)\n",
            "([['22804', '85123A']], 180)\n",
            "([['21733', '85123A']], 237)\n",
            "([['22749', '22750']], 161)\n",
            "([['22746', '22748']], 154)\n",
            "([['22745', '22746']], 149)\n",
            "([['22745', '22748']], 176)\n",
            "([['22865', '22866']], 182)\n",
            "([['22865', '22867']], 179)\n",
            "([['22866', '22867']], 158)\n",
            "([['22111', '22112']], 157)\n",
            "([['20727', '22384']], 232)\n",
            "([['20727', '23206']], 164)\n",
            "([['20727', '22382']], 213)\n",
            "([['20727', '20728']], 200)\n",
            "([['20727', '22383']], 215)\n",
            "([['20727', '23209']], 177)\n",
            "([['20727', '23207']], 154)\n",
            "([['22112', '23355']], 148)\n",
            "([['22112', '22114']], 160)\n",
            "([['22112', '22835']], 175)\n",
            "([['22114', '23355']], 147)\n",
            "([['23207', '23208']], 147)\n",
            "([['23207', '23209']], 160)\n",
            "([['22386', '85099B']], 230)\n",
            "([['22086', '22910']], 267)\n",
            "([['22457', '85123A']], 164)\n",
            "([['21928', '85099B']], 145)\n",
            "([['21928', '21929']], 152)\n",
            "([['22469', '85123A']], 159)\n",
            "([['22469', '22470']], 250)\n",
            "([['23321', '23322']], 198)\n",
            "([['23343', '23344']], 169)\n",
            "([['23300', '23301']], 236)\n",
            "([['82482', '82494L']], 234)\n",
            "([['22470', '85123A']], 178)\n",
            "([['22470', '23322']], 149)\n",
            "([['22726', '22727', '22728']], 147)\n",
            "([['22697', '22698', '22699']], 216)\n",
            "([['20725', '20728', '22384']], 148)\n",
            "([['20725', '20728', '22383']], 145)\n",
            "([['20725', '20727', '22384']], 151)\n",
            "\n",
            "Patrones de tamaño temporal  2 :\n",
            "([['22726'], ['22726']], 154)\n",
            "([['22726'], ['22727']], 158)\n",
            "([['22727'], ['22726']], 163)\n",
            "([['22727'], ['22727']], 181)\n",
            "([['22728'], ['22727']], 142)\n",
            "([['22666'], ['22666']], 142)\n",
            "([['22720'], ['22720']], 209)\n",
            "([['22720'], ['23245']], 149)\n",
            "([['21754'], ['21754']], 146)\n",
            "([['22993'], ['22993']], 154)\n",
            "([['23298'], ['23298']], 193)\n",
            "([['23201'], ['85099B']], 146)\n",
            "([['22384'], ['22384']], 187)\n",
            "([['22384'], ['20725']], 190)\n",
            "([['22384'], ['23206']], 153)\n",
            "([['22384'], ['85099B']], 156)\n",
            "([['22384'], ['22382']], 168)\n",
            "([['22384'], ['20728']], 166)\n",
            "([['22384'], ['22383']], 159)\n",
            "([['22384'], ['23209']], 163)\n",
            "([['22384'], ['20727']], 174)\n",
            "([['22384'], ['23207']], 156)\n",
            "([['20725'], ['22384']], 186)\n",
            "([['20725'], ['20725']], 259)\n",
            "([['20725'], ['23208']], 142)\n",
            "([['20725'], ['23206']], 183)\n",
            "([['20725'], ['85099B']], 179)\n",
            "([['20725'], ['20726']], 167)\n",
            "([['20725'], ['22382']], 201)\n",
            "([['20725'], ['20728']], 182)\n",
            "([['20725'], ['22383']], 194)\n",
            "([['20725'], ['23209']], 199)\n",
            "([['20725'], ['23203']], 161)\n",
            "([['20725'], ['20727']], 202)\n",
            "([['20725'], ['23207']], 163)\n",
            "([['47566'], ['23298']], 189)\n",
            "([['47566'], ['47566']], 252)\n",
            "([['23206'], ['20725']], 152)\n",
            "([['23206'], ['23206']], 176)\n",
            "([['23206'], ['23209']], 156)\n",
            "([['23202'], ['23202']], 144)\n",
            "([['85099B'], ['23201']], 151)\n",
            "([['85099B'], ['22384']], 151)\n",
            "([['85099B'], ['20725']], 183)\n",
            "([['85099B'], ['23199']], 165)\n",
            "([['85099B'], ['23202']], 166)\n",
            "([['85099B'], ['85099B']], 264)\n",
            "([['85099B'], ['23209']], 149)\n",
            "([['85099B'], ['23203']], 214)\n",
            "([['85099B'], ['20727']], 148)\n",
            "([['85099B'], ['22386']], 165)\n",
            "([['85099B'], ['23344']], 165)\n",
            "([['20726'], ['20725']], 166)\n",
            "([['20726'], ['20726']], 182)\n",
            "([['20726'], ['22382']], 161)\n",
            "([['20726'], ['22383']], 146)\n",
            "([['20726'], ['20727']], 159)\n",
            "([['22382'], ['22384']], 155)\n",
            "([['22382'], ['20725']], 189)\n",
            "([['22382'], ['23206']], 146)\n",
            "([['22382'], ['20726']], 161)\n",
            "([['22382'], ['22382']], 193)\n",
            "([['22382'], ['20728']], 159)\n",
            "([['22382'], ['22383']], 176)\n",
            "([['22382'], ['23209']], 166)\n",
            "([['22382'], ['20727']], 170)\n",
            "([['22382'], ['23207']], 147)\n",
            "([['20728'], ['22384']], 178)\n",
            "([['20728'], ['20725']], 200)\n",
            "([['20728'], ['23206']], 159)\n",
            "([['20728'], ['85099B']], 153)\n",
            "([['20728'], ['20726']], 146)\n",
            "([['20728'], ['22382']], 172)\n",
            "([['20728'], ['20728']], 194)\n",
            "([['20728'], ['22383']], 178)\n",
            "([['20728'], ['23209']], 174)\n",
            "([['20728'], ['20727']], 182)\n",
            "([['20728'], ['23207']], 165)\n",
            "([['22383'], ['22384']], 157)\n",
            "([['22383'], ['20725']], 183)\n",
            "([['22383'], ['23206']], 157)\n",
            "([['22383'], ['20726']], 142)\n",
            "([['22383'], ['22382']], 178)\n",
            "([['22383'], ['20728']], 169)\n",
            "([['22383'], ['22383']], 212)\n",
            "([['22383'], ['23209']], 157)\n",
            "([['22383'], ['20727']], 183)\n",
            "([['22383'], ['23207']], 151)\n",
            "([['23209'], ['20725']], 156)\n",
            "([['23209'], ['22382']], 146)\n",
            "([['23209'], ['23209']], 198)\n",
            "([['23209'], ['23203']], 166)\n",
            "([['23209'], ['20727']], 144)\n",
            "([['23203'], ['85099B']], 184)\n",
            "([['23203'], ['23209']], 150)\n",
            "([['23203'], ['23203']], 210)\n",
            "([['23203'], ['23344']], 154)\n",
            "([['21733'], ['85123A']], 146)\n",
            "([['20727'], ['22384']], 166)\n",
            "([['20727'], ['20725']], 194)\n",
            "([['20727'], ['23206']], 148)\n",
            "([['20727'], ['85099B']], 144)\n",
            "([['20727'], ['20726']], 148)\n",
            "([['20727'], ['22382']], 167)\n",
            "([['20727'], ['20728']], 166)\n",
            "([['20727'], ['22383']], 175)\n",
            "([['20727'], ['23209']], 163)\n",
            "([['20727'], ['20727']], 223)\n",
            "([['20727'], ['23207']], 148)\n",
            "([['23207'], ['20725']], 145)\n",
            "([['23207'], ['22382']], 147)\n",
            "([['23207'], ['23209']], 155)\n",
            "([['22386'], ['85099B']], 157)\n",
            "([['22386'], ['23203']], 147)\n",
            "([['22386'], ['22386']], 149)\n",
            "([['22086'], ['22086']], 154)\n",
            "([['85123A'], ['21733']], 146)\n",
            "([['85123A'], ['85123A']], 328)\n",
            "([['85123A'], ['23321']], 144)\n",
            "([['85123A'], ['22470']], 150)\n",
            "([['21034'], ['21034']], 179)\n",
            "([['22457'], ['22457']], 172)\n",
            "([['22469'], ['85123A']], 150)\n",
            "([['22469'], ['22469']], 167)\n",
            "([['22469'], ['23321']], 143)\n",
            "([['84879'], ['84879']], 219)\n",
            "([['82482'], ['82482']], 165)\n",
            "([['82482'], ['82494L']], 160)\n",
            "([['82494L'], ['82494L']], 153)\n",
            "([['22470'], ['85123A']], 147)\n",
            "([['22470'], ['22470']], 152)\n",
            "([['22727'], ['22726', '22727']], 142)\n",
            "([['20725'], ['20725', '22383']], 145)\n",
            "([['20725', '20727'], ['20727']], 145)\n",
            "([['85099B'], ['23203', '85099B']], 152)\n",
            "([['20727'], ['20725', '20727']], 142)\n",
            "\n"
          ]
        }
      ]
    },
    {
      "cell_type": "markdown",
      "source": [
        "Así, se traducen de 'StockCode' a 'Description' todos los patrones menos los de tamaño 3:"
      ],
      "metadata": {
        "id": "MHsZFGhCVaXd"
      }
    },
    {
      "cell_type": "code",
      "execution_count": null,
      "metadata": {
        "id": "uxsr10BWIAJM",
        "colab": {
          "base_uri": "https://localhost:8080/"
        },
        "outputId": "d0181dd2-c259-40c0-841c-25f6298df198"
      },
      "outputs": [
        {
          "output_type": "stream",
          "name": "stdout",
          "text": [
            "Patrones de tamaño temporal  1 :\n",
            "([['ALARM CLOCK BAKELIKE GREEN', 'ALARM CLOCK BAKELIKE RED ']], 238)\n",
            "([['ALARM CLOCK BAKELIKE GREEN', 'ALARM CLOCK BAKELIKE PINK']], 176)\n",
            "([['ALARM CLOCK BAKELIKE GREEN', 'ALARM CLOCK BAKELIKE IVORY']], 145)\n",
            "([['ALARM CLOCK BAKELIKE RED ', 'ALARM CLOCK BAKELIKE PINK']], 199)\n",
            "([['ALARM CLOCK BAKELIKE RED ', 'ALARM CLOCK BAKELIKE IVORY']], 170)\n",
            "([['BLUE 3 PIECE POLKADOT CUTLERY SET', 'PINK 3 PIECE POLKADOT CUTLERY SET']], 148)\n",
            "([['REGENCY TEA PLATE ROSES ', 'REGENCY TEA PLATE GREEN ']], 142)\n",
            "([['REGENCY SUGAR BOWL GREEN', 'REGENCY MILK JUG PINK ']], 149)\n",
            "([['PINK REGENCY TEACUP AND SAUCER', 'ROSES REGENCY TEACUP AND SAUCER ']], 231)\n",
            "([['GREEN REGENCY TEACUP AND SAUCER', 'ROSES REGENCY TEACUP AND SAUCER ']], 281)\n",
            "([['GREEN REGENCY TEACUP AND SAUCER', 'PINK REGENCY TEACUP AND SAUCER']], 260)\n",
            "([['RECIPE BOX PANTRY YELLOW DESIGN', 'SET OF 3 CAKE TINS PANTRY DESIGN ']], 179)\n",
            "([['SET OF 3 CAKE TINS PANTRY DESIGN ', 'JAM MAKING SET WITH JARS']], 165)\n",
            "([['SET OF 3 CAKE TINS PANTRY DESIGN ', 'SET OF 6 SPICE TINS PANTRY DESIGN']], 211)\n",
            "([['SET OF 3 CAKE TINS PANTRY DESIGN ', 'SET OF TEA COFFEE SUGAR TINS PANTRY']], 162)\n",
            "([['JAM MAKING SET WITH JARS', 'JAM MAKING SET PRINTED']], 199)\n",
            "([['SET OF 12 FAIRY CAKE BAKING CASES', 'SET OF 6 TEA TIME BAKING CASES']], 150)\n",
            "([['SET OF 12 FAIRY CAKE BAKING CASES', 'SET OF 6 SNACK LOAF BAKING CASES']], 148)\n",
            "([['SET OF 12 FAIRY CAKE BAKING CASES', 'SET OF 12 MINI LOAF BAKING CASES']], 166)\n",
            "([['PLASTERS IN TIN WOODLAND ANIMALS', 'PLASTERS IN TIN CIRCUS PARADE ']], 145)\n",
            "([['PAINTED METAL PEARS ASSORTED', 'ASSORTED COLOUR BIRD ORNAMENT']], 152)\n",
            "([['PLASTERS IN TIN SPACEBOY', 'PLASTERS IN TIN WOODLAND ANIMALS']], 166)\n",
            "([['HOME BUILDING BLOCK WORD', 'LOVE BUILDING BLOCK WORD']], 183)\n",
            "([['BAKING SET 9 PIECE RETROSPOT ', 'BAKING SET SPACEBOY DESIGN']], 228)\n",
            "([['BAKING SET 9 PIECE RETROSPOT ', 'RETROSPOT TEA SET CERAMIC 11 PC ']], 162)\n",
            "([['BLUE HARMONICA IN BOX ', 'RED  HARMONICA IN BOX ']], 157)\n",
            "([['SPOTTY BUNTING', 'PARTY BUNTING']], 230)\n",
            "([['JUMBO BAG ALPHABET', 'JUMBO BAG VINTAGE LEAF']], 153)\n",
            "([['JUMBO BAG ALPHABET', 'JUMBO BAG RED RETROSPOT']], 159)\n",
            "([['JUMBO BAG ALPHABET', 'JUMBO BAG DOILEY PATTERNS']], 170)\n",
            "([['JUMBO BAG ALPHABET', 'LUNCH BAG ALPHABET DESIGN']], 151)\n",
            "([['CHILDRENS CUTLERY DOLLY GIRL ', 'CHILDRENS CUTLERY SPACEBOY ']], 165)\n",
            "([['SPACEBOY LUNCH BOX ', 'DOLLY GIRL LUNCH BOX']], 204)\n",
            "([['LUNCH BAG PINK POLKADOT', 'LUNCH BAG APPLE DESIGN']], 156)\n",
            "([['LUNCH BAG PINK POLKADOT', 'JUMBO BAG RED RETROSPOT']], 146)\n",
            "([['LUNCH BAG PINK POLKADOT', 'LUNCH BAG DOILEY PATTERN ']], 168)\n",
            "([['LUNCH BAG RED RETROSPOT', 'LUNCH BAG PINK POLKADOT']], 245)\n",
            "([['LUNCH BAG RED RETROSPOT', 'LUNCH BAG APPLE DESIGN']], 185)\n",
            "([['LUNCH BAG RED RETROSPOT', 'JUMBO BAG RED RETROSPOT']], 194)\n",
            "([['LUNCH BAG RED RETROSPOT', 'LUNCH BAG WOODLAND']], 206)\n",
            "([['LUNCH BAG RED RETROSPOT', 'LUNCH BAG SPACEBOY DESIGN ']], 234)\n",
            "([['LUNCH BAG RED RETROSPOT', 'LUNCH BAG CARS BLUE']], 238)\n",
            "([['LUNCH BAG RED RETROSPOT', 'LUNCH BAG SUKI  DESIGN ']], 234)\n",
            "([['LUNCH BAG RED RETROSPOT', 'LUNCH BAG DOLLY GIRL DESIGN']], 162)\n",
            "([['LUNCH BAG RED RETROSPOT', 'LUNCH BAG DOILEY PATTERN ']], 199)\n",
            "([['LUNCH BAG RED RETROSPOT', 'LUNCH BAG  BLACK SKULL.']], 242)\n",
            "([['LUNCH BAG RED RETROSPOT', 'LUNCH BAG ALPHABET DESIGN']], 154)\n",
            "([['SET OF 3 HEART COOKIE CUTTERS', 'SET OF 3 BUTTERFLY COOKIE CUTTERS']], 170)\n",
            "([['JUMBO SHOPPER VINTAGE RED PAISLEY', 'JUMBO BAG RED RETROSPOT']], 174)\n",
            "([['JUMBO SHOPPER VINTAGE RED PAISLEY', 'JUMBO BAG DOILEY PATTERNS']], 146)\n",
            "([['VINTAGE SNAP CARDS', 'VINTAGE HEADS AND TAILS CARD GAME ']], 159)\n",
            "([['JUMBO STORAGE BAG SUKI', 'JUMBO BAG RED RETROSPOT']], 177)\n",
            "([['PARTY BUNTING', 'WHITE HANGING HEART T-LIGHT HOLDER']], 151)\n",
            "([['JUMBO BAG APPLES', 'JUMBO BAG ALPHABET']], 145)\n",
            "([['JUMBO BAG APPLES', 'LUNCH BAG APPLE DESIGN']], 160)\n",
            "([['JUMBO BAG APPLES', 'JUMBO BAG VINTAGE LEAF']], 150)\n",
            "([['JUMBO BAG APPLES', 'JUMBO BAG RED RETROSPOT']], 165)\n",
            "([['JUMBO BAG APPLES', 'JUMBO BAG PEARS']], 165)\n",
            "([['JUMBO BAG APPLES', 'JUMBO BAG DOILEY PATTERNS']], 173)\n",
            "([['LUNCH BAG VINTAGE LEAF DESIGN', 'LUNCH BAG DOILEY PATTERN ']], 170)\n",
            "([['LUNCH BAG APPLE DESIGN', 'LUNCH BAG VINTAGE LEAF DESIGN']], 166)\n",
            "([['LUNCH BAG APPLE DESIGN', 'LUNCH BAG DOILEY PATTERN ']], 196)\n",
            "([['LUNCH BAG APPLE DESIGN', 'LUNCH BAG ALPHABET DESIGN']], 184)\n",
            "([['JUMBO BAG VINTAGE LEAF', 'JUMBO BAG RED RETROSPOT']], 170)\n",
            "([['JUMBO BAG VINTAGE LEAF', 'JUMBO BAG DOILEY PATTERNS']], 207)\n",
            "([['HOT WATER BOTTLE KEEP CALM', 'LOVE HOT WATER BOTTLE']], 158)\n",
            "([['COOK WITH WINE METAL SIGN ', 'GIN + TONIC DIET METAL SIGN']], 154)\n",
            "([['JUMBO BAG RED RETROSPOT', 'JUMBO  BAG BAROQUE BLACK WHITE']], 169)\n",
            "([['JUMBO BAG RED RETROSPOT', 'JUMBO BAG STRAWBERRY']], 183)\n",
            "([['JUMBO BAG PEARS', 'JUMBO BAG DOILEY PATTERNS']], 146)\n",
            "([['JUMBO BAG PINK VINTAGE PAISLEY', 'JUMBO BAG RED RETROSPOT']], 163)\n",
            "([['CHRISTMAS CRAFT TREE TOP ANGEL', 'CHRISTMAS CRAFT LITTLE FRIENDS']], 148)\n",
            "([['CHRISTMAS CRAFT WHITE FAIRY ', 'CHRISTMAS CRAFT LITTLE FRIENDS']], 157)\n",
            "([['LUNCH BAG WOODLAND', 'LUNCH BAG PINK POLKADOT']], 167)\n",
            "([['LUNCH BAG WOODLAND', 'LUNCH BAG APPLE DESIGN']], 155)\n",
            "([['LUNCH BAG WOODLAND', 'LUNCH BAG SPACEBOY DESIGN ']], 220)\n",
            "([['LUNCH BAG WOODLAND', 'LUNCH BAG CARS BLUE']], 193)\n",
            "([['LUNCH BAG WOODLAND', 'LUNCH BAG SUKI  DESIGN ']], 174)\n",
            "([['LUNCH BAG WOODLAND', 'LUNCH BAG DOILEY PATTERN ']], 149)\n",
            "([['LUNCH BAG WOODLAND', 'LUNCH BAG  BLACK SKULL.']], 176)\n",
            "([['LUNCH BAG SPACEBOY DESIGN ', 'LUNCH BAG PINK POLKADOT']], 197)\n",
            "([['LUNCH BAG SPACEBOY DESIGN ', 'LUNCH BAG APPLE DESIGN']], 168)\n",
            "([['LUNCH BAG SPACEBOY DESIGN ', 'LUNCH BAG SUKI  DESIGN ']], 230)\n",
            "([['LUNCH BAG SPACEBOY DESIGN ', 'LUNCH BAG DOLLY GIRL DESIGN']], 190)\n",
            "([['LUNCH BAG SPACEBOY DESIGN ', 'LUNCH BAG DOILEY PATTERN ']], 174)\n",
            "([['LUNCH BAG SPACEBOY DESIGN ', 'LUNCH BAG ALPHABET DESIGN']], 154)\n",
            "([['LUNCH BAG CARS BLUE', 'LUNCH BAG PINK POLKADOT']], 236)\n",
            "([['LUNCH BAG CARS BLUE', 'LUNCH BAG APPLE DESIGN']], 167)\n",
            "([['LUNCH BAG CARS BLUE', 'JUMBO BAG RED RETROSPOT']], 142)\n",
            "([['LUNCH BAG CARS BLUE', 'LUNCH BAG SPACEBOY DESIGN ']], 218)\n",
            "([['LUNCH BAG CARS BLUE', 'LUNCH BAG SUKI  DESIGN ']], 236)\n",
            "([['LUNCH BAG CARS BLUE', 'LUNCH BAG DOILEY PATTERN ']], 160)\n",
            "([['LUNCH BAG CARS BLUE', 'LUNCH BAG ALPHABET DESIGN']], 156)\n",
            "([['LUNCH BAG SUKI  DESIGN ', 'LUNCH BAG PINK POLKADOT']], 195)\n",
            "([['LUNCH BAG SUKI  DESIGN ', 'LUNCH BAG APPLE DESIGN']], 178)\n",
            "([['LUNCH BAG SUKI  DESIGN ', 'LUNCH BAG DOLLY GIRL DESIGN']], 150)\n",
            "([['LUNCH BAG SUKI  DESIGN ', 'LUNCH BAG DOILEY PATTERN ']], 170)\n",
            "([['LUNCH BAG SUKI  DESIGN ', 'LUNCH BAG ALPHABET DESIGN']], 153)\n",
            "([['LUNCH BAG DOILEY PATTERN ', 'JUMBO BAG RED RETROSPOT']], 142)\n",
            "([['JUMBO BAG DOILEY PATTERNS', 'JUMBO BAG RED RETROSPOT']], 222)\n",
            "([['JUMBO BAG DOILEY PATTERNS', 'LUNCH BAG DOILEY PATTERN ']], 219)\n",
            "([['RETROSPOT HEART HOT WATER BOTTLE', 'SCOTTIE DOG HOT WATER BOTTLE']], 150)\n",
            "([['BLUE HAPPY BIRTHDAY BUNTING', 'PINK HAPPY BIRTHDAY BUNTING']], 188)\n",
            "([['CANDLEHOLDER PINK HANGING HEART', 'WHITE HANGING HEART T-LIGHT HOLDER']], 180)\n",
            "([['RED HANGING HEART T-LIGHT HOLDER', 'WHITE HANGING HEART T-LIGHT HOLDER']], 237)\n",
            "([['FELTCRAFT PRINCESS CHARLOTTE DOLL', 'FELTCRAFT PRINCESS LOLA DOLL']], 161)\n",
            "([[\"POPPY'S PLAYHOUSE LIVINGROOM \", \"POPPY'S PLAYHOUSE KITCHEN\"]], 154)\n",
            "([[\"POPPY'S PLAYHOUSE BEDROOM \", \"POPPY'S PLAYHOUSE LIVINGROOM \"]], 149)\n",
            "([[\"POPPY'S PLAYHOUSE BEDROOM \", \"POPPY'S PLAYHOUSE KITCHEN\"]], 176)\n",
            "([['HAND WARMER OWL DESIGN', 'HAND WARMER SCOTTY DOG DESIGN']], 182)\n",
            "([['HAND WARMER OWL DESIGN', 'HAND WARMER BIRD DESIGN']], 179)\n",
            "([['HAND WARMER SCOTTY DOG DESIGN', 'HAND WARMER BIRD DESIGN']], 158)\n",
            "([['SCOTTIE DOG HOT WATER BOTTLE', 'CHOCOLATE HOT WATER BOTTLE']], 157)\n",
            "([['LUNCH BAG  BLACK SKULL.', 'LUNCH BAG PINK POLKADOT']], 232)\n",
            "([['LUNCH BAG  BLACK SKULL.', 'LUNCH BAG APPLE DESIGN']], 164)\n",
            "([['LUNCH BAG  BLACK SKULL.', 'LUNCH BAG SPACEBOY DESIGN ']], 213)\n",
            "([['LUNCH BAG  BLACK SKULL.', 'LUNCH BAG CARS BLUE']], 200)\n",
            "([['LUNCH BAG  BLACK SKULL.', 'LUNCH BAG SUKI  DESIGN ']], 215)\n",
            "([['LUNCH BAG  BLACK SKULL.', 'LUNCH BAG DOILEY PATTERN ']], 177)\n",
            "([['LUNCH BAG  BLACK SKULL.', 'LUNCH BAG ALPHABET DESIGN']], 154)\n",
            "([['CHOCOLATE HOT WATER BOTTLE', 'HOT WATER BOTTLE KEEP CALM']], 148)\n",
            "([['CHOCOLATE HOT WATER BOTTLE', 'HOT WATER BOTTLE TEA AND SYMPATHY']], 160)\n",
            "([['CHOCOLATE HOT WATER BOTTLE', 'HOT WATER BOTTLE I AM SO POORLY']], 175)\n",
            "([['HOT WATER BOTTLE TEA AND SYMPATHY', 'HOT WATER BOTTLE KEEP CALM']], 147)\n",
            "([['LUNCH BAG ALPHABET DESIGN', 'LUNCH BAG VINTAGE LEAF DESIGN']], 147)\n",
            "([['LUNCH BAG ALPHABET DESIGN', 'LUNCH BAG DOILEY PATTERN ']], 160)\n",
            "([['JUMBO BAG PINK POLKADOT', 'JUMBO BAG RED RETROSPOT']], 230)\n",
            "([[\"PAPER CHAIN KIT 50'S CHRISTMAS \", 'PAPER CHAIN KIT VINTAGE CHRISTMAS']], 267)\n",
            "([['NATURAL SLATE HEART CHALKBOARD ', 'WHITE HANGING HEART T-LIGHT HOLDER']], 164)\n",
            "([['JUMBO BAG SCANDINAVIAN PAISLEY', 'JUMBO BAG RED RETROSPOT']], 145)\n",
            "([['JUMBO BAG SCANDINAVIAN PAISLEY', 'JUMBO BAG PINK VINTAGE PAISLEY']], 152)\n",
            "([['HEART OF WICKER SMALL', 'WHITE HANGING HEART T-LIGHT HOLDER']], 159)\n",
            "([['HEART OF WICKER SMALL', 'HEART OF WICKER LARGE']], 250)\n",
            "([['SMALL WHITE HEART OF WICKER', 'LARGE WHITE HEART OF WICKER']], 198)\n",
            "([['JUMBO BAG VINTAGE CHRISTMAS ', \"JUMBO BAG 50'S CHRISTMAS \"]], 169)\n",
            "([['GARDENERS KNEELING PAD CUP OF TEA ', 'GARDENERS KNEELING PAD KEEP CALM ']], 236)\n",
            "([['WOODEN PICTURE FRAME WHITE FINISH', 'WOODEN FRAME ANTIQUE WHITE ']], 234)\n",
            "([['HEART OF WICKER LARGE', 'WHITE HANGING HEART T-LIGHT HOLDER']], 178)\n",
            "([['HEART OF WICKER LARGE', 'LARGE WHITE HEART OF WICKER']], 149)\n",
            "([['ALARM CLOCK BAKELIKE GREEN', 'ALARM CLOCK BAKELIKE RED ', 'ALARM CLOCK BAKELIKE PINK']], 147)\n",
            "([['GREEN REGENCY TEACUP AND SAUCER', 'PINK REGENCY TEACUP AND SAUCER', 'ROSES REGENCY TEACUP AND SAUCER ']], 216)\n",
            "([['LUNCH BAG RED RETROSPOT', 'LUNCH BAG CARS BLUE', 'LUNCH BAG PINK POLKADOT']], 148)\n",
            "([['LUNCH BAG RED RETROSPOT', 'LUNCH BAG CARS BLUE', 'LUNCH BAG SUKI  DESIGN ']], 145)\n",
            "([['LUNCH BAG RED RETROSPOT', 'LUNCH BAG  BLACK SKULL.', 'LUNCH BAG PINK POLKADOT']], 151)\n",
            "\n",
            "Patrones de tamaño temporal  2 :\n",
            "([['ALARM CLOCK BAKELIKE GREEN'], ['ALARM CLOCK BAKELIKE GREEN']], 154)\n",
            "([['ALARM CLOCK BAKELIKE GREEN'], ['ALARM CLOCK BAKELIKE RED ']], 158)\n",
            "([['ALARM CLOCK BAKELIKE RED '], ['ALARM CLOCK BAKELIKE GREEN']], 163)\n",
            "([['ALARM CLOCK BAKELIKE RED '], ['ALARM CLOCK BAKELIKE RED ']], 181)\n",
            "([['ALARM CLOCK BAKELIKE PINK'], ['ALARM CLOCK BAKELIKE RED ']], 142)\n",
            "([['RECIPE BOX PANTRY YELLOW DESIGN'], ['RECIPE BOX PANTRY YELLOW DESIGN']], 142)\n",
            "([['SET OF 3 CAKE TINS PANTRY DESIGN '], ['SET OF 3 CAKE TINS PANTRY DESIGN ']], 209)\n",
            "([['SET OF 3 CAKE TINS PANTRY DESIGN '], ['SET OF 3 REGENCY CAKE TINS']], 149)\n",
            "([['HOME BUILDING BLOCK WORD'], ['HOME BUILDING BLOCK WORD']], 146)\n",
            "([['SET OF 4 PANTRY JELLY MOULDS'], ['SET OF 4 PANTRY JELLY MOULDS']], 154)\n",
            "([['SPOTTY BUNTING'], ['SPOTTY BUNTING']], 193)\n",
            "([['JUMBO BAG ALPHABET'], ['JUMBO BAG RED RETROSPOT']], 146)\n",
            "([['LUNCH BAG PINK POLKADOT'], ['LUNCH BAG PINK POLKADOT']], 187)\n",
            "([['LUNCH BAG PINK POLKADOT'], ['LUNCH BAG RED RETROSPOT']], 190)\n",
            "([['LUNCH BAG PINK POLKADOT'], ['LUNCH BAG APPLE DESIGN']], 153)\n",
            "([['LUNCH BAG PINK POLKADOT'], ['JUMBO BAG RED RETROSPOT']], 156)\n",
            "([['LUNCH BAG PINK POLKADOT'], ['LUNCH BAG SPACEBOY DESIGN ']], 168)\n",
            "([['LUNCH BAG PINK POLKADOT'], ['LUNCH BAG CARS BLUE']], 166)\n",
            "([['LUNCH BAG PINK POLKADOT'], ['LUNCH BAG SUKI  DESIGN ']], 159)\n",
            "([['LUNCH BAG PINK POLKADOT'], ['LUNCH BAG DOILEY PATTERN ']], 163)\n",
            "([['LUNCH BAG PINK POLKADOT'], ['LUNCH BAG  BLACK SKULL.']], 174)\n",
            "([['LUNCH BAG PINK POLKADOT'], ['LUNCH BAG ALPHABET DESIGN']], 156)\n",
            "([['LUNCH BAG RED RETROSPOT'], ['LUNCH BAG PINK POLKADOT']], 186)\n",
            "([['LUNCH BAG RED RETROSPOT'], ['LUNCH BAG RED RETROSPOT']], 259)\n",
            "([['LUNCH BAG RED RETROSPOT'], ['LUNCH BAG VINTAGE LEAF DESIGN']], 142)\n",
            "([['LUNCH BAG RED RETROSPOT'], ['LUNCH BAG APPLE DESIGN']], 183)\n",
            "([['LUNCH BAG RED RETROSPOT'], ['JUMBO BAG RED RETROSPOT']], 179)\n",
            "([['LUNCH BAG RED RETROSPOT'], ['LUNCH BAG WOODLAND']], 167)\n",
            "([['LUNCH BAG RED RETROSPOT'], ['LUNCH BAG SPACEBOY DESIGN ']], 201)\n",
            "([['LUNCH BAG RED RETROSPOT'], ['LUNCH BAG CARS BLUE']], 182)\n",
            "([['LUNCH BAG RED RETROSPOT'], ['LUNCH BAG SUKI  DESIGN ']], 194)\n",
            "([['LUNCH BAG RED RETROSPOT'], ['LUNCH BAG DOILEY PATTERN ']], 199)\n",
            "([['LUNCH BAG RED RETROSPOT'], ['JUMBO BAG DOILEY PATTERNS']], 161)\n",
            "([['LUNCH BAG RED RETROSPOT'], ['LUNCH BAG  BLACK SKULL.']], 202)\n",
            "([['LUNCH BAG RED RETROSPOT'], ['LUNCH BAG ALPHABET DESIGN']], 163)\n",
            "([['PARTY BUNTING'], ['SPOTTY BUNTING']], 189)\n",
            "([['PARTY BUNTING'], ['PARTY BUNTING']], 252)\n",
            "([['LUNCH BAG APPLE DESIGN'], ['LUNCH BAG RED RETROSPOT']], 152)\n",
            "([['LUNCH BAG APPLE DESIGN'], ['LUNCH BAG APPLE DESIGN']], 176)\n",
            "([['LUNCH BAG APPLE DESIGN'], ['LUNCH BAG DOILEY PATTERN ']], 156)\n",
            "([['JUMBO BAG VINTAGE LEAF'], ['JUMBO BAG VINTAGE LEAF']], 144)\n",
            "([['JUMBO BAG RED RETROSPOT'], ['JUMBO BAG ALPHABET']], 151)\n",
            "([['JUMBO BAG RED RETROSPOT'], ['LUNCH BAG PINK POLKADOT']], 151)\n",
            "([['JUMBO BAG RED RETROSPOT'], ['LUNCH BAG RED RETROSPOT']], 183)\n",
            "([['JUMBO BAG RED RETROSPOT'], ['JUMBO BAG APPLES']], 165)\n",
            "([['JUMBO BAG RED RETROSPOT'], ['JUMBO BAG VINTAGE LEAF']], 166)\n",
            "([['JUMBO BAG RED RETROSPOT'], ['JUMBO BAG RED RETROSPOT']], 264)\n",
            "([['JUMBO BAG RED RETROSPOT'], ['LUNCH BAG DOILEY PATTERN ']], 149)\n",
            "([['JUMBO BAG RED RETROSPOT'], ['JUMBO BAG DOILEY PATTERNS']], 214)\n",
            "([['JUMBO BAG RED RETROSPOT'], ['LUNCH BAG  BLACK SKULL.']], 148)\n",
            "([['JUMBO BAG RED RETROSPOT'], ['JUMBO BAG PINK POLKADOT']], 165)\n",
            "([['JUMBO BAG RED RETROSPOT'], [\"JUMBO BAG 50'S CHRISTMAS \"]], 165)\n",
            "([['LUNCH BAG WOODLAND'], ['LUNCH BAG RED RETROSPOT']], 166)\n",
            "([['LUNCH BAG WOODLAND'], ['LUNCH BAG WOODLAND']], 182)\n",
            "([['LUNCH BAG WOODLAND'], ['LUNCH BAG SPACEBOY DESIGN ']], 161)\n",
            "([['LUNCH BAG WOODLAND'], ['LUNCH BAG SUKI  DESIGN ']], 146)\n",
            "([['LUNCH BAG WOODLAND'], ['LUNCH BAG  BLACK SKULL.']], 159)\n",
            "([['LUNCH BAG SPACEBOY DESIGN '], ['LUNCH BAG PINK POLKADOT']], 155)\n",
            "([['LUNCH BAG SPACEBOY DESIGN '], ['LUNCH BAG RED RETROSPOT']], 189)\n",
            "([['LUNCH BAG SPACEBOY DESIGN '], ['LUNCH BAG APPLE DESIGN']], 146)\n",
            "([['LUNCH BAG SPACEBOY DESIGN '], ['LUNCH BAG WOODLAND']], 161)\n",
            "([['LUNCH BAG SPACEBOY DESIGN '], ['LUNCH BAG SPACEBOY DESIGN ']], 193)\n",
            "([['LUNCH BAG SPACEBOY DESIGN '], ['LUNCH BAG CARS BLUE']], 159)\n",
            "([['LUNCH BAG SPACEBOY DESIGN '], ['LUNCH BAG SUKI  DESIGN ']], 176)\n",
            "([['LUNCH BAG SPACEBOY DESIGN '], ['LUNCH BAG DOILEY PATTERN ']], 166)\n",
            "([['LUNCH BAG SPACEBOY DESIGN '], ['LUNCH BAG  BLACK SKULL.']], 170)\n",
            "([['LUNCH BAG SPACEBOY DESIGN '], ['LUNCH BAG ALPHABET DESIGN']], 147)\n",
            "([['LUNCH BAG CARS BLUE'], ['LUNCH BAG PINK POLKADOT']], 178)\n",
            "([['LUNCH BAG CARS BLUE'], ['LUNCH BAG RED RETROSPOT']], 200)\n",
            "([['LUNCH BAG CARS BLUE'], ['LUNCH BAG APPLE DESIGN']], 159)\n",
            "([['LUNCH BAG CARS BLUE'], ['JUMBO BAG RED RETROSPOT']], 153)\n",
            "([['LUNCH BAG CARS BLUE'], ['LUNCH BAG WOODLAND']], 146)\n",
            "([['LUNCH BAG CARS BLUE'], ['LUNCH BAG SPACEBOY DESIGN ']], 172)\n",
            "([['LUNCH BAG CARS BLUE'], ['LUNCH BAG CARS BLUE']], 194)\n",
            "([['LUNCH BAG CARS BLUE'], ['LUNCH BAG SUKI  DESIGN ']], 178)\n",
            "([['LUNCH BAG CARS BLUE'], ['LUNCH BAG DOILEY PATTERN ']], 174)\n",
            "([['LUNCH BAG CARS BLUE'], ['LUNCH BAG  BLACK SKULL.']], 182)\n",
            "([['LUNCH BAG CARS BLUE'], ['LUNCH BAG ALPHABET DESIGN']], 165)\n",
            "([['LUNCH BAG SUKI  DESIGN '], ['LUNCH BAG PINK POLKADOT']], 157)\n",
            "([['LUNCH BAG SUKI  DESIGN '], ['LUNCH BAG RED RETROSPOT']], 183)\n",
            "([['LUNCH BAG SUKI  DESIGN '], ['LUNCH BAG APPLE DESIGN']], 157)\n",
            "([['LUNCH BAG SUKI  DESIGN '], ['LUNCH BAG WOODLAND']], 142)\n",
            "([['LUNCH BAG SUKI  DESIGN '], ['LUNCH BAG SPACEBOY DESIGN ']], 178)\n",
            "([['LUNCH BAG SUKI  DESIGN '], ['LUNCH BAG CARS BLUE']], 169)\n",
            "([['LUNCH BAG SUKI  DESIGN '], ['LUNCH BAG SUKI  DESIGN ']], 212)\n",
            "([['LUNCH BAG SUKI  DESIGN '], ['LUNCH BAG DOILEY PATTERN ']], 157)\n",
            "([['LUNCH BAG SUKI  DESIGN '], ['LUNCH BAG  BLACK SKULL.']], 183)\n",
            "([['LUNCH BAG SUKI  DESIGN '], ['LUNCH BAG ALPHABET DESIGN']], 151)\n",
            "([['LUNCH BAG DOILEY PATTERN '], ['LUNCH BAG RED RETROSPOT']], 156)\n",
            "([['LUNCH BAG DOILEY PATTERN '], ['LUNCH BAG SPACEBOY DESIGN ']], 146)\n",
            "([['LUNCH BAG DOILEY PATTERN '], ['LUNCH BAG DOILEY PATTERN ']], 198)\n",
            "([['LUNCH BAG DOILEY PATTERN '], ['JUMBO BAG DOILEY PATTERNS']], 166)\n",
            "([['LUNCH BAG DOILEY PATTERN '], ['LUNCH BAG  BLACK SKULL.']], 144)\n",
            "([['JUMBO BAG DOILEY PATTERNS'], ['JUMBO BAG RED RETROSPOT']], 184)\n",
            "([['JUMBO BAG DOILEY PATTERNS'], ['LUNCH BAG DOILEY PATTERN ']], 150)\n",
            "([['JUMBO BAG DOILEY PATTERNS'], ['JUMBO BAG DOILEY PATTERNS']], 210)\n",
            "([['JUMBO BAG DOILEY PATTERNS'], [\"JUMBO BAG 50'S CHRISTMAS \"]], 154)\n",
            "([['RED HANGING HEART T-LIGHT HOLDER'], ['WHITE HANGING HEART T-LIGHT HOLDER']], 146)\n",
            "([['LUNCH BAG  BLACK SKULL.'], ['LUNCH BAG PINK POLKADOT']], 166)\n",
            "([['LUNCH BAG  BLACK SKULL.'], ['LUNCH BAG RED RETROSPOT']], 194)\n",
            "([['LUNCH BAG  BLACK SKULL.'], ['LUNCH BAG APPLE DESIGN']], 148)\n",
            "([['LUNCH BAG  BLACK SKULL.'], ['JUMBO BAG RED RETROSPOT']], 144)\n",
            "([['LUNCH BAG  BLACK SKULL.'], ['LUNCH BAG WOODLAND']], 148)\n",
            "([['LUNCH BAG  BLACK SKULL.'], ['LUNCH BAG SPACEBOY DESIGN ']], 167)\n",
            "([['LUNCH BAG  BLACK SKULL.'], ['LUNCH BAG CARS BLUE']], 166)\n",
            "([['LUNCH BAG  BLACK SKULL.'], ['LUNCH BAG SUKI  DESIGN ']], 175)\n",
            "([['LUNCH BAG  BLACK SKULL.'], ['LUNCH BAG DOILEY PATTERN ']], 163)\n",
            "([['LUNCH BAG  BLACK SKULL.'], ['LUNCH BAG  BLACK SKULL.']], 223)\n",
            "([['LUNCH BAG  BLACK SKULL.'], ['LUNCH BAG ALPHABET DESIGN']], 148)\n",
            "([['LUNCH BAG ALPHABET DESIGN'], ['LUNCH BAG RED RETROSPOT']], 145)\n",
            "([['LUNCH BAG ALPHABET DESIGN'], ['LUNCH BAG SPACEBOY DESIGN ']], 147)\n",
            "([['LUNCH BAG ALPHABET DESIGN'], ['LUNCH BAG DOILEY PATTERN ']], 155)\n",
            "([['JUMBO BAG PINK POLKADOT'], ['JUMBO BAG RED RETROSPOT']], 157)\n",
            "([['JUMBO BAG PINK POLKADOT'], ['JUMBO BAG DOILEY PATTERNS']], 147)\n",
            "([['JUMBO BAG PINK POLKADOT'], ['JUMBO BAG PINK POLKADOT']], 149)\n",
            "([[\"PAPER CHAIN KIT 50'S CHRISTMAS \"], [\"PAPER CHAIN KIT 50'S CHRISTMAS \"]], 154)\n",
            "([['WHITE HANGING HEART T-LIGHT HOLDER'], ['RED HANGING HEART T-LIGHT HOLDER']], 146)\n",
            "([['WHITE HANGING HEART T-LIGHT HOLDER'], ['WHITE HANGING HEART T-LIGHT HOLDER']], 328)\n",
            "([['WHITE HANGING HEART T-LIGHT HOLDER'], ['SMALL WHITE HEART OF WICKER']], 144)\n",
            "([['WHITE HANGING HEART T-LIGHT HOLDER'], ['HEART OF WICKER LARGE']], 150)\n",
            "([['REX CASH+CARRY JUMBO SHOPPER'], ['REX CASH+CARRY JUMBO SHOPPER']], 179)\n",
            "([['NATURAL SLATE HEART CHALKBOARD '], ['NATURAL SLATE HEART CHALKBOARD ']], 172)\n",
            "([['HEART OF WICKER SMALL'], ['WHITE HANGING HEART T-LIGHT HOLDER']], 150)\n",
            "([['HEART OF WICKER SMALL'], ['HEART OF WICKER SMALL']], 167)\n",
            "([['HEART OF WICKER SMALL'], ['SMALL WHITE HEART OF WICKER']], 143)\n",
            "([['ASSORTED COLOUR BIRD ORNAMENT'], ['ASSORTED COLOUR BIRD ORNAMENT']], 219)\n",
            "([['WOODEN PICTURE FRAME WHITE FINISH'], ['WOODEN PICTURE FRAME WHITE FINISH']], 165)\n",
            "([['WOODEN PICTURE FRAME WHITE FINISH'], ['WOODEN FRAME ANTIQUE WHITE ']], 160)\n",
            "([['WOODEN FRAME ANTIQUE WHITE '], ['WOODEN FRAME ANTIQUE WHITE ']], 153)\n",
            "([['HEART OF WICKER LARGE'], ['WHITE HANGING HEART T-LIGHT HOLDER']], 147)\n",
            "([['HEART OF WICKER LARGE'], ['HEART OF WICKER LARGE']], 152)\n",
            "([['ALARM CLOCK BAKELIKE RED '], ['ALARM CLOCK BAKELIKE GREEN', 'ALARM CLOCK BAKELIKE RED ']], 142)\n",
            "([['LUNCH BAG RED RETROSPOT'], ['LUNCH BAG RED RETROSPOT', 'LUNCH BAG SUKI  DESIGN ']], 145)\n",
            "([['LUNCH BAG RED RETROSPOT', 'LUNCH BAG  BLACK SKULL.'], ['LUNCH BAG  BLACK SKULL.']], 145)\n",
            "([['JUMBO BAG RED RETROSPOT'], ['JUMBO BAG DOILEY PATTERNS', 'JUMBO BAG RED RETROSPOT']], 152)\n",
            "([['LUNCH BAG  BLACK SKULL.'], ['LUNCH BAG RED RETROSPOT', 'LUNCH BAG  BLACK SKULL.']], 142)\n",
            "\n"
          ]
        }
      ],
      "source": [
        "# El siguiente código traduce de 'StockCode' a 'Description'.\n",
        "\n",
        "# Aquí se guardarán los patrones traducidos a 'Description'\n",
        "filtered_output2_desc = []\n",
        "\n",
        "# Se procede a cambiar el número del stockcode por el nombre del producto.\n",
        "for tupla in filtered_output2:\n",
        "    new_tupla = []\n",
        "    for time in tupla[0]:\n",
        "        new_time = []\n",
        "        for code in time:\n",
        "            description = stock[stock['StockCode'] == code]['Description'].values[0]\n",
        "            new_time.append(description)\n",
        "        new_tupla.append(new_time)\n",
        "    filtered_output2_desc.append((new_tupla, tupla[1]))\n",
        "\n",
        "for i in range(1, len_max+1):\n",
        "  print(\"Patrones de tamaño temporal \", i, \":\")\n",
        "  for seq in [elemento for elemento in filtered_output2_desc if (len(elemento[0]) == i)]:\n",
        "    if (len(seq[0][0]) > 1) | (len(seq[0]) > 1):\n",
        "      print(seq)\n",
        "  print()"
      ]
    },
    {
      "cell_type": "markdown",
      "metadata": {
        "id": "dlAfBGMpQLpy"
      },
      "source": [
        "## 3.- (1 punto)\n",
        "\n",
        "Para una de ellas, interpreta algunos de los patrones secuenciales que te resulten curiosos.\n"
      ]
    },
    {
      "cell_type": "markdown",
      "metadata": {
        "id": "0aVXucnu0ry2"
      },
      "source": [
        "\n",
        "Tras un análisis de los patrones que obtenemos podríamos decir que los patrones temporales de tamaño 1, es decir aquellos productos que se compran en una misma transacción no son relevantes en nuestro estudio ya que no dependen de una secuencia temporal. No obstante, se pueden sacar conclusiones interesantes de cara a conocer cuáles son los productos que se suelen comprar al mismo tiempo para posteriormente establecer una puesta en marcha de una serie de actividades que puedan potenciar la compra de los productos al mismo tiempo. Dichas actividades se presentarán en el apartado 4.\n",
        "\n",
        "En la mayor parte de los patrones de tamaño de temporalidad 1, los items que se compran en una sola transacción suelen ser el mismo artículo pero en diferentes versiones o variaciones.\n",
        "\n",
        "Para la interpretación de los patrones de tamaño temporal 1 y como ejemplo de lo mencionado se eligen los siguientes patrones:\n",
        "\n",
        "```\n",
        "([['ALARM CLOCK BAKELIKE GREEN', 'ALARM CLOCK BAKELIKE RED ']], 238)\n",
        "([['LUNCH BAG RED RETROSPOT', 'LUNCH BAG PINK POLKADOT']], 245)\n",
        "([['GREEN REGENCY TEACUP AND SAUCER', 'ROSES REGENCY TEACUP AND SAUCER ']], 281)\n",
        "```\n",
        "En la mayoría se compra el mismo producto en diferentes colores, diseños, etc... Esto refleja la diversidad de preferencias y necesidades entre los consumidores.\n",
        "\n",
        "Por otro lado, cuando analizamos los patrones secuenciales de temporalidad de tamaño 2 vemos que sucede lo mismo que con los anteriores. Cuando se compra un producto, éste se vuelve a comprar en futuras transacciones pero con diferentes colores, variaciones y diseños. Por ejemplo:\n",
        "\n",
        "```\n",
        "([['LUNCH BAG CARS BLUE'], ['LUNCH BAG RED RETROSPOT']], 200)\n",
        "([['JUMBO BAG RED RETROSPOT'], ['JUMBO BAG DOILEY PATTERNS']], 214)\n",
        "```\n",
        "Ello siginifica que hay productos en tienda que se compran muy frecuentemente sin importar su temporalidad. Esto sucede muy frecuente con el  producto 'LUNCH BAG' y 'JUMBO BAG'.\n",
        "\n",
        "Hay casos en donde esto no sucede (comprar mismo producto en distintas versiones). Por ejemplo, cuando se compra por ejemplo 'HEART OF WICKER SMALL', teniendo normalmente soportes muy bajos de alrededor del 160:\n",
        "\n",
        "```\n",
        "([['HEART OF WICKER SMALL'], ['HEART OF WICKER SMALL']], 167)\n",
        "```\n",
        "\n",
        "También ocurre con el producto 'WHITE HANGING HEART T-LIGHT HOLDER', que se compra con mucha frecuencia en el mismo instante temporal como en distintos instantes de tiempo, pero siempre en la misma versión de él:\n",
        "```\n",
        "([['WHITE HANGING HEART T-LIGHT HOLDER'], ['WHITE HANGING HEART T-LIGHT HOLDER']], 328)\n",
        "```\n",
        "\n",
        "No obstante, estos patrones no son muy interesantes a la hora de construir reglas, aunque sí se pueden sacar conclusiones de negocio sobre ellos.\n",
        "\n",
        "En resumen, los productos 'JUMBO BAG' y 'LUNCH BAG' son productos que se compran muy frecuentemente en todas sus variaciones. Ahí existe un nicho de mercado el cual se puede potenciar de alguna manera. Lo interesante es que no importa la temporalidad en la compra de estos productos, tanto si es en una misma transacción como en varias los productos se venden sin seguir si quiera una lógica en sus variaciones y diseños."
      ]
    },
    {
      "cell_type": "markdown",
      "metadata": {
        "id": "7vrGOp2MB7mK"
      },
      "source": [
        "## 4.- (1 punto)\n",
        "\n",
        "Saca conclusiones de negocio en virtud de algunas de las reglas elegidas por vosotros que mayor confianza tengan."
      ]
    },
    {
      "cell_type": "markdown",
      "metadata": {
        "id": "gHGIeB57CH8J"
      },
      "source": [
        "Las conclusiones de negocio se van a sacar a partir de reglas construidas mediante los patrones elegidos para su interpretación en el apartado 3. De todos sobre los que se ha reflexionado en el apartado 3, se eligen los siguientes:\n",
        "\n",
        "```\n",
        "# Patrones de tamaño temporal 1:\n",
        "([['LUNCH BAG RED RETROSPOT', 'LUNCH BAG PINK POLKADOT']], 245)\n",
        "([['GREEN REGENCY TEACUP AND SAUCER', 'ROSES REGENCY TEACUP AND SAUCER ']], 281)\n",
        "\n",
        "# Patrones de tamaño temporal 2:\n",
        "([['LUNCH BAG CARS BLUE'], ['LUNCH BAG RED RETROSPOT']], 200)\n",
        "([['JUMBO BAG RED RETROSPOT'], ['JUMBO BAG DOILEY PATTERNS']], 214)\n",
        "([['LUNCH BAG  BLACK SKULL.'], ['LUNCH BAG RED RETROSPOT']], 194)\n",
        "```\n",
        "\n",
        "Las reglas que surgen de estos patrones y las cuales se van a analizar son las siguientes:\n",
        "\n",
        "* En el mismo instante temporal:\n",
        "\n",
        "    1. $[Lunch\\ Bag\\ Red\\ Retrospot\\rightarrow Lunch\\ Bag\\ Pink\\ Polkadot]_1$\n",
        "\n",
        "    2. $[Green\\ Regency\\ Teacup\\ and\\ Saucer\\rightarrow Roses\\ Regency\\ Teacup\\ and\\ Saucer]_1$\n",
        "\n",
        "  Resulta que al estar ambos productos en el mismo instante temporal, las reglas también pueden ser viceversas ya que el orden en este caso no importa. Por tanto, en vez de dos reglas saldrían cuatro.\n",
        "\n",
        "* En dos instantes temporales:\n",
        "\n",
        "    3. $[Lunch\\ Bag\\ Cars\\ Blue]_1\\rightarrow [Lunch\\ Bag\\ Red\\ Retrospot]_2$\n",
        "\n",
        "    4. $[Jumbo\\ Bag\\ Red\\ Retrospot]_1\\rightarrow [Jumbo\\ Bag\\ Doiley\\ Patterns]_2$\n",
        "    5. $[Lunch\\ Bag\\  Black\\ Skull]_1\\rightarrow [Lunch\\ Bag\\ Red\\ Retrospot]_2$\n",
        "\n",
        "La fórmula para calcular las confianzas es:\n",
        "\n",
        "$$ \\text{Confianza} = \\frac{\\text{Soporte conjunto}}{\\text{Soporte de antecedente}} $$\n",
        "\n",
        "Se puede comprobar que también se puede calcular como:\n",
        "\n",
        "$$ \\text{Confianza} = \\frac{\\text{Frecuencia conjunto}}{\\text{Frecuencia de antecedente}} $$\n",
        "\n",
        "Esto es porque:\n",
        "\n",
        "$$ \\text{Soporte conjunto} = \\frac{\\text{Frecuencia conjunto}}{\\text{Número total de transacciones}} $$\n",
        "\n",
        "$$ \\text{Soporte de antecedente} = \\frac{\\text{Frecuencia de antecedente}}{\\text{Número total de transacciones}} $$\n",
        "\n",
        "y sustituyendo en la fórmula inicial:\n",
        "\n",
        "$$\n",
        "\\text{Confianza} = \\frac{\\frac{\\text{Frecuencia conjunto}}{\\text{Número total de transacciones}}}{\\frac{\\text{Frecuencia de antecedente}}{\\text{Número total de transacciones}}} \\quad = \\frac{\\text{Frecuencia conjunto}}{\\text{Frecuencia de antecedente}}\n",
        "$$\n",
        "\n",
        "Todos estas frecuencias las tenemos en lo que nos devolvió el algoritmo GSP, en la variable 'output'. Así, con las siguientes celdas de código se calculan las confianzas:"
      ]
    },
    {
      "cell_type": "code",
      "source": [
        "# Se vuelve a traducir a 'StockCode' los antecedentes:\n",
        "print(\"'LUNCH BAG RED RETROSPOT' = \", stock[stock['Description'] == 'LUNCH BAG RED RETROSPOT']['StockCode'].values)\n",
        "print(\"'GREEN REGENCY TEACUP AND SAUCER' = \", stock[stock['Description'] == 'GREEN REGENCY TEACUP AND SAUCER']['StockCode'].values)\n",
        "print(\"'LUNCH BAG PINK POLKADOT' = \", stock[stock['Description'] == 'LUNCH BAG PINK POLKADOT']['StockCode'].values)\n",
        "print(\"'ROSES REGENCY TEACUP AND SAUCER ' = \", stock[stock['Description'] == 'ROSES REGENCY TEACUP AND SAUCER ']['StockCode'].values)\n",
        "print(\"'LUNCH BAG CARS BLUE' = \", stock[stock['Description'] == 'LUNCH BAG CARS BLUE']['StockCode'].values)\n",
        "print(\"'JUMBO BAG RED RETROSPOT' = \", stock[stock['Description'] == 'JUMBO BAG RED RETROSPOT']['StockCode'].values)\n",
        "print(\"'LUNCH BAG  BLACK SKULL.' = \", stock[stock['Description'] == 'LUNCH BAG  BLACK SKULL.']['StockCode'].values)"
      ],
      "metadata": {
        "id": "bRLaXR0aE0Tc",
        "colab": {
          "base_uri": "https://localhost:8080/"
        },
        "outputId": "4fe707c2-6040-48b9-da41-a333b8e1fa1a"
      },
      "execution_count": null,
      "outputs": [
        {
          "output_type": "stream",
          "name": "stdout",
          "text": [
            "'LUNCH BAG RED RETROSPOT' =  ['20725']\n",
            "'GREEN REGENCY TEACUP AND SAUCER' =  ['22697']\n",
            "'LUNCH BAG PINK POLKADOT' =  ['22384']\n",
            "'ROSES REGENCY TEACUP AND SAUCER ' =  ['22699']\n",
            "'LUNCH BAG CARS BLUE' =  ['20728']\n",
            "'JUMBO BAG RED RETROSPOT' =  ['85099B']\n",
            "'LUNCH BAG  BLACK SKULL.' =  ['20727']\n"
          ]
        }
      ]
    },
    {
      "cell_type": "code",
      "source": [
        "# Confianzas\n",
        "# Estos ya los tenemos\n",
        "soporte_conjunto = [245, 281, 245, 281, 200, 214, 194]\n",
        "\n",
        "# La frecuencia del antecedente tenemos que recuperarlo de 'output':\n",
        "antecedentes = [[['20725']], [['22697']], [['22384']], [['22699']],[['20728']], [['85099B']], [['20727']]]\n",
        "consecuentes = []\n",
        "soporte_antecedente = 0\n",
        "for i in range(7):\n",
        "  for elemento in output:\n",
        "    if elemento[0] == antecedentes[i]:\n",
        "      soporte_antecedente = elemento[1]\n",
        "      break\n",
        "  # Se calcula la confianza de la regla:\n",
        "  confianza = soporte_conjunto[i]/soporte_antecedente\n",
        "  print(\"Confianza de la regla\", i+1, \":\", confianza)\n",
        "  print()"
      ],
      "metadata": {
        "id": "W3Qg940RJ0P6",
        "colab": {
          "base_uri": "https://localhost:8080/"
        },
        "outputId": "6a279af0-9e11-4688-cb00-8f6487fd5010"
      },
      "execution_count": null,
      "outputs": [
        {
          "output_type": "stream",
          "name": "stdout",
          "text": [
            "Confianza de la regla 1 : 0.47572815533980584\n",
            "\n",
            "Confianza de la regla 2 : 0.7915492957746478\n",
            "\n",
            "Confianza de la regla 3 : 0.5632183908045977\n",
            "\n",
            "Confianza de la regla 4 : 0.7242268041237113\n",
            "\n",
            "Confianza de la regla 5 : 0.4282655246252677\n",
            "\n",
            "Confianza de la regla 6 : 0.3696027633851468\n",
            "\n",
            "Confianza de la regla 7 : 0.43400447427293065\n",
            "\n"
          ]
        }
      ]
    },
    {
      "cell_type": "markdown",
      "source": [
        "Tras el estudio de las confianzas de las reglas, podemos ver que las reglas con mayores confianzas, superiores al 70% son la regla 4 y la regla 2, es decir:\n",
        "\n",
        "$[Green\\ Regency\\ Teacup\\ and\\ Saucer\\rightarrow Roses\\ Regency\\ Teacup\\ and\\ Saucer]_1$\n",
        "$[Roses\\ Regency\\ Teacup\\ and\\ Saucer\\rightarrow Green\\ Regency\\ Teacup\\ and\\ Saucer]_1$\n",
        "\n",
        "Estas reglas son las obtenidas en las secuencias de tamaño temporal uno, recíprocamente cuando se compra uno se compra el otro sin importar el orden ya que las confianzas son prácticamente iguales. En este caso en cuanto un cliente añada en su cesta de la compra uno de los dos productos podría promocionarse el otro producto en la página, le podría salir como recomendado, para forzar aun más la compra de ambos productos en una misma transacción y potenciar el nicho de mercado.\n",
        "\n",
        "Por otro lado, las reglas que se derivan de las secuencias de tamaño temporal igual a dos con mayor confianza son la regla 5 y 7, es decir:\n",
        "\n",
        "$[Lunch\\ Bag\\ Cars\\ Blue]_1\\rightarrow [Lunch\\ Bag\\ Red\\ Retrospot]_2$\n",
        "\n",
        "$[Lunch\\ Bag\\  Black\\ Skull]_1\\rightarrow [Lunch\\ Bag\\ Red\\ Retrospot]_2$\n",
        "\n",
        "Como ya se comentó, la mayor parte de los patrones secuenciales relacionan a un mismo producto pero con diferentes variaciones, diseños, colores... Por tanto, ya el propio producto se vende mucho. En el caso de las 'Lunch Bag' seleccionamos estas dos reglas ya que eran las que mayor soporte tenían. Sin embargo, la confianza no es tan alta ya que existen numerosas combinaciones de diferentes transacciones con la compra del producto inicial 'Lunch Bag Cars Blue' y 'Lunch Bag  Black Skull' de ahí a su relativamente baja confianza, alrededor del 40%.\n",
        "\n",
        "La mejor comprobación que podemos hacer es estudiar la correlación estadística entre ambos productos, por ello vamos a realizar el cálculo del lift para todas las reglas."
      ],
      "metadata": {
        "id": "dQJlEJu1NvHO"
      }
    },
    {
      "cell_type": "code",
      "source": [
        "# Se vuelve a traducir a 'StockCode' los consecuentes:\n",
        "print(\"'LUNCH BAG RED RETROSPOT' = \", stock[stock['Description'] == 'LUNCH BAG RED RETROSPOT']['StockCode'].values)\n",
        "print(\"'JUMBO BAG DOILEY PATTERNS' = \", stock[stock['Description'] == 'JUMBO BAG DOILEY PATTERNS']['StockCode'].values)"
      ],
      "metadata": {
        "id": "dVYfXahx2z-p",
        "colab": {
          "base_uri": "https://localhost:8080/"
        },
        "outputId": "ae63c2ba-4d9e-4269-f995-ecc7f0ed70d9"
      },
      "execution_count": null,
      "outputs": [
        {
          "output_type": "stream",
          "name": "stdout",
          "text": [
            "'LUNCH BAG RED RETROSPOT' =  ['20725']\n",
            "'JUMBO BAG DOILEY PATTERNS' =  ['23203']\n"
          ]
        }
      ]
    },
    {
      "cell_type": "code",
      "source": [
        "# Lifts\n",
        "# Estos ya los tenemos\n",
        "frec_conjunto = [245, 281, 245, 281, 200, 214, 194]\n",
        "n = 4090 #Nº total de clientes.\n",
        "\n",
        "# La frecuencia del antecedente y del consecuente tenemos que recuperarlo de 'output':\n",
        "antecedentes = [[['20725']], [['22697']], [['22384']], [['22699']], [['20728']], [['85099B']], [['20727']]]\n",
        "consecuentes = [[['22384']], [['22699']], [['20725']], [['22697']], [['20725']], [['23203']], [['20725']]]\n",
        "frec_antecedente = 0\n",
        "frec_consecuente = 0\n",
        "ant = False\n",
        "con = False\n",
        "for i in range(7):\n",
        "  for elemento in output:\n",
        "    if elemento[0] == antecedentes[i]:\n",
        "      frec_antecedente = elemento[1]\n",
        "      ant = True\n",
        "\n",
        "    if elemento[0] == consecuentes[i]:\n",
        "      frec_consecuente = elemento[1]\n",
        "      con = True\n",
        "\n",
        "    if ant and con:\n",
        "      break\n",
        "  # Se calcula la confianza de la regla:\n",
        "  lift = (frec_conjunto[i] * n)/(frec_antecedente * frec_consecuente)\n",
        "  print(\"Lift de la regla\", i+1, \":\", lift)\n",
        "  print()"
      ],
      "metadata": {
        "id": "zTkNpsZ52drT",
        "colab": {
          "base_uri": "https://localhost:8080/"
        },
        "outputId": "fff6e4d4-df6b-44b0-d2cb-34bbe5812167"
      },
      "execution_count": null,
      "outputs": [
        {
          "output_type": "stream",
          "name": "stdout",
          "text": [
            "Lift de la regla 1 : 4.472938288137485\n",
            "\n",
            "Lift de la regla 2 : 5.130186363129115\n",
            "\n",
            "Lift de la regla 3 : 4.472938288137485\n",
            "\n",
            "Lift de la regla 4 : 5.130186363129115\n",
            "\n",
            "Lift de la regla 5 : 3.651378194397947\n",
            "\n",
            "Lift de la regla 6 : 3.906974668005803\n",
            "\n",
            "Lift de la regla 7 : 3.541836848566008\n",
            "\n"
          ]
        }
      ]
    },
    {
      "cell_type": "markdown",
      "source": [
        "Todas las reglas están positivamente correladas, es decir, hay una gran dependencia estadística entre el antecedente y el consecuente. De las reglas que escogimos con mayor confianza vemos que también tienen una gran correlación, esto es bueno, implica que no sólo hay buena confianza sino que, además, las dependencias están fuertemente relacionadas.\n",
        "\n",
        "Por tanto, en los casos de temporalidad igual a dos que no tenía mucha confianza al tener una gran correlación podemos concluir que son buenas reglas. Por este motivo, procedemos a ver cuáles son las opciones que podemos realizar de cara a mejorar el negocio y el rendimiento de los productos en él.\n",
        "\n",
        "Para los productos de las reglas\n",
        "\n",
        "_____________________\n",
        "Identifica qué productos suelen comprarse juntos con mayor frecuencia y crea ofertas especiales o descuentos para fomentar la compra conjunta de esos productos.\n",
        "Bundles o paquetes de productos: Agrupa productos complementarios en paquetes o bundles y ofrece descuentos atractivos cuando se compran juntos. Esto puede incentivar a los clientes a comprar más productos de una sola vez.\n",
        "Recomendaciones personalizadas: Implementa un sistema de recomendaciones basado en el historial de compras de cada cliente. Utiliza algoritmos de recomendación para sugerir productos complementarios o relacionados que puedan interesar al cliente en función de sus compras anteriores.\n",
        "Programa de fidelización: Crea un programa de fidelización que recompense a los clientes por comprar productos de forma consecutiva. Ofrece descuentos exclusivos, puntos acumulativos o regalos especiales para motivar a los clientes a realizar compras recurrentes.\n",
        "Cross-selling durante el proceso de compra: Durante el proceso de compra, muestra sugerencias de productos complementarios o relacionados que el cliente pueda agregar a su carrito antes de finalizar la compra. Esto puede aumentar el valor del pedido promedio.\n",
        "Email marketing segmentado: Utiliza el email marketing para enviar ofertas personalizadas a los clientes basadas en su historial de compras. Envía recomendaciones de productos complementarios o promociones especiales para productos que podrían interesarles.\n",
        "Análisis de datos en tiempo real: Utiliza herramientas de análisis de datos en tiempo real para monitorear el comportamiento de compra de los clientes y ajustar tu estrategia de ventas en consecuencia. Identifica tendencias de compra y oportunidades para maximizar las ventas.\n",
        "Optimización de la experiencia de usuario: Asegúrate de que la navegación por tu sitio web sea intuitiva y que el proceso de compra sea fácil y rápido. Elimina cualquier fricción que pueda obstaculizar la compra de productos consecutivos.\n"
      ],
      "metadata": {
        "id": "uMsZibSR52tI"
      }
    }
  ]
}