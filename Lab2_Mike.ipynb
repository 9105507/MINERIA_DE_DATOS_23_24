{
  "nbformat": 4,
  "nbformat_minor": 0,
  "metadata": {
    "colab": {
      "provenance": [],
      "gpuType": "T4",
      "include_colab_link": true
    },
    "kernelspec": {
      "name": "python3",
      "display_name": "Python 3"
    },
    "language_info": {
      "name": "python"
    }
  },
  "cells": [
    {
      "cell_type": "markdown",
      "metadata": {
        "id": "view-in-github",
        "colab_type": "text"
      },
      "source": [
        "<a href=\"https://colab.research.google.com/github/9105507/MINERIA_DE_DATOS_23_24/blob/main/Lab2_Mike.ipynb\" target=\"_parent\"><img src=\"https://colab.research.google.com/assets/colab-badge.svg\" alt=\"Open In Colab\"/></a>"
      ]
    },
    {
      "cell_type": "markdown",
      "source": [
        "**CÓDIGO DE RELLENAR CON NAN'S - LO GUARDO POR SI ACASO**"
      ],
      "metadata": {
        "id": "AY6Sa5n8xsav"
      }
    },
    {
      "cell_type": "markdown",
      "source": [
        "**Un mismo StockCode puede tener distintas descriptions**"
      ],
      "metadata": {
        "id": "Qa27646zYiCE"
      }
    },
    {
      "cell_type": "code",
      "source": [
        "# print(df[(df['StockCode'] == '85123A')][['StockCode', 'Description', 'UnitPrice']])\n",
        "# unique_descriptions = df[df['StockCode'] == '85123A']['Description'].unique()\n",
        "# print(unique_descriptions)"
      ],
      "metadata": {
        "id": "F5Y9L_B6UeMn"
      },
      "execution_count": 2,
      "outputs": []
    },
    {
      "cell_type": "markdown",
      "source": [
        "OUTPUT:\n",
        "\n",
        "| StockCode | Description                             | UnitPrice |\n",
        "|-----------|-----------------------------------------|-----------|\n",
        "| 85123A    | WHITE HANGING HEART T-LIGHT HOLDER       | 2.55      |\n",
        "| 85123A    | WHITE HANGING HEART T-LIGHT HOLDER       | 2.55      |\n",
        "| 85123A    | WHITE HANGING HEART T-LIGHT HOLDER       | 2.55      |\n",
        "| 85123A    | WHITE HANGING HEART T-LIGHT HOLDER       | 2.55      |\n",
        "| 85123A    | WHITE HANGING HEART T-LIGHT HOLDER       | 2.55      |\n",
        "| ...       | ...                                     | ...       |\n",
        "| 85123A    | CREAM HANGING HEART T-LIGHT HOLDER       | 5.79      |\n",
        "| 85123A    | WHITE HANGING HEART T-LIGHT HOLDER       | 2.55      |\n",
        "| 85123A    | WHITE HANGING HEART T-LIGHT HOLDER       | 2.95      |\n",
        "| 85123A    | CREAM HANGING HEART T-LIGHT HOLDER       | 5.79      |\n",
        "| 85123A    | CREAM HANGING HEART T-LIGHT HOLDER       | 2.95      |\n",
        "\n",
        "\n",
        "[2313 rows x 3 columns]\n",
        "\n",
        "['WHITE HANGING HEART T-LIGHT HOLDER' '?' 'wrongly marked carton 22804'\n",
        " 'CREAM HANGING HEART T-LIGHT HOLDER']"
      ],
      "metadata": {
        "id": "1R-HqI3jyyMq"
      }
    },
    {
      "cell_type": "code",
      "source": [
        "# print(df[(df['StockCode'] == 71053)][['StockCode', 'Description', 'UnitPrice']])\n",
        "# unique_descriptions = df[df['StockCode'] == 71053]['Description'].unique()\n",
        "# print(unique_descriptions)"
      ],
      "metadata": {
        "id": "gp129M6yYqPj"
      },
      "execution_count": 3,
      "outputs": []
    },
    {
      "cell_type": "markdown",
      "source": [
        "OUTPUT:\n",
        "\n",
        "| StockCode | Description                       | UnitPrice |\n",
        "|-----------|-----------------------------------|-----------|\n",
        "| 71053     | WHITE METAL LANTERN               | 3.39      |\n",
        "| 71053     | WHITE METAL LANTERN               | 3.39      |\n",
        "| 71053     | WHITE METAL LANTERN               | 3.39      |\n",
        "| 71053     | WHITE METAL LANTERN               | 3.39      |\n",
        "| 71053     | WHITE METAL LANTERN               | 3.39      |\n",
        "| ...       | ...                               | ...       |\n",
        "| 71053     | WHITE MOROCCAN METAL LANTERN      | 3.75      |\n",
        "| 71053     | WHITE MOROCCAN METAL LANTERN      | 3.75      |\n",
        "| 71053     | WHITE MOROCCAN METAL LANTERN      | 8.29      |\n",
        "| 71053     | WHITE MOROCCAN METAL LANTERN      | 8.29      |\n",
        "| 71053     | WHITE MOROCCAN METAL LANTERN      | 8.29      |\n",
        "\n",
        "[355 rows x 3 columns]\n",
        "\n",
        "['WHITE METAL LANTERN' 'WHITE MOROCCAN METAL LANTERN']"
      ],
      "metadata": {
        "id": "JPgLWPMQzOub"
      }
    },
    {
      "cell_type": "code",
      "source": [
        "# cc = ['StockCode','Description','UnitPrice']\n",
        "# code = df[cc]\n",
        "\n",
        "# # Eliminamos aquella descripción que sea Nan.\n",
        "# code = code.dropna(subset='Description')[['StockCode','Description','UnitPrice']]\n",
        "\n",
        "# # Eliminamos los repetidos de stockcode.\n",
        "# code = code.drop_duplicates(subset='StockCode')[['StockCode','Description','UnitPrice']]\n",
        "\n",
        "# print(\"Longitud de code: \", code.shape)\n",
        "# print(\"\\nValores con 'UnitPrice' erróneo:\", code[code['UnitPrice'] <= 0].shape)\n",
        "# print(code[code['UnitPrice'] <= 0])\n",
        "# print(\"\\nValores únicos:\", code['StockCode'].unique().shape)"
      ],
      "metadata": {
        "id": "CnwAd2a9S_Qp"
      },
      "execution_count": 4,
      "outputs": []
    },
    {
      "cell_type": "markdown",
      "source": [
        "OUTPUT:\n",
        "\n",
        "Longitud de code:  (3958, 3)\n",
        "\n",
        "Valores con'UnitPrice' erróneo: (40, 3)\n",
        "\n",
        "\n",
        "| StockCode | Description                          | UnitPrice |\n",
        "|-----------|--------------------------------------|-----------|\n",
        "| 21275     | ?                                    | 0.0       |\n",
        "| 84968E    | check                                | 0.0       |\n",
        "| 22679     | FRENCH BLUE METAL DOOR SIGN 4        | 0.0       |\n",
        "| 22520     | CHILDS GARDEN TROWEL BLUE             | 0.0       |\n",
        "| 22516     | CHILDS GARDEN RAKE BLUE               | 0.0       |\n",
        "| 22353     | LUNCH BOX WITH CUTLERY FAIRY CAKES    | 0.0       |\n",
        "| 84872A    | TEATIME FUNKY FLOWER BACKPACK FOR 2   | 0.0       |\n",
        "| 72038P    | damages                              | 0.0       |\n",
        "| 22351     | Given away                            | 0.0       |\n",
        "| 84611B    | thrown away                           | 0.0       |\n",
        "| 84612B    | thrown away                           | 0.0       |\n",
        "| 35611B    | thrown away                           | 0.0       |\n",
        "| 72140F    | throw away                            | 0.0       |\n",
        "| 72759     | thrown away-can't sell.               | 0.0       |\n",
        "| 72732     | thrown away-can't sell                | 0.0       |\n",
        "| 23200     | mailout                              | 0.0       |\n",
        "| 23202     | mailout                              | 0.0       |\n",
        "| 23203     | mailout                              | 0.0       |\n",
        "| 23209     | mailout                              | 0.0       |\n",
        "| 23059     | Thrown away-rusty                    | 0.0       |\n",
        "| 84805B    | wet damaged                           | 0.0       |\n",
        "| 23113     | Damaged                              | 0.0       |\n",
        "| 23114     | Damaged                              | 0.0       |\n",
        "| 23115     | Damaged                              | 0.0       |\n",
        "| 23116     | Damaged                              | 0.0       |\n",
        "| 23117     | Damaged                              | 0.0       |\n",
        "| 23001     | TRAVEL CARD WALLET DOTCOMGIFTSHOP     | 0.0       |\n",
        "| 16162M    | alan hodge cant mamage this section   | 0.0       |\n",
        "| DCGS0073  | ebay                                 | 0.0       |\n",
        "| DCGS0068  | ebay                                 | 0.0       |\n",
        "| DCGS0067  | ebay                                 | 0.0       |\n",
        "| 35598C    | found                                | 0.0       |\n",
        "| 23595     | adjustment                           | 0.0       |\n",
        "| 35600A    | Found by jackie                       | 0.0       |\n",
        "| 79323G    | Unsaleable, destroyed.                | 0.0       |\n",
        "| 79323GR   | Unsaleable, destroyed.                | 0.0       |\n",
        "| 79323LP   | Unsaleable, destroyed.                | 0.0       |\n",
        "| 79323S    | Unsaleable, destroyed.                | 0.0       |\n",
        "| 79341     | Unsaleable, destroyed.                | 0.0       |\n",
        "| 79342B    | Unsaleable, destroyed.                | 0.0       |\n",
        "\n",
        "\n",
        "Valores únicos: (3958,)"
      ],
      "metadata": {
        "id": "UbrdTAVozd0f"
      }
    },
    {
      "cell_type": "code",
      "source": [
        "# unique_stockcodes = code['StockCode']\n",
        "# print(unique_stockcodes.shape)\n",
        "# unique_stockcodes = code['StockCode'].unique()\n",
        "\n",
        "# for stockcode in unique_stockcodes:\n",
        "\n",
        "#     # Obtener las filas correspondientes en df y code\n",
        "#     # df_rows =\n",
        "#     # print()\n",
        "#     # print(df_rows[['StockCode', 'Description', 'UnitPrice']])\n",
        "#     code_rows = code[code['StockCode'] == stockcode]\n",
        "#     # print(\"Code:\\n\")\n",
        "#     # print(code_rows[['StockCode', 'Description', 'UnitPrice']])\n",
        "\n",
        "#     # Verificar si hay filas para actualizar\n",
        "#     if not df[pd.isna(df['Description']) & (df['StockCode'] == stockcode)].empty:\n",
        "#       # Obtener el índice de las filas que cumplen la condición\n",
        "#       indices = df[pd.isna(df['Description']) & (df['StockCode'] == stockcode)].index\n",
        "#       # Actualizar valores en df usando loc\n",
        "#       df.loc[indices, ['Description']] = code.loc[code['StockCode'] == stockcode,'Description'].values\n",
        "#       # df.loc[indices, 'UnitPrice'] = code[code['StockCode'] == stockcode]['UnitPrice']\n",
        "\n",
        "# # Resultado\n",
        "# df.info()"
      ],
      "metadata": {
        "id": "cFqcjPwTqoqx"
      },
      "execution_count": 5,
      "outputs": []
    },
    {
      "cell_type": "markdown",
      "source": [
        "(3958,)\n",
        "\n",
        "<class 'pandas.core.frame.DataFrame'>\n",
        "RangeIndex: 541909 entries, 0 to 541908\n",
        "Data columns (total 8 columns):\n",
        "\n",
        "|   #   | Column       | Non-Null Count | Dtype          |\n",
        "|-------|--------------|-----------------|----------------|\n",
        "|   0   | InvoiceNo    | 541909 non-null | object         |\n",
        "|   1   | StockCode    | 541909 non-null | object         |\n",
        "|   2   | Description  | 541797 non-null | object         |\n",
        "|   3   | Quantity     | 541909 non-null | int64          |\n",
        "|   4   | InvoiceDate  | 541909 non-null | datetime64[ns] |\n",
        "|   5   | UnitPrice    | 541909 non-null | float64        |\n",
        "|   6   | CustomerID   | 541909 non-null | int64          |\n",
        "|   7   | Country      | 541909 non-null | object         |\n",
        "\n",
        "dtypes: datetime6(ns)(1), float64(1), int64(2), object(4)\n",
        "memory usage: 33.1+ MB"
      ],
      "metadata": {
        "id": "EgdvM8cSz-kZ"
      }
    },
    {
      "cell_type": "markdown",
      "source": [
        "**AL UTILIZAR ESTA MANERA NO SE ELIMINABAN TODOS LOS NANS, ESTO ES PORQUE HAY DESCRIPCIONES QUE SON IRRECUPERABLES, ES DECIR, HAY 'STOCKCODES' QUE NO TIENEN NINGÚN REGISTRO SIN NAN'S EN 'DESCRIPTION**"
      ],
      "metadata": {
        "id": "m3duKx-syNLC"
      }
    },
    {
      "cell_type": "markdown",
      "source": [
        "**CÓDIGO DE CREAR EL FORMATO GSP - LO GUARDO POR SI ACASO**"
      ],
      "metadata": {
        "id": "qC0z16Bsad8o"
      }
    },
    {
      "cell_type": "code",
      "source": [
        "# gsp_df = df.sort_values(['CustomerID', 'InvoiceNo'])\n",
        "# gsp_df.head()\n",
        "# gsp_df['StockCode'] = gsp_df['StockCode'].astype(str)\n",
        "# gsp_df = gsp_df.groupby('InvoiceNo')['StockCode'].apply(lambda x: ' '.join(x))\n",
        "# gsp_df.head()\n",
        "# gsp_df = pd.DataFrame({'CustomerID': gsp_df.index, 'Sequence': gsp_df.values})\n",
        "# print(gsp_df.shape)\n",
        "# gsp_df.head()"
      ],
      "metadata": {
        "id": "QVJ5JKp0GqKv"
      },
      "execution_count": 6,
      "outputs": []
    },
    {
      "cell_type": "markdown",
      "metadata": {
        "id": "qnvj58zMJhcG"
      },
      "source": [
        "# **Laboratorio 2 - Grupo 7**\n",
        "Miguel Ángel Rojo\n",
        "\n",
        "Miguel Poyatos García-Lorenzana\n",
        "\n",
        "Joaquín Vilaplana\n",
        "\n",
        "Adrián García-Arroba"
      ]
    },
    {
      "cell_type": "markdown",
      "metadata": {
        "id": "08nHR1-wZZ07"
      },
      "source": [
        "# Inicialización"
      ]
    },
    {
      "cell_type": "markdown",
      "metadata": {
        "id": "-AzcbzimZdnt"
      },
      "source": [
        "Librerías usadas:"
      ]
    },
    {
      "cell_type": "code",
      "execution_count": 7,
      "metadata": {
        "id": "EVDfZGKqZZm_"
      },
      "outputs": [],
      "source": [
        "import csv\n",
        "import numpy as np\n",
        "import pandas as pd\n",
        "import matplotlib.pyplot as plt\n",
        "from sklearn.decomposition import PCA\n",
        "from sklearn.preprocessing import StandardScaler\n",
        "import seaborn as sns\n",
        "import random\n",
        "\n",
        "from mlxtend.preprocessing import TransactionEncoder\n",
        "from mlxtend.frequent_patterns import apriori, association_rules"
      ]
    },
    {
      "cell_type": "markdown",
      "source": [
        "# Práctica 2 (Patrones Secuenciales)\n",
        "Valor (5 puntos)\n",
        "\n",
        "El conjunto de datos “Online Retail.xlsx” contiene productos (definidos por la columna StockCode y Description) comprados por diferentes clientes (definidos por la columna CustomerID) en diferentes momentos (definidos por el campo InvoiceDate).\n",
        "\n",
        "1.- (2 puntos) Habrá que procesar el fichero para crear una lista de los distintos clientes con las secuencias de las transacciones de las compras realizadas en distintos instantes.\n",
        "\n",
        "Una vez hecho esto y analizando esta información se pueden extraer conclusiones sobre en que orden compran los clientes los productos y así tomar decisiones de negocio. Este estudio se puede llevar a cabo aplicando el algoritmo Generalized Sequential Patterns utilizando la implementación de éste disponible en la librería gsppy.\n",
        "\n",
        "2.- (1 punto) Prueba al menos dos configuraciones de soporte diferentes.\n",
        "\n",
        "3.- (1 puntos) Para una de ellas, interpreta algunos de los patrones secuenciales que te resulten curiosos.\n",
        "\n",
        "3.- (1 punto) Saca conclusiones de negocio en virtud de algunas de las reglas elegidas por vosotros que mayor confianza tengan.\n",
        "\n",
        "Librería gsppy:\n",
        "Podéis encontrar su documentación en el siguiente enlace: https://pypi.org/project/gsppy/"
      ],
      "metadata": {
        "id": "rNgAQw7Jqh0B"
      }
    },
    {
      "cell_type": "markdown",
      "source": [
        "## 1.- (2 puntos)\n",
        "\n",
        "Habrá que procesar el fichero para crear una lista de los distintos clientes con las secuencias de las transacciones de las compras realizadas en distintos instantes."
      ],
      "metadata": {
        "id": "UCRfFa73vzk8"
      }
    },
    {
      "cell_type": "markdown",
      "source": [
        "Cargamos la base de datos con la que vamos a trabajar. Por comodidad, se ha decidido subirla a Google Drive y cargarla desde ahí:"
      ],
      "metadata": {
        "id": "WKOY-LnG0UDf"
      }
    },
    {
      "cell_type": "code",
      "source": [
        "import warnings\n",
        "warnings.filterwarnings(\"ignore\", category=DeprecationWarning)"
      ],
      "metadata": {
        "id": "u9JvIk2NCfLt",
        "colab": {
          "base_uri": "https://localhost:8080/"
        },
        "outputId": "01684c64-1d3c-4c13-ceaf-65f6b9f4a818"
      },
      "execution_count": 8,
      "outputs": [
        {
          "output_type": "stream",
          "name": "stderr",
          "text": [
            "/usr/local/lib/python3.10/dist-packages/ipykernel/ipkernel.py:283: DeprecationWarning: `should_run_async` will not call `transform_cell` automatically in the future. Please pass the result to `transformed_cell` argument and any exception that happen during thetransform in `preprocessing_exc_tuple` in IPython 7.17 and above.\n",
            "  and should_run_async(code)\n"
          ]
        }
      ]
    },
    {
      "cell_type": "code",
      "execution_count": 9,
      "metadata": {
        "id": "Y66v5KwmnrEj",
        "colab": {
          "base_uri": "https://localhost:8080/"
        },
        "outputId": "93564b0d-5361-4e93-9d99-0465ac26a83d"
      },
      "outputs": [
        {
          "output_type": "stream",
          "name": "stdout",
          "text": [
            "Mounted at /content/drive\n"
          ]
        }
      ],
      "source": [
        "import csv\n",
        "import numpy as np\n",
        "import pandas as pd\n",
        "import matplotlib.pyplot as plt\n",
        "\n",
        "from google.colab import drive\n",
        "drive.mount('/content/drive', force_remount=True)\n",
        "directorio_drive = '/content/drive/MyDrive/Ingeniería Matemática/Online Retail.xlsx'\n",
        "\n",
        "# Carga el archivo Excel en un DataFrame.\n",
        "data = pd.read_excel(directorio_drive)"
      ]
    },
    {
      "cell_type": "markdown",
      "source": [
        "Se crea una copia del dataset para no perder los datos originales:"
      ],
      "metadata": {
        "id": "bwrUNTEc8vh_"
      }
    },
    {
      "cell_type": "code",
      "source": [
        "df = data.copy()"
      ],
      "metadata": {
        "id": "4vE3enBPqYo9"
      },
      "execution_count": 10,
      "outputs": []
    },
    {
      "cell_type": "markdown",
      "source": [
        "Representamos los datos para ver su formato."
      ],
      "metadata": {
        "id": "rG-k94io0aDq"
      }
    },
    {
      "cell_type": "code",
      "source": [
        "# Visualización de los datos.\n",
        "df.head()"
      ],
      "metadata": {
        "colab": {
          "base_uri": "https://localhost:8080/",
          "height": 206
        },
        "id": "26BbkzNaoJXi",
        "outputId": "ba25b04b-ba9a-4063-86cf-a3f3ff7556aa"
      },
      "execution_count": 11,
      "outputs": [
        {
          "output_type": "execute_result",
          "data": {
            "text/plain": [
              "  InvoiceNo StockCode                          Description  Quantity  \\\n",
              "0    536365    85123A   WHITE HANGING HEART T-LIGHT HOLDER         6   \n",
              "1    536365     71053                  WHITE METAL LANTERN         6   \n",
              "2    536365    84406B       CREAM CUPID HEARTS COAT HANGER         8   \n",
              "3    536365    84029G  KNITTED UNION FLAG HOT WATER BOTTLE         6   \n",
              "4    536365    84029E       RED WOOLLY HOTTIE WHITE HEART.         6   \n",
              "\n",
              "          InvoiceDate  UnitPrice  CustomerID         Country  \n",
              "0 2010-12-01 08:26:00       2.55       17850  United Kingdom  \n",
              "1 2010-12-01 08:26:00       3.39       17850  United Kingdom  \n",
              "2 2010-12-01 08:26:00       2.75       17850  United Kingdom  \n",
              "3 2010-12-01 08:26:00       3.39       17850  United Kingdom  \n",
              "4 2010-12-01 08:26:00       3.39       17850  United Kingdom  "
            ],
            "text/html": [
              "\n",
              "  <div id=\"df-d6870b83-89c8-4fc5-9482-0ae5e837e960\" class=\"colab-df-container\">\n",
              "    <div>\n",
              "<style scoped>\n",
              "    .dataframe tbody tr th:only-of-type {\n",
              "        vertical-align: middle;\n",
              "    }\n",
              "\n",
              "    .dataframe tbody tr th {\n",
              "        vertical-align: top;\n",
              "    }\n",
              "\n",
              "    .dataframe thead th {\n",
              "        text-align: right;\n",
              "    }\n",
              "</style>\n",
              "<table border=\"1\" class=\"dataframe\">\n",
              "  <thead>\n",
              "    <tr style=\"text-align: right;\">\n",
              "      <th></th>\n",
              "      <th>InvoiceNo</th>\n",
              "      <th>StockCode</th>\n",
              "      <th>Description</th>\n",
              "      <th>Quantity</th>\n",
              "      <th>InvoiceDate</th>\n",
              "      <th>UnitPrice</th>\n",
              "      <th>CustomerID</th>\n",
              "      <th>Country</th>\n",
              "    </tr>\n",
              "  </thead>\n",
              "  <tbody>\n",
              "    <tr>\n",
              "      <th>0</th>\n",
              "      <td>536365</td>\n",
              "      <td>85123A</td>\n",
              "      <td>WHITE HANGING HEART T-LIGHT HOLDER</td>\n",
              "      <td>6</td>\n",
              "      <td>2010-12-01 08:26:00</td>\n",
              "      <td>2.55</td>\n",
              "      <td>17850</td>\n",
              "      <td>United Kingdom</td>\n",
              "    </tr>\n",
              "    <tr>\n",
              "      <th>1</th>\n",
              "      <td>536365</td>\n",
              "      <td>71053</td>\n",
              "      <td>WHITE METAL LANTERN</td>\n",
              "      <td>6</td>\n",
              "      <td>2010-12-01 08:26:00</td>\n",
              "      <td>3.39</td>\n",
              "      <td>17850</td>\n",
              "      <td>United Kingdom</td>\n",
              "    </tr>\n",
              "    <tr>\n",
              "      <th>2</th>\n",
              "      <td>536365</td>\n",
              "      <td>84406B</td>\n",
              "      <td>CREAM CUPID HEARTS COAT HANGER</td>\n",
              "      <td>8</td>\n",
              "      <td>2010-12-01 08:26:00</td>\n",
              "      <td>2.75</td>\n",
              "      <td>17850</td>\n",
              "      <td>United Kingdom</td>\n",
              "    </tr>\n",
              "    <tr>\n",
              "      <th>3</th>\n",
              "      <td>536365</td>\n",
              "      <td>84029G</td>\n",
              "      <td>KNITTED UNION FLAG HOT WATER BOTTLE</td>\n",
              "      <td>6</td>\n",
              "      <td>2010-12-01 08:26:00</td>\n",
              "      <td>3.39</td>\n",
              "      <td>17850</td>\n",
              "      <td>United Kingdom</td>\n",
              "    </tr>\n",
              "    <tr>\n",
              "      <th>4</th>\n",
              "      <td>536365</td>\n",
              "      <td>84029E</td>\n",
              "      <td>RED WOOLLY HOTTIE WHITE HEART.</td>\n",
              "      <td>6</td>\n",
              "      <td>2010-12-01 08:26:00</td>\n",
              "      <td>3.39</td>\n",
              "      <td>17850</td>\n",
              "      <td>United Kingdom</td>\n",
              "    </tr>\n",
              "  </tbody>\n",
              "</table>\n",
              "</div>\n",
              "    <div class=\"colab-df-buttons\">\n",
              "\n",
              "  <div class=\"colab-df-container\">\n",
              "    <button class=\"colab-df-convert\" onclick=\"convertToInteractive('df-d6870b83-89c8-4fc5-9482-0ae5e837e960')\"\n",
              "            title=\"Convert this dataframe to an interactive table.\"\n",
              "            style=\"display:none;\">\n",
              "\n",
              "  <svg xmlns=\"http://www.w3.org/2000/svg\" height=\"24px\" viewBox=\"0 -960 960 960\">\n",
              "    <path d=\"M120-120v-720h720v720H120Zm60-500h600v-160H180v160Zm220 220h160v-160H400v160Zm0 220h160v-160H400v160ZM180-400h160v-160H180v160Zm440 0h160v-160H620v160ZM180-180h160v-160H180v160Zm440 0h160v-160H620v160Z\"/>\n",
              "  </svg>\n",
              "    </button>\n",
              "\n",
              "  <style>\n",
              "    .colab-df-container {\n",
              "      display:flex;\n",
              "      gap: 12px;\n",
              "    }\n",
              "\n",
              "    .colab-df-convert {\n",
              "      background-color: #E8F0FE;\n",
              "      border: none;\n",
              "      border-radius: 50%;\n",
              "      cursor: pointer;\n",
              "      display: none;\n",
              "      fill: #1967D2;\n",
              "      height: 32px;\n",
              "      padding: 0 0 0 0;\n",
              "      width: 32px;\n",
              "    }\n",
              "\n",
              "    .colab-df-convert:hover {\n",
              "      background-color: #E2EBFA;\n",
              "      box-shadow: 0px 1px 2px rgba(60, 64, 67, 0.3), 0px 1px 3px 1px rgba(60, 64, 67, 0.15);\n",
              "      fill: #174EA6;\n",
              "    }\n",
              "\n",
              "    .colab-df-buttons div {\n",
              "      margin-bottom: 4px;\n",
              "    }\n",
              "\n",
              "    [theme=dark] .colab-df-convert {\n",
              "      background-color: #3B4455;\n",
              "      fill: #D2E3FC;\n",
              "    }\n",
              "\n",
              "    [theme=dark] .colab-df-convert:hover {\n",
              "      background-color: #434B5C;\n",
              "      box-shadow: 0px 1px 3px 1px rgba(0, 0, 0, 0.15);\n",
              "      filter: drop-shadow(0px 1px 2px rgba(0, 0, 0, 0.3));\n",
              "      fill: #FFFFFF;\n",
              "    }\n",
              "  </style>\n",
              "\n",
              "    <script>\n",
              "      const buttonEl =\n",
              "        document.querySelector('#df-d6870b83-89c8-4fc5-9482-0ae5e837e960 button.colab-df-convert');\n",
              "      buttonEl.style.display =\n",
              "        google.colab.kernel.accessAllowed ? 'block' : 'none';\n",
              "\n",
              "      async function convertToInteractive(key) {\n",
              "        const element = document.querySelector('#df-d6870b83-89c8-4fc5-9482-0ae5e837e960');\n",
              "        const dataTable =\n",
              "          await google.colab.kernel.invokeFunction('convertToInteractive',\n",
              "                                                    [key], {});\n",
              "        if (!dataTable) return;\n",
              "\n",
              "        const docLinkHtml = 'Like what you see? Visit the ' +\n",
              "          '<a target=\"_blank\" href=https://colab.research.google.com/notebooks/data_table.ipynb>data table notebook</a>'\n",
              "          + ' to learn more about interactive tables.';\n",
              "        element.innerHTML = '';\n",
              "        dataTable['output_type'] = 'display_data';\n",
              "        await google.colab.output.renderOutput(dataTable, element);\n",
              "        const docLink = document.createElement('div');\n",
              "        docLink.innerHTML = docLinkHtml;\n",
              "        element.appendChild(docLink);\n",
              "      }\n",
              "    </script>\n",
              "  </div>\n",
              "\n",
              "\n",
              "<div id=\"df-b488970b-1d36-4f68-a64f-14e2ad397ecd\">\n",
              "  <button class=\"colab-df-quickchart\" onclick=\"quickchart('df-b488970b-1d36-4f68-a64f-14e2ad397ecd')\"\n",
              "            title=\"Suggest charts\"\n",
              "            style=\"display:none;\">\n",
              "\n",
              "<svg xmlns=\"http://www.w3.org/2000/svg\" height=\"24px\"viewBox=\"0 0 24 24\"\n",
              "     width=\"24px\">\n",
              "    <g>\n",
              "        <path d=\"M19 3H5c-1.1 0-2 .9-2 2v14c0 1.1.9 2 2 2h14c1.1 0 2-.9 2-2V5c0-1.1-.9-2-2-2zM9 17H7v-7h2v7zm4 0h-2V7h2v10zm4 0h-2v-4h2v4z\"/>\n",
              "    </g>\n",
              "</svg>\n",
              "  </button>\n",
              "\n",
              "<style>\n",
              "  .colab-df-quickchart {\n",
              "      --bg-color: #E8F0FE;\n",
              "      --fill-color: #1967D2;\n",
              "      --hover-bg-color: #E2EBFA;\n",
              "      --hover-fill-color: #174EA6;\n",
              "      --disabled-fill-color: #AAA;\n",
              "      --disabled-bg-color: #DDD;\n",
              "  }\n",
              "\n",
              "  [theme=dark] .colab-df-quickchart {\n",
              "      --bg-color: #3B4455;\n",
              "      --fill-color: #D2E3FC;\n",
              "      --hover-bg-color: #434B5C;\n",
              "      --hover-fill-color: #FFFFFF;\n",
              "      --disabled-bg-color: #3B4455;\n",
              "      --disabled-fill-color: #666;\n",
              "  }\n",
              "\n",
              "  .colab-df-quickchart {\n",
              "    background-color: var(--bg-color);\n",
              "    border: none;\n",
              "    border-radius: 50%;\n",
              "    cursor: pointer;\n",
              "    display: none;\n",
              "    fill: var(--fill-color);\n",
              "    height: 32px;\n",
              "    padding: 0;\n",
              "    width: 32px;\n",
              "  }\n",
              "\n",
              "  .colab-df-quickchart:hover {\n",
              "    background-color: var(--hover-bg-color);\n",
              "    box-shadow: 0 1px 2px rgba(60, 64, 67, 0.3), 0 1px 3px 1px rgba(60, 64, 67, 0.15);\n",
              "    fill: var(--button-hover-fill-color);\n",
              "  }\n",
              "\n",
              "  .colab-df-quickchart-complete:disabled,\n",
              "  .colab-df-quickchart-complete:disabled:hover {\n",
              "    background-color: var(--disabled-bg-color);\n",
              "    fill: var(--disabled-fill-color);\n",
              "    box-shadow: none;\n",
              "  }\n",
              "\n",
              "  .colab-df-spinner {\n",
              "    border: 2px solid var(--fill-color);\n",
              "    border-color: transparent;\n",
              "    border-bottom-color: var(--fill-color);\n",
              "    animation:\n",
              "      spin 1s steps(1) infinite;\n",
              "  }\n",
              "\n",
              "  @keyframes spin {\n",
              "    0% {\n",
              "      border-color: transparent;\n",
              "      border-bottom-color: var(--fill-color);\n",
              "      border-left-color: var(--fill-color);\n",
              "    }\n",
              "    20% {\n",
              "      border-color: transparent;\n",
              "      border-left-color: var(--fill-color);\n",
              "      border-top-color: var(--fill-color);\n",
              "    }\n",
              "    30% {\n",
              "      border-color: transparent;\n",
              "      border-left-color: var(--fill-color);\n",
              "      border-top-color: var(--fill-color);\n",
              "      border-right-color: var(--fill-color);\n",
              "    }\n",
              "    40% {\n",
              "      border-color: transparent;\n",
              "      border-right-color: var(--fill-color);\n",
              "      border-top-color: var(--fill-color);\n",
              "    }\n",
              "    60% {\n",
              "      border-color: transparent;\n",
              "      border-right-color: var(--fill-color);\n",
              "    }\n",
              "    80% {\n",
              "      border-color: transparent;\n",
              "      border-right-color: var(--fill-color);\n",
              "      border-bottom-color: var(--fill-color);\n",
              "    }\n",
              "    90% {\n",
              "      border-color: transparent;\n",
              "      border-bottom-color: var(--fill-color);\n",
              "    }\n",
              "  }\n",
              "</style>\n",
              "\n",
              "  <script>\n",
              "    async function quickchart(key) {\n",
              "      const quickchartButtonEl =\n",
              "        document.querySelector('#' + key + ' button');\n",
              "      quickchartButtonEl.disabled = true;  // To prevent multiple clicks.\n",
              "      quickchartButtonEl.classList.add('colab-df-spinner');\n",
              "      try {\n",
              "        const charts = await google.colab.kernel.invokeFunction(\n",
              "            'suggestCharts', [key], {});\n",
              "      } catch (error) {\n",
              "        console.error('Error during call to suggestCharts:', error);\n",
              "      }\n",
              "      quickchartButtonEl.classList.remove('colab-df-spinner');\n",
              "      quickchartButtonEl.classList.add('colab-df-quickchart-complete');\n",
              "    }\n",
              "    (() => {\n",
              "      let quickchartButtonEl =\n",
              "        document.querySelector('#df-b488970b-1d36-4f68-a64f-14e2ad397ecd button');\n",
              "      quickchartButtonEl.style.display =\n",
              "        google.colab.kernel.accessAllowed ? 'block' : 'none';\n",
              "    })();\n",
              "  </script>\n",
              "</div>\n",
              "    </div>\n",
              "  </div>\n"
            ],
            "application/vnd.google.colaboratory.intrinsic+json": {
              "type": "dataframe",
              "variable_name": "df"
            }
          },
          "metadata": {},
          "execution_count": 11
        }
      ]
    },
    {
      "cell_type": "markdown",
      "source": [
        "La base de datos representan características de pedidos de clientes en la que se incluyen el tipo de pedido, la cantidad del mismo, el precio por unidad y de qué país es el cliente."
      ],
      "metadata": {
        "id": "vif67Pgy0tZ6"
      }
    },
    {
      "cell_type": "code",
      "source": [
        "# Dimensiones de la base de datos.\n",
        "df.shape"
      ],
      "metadata": {
        "colab": {
          "base_uri": "https://localhost:8080/"
        },
        "id": "y880SXgJtU4u",
        "outputId": "b775fc76-9c7f-4f83-ad69-e3935fab9aee"
      },
      "execution_count": 12,
      "outputs": [
        {
          "output_type": "execute_result",
          "data": {
            "text/plain": [
              "(541909, 8)"
            ]
          },
          "metadata": {},
          "execution_count": 12
        }
      ]
    },
    {
      "cell_type": "markdown",
      "source": [
        "En la base de datos hay más de medio millón de registros, 541909, en cada uno de ellos se guardan 8 características."
      ],
      "metadata": {
        "id": "dq2uvJJr1BCH"
      }
    },
    {
      "cell_type": "code",
      "source": [
        "# Características de cada pedido.\n",
        "print(df.columns.tolist())"
      ],
      "metadata": {
        "colab": {
          "base_uri": "https://localhost:8080/"
        },
        "id": "kG5kV7IRtYNp",
        "outputId": "768cbed9-7f7a-448f-a929-f70d9938b8c1"
      },
      "execution_count": 13,
      "outputs": [
        {
          "output_type": "stream",
          "name": "stdout",
          "text": [
            "['InvoiceNo', 'StockCode', 'Description', 'Quantity', 'InvoiceDate', 'UnitPrice', 'CustomerID', 'Country']\n"
          ]
        }
      ]
    },
    {
      "cell_type": "markdown",
      "source": [
        "* InvoiceNo: Número de factura de la transacción realizada. Variable importante debido a que nos sirve como un identificador del tiempo.\n",
        "\n",
        "* StockCode: Identificador del producto.\n",
        "\n",
        "* Description: descripción del producto.\n",
        "\n",
        "* Quantity: cantidad de productos \"StockCode\" que el cliente ha comprado.\n",
        "\n",
        "* InvoiceDate: Fecha en la que se ha realizado la transacción. También es un indicador del tiempo, pero es mejor 'InvoiceNo'.\n",
        "\n",
        "* UnitPrice: Valor de una unidad del producto identificado por \"StockCode\".\n",
        "\n",
        "* CustomerID: Identificador del cliente. Variable importante debido a que nos va a permitir agrupar todas las transacciones por cliente.\n",
        "\n",
        "* Country: País donde se envían los productos comprados en la transacción."
      ],
      "metadata": {
        "id": "4ZLBSJcP1Nzl"
      }
    },
    {
      "cell_type": "code",
      "source": [
        "paises = df.loc[:,'Country'].unique().tolist()\n",
        "\n",
        "# Paises en la base de datos\n",
        "print(paises)\n",
        "# Cantidad de paises\n",
        "print(\"Nº de países:\",len(paises))"
      ],
      "metadata": {
        "colab": {
          "base_uri": "https://localhost:8080/"
        },
        "id": "KtZ4340Qtkze",
        "outputId": "c29d3ba7-b36d-4e46-83c6-ac00fc4a09b5"
      },
      "execution_count": 14,
      "outputs": [
        {
          "output_type": "stream",
          "name": "stdout",
          "text": [
            "['United Kingdom', 'France', 'Australia', 'Netherlands', 'Germany', 'Norway', 'EIRE', 'Switzerland', 'Spain', 'Poland', 'Portugal', 'Italy', 'Belgium', 'Lithuania', 'Japan', 'Iceland', 'Channel Islands', 'Denmark', 'Cyprus', 'Sweden', 'Austria', 'Israel', 'Finland', 'Bahrain', 'Greece', 'Hong Kong', 'Singapore', 'Lebanon', 'United Arab Emirates', 'Saudi Arabia', 'Czech Republic', 'Canada', 'Unspecified', 'Brazil', 'USA', 'European Community', 'Malta', 'RSA']\n",
            "Nº de países: 38\n"
          ]
        }
      ]
    },
    {
      "cell_type": "markdown",
      "source": [
        "Hay registros de pedidos en 38 países distintos.\n",
        "\n",
        "Se procede a analizar el tipo de variable que guarda cada columna y si exite algún Nan en alguna de ellas."
      ],
      "metadata": {
        "id": "dh5090r61w1X"
      }
    },
    {
      "cell_type": "code",
      "source": [
        "df.info()"
      ],
      "metadata": {
        "colab": {
          "base_uri": "https://localhost:8080/"
        },
        "id": "6Db_B3l02XoU",
        "outputId": "28a4c0b2-0732-4784-b56d-6420412c356b"
      },
      "execution_count": 15,
      "outputs": [
        {
          "output_type": "stream",
          "name": "stdout",
          "text": [
            "<class 'pandas.core.frame.DataFrame'>\n",
            "RangeIndex: 541909 entries, 0 to 541908\n",
            "Data columns (total 8 columns):\n",
            " #   Column       Non-Null Count   Dtype         \n",
            "---  ------       --------------   -----         \n",
            " 0   InvoiceNo    541909 non-null  object        \n",
            " 1   StockCode    541909 non-null  object        \n",
            " 2   Description  540455 non-null  object        \n",
            " 3   Quantity     541909 non-null  int64         \n",
            " 4   InvoiceDate  541909 non-null  datetime64[ns]\n",
            " 5   UnitPrice    541909 non-null  float64       \n",
            " 6   CustomerID   541909 non-null  int64         \n",
            " 7   Country      541909 non-null  object        \n",
            "dtypes: datetime64[ns](1), float64(1), int64(2), object(4)\n",
            "memory usage: 33.1+ MB\n"
          ]
        }
      ]
    },
    {
      "cell_type": "markdown",
      "source": [
        "Se puede ver que sólo en la variable Description existen Nan, veamos si con el StockCode podemos determinar qué productos son haciendo uso de información de otros datos que puedan tener el mismo StockCode.\n",
        "\n",
        "Así, se va a intentar rellenar las descripciones que tienen Nan utilizando otros registros con el mismo 'StockCode' que sí tengan descripción.\n",
        "\n",
        "Antes de realizar esta tarea de recuperación de información, se ha considerado que hay valores de 'UnitPrice' y 'Quantity' erróneos, estos son aquellos que sean menores o iguales que cero. Antes de tomar decisiones, veamos datos estadísticos de estas variables y visualizemos sus distribuciones con boxplots:"
      ],
      "metadata": {
        "id": "3sFqqaRa27uq"
      }
    },
    {
      "cell_type": "code",
      "source": [
        "print(df.describe().loc[['mean', 'std', 'min','50%', 'max']])"
      ],
      "metadata": {
        "colab": {
          "base_uri": "https://localhost:8080/"
        },
        "id": "M_5gZXR5bZ8Y",
        "outputId": "b982968b-2c4b-484c-eafc-63b46320afbe"
      },
      "execution_count": 16,
      "outputs": [
        {
          "output_type": "stream",
          "name": "stdout",
          "text": [
            "          Quantity     UnitPrice    CustomerID\n",
            "mean      9.552250      4.611114  15287.518434\n",
            "std     218.081158     96.759853   1484.746041\n",
            "min  -80995.000000 -11062.060000  12346.000000\n",
            "50%       3.000000      2.080000  15287.000000\n",
            "max   80995.000000  38970.000000  18287.000000\n"
          ]
        }
      ]
    },
    {
      "cell_type": "code",
      "source": [
        "# Crear subplots para cada variable\n",
        "fig, axes = plt.subplots(nrows=1, ncols=2, figsize=(10, 4))\n",
        "\n",
        "# Crear boxplot para UnitPrice\n",
        "axes[0].boxplot(df['UnitPrice'])\n",
        "axes[0].set_title('Boxplot de Unit Price')\n",
        "axes[0].set_xlabel('Unit Price')\n",
        "axes[0].set_ylabel('')\n",
        "\n",
        "# Crear boxplot para Quantity\n",
        "axes[1].boxplot(df['Quantity'])\n",
        "axes[1].set_title('Boxplot de Quantity')\n",
        "axes[1].set_xlabel('Quantity')\n",
        "axes[1].set_ylabel('')\n",
        "\n",
        "plt.tight_layout()\n",
        "plt.show()"
      ],
      "metadata": {
        "colab": {
          "base_uri": "https://localhost:8080/",
          "height": 407
        },
        "id": "pmlxsJDLaoHT",
        "outputId": "d752d3ff-1b52-47a7-880b-a422645c6cd0"
      },
      "execution_count": 17,
      "outputs": [
        {
          "output_type": "display_data",
          "data": {
            "text/plain": [
              "<Figure size 1000x400 with 2 Axes>"
            ],
            "image/png": "[encoded data removed]"
          },
          "metadata": {}
        }
      ]
    },
    {
      "cell_type": "markdown",
      "source": [
        "Como se puede observar, hay una gran cantidad de outliers en ambas variables. En principio, lo que más sentido tiene es solo eliminar aquellos valores que sean <= que 0. Y aunque podría tener sentido que alguien compre una gran cantidad de productos (como 80000) o que un producto tenga un valor muy alto (como 40000), se entiende que al ser matemáticamente outliers, están muy alejados de la distribución real de cada variable y por lo tanto, se decide eliminar también a los outliers de las zonas superiores. Aun así, veamos qué porción del dataset forman los outliers:"
      ],
      "metadata": {
        "id": "e1kyrZ2Wc54t"
      }
    },
    {
      "cell_type": "code",
      "source": [
        "# Función para detectar outliers usando el rango intercuartílico (IQR)\n",
        "def detectar_outliers(data, variable):\n",
        "    Q1 = data[variable].quantile(0.25)\n",
        "    Q3 = data[variable].quantile(0.75)\n",
        "    IQR = Q3 - Q1\n",
        "    lower_bound = Q1 - 1.5 * IQR\n",
        "    upper_bound = Q3 + 1.5 * IQR\n",
        "    outliers = data[(data[variable] < lower_bound) | (data[variable] > upper_bound)].copy()  # Utilizar copy()\n",
        "    outliers['Outlier_Variable'] = variable  # Agregar el nuevo campo\n",
        "    return outliers\n",
        "\n",
        "variables_interes = ['UnitPrice', 'Quantity']\n",
        "for variable in variables_interes:\n",
        "    outliers = detectar_outliers(df, variable)\n",
        "    print(f\"Outliers en {variable}:\")\n",
        "    print(\"Tamaño: \", outliers[variable].shape)\n",
        "    print(\"Datos estadísticos: \\n\", outliers[variable].describe())\n",
        "    print()"
      ],
      "metadata": {
        "colab": {
          "base_uri": "https://localhost:8080/"
        },
        "id": "4iu-Ounwd1VK",
        "outputId": "db0b430a-86bd-4a9d-c19b-9bc860afb1cf"
      },
      "execution_count": 18,
      "outputs": [
        {
          "output_type": "stream",
          "name": "stdout",
          "text": [
            "Outliers en UnitPrice:\n",
            "Tamaño:  (39627,)\n",
            "Datos estadísticos: \n",
            " count    39627.000000\n",
            "mean        31.084752\n",
            "std        356.699161\n",
            "min     -11062.060000\n",
            "25%          9.950000\n",
            "50%         11.630000\n",
            "75%         15.790000\n",
            "max      38970.000000\n",
            "Name: UnitPrice, dtype: float64\n",
            "\n",
            "Outliers en Quantity:\n",
            "Tamaño:  (58619,)\n",
            "Datos estadísticos: \n",
            " count    58619.000000\n",
            "mean        50.590969\n",
            "std        661.524902\n",
            "min     -80995.000000\n",
            "25%         24.000000\n",
            "50%         25.000000\n",
            "75%         48.000000\n",
            "max      80995.000000\n",
            "Name: Quantity, dtype: float64\n",
            "\n"
          ]
        }
      ]
    },
    {
      "cell_type": "markdown",
      "source": [
        "Como los outliers son una gran cantidad de datos (~ 40000 y 60000 registros), son una muestra significativa de los datos y por esto se decide eliminar un subconjunto de ellos, no todos. Más concretamente:\n",
        "\n",
        "* En UnitPrice: se eliminan todos aquellos registros que sean <= que 0 o >= que 50.\n",
        "\n",
        "* En Quantity: se eliminan todos aquellos registros que sean <= que 0 o >= que 50.\n",
        "\n",
        "Más exactamente, se van a borrar:"
      ],
      "metadata": {
        "id": "zq0BPHKTfDOb"
      }
    },
    {
      "cell_type": "code",
      "source": [
        "df[(df['UnitPrice'] <= 0) | (df['UnitPrice'] >= 50) | (df['Quantity'] <= 0) | (df['Quantity'] >= 50)].shape"
      ],
      "metadata": {
        "colab": {
          "base_uri": "https://localhost:8080/"
        },
        "id": "5W9egSED3QsL",
        "outputId": "f3b3e84d-c445-4f41-f6f6-f609669625c3"
      },
      "execution_count": 19,
      "outputs": [
        {
          "output_type": "execute_result",
          "data": {
            "text/plain": [
              "(25995, 8)"
            ]
          },
          "metadata": {},
          "execution_count": 19
        }
      ]
    },
    {
      "cell_type": "markdown",
      "source": [
        "Se van a eliminar 11976 registro de nuestro dataset. Se procede a ello:"
      ],
      "metadata": {
        "id": "oiDt_VWx4mOG"
      }
    },
    {
      "cell_type": "code",
      "source": [
        "# Eliminar registros en UnitPrice y Quantity según los criterios dados\n",
        "df = df[(df['UnitPrice'] > 0) & (df['UnitPrice'] < 50) & (df['Quantity'] > 0) & (df['Quantity'] < 50)]\n",
        "\n",
        "# Verificar los cambios\n",
        "# Crear subplots para cada variable\n",
        "fig, axes = plt.subplots(nrows=1, ncols=2, figsize=(10, 4))\n",
        "\n",
        "# Crear boxplot para UnitPrice\n",
        "axes[0].boxplot(df['UnitPrice'])\n",
        "axes[0].set_title('Boxplot de Unit Price')\n",
        "axes[0].set_xlabel('Unit Price')\n",
        "axes[0].set_ylabel('')\n",
        "\n",
        "# Crear boxplot para Quantity\n",
        "axes[1].boxplot(df['Quantity'])\n",
        "axes[1].set_title('Boxplot de Quantity')\n",
        "axes[1].set_xlabel('Quantity')\n",
        "axes[1].set_ylabel('')\n",
        "\n",
        "plt.tight_layout()\n",
        "plt.show()\n",
        "\n",
        "# variables_interes = ['UnitPrice', 'Quantity']\n",
        "# for variable in variables_interes:\n",
        "#     outliers = detectar_outliers(df, variable)\n",
        "#     print(f\"\\nOUTLIERS EN '{variable}':\")\n",
        "#     print(\"Tamaño:\",outliers[variable].shape,\"\\n\")\n",
        "#     print(\"Datos estadísticos:\")\n",
        "#     print(outliers[variable].describe())"
      ],
      "metadata": {
        "colab": {
          "base_uri": "https://localhost:8080/",
          "height": 407
        },
        "id": "_ahqtanWgQvI",
        "outputId": "8524997d-5fd3-4c06-e4eb-b68b3984482b"
      },
      "execution_count": 20,
      "outputs": [
        {
          "output_type": "display_data",
          "data": {
            "text/plain": [
              "<Figure size 1000x400 with 2 Axes>"
            ],
            "image/png": "[encoded data removed]"
          },
          "metadata": {}
        }
      ]
    },
    {
      "cell_type": "markdown",
      "source": [
        "Se puede observar que seguimos teniendo muchos outliers, pero al menos sabemos que estos son coherentes con la realidad, aunque se alejen de las distribuciones reales de estas variables."
      ],
      "metadata": {
        "id": "nRQc4-M_rWjh"
      }
    },
    {
      "cell_type": "code",
      "source": [
        "print(\"Nuevo tamaño del dataset: \", df.shape)"
      ],
      "metadata": {
        "colab": {
          "base_uri": "https://localhost:8080/"
        },
        "id": "k67VGs8E196b",
        "outputId": "ceeb5f8a-ee3e-4034-d0f7-c3380d30f57a"
      },
      "execution_count": 21,
      "outputs": [
        {
          "output_type": "stream",
          "name": "stdout",
          "text": [
            "Nuevo tamaño del dataset:  (515914, 8)\n"
          ]
        }
      ]
    },
    {
      "cell_type": "markdown",
      "source": [
        "Ahora, se procede a lo mencionado anteriormente: intentar rellenar las descripciones que tienen Nan utilizando otros registros con el mismo 'StockCode' que sí tengan descripción. Veamos cuántos Nan nos quedan tras la depuración:"
      ],
      "metadata": {
        "id": "kYVVQMlq2dEX"
      }
    },
    {
      "cell_type": "code",
      "source": [
        "print(df[pd.isna(df['Description'])].shape)"
      ],
      "metadata": {
        "colab": {
          "base_uri": "https://localhost:8080/"
        },
        "id": "98z-G-rch0c3",
        "outputId": "f83cb813-c90a-4f7f-dba1-62cf1341d214"
      },
      "execution_count": 22,
      "outputs": [
        {
          "output_type": "stream",
          "name": "stdout",
          "text": [
            "(0, 8)\n"
          ]
        }
      ]
    },
    {
      "cell_type": "markdown",
      "source": [
        "No obstante, se observa que al realizar la depuración de las variables 'UnitPrice' y 'Quantity' se han borrado también todos los registros que tenían Nan en 'Description'."
      ],
      "metadata": {
        "id": "40BXThngt6gs"
      }
    },
    {
      "cell_type": "code",
      "source": [
        "df.info()"
      ],
      "metadata": {
        "colab": {
          "base_uri": "https://localhost:8080/"
        },
        "id": "mIit6rYw2qzr",
        "outputId": "cf3fb017-0fd5-4112-be1c-7d721fb93418"
      },
      "execution_count": 23,
      "outputs": [
        {
          "output_type": "stream",
          "name": "stdout",
          "text": [
            "<class 'pandas.core.frame.DataFrame'>\n",
            "Int64Index: 515914 entries, 0 to 541908\n",
            "Data columns (total 8 columns):\n",
            " #   Column       Non-Null Count   Dtype         \n",
            "---  ------       --------------   -----         \n",
            " 0   InvoiceNo    515914 non-null  object        \n",
            " 1   StockCode    515914 non-null  object        \n",
            " 2   Description  515914 non-null  object        \n",
            " 3   Quantity     515914 non-null  int64         \n",
            " 4   InvoiceDate  515914 non-null  datetime64[ns]\n",
            " 5   UnitPrice    515914 non-null  float64       \n",
            " 6   CustomerID   515914 non-null  int64         \n",
            " 7   Country      515914 non-null  object        \n",
            "dtypes: datetime64[ns](1), float64(1), int64(2), object(4)\n",
            "memory usage: 35.4+ MB\n"
          ]
        }
      ]
    },
    {
      "cell_type": "markdown",
      "source": [
        "Antes de proceder a la construcción de la base de datos en el formato necesario, se hacen unas últimas comprobaciones de que nuestros datos no contienen ninguna anomalía:"
      ],
      "metadata": {
        "id": "4sUy9dlD8aDq"
      }
    },
    {
      "cell_type": "code",
      "source": [
        "print(df.nunique())"
      ],
      "metadata": {
        "colab": {
          "base_uri": "https://localhost:8080/"
        },
        "id": "jxAz4_Mb8zs-",
        "outputId": "192e799c-63d2-4b47-9d9a-eb6233a13e2e"
      },
      "execution_count": 24,
      "outputs": [
        {
          "output_type": "stream",
          "name": "stdout",
          "text": [
            "InvoiceNo      19054\n",
            "StockCode       3903\n",
            "Description     4001\n",
            "Quantity          49\n",
            "InvoiceDate    17699\n",
            "UnitPrice        476\n",
            "CustomerID      4256\n",
            "Country           38\n",
            "dtype: int64\n"
          ]
        }
      ]
    },
    {
      "cell_type": "code",
      "source": [
        "print(df.duplicated().sum())#HAY FILAS DUPLICADAS"
      ],
      "metadata": {
        "colab": {
          "base_uri": "https://localhost:8080/"
        },
        "id": "BdiUWKcW8kfx",
        "outputId": "816180b9-4d2d-4455-8840-01bfcaa4b98c"
      },
      "execution_count": 25,
      "outputs": [
        {
          "output_type": "stream",
          "name": "stdout",
          "text": [
            "5220\n"
          ]
        }
      ]
    },
    {
      "cell_type": "code",
      "source": [
        "duplicated_rows = df[df.duplicated(keep=False)]\n",
        "sorted_rows = duplicated_rows.sort_values(by=df.columns.tolist())\n",
        "sorted_rows[['InvoiceNo', 'StockCode', 'Description', 'Quantity']].head()"
      ],
      "metadata": {
        "colab": {
          "base_uri": "https://localhost:8080/",
          "height": 206
        },
        "id": "3JynVQQc-JHW",
        "outputId": "3804ba68-2b26-4258-fd37-4cb3546a277a"
      },
      "execution_count": 26,
      "outputs": [
        {
          "output_type": "execute_result",
          "data": {
            "text/plain": [
              "    InvoiceNo StockCode                    Description  Quantity\n",
              "494    536409     21866    UNION JACK FLAG LUGGAGE TAG         1\n",
              "517    536409     21866    UNION JACK FLAG LUGGAGE TAG         1\n",
              "485    536409     22111   SCOTTIE DOG HOT WATER BOTTLE         1\n",
              "539    536409     22111   SCOTTIE DOG HOT WATER BOTTLE         1\n",
              "489    536409     22866  HAND WARMER SCOTTY DOG DESIGN         1"
            ],
            "text/html": [
              "\n",
              "  <div id=\"df-881fe968-1470-4799-8ca6-7a3958894318\" class=\"colab-df-container\">\n",
              "    <div>\n",
              "<style scoped>\n",
              "    .dataframe tbody tr th:only-of-type {\n",
              "        vertical-align: middle;\n",
              "    }\n",
              "\n",
              "    .dataframe tbody tr th {\n",
              "        vertical-align: top;\n",
              "    }\n",
              "\n",
              "    .dataframe thead th {\n",
              "        text-align: right;\n",
              "    }\n",
              "</style>\n",
              "<table border=\"1\" class=\"dataframe\">\n",
              "  <thead>\n",
              "    <tr style=\"text-align: right;\">\n",
              "      <th></th>\n",
              "      <th>InvoiceNo</th>\n",
              "      <th>StockCode</th>\n",
              "      <th>Description</th>\n",
              "      <th>Quantity</th>\n",
              "    </tr>\n",
              "  </thead>\n",
              "  <tbody>\n",
              "    <tr>\n",
              "      <th>494</th>\n",
              "      <td>536409</td>\n",
              "      <td>21866</td>\n",
              "      <td>UNION JACK FLAG LUGGAGE TAG</td>\n",
              "      <td>1</td>\n",
              "    </tr>\n",
              "    <tr>\n",
              "      <th>517</th>\n",
              "      <td>536409</td>\n",
              "      <td>21866</td>\n",
              "      <td>UNION JACK FLAG LUGGAGE TAG</td>\n",
              "      <td>1</td>\n",
              "    </tr>\n",
              "    <tr>\n",
              "      <th>485</th>\n",
              "      <td>536409</td>\n",
              "      <td>22111</td>\n",
              "      <td>SCOTTIE DOG HOT WATER BOTTLE</td>\n",
              "      <td>1</td>\n",
              "    </tr>\n",
              "    <tr>\n",
              "      <th>539</th>\n",
              "      <td>536409</td>\n",
              "      <td>22111</td>\n",
              "      <td>SCOTTIE DOG HOT WATER BOTTLE</td>\n",
              "      <td>1</td>\n",
              "    </tr>\n",
              "    <tr>\n",
              "      <th>489</th>\n",
              "      <td>536409</td>\n",
              "      <td>22866</td>\n",
              "      <td>HAND WARMER SCOTTY DOG DESIGN</td>\n",
              "      <td>1</td>\n",
              "    </tr>\n",
              "  </tbody>\n",
              "</table>\n",
              "</div>\n",
              "    <div class=\"colab-df-buttons\">\n",
              "\n",
              "  <div class=\"colab-df-container\">\n",
              "    <button class=\"colab-df-convert\" onclick=\"convertToInteractive('df-881fe968-1470-4799-8ca6-7a3958894318')\"\n",
              "            title=\"Convert this dataframe to an interactive table.\"\n",
              "            style=\"display:none;\">\n",
              "\n",
              "  <svg xmlns=\"http://www.w3.org/2000/svg\" height=\"24px\" viewBox=\"0 -960 960 960\">\n",
              "    <path d=\"M120-120v-720h720v720H120Zm60-500h600v-160H180v160Zm220 220h160v-160H400v160Zm0 220h160v-160H400v160ZM180-400h160v-160H180v160Zm440 0h160v-160H620v160ZM180-180h160v-160H180v160Zm440 0h160v-160H620v160Z\"/>\n",
              "  </svg>\n",
              "    </button>\n",
              "\n",
              "  <style>\n",
              "    .colab-df-container {\n",
              "      display:flex;\n",
              "      gap: 12px;\n",
              "    }\n",
              "\n",
              "    .colab-df-convert {\n",
              "      background-color: #E8F0FE;\n",
              "      border: none;\n",
              "      border-radius: 50%;\n",
              "      cursor: pointer;\n",
              "      display: none;\n",
              "      fill: #1967D2;\n",
              "      height: 32px;\n",
              "      padding: 0 0 0 0;\n",
              "      width: 32px;\n",
              "    }\n",
              "\n",
              "    .colab-df-convert:hover {\n",
              "      background-color: #E2EBFA;\n",
              "      box-shadow: 0px 1px 2px rgba(60, 64, 67, 0.3), 0px 1px 3px 1px rgba(60, 64, 67, 0.15);\n",
              "      fill: #174EA6;\n",
              "    }\n",
              "\n",
              "    .colab-df-buttons div {\n",
              "      margin-bottom: 4px;\n",
              "    }\n",
              "\n",
              "    [theme=dark] .colab-df-convert {\n",
              "      background-color: #3B4455;\n",
              "      fill: #D2E3FC;\n",
              "    }\n",
              "\n",
              "    [theme=dark] .colab-df-convert:hover {\n",
              "      background-color: #434B5C;\n",
              "      box-shadow: 0px 1px 3px 1px rgba(0, 0, 0, 0.15);\n",
              "      filter: drop-shadow(0px 1px 2px rgba(0, 0, 0, 0.3));\n",
              "      fill: #FFFFFF;\n",
              "    }\n",
              "  </style>\n",
              "\n",
              "    <script>\n",
              "      const buttonEl =\n",
              "        document.querySelector('#df-881fe968-1470-4799-8ca6-7a3958894318 button.colab-df-convert');\n",
              "      buttonEl.style.display =\n",
              "        google.colab.kernel.accessAllowed ? 'block' : 'none';\n",
              "\n",
              "      async function convertToInteractive(key) {\n",
              "        const element = document.querySelector('#df-881fe968-1470-4799-8ca6-7a3958894318');\n",
              "        const dataTable =\n",
              "          await google.colab.kernel.invokeFunction('convertToInteractive',\n",
              "                                                    [key], {});\n",
              "        if (!dataTable) return;\n",
              "\n",
              "        const docLinkHtml = 'Like what you see? Visit the ' +\n",
              "          '<a target=\"_blank\" href=https://colab.research.google.com/notebooks/data_table.ipynb>data table notebook</a>'\n",
              "          + ' to learn more about interactive tables.';\n",
              "        element.innerHTML = '';\n",
              "        dataTable['output_type'] = 'display_data';\n",
              "        await google.colab.output.renderOutput(dataTable, element);\n",
              "        const docLink = document.createElement('div');\n",
              "        docLink.innerHTML = docLinkHtml;\n",
              "        element.appendChild(docLink);\n",
              "      }\n",
              "    </script>\n",
              "  </div>\n",
              "\n",
              "\n",
              "<div id=\"df-c67d002a-1703-424d-bc21-488706f1a475\">\n",
              "  <button class=\"colab-df-quickchart\" onclick=\"quickchart('df-c67d002a-1703-424d-bc21-488706f1a475')\"\n",
              "            title=\"Suggest charts\"\n",
              "            style=\"display:none;\">\n",
              "\n",
              "<svg xmlns=\"http://www.w3.org/2000/svg\" height=\"24px\"viewBox=\"0 0 24 24\"\n",
              "     width=\"24px\">\n",
              "    <g>\n",
              "        <path d=\"M19 3H5c-1.1 0-2 .9-2 2v14c0 1.1.9 2 2 2h14c1.1 0 2-.9 2-2V5c0-1.1-.9-2-2-2zM9 17H7v-7h2v7zm4 0h-2V7h2v10zm4 0h-2v-4h2v4z\"/>\n",
              "    </g>\n",
              "</svg>\n",
              "  </button>\n",
              "\n",
              "<style>\n",
              "  .colab-df-quickchart {\n",
              "      --bg-color: #E8F0FE;\n",
              "      --fill-color: #1967D2;\n",
              "      --hover-bg-color: #E2EBFA;\n",
              "      --hover-fill-color: #174EA6;\n",
              "      --disabled-fill-color: #AAA;\n",
              "      --disabled-bg-color: #DDD;\n",
              "  }\n",
              "\n",
              "  [theme=dark] .colab-df-quickchart {\n",
              "      --bg-color: #3B4455;\n",
              "      --fill-color: #D2E3FC;\n",
              "      --hover-bg-color: #434B5C;\n",
              "      --hover-fill-color: #FFFFFF;\n",
              "      --disabled-bg-color: #3B4455;\n",
              "      --disabled-fill-color: #666;\n",
              "  }\n",
              "\n",
              "  .colab-df-quickchart {\n",
              "    background-color: var(--bg-color);\n",
              "    border: none;\n",
              "    border-radius: 50%;\n",
              "    cursor: pointer;\n",
              "    display: none;\n",
              "    fill: var(--fill-color);\n",
              "    height: 32px;\n",
              "    padding: 0;\n",
              "    width: 32px;\n",
              "  }\n",
              "\n",
              "  .colab-df-quickchart:hover {\n",
              "    background-color: var(--hover-bg-color);\n",
              "    box-shadow: 0 1px 2px rgba(60, 64, 67, 0.3), 0 1px 3px 1px rgba(60, 64, 67, 0.15);\n",
              "    fill: var(--button-hover-fill-color);\n",
              "  }\n",
              "\n",
              "  .colab-df-quickchart-complete:disabled,\n",
              "  .colab-df-quickchart-complete:disabled:hover {\n",
              "    background-color: var(--disabled-bg-color);\n",
              "    fill: var(--disabled-fill-color);\n",
              "    box-shadow: none;\n",
              "  }\n",
              "\n",
              "  .colab-df-spinner {\n",
              "    border: 2px solid var(--fill-color);\n",
              "    border-color: transparent;\n",
              "    border-bottom-color: var(--fill-color);\n",
              "    animation:\n",
              "      spin 1s steps(1) infinite;\n",
              "  }\n",
              "\n",
              "  @keyframes spin {\n",
              "    0% {\n",
              "      border-color: transparent;\n",
              "      border-bottom-color: var(--fill-color);\n",
              "      border-left-color: var(--fill-color);\n",
              "    }\n",
              "    20% {\n",
              "      border-color: transparent;\n",
              "      border-left-color: var(--fill-color);\n",
              "      border-top-color: var(--fill-color);\n",
              "    }\n",
              "    30% {\n",
              "      border-color: transparent;\n",
              "      border-left-color: var(--fill-color);\n",
              "      border-top-color: var(--fill-color);\n",
              "      border-right-color: var(--fill-color);\n",
              "    }\n",
              "    40% {\n",
              "      border-color: transparent;\n",
              "      border-right-color: var(--fill-color);\n",
              "      border-top-color: var(--fill-color);\n",
              "    }\n",
              "    60% {\n",
              "      border-color: transparent;\n",
              "      border-right-color: var(--fill-color);\n",
              "    }\n",
              "    80% {\n",
              "      border-color: transparent;\n",
              "      border-right-color: var(--fill-color);\n",
              "      border-bottom-color: var(--fill-color);\n",
              "    }\n",
              "    90% {\n",
              "      border-color: transparent;\n",
              "      border-bottom-color: var(--fill-color);\n",
              "    }\n",
              "  }\n",
              "</style>\n",
              "\n",
              "  <script>\n",
              "    async function quickchart(key) {\n",
              "      const quickchartButtonEl =\n",
              "        document.querySelector('#' + key + ' button');\n",
              "      quickchartButtonEl.disabled = true;  // To prevent multiple clicks.\n",
              "      quickchartButtonEl.classList.add('colab-df-spinner');\n",
              "      try {\n",
              "        const charts = await google.colab.kernel.invokeFunction(\n",
              "            'suggestCharts', [key], {});\n",
              "      } catch (error) {\n",
              "        console.error('Error during call to suggestCharts:', error);\n",
              "      }\n",
              "      quickchartButtonEl.classList.remove('colab-df-spinner');\n",
              "      quickchartButtonEl.classList.add('colab-df-quickchart-complete');\n",
              "    }\n",
              "    (() => {\n",
              "      let quickchartButtonEl =\n",
              "        document.querySelector('#df-c67d002a-1703-424d-bc21-488706f1a475 button');\n",
              "      quickchartButtonEl.style.display =\n",
              "        google.colab.kernel.accessAllowed ? 'block' : 'none';\n",
              "    })();\n",
              "  </script>\n",
              "</div>\n",
              "    </div>\n",
              "  </div>\n"
            ],
            "application/vnd.google.colaboratory.intrinsic+json": {
              "type": "dataframe",
              "repr_error": "'str' object has no attribute 'empty'"
            }
          },
          "metadata": {},
          "execution_count": 26
        }
      ]
    },
    {
      "cell_type": "markdown",
      "source": [
        "Se detectan filas duplicadas. Para evitar la redundancia y solo contar con registros únicos, se eliminan:"
      ],
      "metadata": {
        "id": "3v_lUGebAu8D"
      }
    },
    {
      "cell_type": "code",
      "source": [
        "df = df.drop_duplicates()"
      ],
      "metadata": {
        "id": "6_8vWtcuBMvm"
      },
      "execution_count": 27,
      "outputs": []
    },
    {
      "cell_type": "code",
      "source": [
        "print(\"Nuevo tamaño del dataset: \", df.shape)"
      ],
      "metadata": {
        "colab": {
          "base_uri": "https://localhost:8080/"
        },
        "id": "sm71ZMowBSbD",
        "outputId": "24097030-c76b-4133-9a96-0b4913612305"
      },
      "execution_count": 28,
      "outputs": [
        {
          "output_type": "stream",
          "name": "stdout",
          "text": [
            "Nuevo tamaño del dataset:  (510694, 8)\n"
          ]
        }
      ]
    },
    {
      "cell_type": "markdown",
      "source": [
        "Se procede a la construcción de la base de datos en el formato necesario para aplicar el algoritmo GSP, que es una tabla en el que cada registro represente un cliente y en el que esté guardado la secuencia de transacciones (ordenadas en el tiempo) que cada cliente a realizado. Para ello:"
      ],
      "metadata": {
        "id": "5w0dcIUDBW8e"
      }
    },
    {
      "cell_type": "markdown",
      "source": [
        "**LISTA DE TRANSACCIONES**"
      ],
      "metadata": {
        "id": "pY5tUOkMXf4y"
      }
    },
    {
      "cell_type": "code",
      "source": [
        "# gsp_df = pd.DataFrame(df.groupby(['InvoiceNo', 'CustomerID'])['StockCode'].agg(tuple).reset_index())\n",
        "gsp_df = pd.DataFrame(df.sort_values('InvoiceNo'))\n",
        "gsp_df = pd.DataFrame(df.groupby(['InvoiceNo', 'CustomerID'])['StockCode'].agg(list).reset_index())\n",
        "# gsp_df = gsp_df.drop(columns=['InvoiceNo'])\n",
        "gsp_df['StockCode'] = gsp_df['StockCode'].apply(lambda x: [str(item) for item in x])\n",
        "gsp_df = pd.DataFrame(gsp_df.sort_values('CustomerID'))\n",
        "# gsp_df = pd.DataFrame(gsp_df.groupby('CustomerID')['StockCode'].agg(tuple).reset_index())\n",
        "gsp_df.head()"
      ],
      "metadata": {
        "colab": {
          "base_uri": "https://localhost:8080/",
          "height": 206
        },
        "id": "Khg-VQ4aXmDv",
        "outputId": "a4b04275-d06b-41ff-a63d-b02a0195ba40"
      },
      "execution_count": 137,
      "outputs": [
        {
          "output_type": "execute_result",
          "data": {
            "text/plain": [
              "       InvoiceNo  CustomerID  \\\n",
              "15559     573511       12347   \n",
              "546       537626       12347   \n",
              "18881     581180       12347   \n",
              "5199      549222       12347   \n",
              "8202      556201       12347   \n",
              "\n",
              "                                               StockCode  \n",
              "15559  [23480, 21265, 21636, 22372, 22375, 22371, 223...  \n",
              "546    [85116, 22375, 71477, 22492, 22771, 22772, 227...  \n",
              "18881  [23497, 23552, 21064, 84625A, 21731, 23084, 20...  \n",
              "5199   [22376, 22374, 22371, 22375, 20665, 21791, 225...  \n",
              "8202   [23084, 23162, 23171, 23172, 23170, 23173, 231...  "
            ],
            "text/html": [
              "\n",
              "  <div id=\"df-6d15a75c-5743-4738-bd03-484ce7642b87\" class=\"colab-df-container\">\n",
              "    <div>\n",
              "<style scoped>\n",
              "    .dataframe tbody tr th:only-of-type {\n",
              "        vertical-align: middle;\n",
              "    }\n",
              "\n",
              "    .dataframe tbody tr th {\n",
              "        vertical-align: top;\n",
              "    }\n",
              "\n",
              "    .dataframe thead th {\n",
              "        text-align: right;\n",
              "    }\n",
              "</style>\n",
              "<table border=\"1\" class=\"dataframe\">\n",
              "  <thead>\n",
              "    <tr style=\"text-align: right;\">\n",
              "      <th></th>\n",
              "      <th>InvoiceNo</th>\n",
              "      <th>CustomerID</th>\n",
              "      <th>StockCode</th>\n",
              "    </tr>\n",
              "  </thead>\n",
              "  <tbody>\n",
              "    <tr>\n",
              "      <th>15559</th>\n",
              "      <td>573511</td>\n",
              "      <td>12347</td>\n",
              "      <td>[23480, 21265, 21636, 22372, 22375, 22371, 223...</td>\n",
              "    </tr>\n",
              "    <tr>\n",
              "      <th>546</th>\n",
              "      <td>537626</td>\n",
              "      <td>12347</td>\n",
              "      <td>[85116, 22375, 71477, 22492, 22771, 22772, 227...</td>\n",
              "    </tr>\n",
              "    <tr>\n",
              "      <th>18881</th>\n",
              "      <td>581180</td>\n",
              "      <td>12347</td>\n",
              "      <td>[23497, 23552, 21064, 84625A, 21731, 23084, 20...</td>\n",
              "    </tr>\n",
              "    <tr>\n",
              "      <th>5199</th>\n",
              "      <td>549222</td>\n",
              "      <td>12347</td>\n",
              "      <td>[22376, 22374, 22371, 22375, 20665, 21791, 225...</td>\n",
              "    </tr>\n",
              "    <tr>\n",
              "      <th>8202</th>\n",
              "      <td>556201</td>\n",
              "      <td>12347</td>\n",
              "      <td>[23084, 23162, 23171, 23172, 23170, 23173, 231...</td>\n",
              "    </tr>\n",
              "  </tbody>\n",
              "</table>\n",
              "</div>\n",
              "    <div class=\"colab-df-buttons\">\n",
              "\n",
              "  <div class=\"colab-df-container\">\n",
              "    <button class=\"colab-df-convert\" onclick=\"convertToInteractive('df-6d15a75c-5743-4738-bd03-484ce7642b87')\"\n",
              "            title=\"Convert this dataframe to an interactive table.\"\n",
              "            style=\"display:none;\">\n",
              "\n",
              "  <svg xmlns=\"http://www.w3.org/2000/svg\" height=\"24px\" viewBox=\"0 -960 960 960\">\n",
              "    <path d=\"M120-120v-720h720v720H120Zm60-500h600v-160H180v160Zm220 220h160v-160H400v160Zm0 220h160v-160H400v160ZM180-400h160v-160H180v160Zm440 0h160v-160H620v160ZM180-180h160v-160H180v160Zm440 0h160v-160H620v160Z\"/>\n",
              "  </svg>\n",
              "    </button>\n",
              "\n",
              "  <style>\n",
              "    .colab-df-container {\n",
              "      display:flex;\n",
              "      gap: 12px;\n",
              "    }\n",
              "\n",
              "    .colab-df-convert {\n",
              "      background-color: #E8F0FE;\n",
              "      border: none;\n",
              "      border-radius: 50%;\n",
              "      cursor: pointer;\n",
              "      display: none;\n",
              "      fill: #1967D2;\n",
              "      height: 32px;\n",
              "      padding: 0 0 0 0;\n",
              "      width: 32px;\n",
              "    }\n",
              "\n",
              "    .colab-df-convert:hover {\n",
              "      background-color: #E2EBFA;\n",
              "      box-shadow: 0px 1px 2px rgba(60, 64, 67, 0.3), 0px 1px 3px 1px rgba(60, 64, 67, 0.15);\n",
              "      fill: #174EA6;\n",
              "    }\n",
              "\n",
              "    .colab-df-buttons div {\n",
              "      margin-bottom: 4px;\n",
              "    }\n",
              "\n",
              "    [theme=dark] .colab-df-convert {\n",
              "      background-color: #3B4455;\n",
              "      fill: #D2E3FC;\n",
              "    }\n",
              "\n",
              "    [theme=dark] .colab-df-convert:hover {\n",
              "      background-color: #434B5C;\n",
              "      box-shadow: 0px 1px 3px 1px rgba(0, 0, 0, 0.15);\n",
              "      filter: drop-shadow(0px 1px 2px rgba(0, 0, 0, 0.3));\n",
              "      fill: #FFFFFF;\n",
              "    }\n",
              "  </style>\n",
              "\n",
              "    <script>\n",
              "      const buttonEl =\n",
              "        document.querySelector('#df-6d15a75c-5743-4738-bd03-484ce7642b87 button.colab-df-convert');\n",
              "      buttonEl.style.display =\n",
              "        google.colab.kernel.accessAllowed ? 'block' : 'none';\n",
              "\n",
              "      async function convertToInteractive(key) {\n",
              "        const element = document.querySelector('#df-6d15a75c-5743-4738-bd03-484ce7642b87');\n",
              "        const dataTable =\n",
              "          await google.colab.kernel.invokeFunction('convertToInteractive',\n",
              "                                                    [key], {});\n",
              "        if (!dataTable) return;\n",
              "\n",
              "        const docLinkHtml = 'Like what you see? Visit the ' +\n",
              "          '<a target=\"_blank\" href=https://colab.research.google.com/notebooks/data_table.ipynb>data table notebook</a>'\n",
              "          + ' to learn more about interactive tables.';\n",
              "        element.innerHTML = '';\n",
              "        dataTable['output_type'] = 'display_data';\n",
              "        await google.colab.output.renderOutput(dataTable, element);\n",
              "        const docLink = document.createElement('div');\n",
              "        docLink.innerHTML = docLinkHtml;\n",
              "        element.appendChild(docLink);\n",
              "      }\n",
              "    </script>\n",
              "  </div>\n",
              "\n",
              "\n",
              "<div id=\"df-5ed72f33-eafd-412e-a688-a21274b69b5f\">\n",
              "  <button class=\"colab-df-quickchart\" onclick=\"quickchart('df-5ed72f33-eafd-412e-a688-a21274b69b5f')\"\n",
              "            title=\"Suggest charts\"\n",
              "            style=\"display:none;\">\n",
              "\n",
              "<svg xmlns=\"http://www.w3.org/2000/svg\" height=\"24px\"viewBox=\"0 0 24 24\"\n",
              "     width=\"24px\">\n",
              "    <g>\n",
              "        <path d=\"M19 3H5c-1.1 0-2 .9-2 2v14c0 1.1.9 2 2 2h14c1.1 0 2-.9 2-2V5c0-1.1-.9-2-2-2zM9 17H7v-7h2v7zm4 0h-2V7h2v10zm4 0h-2v-4h2v4z\"/>\n",
              "    </g>\n",
              "</svg>\n",
              "  </button>\n",
              "\n",
              "<style>\n",
              "  .colab-df-quickchart {\n",
              "      --bg-color: #E8F0FE;\n",
              "      --fill-color: #1967D2;\n",
              "      --hover-bg-color: #E2EBFA;\n",
              "      --hover-fill-color: #174EA6;\n",
              "      --disabled-fill-color: #AAA;\n",
              "      --disabled-bg-color: #DDD;\n",
              "  }\n",
              "\n",
              "  [theme=dark] .colab-df-quickchart {\n",
              "      --bg-color: #3B4455;\n",
              "      --fill-color: #D2E3FC;\n",
              "      --hover-bg-color: #434B5C;\n",
              "      --hover-fill-color: #FFFFFF;\n",
              "      --disabled-bg-color: #3B4455;\n",
              "      --disabled-fill-color: #666;\n",
              "  }\n",
              "\n",
              "  .colab-df-quickchart {\n",
              "    background-color: var(--bg-color);\n",
              "    border: none;\n",
              "    border-radius: 50%;\n",
              "    cursor: pointer;\n",
              "    display: none;\n",
              "    fill: var(--fill-color);\n",
              "    height: 32px;\n",
              "    padding: 0;\n",
              "    width: 32px;\n",
              "  }\n",
              "\n",
              "  .colab-df-quickchart:hover {\n",
              "    background-color: var(--hover-bg-color);\n",
              "    box-shadow: 0 1px 2px rgba(60, 64, 67, 0.3), 0 1px 3px 1px rgba(60, 64, 67, 0.15);\n",
              "    fill: var(--button-hover-fill-color);\n",
              "  }\n",
              "\n",
              "  .colab-df-quickchart-complete:disabled,\n",
              "  .colab-df-quickchart-complete:disabled:hover {\n",
              "    background-color: var(--disabled-bg-color);\n",
              "    fill: var(--disabled-fill-color);\n",
              "    box-shadow: none;\n",
              "  }\n",
              "\n",
              "  .colab-df-spinner {\n",
              "    border: 2px solid var(--fill-color);\n",
              "    border-color: transparent;\n",
              "    border-bottom-color: var(--fill-color);\n",
              "    animation:\n",
              "      spin 1s steps(1) infinite;\n",
              "  }\n",
              "\n",
              "  @keyframes spin {\n",
              "    0% {\n",
              "      border-color: transparent;\n",
              "      border-bottom-color: var(--fill-color);\n",
              "      border-left-color: var(--fill-color);\n",
              "    }\n",
              "    20% {\n",
              "      border-color: transparent;\n",
              "      border-left-color: var(--fill-color);\n",
              "      border-top-color: var(--fill-color);\n",
              "    }\n",
              "    30% {\n",
              "      border-color: transparent;\n",
              "      border-left-color: var(--fill-color);\n",
              "      border-top-color: var(--fill-color);\n",
              "      border-right-color: var(--fill-color);\n",
              "    }\n",
              "    40% {\n",
              "      border-color: transparent;\n",
              "      border-right-color: var(--fill-color);\n",
              "      border-top-color: var(--fill-color);\n",
              "    }\n",
              "    60% {\n",
              "      border-color: transparent;\n",
              "      border-right-color: var(--fill-color);\n",
              "    }\n",
              "    80% {\n",
              "      border-color: transparent;\n",
              "      border-right-color: var(--fill-color);\n",
              "      border-bottom-color: var(--fill-color);\n",
              "    }\n",
              "    90% {\n",
              "      border-color: transparent;\n",
              "      border-bottom-color: var(--fill-color);\n",
              "    }\n",
              "  }\n",
              "</style>\n",
              "\n",
              "  <script>\n",
              "    async function quickchart(key) {\n",
              "      const quickchartButtonEl =\n",
              "        document.querySelector('#' + key + ' button');\n",
              "      quickchartButtonEl.disabled = true;  // To prevent multiple clicks.\n",
              "      quickchartButtonEl.classList.add('colab-df-spinner');\n",
              "      try {\n",
              "        const charts = await google.colab.kernel.invokeFunction(\n",
              "            'suggestCharts', [key], {});\n",
              "      } catch (error) {\n",
              "        console.error('Error during call to suggestCharts:', error);\n",
              "      }\n",
              "      quickchartButtonEl.classList.remove('colab-df-spinner');\n",
              "      quickchartButtonEl.classList.add('colab-df-quickchart-complete');\n",
              "    }\n",
              "    (() => {\n",
              "      let quickchartButtonEl =\n",
              "        document.querySelector('#df-5ed72f33-eafd-412e-a688-a21274b69b5f button');\n",
              "      quickchartButtonEl.style.display =\n",
              "        google.colab.kernel.accessAllowed ? 'block' : 'none';\n",
              "    })();\n",
              "  </script>\n",
              "</div>\n",
              "    </div>\n",
              "  </div>\n"
            ],
            "application/vnd.google.colaboratory.intrinsic+json": {
              "type": "dataframe",
              "variable_name": "gsp_df",
              "summary": "{\n  \"name\": \"gsp_df\",\n  \"rows\": 19054,\n  \"fields\": [\n    {\n      \"column\": \"InvoiceNo\",\n      \"properties\": {\n        \"dtype\": \"number\",\n        \"std\": 13047,\n        \"min\": 536365,\n        \"max\": 581587,\n        \"num_unique_values\": 19054,\n        \"samples\": [\n          558261,\n          576355,\n          581437\n        ],\n        \"semantic_type\": \"\",\n        \"description\": \"\"\n      }\n    },\n    {\n      \"column\": \"CustomerID\",\n      \"properties\": {\n        \"dtype\": \"number\",\n        \"std\": 1662,\n        \"min\": 12347,\n        \"max\": 18287,\n        \"num_unique_values\": 4256,\n        \"samples\": [\n          12579,\n          13742,\n          16374\n        ],\n        \"semantic_type\": \"\",\n        \"description\": \"\"\n      }\n    },\n    {\n      \"column\": \"StockCode\",\n      \"properties\": {\n        \"dtype\": \"object\",\n        \"semantic_type\": \"\",\n        \"description\": \"\"\n      }\n    }\n  ]\n}"
            }
          },
          "metadata": {},
          "execution_count": 137
        }
      ]
    },
    {
      "cell_type": "markdown",
      "source": [
        "**TIENE EN CUENTA EL CLIENTE Y CADA TRANSACCIÓN CON STRINGS**"
      ],
      "metadata": {
        "id": "GNR0oiNUux5F"
      }
    },
    {
      "cell_type": "code",
      "source": [
        "# gsp_df = pd.DataFrame(df.sort_values('InvoiceNo'))\n",
        "# gsp_df = pd.DataFrame(gsp_df.groupby(['InvoiceNo', 'CustomerID'])['StockCode'].agg(lambda x: ','.join(map(str, x))).reset_index())\n",
        "# gsp_df = gsp_df.drop(columns=['InvoiceNo'])\n",
        "# gsp_df = pd.DataFrame(gsp_df.groupby(['CustomerID'])['StockCode'].agg(list).reset_index())\n",
        "# gsp_df['StockCode'] = gsp_df['StockCode'].apply(lambda x: [str(item) for item in x])\n",
        "# gsp_df = gsp_df.drop(columns=['CustomerID'])\n",
        "# gsp_df.head()"
      ],
      "metadata": {
        "colab": {
          "base_uri": "https://localhost:8080/",
          "height": 206
        },
        "id": "sVj-DESBXdYy",
        "outputId": "f178d0aa-4bd5-4299-b59d-c2826cecfbfe"
      },
      "execution_count": 30,
      "outputs": [
        {
          "output_type": "execute_result",
          "data": {
            "text/plain": [
              "                                           StockCode\n",
              "0  [22195,84969,84997C,84997B,84997D,22494,22497,...\n",
              "1  [21977,84991,21213,21725,84988,22952,POST, 217...\n",
              "2  [21136,23493,23514,23497,23494,22333,23236,225...\n",
              "3  [22620,20615,20652,21866,21864,POST,21171,2191...\n",
              "4  [21754,22853,22780,22630,21756,21700,21755,220..."
            ],
            "text/html": [
              "\n",
              "  <div id=\"df-8ddf74f4-c8e2-4751-9d2d-7d79d5c61871\" class=\"colab-df-container\">\n",
              "    <div>\n",
              "<style scoped>\n",
              "    .dataframe tbody tr th:only-of-type {\n",
              "        vertical-align: middle;\n",
              "    }\n",
              "\n",
              "    .dataframe tbody tr th {\n",
              "        vertical-align: top;\n",
              "    }\n",
              "\n",
              "    .dataframe thead th {\n",
              "        text-align: right;\n",
              "    }\n",
              "</style>\n",
              "<table border=\"1\" class=\"dataframe\">\n",
              "  <thead>\n",
              "    <tr style=\"text-align: right;\">\n",
              "      <th></th>\n",
              "      <th>StockCode</th>\n",
              "    </tr>\n",
              "  </thead>\n",
              "  <tbody>\n",
              "    <tr>\n",
              "      <th>0</th>\n",
              "      <td>[22195,84969,84997C,84997B,84997D,22494,22497,...</td>\n",
              "    </tr>\n",
              "    <tr>\n",
              "      <th>1</th>\n",
              "      <td>[21977,84991,21213,21725,84988,22952,POST, 217...</td>\n",
              "    </tr>\n",
              "    <tr>\n",
              "      <th>2</th>\n",
              "      <td>[21136,23493,23514,23497,23494,22333,23236,225...</td>\n",
              "    </tr>\n",
              "    <tr>\n",
              "      <th>3</th>\n",
              "      <td>[22620,20615,20652,21866,21864,POST,21171,2191...</td>\n",
              "    </tr>\n",
              "    <tr>\n",
              "      <th>4</th>\n",
              "      <td>[21754,22853,22780,22630,21756,21700,21755,220...</td>\n",
              "    </tr>\n",
              "  </tbody>\n",
              "</table>\n",
              "</div>\n",
              "    <div class=\"colab-df-buttons\">\n",
              "\n",
              "  <div class=\"colab-df-container\">\n",
              "    <button class=\"colab-df-convert\" onclick=\"convertToInteractive('df-8ddf74f4-c8e2-4751-9d2d-7d79d5c61871')\"\n",
              "            title=\"Convert this dataframe to an interactive table.\"\n",
              "            style=\"display:none;\">\n",
              "\n",
              "  <svg xmlns=\"http://www.w3.org/2000/svg\" height=\"24px\" viewBox=\"0 -960 960 960\">\n",
              "    <path d=\"M120-120v-720h720v720H120Zm60-500h600v-160H180v160Zm220 220h160v-160H400v160Zm0 220h160v-160H400v160ZM180-400h160v-160H180v160Zm440 0h160v-160H620v160ZM180-180h160v-160H180v160Zm440 0h160v-160H620v160Z\"/>\n",
              "  </svg>\n",
              "    </button>\n",
              "\n",
              "  <style>\n",
              "    .colab-df-container {\n",
              "      display:flex;\n",
              "      gap: 12px;\n",
              "    }\n",
              "\n",
              "    .colab-df-convert {\n",
              "      background-color: #E8F0FE;\n",
              "      border: none;\n",
              "      border-radius: 50%;\n",
              "      cursor: pointer;\n",
              "      display: none;\n",
              "      fill: #1967D2;\n",
              "      height: 32px;\n",
              "      padding: 0 0 0 0;\n",
              "      width: 32px;\n",
              "    }\n",
              "\n",
              "    .colab-df-convert:hover {\n",
              "      background-color: #E2EBFA;\n",
              "      box-shadow: 0px 1px 2px rgba(60, 64, 67, 0.3), 0px 1px 3px 1px rgba(60, 64, 67, 0.15);\n",
              "      fill: #174EA6;\n",
              "    }\n",
              "\n",
              "    .colab-df-buttons div {\n",
              "      margin-bottom: 4px;\n",
              "    }\n",
              "\n",
              "    [theme=dark] .colab-df-convert {\n",
              "      background-color: #3B4455;\n",
              "      fill: #D2E3FC;\n",
              "    }\n",
              "\n",
              "    [theme=dark] .colab-df-convert:hover {\n",
              "      background-color: #434B5C;\n",
              "      box-shadow: 0px 1px 3px 1px rgba(0, 0, 0, 0.15);\n",
              "      filter: drop-shadow(0px 1px 2px rgba(0, 0, 0, 0.3));\n",
              "      fill: #FFFFFF;\n",
              "    }\n",
              "  </style>\n",
              "\n",
              "    <script>\n",
              "      const buttonEl =\n",
              "        document.querySelector('#df-8ddf74f4-c8e2-4751-9d2d-7d79d5c61871 button.colab-df-convert');\n",
              "      buttonEl.style.display =\n",
              "        google.colab.kernel.accessAllowed ? 'block' : 'none';\n",
              "\n",
              "      async function convertToInteractive(key) {\n",
              "        const element = document.querySelector('#df-8ddf74f4-c8e2-4751-9d2d-7d79d5c61871');\n",
              "        const dataTable =\n",
              "          await google.colab.kernel.invokeFunction('convertToInteractive',\n",
              "                                                    [key], {});\n",
              "        if (!dataTable) return;\n",
              "\n",
              "        const docLinkHtml = 'Like what you see? Visit the ' +\n",
              "          '<a target=\"_blank\" href=https://colab.research.google.com/notebooks/data_table.ipynb>data table notebook</a>'\n",
              "          + ' to learn more about interactive tables.';\n",
              "        element.innerHTML = '';\n",
              "        dataTable['output_type'] = 'display_data';\n",
              "        await google.colab.output.renderOutput(dataTable, element);\n",
              "        const docLink = document.createElement('div');\n",
              "        docLink.innerHTML = docLinkHtml;\n",
              "        element.appendChild(docLink);\n",
              "      }\n",
              "    </script>\n",
              "  </div>\n",
              "\n",
              "\n",
              "<div id=\"df-94f69a6c-e0ab-4271-a2ae-dbe4e54f072b\">\n",
              "  <button class=\"colab-df-quickchart\" onclick=\"quickchart('df-94f69a6c-e0ab-4271-a2ae-dbe4e54f072b')\"\n",
              "            title=\"Suggest charts\"\n",
              "            style=\"display:none;\">\n",
              "\n",
              "<svg xmlns=\"http://www.w3.org/2000/svg\" height=\"24px\"viewBox=\"0 0 24 24\"\n",
              "     width=\"24px\">\n",
              "    <g>\n",
              "        <path d=\"M19 3H5c-1.1 0-2 .9-2 2v14c0 1.1.9 2 2 2h14c1.1 0 2-.9 2-2V5c0-1.1-.9-2-2-2zM9 17H7v-7h2v7zm4 0h-2V7h2v10zm4 0h-2v-4h2v4z\"/>\n",
              "    </g>\n",
              "</svg>\n",
              "  </button>\n",
              "\n",
              "<style>\n",
              "  .colab-df-quickchart {\n",
              "      --bg-color: #E8F0FE;\n",
              "      --fill-color: #1967D2;\n",
              "      --hover-bg-color: #E2EBFA;\n",
              "      --hover-fill-color: #174EA6;\n",
              "      --disabled-fill-color: #AAA;\n",
              "      --disabled-bg-color: #DDD;\n",
              "  }\n",
              "\n",
              "  [theme=dark] .colab-df-quickchart {\n",
              "      --bg-color: #3B4455;\n",
              "      --fill-color: #D2E3FC;\n",
              "      --hover-bg-color: #434B5C;\n",
              "      --hover-fill-color: #FFFFFF;\n",
              "      --disabled-bg-color: #3B4455;\n",
              "      --disabled-fill-color: #666;\n",
              "  }\n",
              "\n",
              "  .colab-df-quickchart {\n",
              "    background-color: var(--bg-color);\n",
              "    border: none;\n",
              "    border-radius: 50%;\n",
              "    cursor: pointer;\n",
              "    display: none;\n",
              "    fill: var(--fill-color);\n",
              "    height: 32px;\n",
              "    padding: 0;\n",
              "    width: 32px;\n",
              "  }\n",
              "\n",
              "  .colab-df-quickchart:hover {\n",
              "    background-color: var(--hover-bg-color);\n",
              "    box-shadow: 0 1px 2px rgba(60, 64, 67, 0.3), 0 1px 3px 1px rgba(60, 64, 67, 0.15);\n",
              "    fill: var(--button-hover-fill-color);\n",
              "  }\n",
              "\n",
              "  .colab-df-quickchart-complete:disabled,\n",
              "  .colab-df-quickchart-complete:disabled:hover {\n",
              "    background-color: var(--disabled-bg-color);\n",
              "    fill: var(--disabled-fill-color);\n",
              "    box-shadow: none;\n",
              "  }\n",
              "\n",
              "  .colab-df-spinner {\n",
              "    border: 2px solid var(--fill-color);\n",
              "    border-color: transparent;\n",
              "    border-bottom-color: var(--fill-color);\n",
              "    animation:\n",
              "      spin 1s steps(1) infinite;\n",
              "  }\n",
              "\n",
              "  @keyframes spin {\n",
              "    0% {\n",
              "      border-color: transparent;\n",
              "      border-bottom-color: var(--fill-color);\n",
              "      border-left-color: var(--fill-color);\n",
              "    }\n",
              "    20% {\n",
              "      border-color: transparent;\n",
              "      border-left-color: var(--fill-color);\n",
              "      border-top-color: var(--fill-color);\n",
              "    }\n",
              "    30% {\n",
              "      border-color: transparent;\n",
              "      border-left-color: var(--fill-color);\n",
              "      border-top-color: var(--fill-color);\n",
              "      border-right-color: var(--fill-color);\n",
              "    }\n",
              "    40% {\n",
              "      border-color: transparent;\n",
              "      border-right-color: var(--fill-color);\n",
              "      border-top-color: var(--fill-color);\n",
              "    }\n",
              "    60% {\n",
              "      border-color: transparent;\n",
              "      border-right-color: var(--fill-color);\n",
              "    }\n",
              "    80% {\n",
              "      border-color: transparent;\n",
              "      border-right-color: var(--fill-color);\n",
              "      border-bottom-color: var(--fill-color);\n",
              "    }\n",
              "    90% {\n",
              "      border-color: transparent;\n",
              "      border-bottom-color: var(--fill-color);\n",
              "    }\n",
              "  }\n",
              "</style>\n",
              "\n",
              "  <script>\n",
              "    async function quickchart(key) {\n",
              "      const quickchartButtonEl =\n",
              "        document.querySelector('#' + key + ' button');\n",
              "      quickchartButtonEl.disabled = true;  // To prevent multiple clicks.\n",
              "      quickchartButtonEl.classList.add('colab-df-spinner');\n",
              "      try {\n",
              "        const charts = await google.colab.kernel.invokeFunction(\n",
              "            'suggestCharts', [key], {});\n",
              "      } catch (error) {\n",
              "        console.error('Error during call to suggestCharts:', error);\n",
              "      }\n",
              "      quickchartButtonEl.classList.remove('colab-df-spinner');\n",
              "      quickchartButtonEl.classList.add('colab-df-quickchart-complete');\n",
              "    }\n",
              "    (() => {\n",
              "      let quickchartButtonEl =\n",
              "        document.querySelector('#df-94f69a6c-e0ab-4271-a2ae-dbe4e54f072b button');\n",
              "      quickchartButtonEl.style.display =\n",
              "        google.colab.kernel.accessAllowed ? 'block' : 'none';\n",
              "    })();\n",
              "  </script>\n",
              "</div>\n",
              "    </div>\n",
              "  </div>\n"
            ],
            "application/vnd.google.colaboratory.intrinsic+json": {
              "type": "dataframe",
              "variable_name": "gsp_df",
              "summary": "{\n  \"name\": \"gsp_df\",\n  \"rows\": 4256,\n  \"fields\": [\n    {\n      \"column\": \"StockCode\",\n      \"properties\": {\n        \"dtype\": \"object\",\n        \"semantic_type\": \"\",\n        \"description\": \"\"\n      }\n    }\n  ]\n}"
            }
          },
          "metadata": {},
          "execution_count": 30
        }
      ]
    },
    {
      "cell_type": "markdown",
      "source": [
        "**TIENE EN CUENTA EL CLIENTE Y CADA TRANSACCIÓN**"
      ],
      "metadata": {
        "id": "umUijsFdXiW8"
      }
    },
    {
      "cell_type": "code",
      "source": [
        "# gsp_df = pd.DataFrame(df.sort_values('InvoiceNo'))\n",
        "# gsp_df = pd.DataFrame(df.groupby(['InvoiceNo', 'CustomerID'])['StockCode'].agg(list).reset_index())\n",
        "# gsp_df = gsp_df.drop(columns=['InvoiceNo'])\n",
        "# # gsp_df['StockCode'] = gsp_df['StockCode'].apply(lambda x: [str(item) for item in x])\n",
        "# gsp_df = pd.DataFrame(gsp_df.groupby(['CustomerID'])['StockCode'].agg(list).reset_index())\n",
        "# gsp_df.head()"
      ],
      "metadata": {
        "colab": {
          "base_uri": "https://localhost:8080/",
          "height": 206
        },
        "id": "Y6XpxoR_5LIH",
        "outputId": "ac8895bf-89ae-4252-f79a-1fca4ddd725e"
      },
      "execution_count": 109,
      "outputs": [
        {
          "output_type": "execute_result",
          "data": {
            "text/plain": [
              "   CustomerID                                          StockCode\n",
              "0       12347  [[85116, 22375, 71477, 22492, 22771, 22772, 22...\n",
              "1       12348  [[84991, 21213, 21725, 84988, 22952, 21977, PO...\n",
              "2       12349  [[23112, 23460, 21564, 21411, 21563, 22131, 22...\n",
              "3       12350  [[21908, 22412, 79066K, 79191C, 22348, 84086C,...\n",
              "4       12352  [[21380, 22064, 21232, 22646, 22779, 22423, 22..."
            ],
            "text/html": [
              "\n",
              "  <div id=\"df-92b66bd8-0bcd-41c3-a6f5-7c670111c82c\" class=\"colab-df-container\">\n",
              "    <div>\n",
              "<style scoped>\n",
              "    .dataframe tbody tr th:only-of-type {\n",
              "        vertical-align: middle;\n",
              "    }\n",
              "\n",
              "    .dataframe tbody tr th {\n",
              "        vertical-align: top;\n",
              "    }\n",
              "\n",
              "    .dataframe thead th {\n",
              "        text-align: right;\n",
              "    }\n",
              "</style>\n",
              "<table border=\"1\" class=\"dataframe\">\n",
              "  <thead>\n",
              "    <tr style=\"text-align: right;\">\n",
              "      <th></th>\n",
              "      <th>CustomerID</th>\n",
              "      <th>StockCode</th>\n",
              "    </tr>\n",
              "  </thead>\n",
              "  <tbody>\n",
              "    <tr>\n",
              "      <th>0</th>\n",
              "      <td>12347</td>\n",
              "      <td>[[85116, 22375, 71477, 22492, 22771, 22772, 22...</td>\n",
              "    </tr>\n",
              "    <tr>\n",
              "      <th>1</th>\n",
              "      <td>12348</td>\n",
              "      <td>[[84991, 21213, 21725, 84988, 22952, 21977, PO...</td>\n",
              "    </tr>\n",
              "    <tr>\n",
              "      <th>2</th>\n",
              "      <td>12349</td>\n",
              "      <td>[[23112, 23460, 21564, 21411, 21563, 22131, 22...</td>\n",
              "    </tr>\n",
              "    <tr>\n",
              "      <th>3</th>\n",
              "      <td>12350</td>\n",
              "      <td>[[21908, 22412, 79066K, 79191C, 22348, 84086C,...</td>\n",
              "    </tr>\n",
              "    <tr>\n",
              "      <th>4</th>\n",
              "      <td>12352</td>\n",
              "      <td>[[21380, 22064, 21232, 22646, 22779, 22423, 22...</td>\n",
              "    </tr>\n",
              "  </tbody>\n",
              "</table>\n",
              "</div>\n",
              "    <div class=\"colab-df-buttons\">\n",
              "\n",
              "  <div class=\"colab-df-container\">\n",
              "    <button class=\"colab-df-convert\" onclick=\"convertToInteractive('df-92b66bd8-0bcd-41c3-a6f5-7c670111c82c')\"\n",
              "            title=\"Convert this dataframe to an interactive table.\"\n",
              "            style=\"display:none;\">\n",
              "\n",
              "  <svg xmlns=\"http://www.w3.org/2000/svg\" height=\"24px\" viewBox=\"0 -960 960 960\">\n",
              "    <path d=\"M120-120v-720h720v720H120Zm60-500h600v-160H180v160Zm220 220h160v-160H400v160Zm0 220h160v-160H400v160ZM180-400h160v-160H180v160Zm440 0h160v-160H620v160ZM180-180h160v-160H180v160Zm440 0h160v-160H620v160Z\"/>\n",
              "  </svg>\n",
              "    </button>\n",
              "\n",
              "  <style>\n",
              "    .colab-df-container {\n",
              "      display:flex;\n",
              "      gap: 12px;\n",
              "    }\n",
              "\n",
              "    .colab-df-convert {\n",
              "      background-color: #E8F0FE;\n",
              "      border: none;\n",
              "      border-radius: 50%;\n",
              "      cursor: pointer;\n",
              "      display: none;\n",
              "      fill: #1967D2;\n",
              "      height: 32px;\n",
              "      padding: 0 0 0 0;\n",
              "      width: 32px;\n",
              "    }\n",
              "\n",
              "    .colab-df-convert:hover {\n",
              "      background-color: #E2EBFA;\n",
              "      box-shadow: 0px 1px 2px rgba(60, 64, 67, 0.3), 0px 1px 3px 1px rgba(60, 64, 67, 0.15);\n",
              "      fill: #174EA6;\n",
              "    }\n",
              "\n",
              "    .colab-df-buttons div {\n",
              "      margin-bottom: 4px;\n",
              "    }\n",
              "\n",
              "    [theme=dark] .colab-df-convert {\n",
              "      background-color: #3B4455;\n",
              "      fill: #D2E3FC;\n",
              "    }\n",
              "\n",
              "    [theme=dark] .colab-df-convert:hover {\n",
              "      background-color: #434B5C;\n",
              "      box-shadow: 0px 1px 3px 1px rgba(0, 0, 0, 0.15);\n",
              "      filter: drop-shadow(0px 1px 2px rgba(0, 0, 0, 0.3));\n",
              "      fill: #FFFFFF;\n",
              "    }\n",
              "  </style>\n",
              "\n",
              "    <script>\n",
              "      const buttonEl =\n",
              "        document.querySelector('#df-92b66bd8-0bcd-41c3-a6f5-7c670111c82c button.colab-df-convert');\n",
              "      buttonEl.style.display =\n",
              "        google.colab.kernel.accessAllowed ? 'block' : 'none';\n",
              "\n",
              "      async function convertToInteractive(key) {\n",
              "        const element = document.querySelector('#df-92b66bd8-0bcd-41c3-a6f5-7c670111c82c');\n",
              "        const dataTable =\n",
              "          await google.colab.kernel.invokeFunction('convertToInteractive',\n",
              "                                                    [key], {});\n",
              "        if (!dataTable) return;\n",
              "\n",
              "        const docLinkHtml = 'Like what you see? Visit the ' +\n",
              "          '<a target=\"_blank\" href=https://colab.research.google.com/notebooks/data_table.ipynb>data table notebook</a>'\n",
              "          + ' to learn more about interactive tables.';\n",
              "        element.innerHTML = '';\n",
              "        dataTable['output_type'] = 'display_data';\n",
              "        await google.colab.output.renderOutput(dataTable, element);\n",
              "        const docLink = document.createElement('div');\n",
              "        docLink.innerHTML = docLinkHtml;\n",
              "        element.appendChild(docLink);\n",
              "      }\n",
              "    </script>\n",
              "  </div>\n",
              "\n",
              "\n",
              "<div id=\"df-8ecde95b-035b-4454-a0db-208d5d8c8190\">\n",
              "  <button class=\"colab-df-quickchart\" onclick=\"quickchart('df-8ecde95b-035b-4454-a0db-208d5d8c8190')\"\n",
              "            title=\"Suggest charts\"\n",
              "            style=\"display:none;\">\n",
              "\n",
              "<svg xmlns=\"http://www.w3.org/2000/svg\" height=\"24px\"viewBox=\"0 0 24 24\"\n",
              "     width=\"24px\">\n",
              "    <g>\n",
              "        <path d=\"M19 3H5c-1.1 0-2 .9-2 2v14c0 1.1.9 2 2 2h14c1.1 0 2-.9 2-2V5c0-1.1-.9-2-2-2zM9 17H7v-7h2v7zm4 0h-2V7h2v10zm4 0h-2v-4h2v4z\"/>\n",
              "    </g>\n",
              "</svg>\n",
              "  </button>\n",
              "\n",
              "<style>\n",
              "  .colab-df-quickchart {\n",
              "      --bg-color: #E8F0FE;\n",
              "      --fill-color: #1967D2;\n",
              "      --hover-bg-color: #E2EBFA;\n",
              "      --hover-fill-color: #174EA6;\n",
              "      --disabled-fill-color: #AAA;\n",
              "      --disabled-bg-color: #DDD;\n",
              "  }\n",
              "\n",
              "  [theme=dark] .colab-df-quickchart {\n",
              "      --bg-color: #3B4455;\n",
              "      --fill-color: #D2E3FC;\n",
              "      --hover-bg-color: #434B5C;\n",
              "      --hover-fill-color: #FFFFFF;\n",
              "      --disabled-bg-color: #3B4455;\n",
              "      --disabled-fill-color: #666;\n",
              "  }\n",
              "\n",
              "  .colab-df-quickchart {\n",
              "    background-color: var(--bg-color);\n",
              "    border: none;\n",
              "    border-radius: 50%;\n",
              "    cursor: pointer;\n",
              "    display: none;\n",
              "    fill: var(--fill-color);\n",
              "    height: 32px;\n",
              "    padding: 0;\n",
              "    width: 32px;\n",
              "  }\n",
              "\n",
              "  .colab-df-quickchart:hover {\n",
              "    background-color: var(--hover-bg-color);\n",
              "    box-shadow: 0 1px 2px rgba(60, 64, 67, 0.3), 0 1px 3px 1px rgba(60, 64, 67, 0.15);\n",
              "    fill: var(--button-hover-fill-color);\n",
              "  }\n",
              "\n",
              "  .colab-df-quickchart-complete:disabled,\n",
              "  .colab-df-quickchart-complete:disabled:hover {\n",
              "    background-color: var(--disabled-bg-color);\n",
              "    fill: var(--disabled-fill-color);\n",
              "    box-shadow: none;\n",
              "  }\n",
              "\n",
              "  .colab-df-spinner {\n",
              "    border: 2px solid var(--fill-color);\n",
              "    border-color: transparent;\n",
              "    border-bottom-color: var(--fill-color);\n",
              "    animation:\n",
              "      spin 1s steps(1) infinite;\n",
              "  }\n",
              "\n",
              "  @keyframes spin {\n",
              "    0% {\n",
              "      border-color: transparent;\n",
              "      border-bottom-color: var(--fill-color);\n",
              "      border-left-color: var(--fill-color);\n",
              "    }\n",
              "    20% {\n",
              "      border-color: transparent;\n",
              "      border-left-color: var(--fill-color);\n",
              "      border-top-color: var(--fill-color);\n",
              "    }\n",
              "    30% {\n",
              "      border-color: transparent;\n",
              "      border-left-color: var(--fill-color);\n",
              "      border-top-color: var(--fill-color);\n",
              "      border-right-color: var(--fill-color);\n",
              "    }\n",
              "    40% {\n",
              "      border-color: transparent;\n",
              "      border-right-color: var(--fill-color);\n",
              "      border-top-color: var(--fill-color);\n",
              "    }\n",
              "    60% {\n",
              "      border-color: transparent;\n",
              "      border-right-color: var(--fill-color);\n",
              "    }\n",
              "    80% {\n",
              "      border-color: transparent;\n",
              "      border-right-color: var(--fill-color);\n",
              "      border-bottom-color: var(--fill-color);\n",
              "    }\n",
              "    90% {\n",
              "      border-color: transparent;\n",
              "      border-bottom-color: var(--fill-color);\n",
              "    }\n",
              "  }\n",
              "</style>\n",
              "\n",
              "  <script>\n",
              "    async function quickchart(key) {\n",
              "      const quickchartButtonEl =\n",
              "        document.querySelector('#' + key + ' button');\n",
              "      quickchartButtonEl.disabled = true;  // To prevent multiple clicks.\n",
              "      quickchartButtonEl.classList.add('colab-df-spinner');\n",
              "      try {\n",
              "        const charts = await google.colab.kernel.invokeFunction(\n",
              "            'suggestCharts', [key], {});\n",
              "      } catch (error) {\n",
              "        console.error('Error during call to suggestCharts:', error);\n",
              "      }\n",
              "      quickchartButtonEl.classList.remove('colab-df-spinner');\n",
              "      quickchartButtonEl.classList.add('colab-df-quickchart-complete');\n",
              "    }\n",
              "    (() => {\n",
              "      let quickchartButtonEl =\n",
              "        document.querySelector('#df-8ecde95b-035b-4454-a0db-208d5d8c8190 button');\n",
              "      quickchartButtonEl.style.display =\n",
              "        google.colab.kernel.accessAllowed ? 'block' : 'none';\n",
              "    })();\n",
              "  </script>\n",
              "</div>\n",
              "    </div>\n",
              "  </div>\n"
            ],
            "application/vnd.google.colaboratory.intrinsic+json": {
              "type": "dataframe",
              "variable_name": "gsp_df",
              "summary": "{\n  \"name\": \"gsp_df\",\n  \"rows\": 4256,\n  \"fields\": [\n    {\n      \"column\": \"CustomerID\",\n      \"properties\": {\n        \"dtype\": \"number\",\n        \"std\": 1718,\n        \"min\": 12347,\n        \"max\": 18287,\n        \"num_unique_values\": 4256,\n        \"samples\": [\n          12579,\n          13742,\n          16374\n        ],\n        \"semantic_type\": \"\",\n        \"description\": \"\"\n      }\n    },\n    {\n      \"column\": \"StockCode\",\n      \"properties\": {\n        \"dtype\": \"object\",\n        \"semantic_type\": \"\",\n        \"description\": \"\"\n      }\n    }\n  ]\n}"
            }
          },
          "metadata": {},
          "execution_count": 109
        }
      ]
    },
    {
      "cell_type": "markdown",
      "source": [
        "Se puede comprobar que se ha creado de manera correcta"
      ],
      "metadata": {
        "id": "VFK1E6pMa3eB"
      }
    },
    {
      "cell_type": "code",
      "source": [
        "# print(\"FORMATO GSP:\")\n",
        "# gsp_df.loc[df['CustomerID'] == 17850, ['CustomerID','StockCode']].head(20)"
      ],
      "metadata": {
        "id": "FAMb6D1cazme"
      },
      "execution_count": 32,
      "outputs": []
    },
    {
      "cell_type": "code",
      "source": [
        "# print(\"\\nORIGINAL:\")\n",
        "# df.loc[df['CustomerID'] == 17850, ['CustomerID','InvoiceNo', 'StockCode']].head(20)"
      ],
      "metadata": {
        "id": "_OVtwHq_cGL3"
      },
      "execution_count": 33,
      "outputs": []
    },
    {
      "cell_type": "code",
      "source": [
        "# Convertir la columna 'StockCode' a lista de listas\n",
        "gsp_list = gsp_df['StockCode'].tolist()\n",
        "\n",
        "#Una transacción de un cliente\n",
        "print(gsp_list[0:2])"
      ],
      "metadata": {
        "colab": {
          "base_uri": "https://localhost:8080/"
        },
        "id": "TBbYnjCopxC3",
        "outputId": "586296fc-6b09-48a4-af17-ba7a1b71bda9"
      },
      "execution_count": 138,
      "outputs": [
        {
          "output_type": "stream",
          "name": "stdout",
          "text": [
            "[['23480', '21265', '21636', '22372', '22375', '22371', '22374', '22252', '22945', '22423', '23173', '47580', '47567B', '47559B', '22698', '22697', '84558A', '23084', '21731', '23177', '21791', '23508', '23506', '23503', '22992', '22561', '22492', '22621', '23146', '23421', '23422', '23420', '22699', '22725', '22728', '22726', '22727', '21976', '22417', '23308', '84991', '84992', '22196', '22195', '20719', '23162', '22131'], ['85116', '22375', '71477', '22492', '22771', '22772', '22773', '22774', '22775', '22805', '22725', '22726', '22727', '22728', '22729', '22212', '85167B', '21171', '22195', '84969', '84997C', '84997B', '84997D', '22494', '22497', '85232D', '21064', '21731', '84558A', '20780', '20782']]\n"
          ]
        }
      ]
    },
    {
      "cell_type": "markdown",
      "source": [
        "**MIKE - HASTA AQUÍ**"
      ],
      "metadata": {
        "id": "ZiIwoHgnc_qz"
      }
    },
    {
      "cell_type": "markdown",
      "source": [
        "#**GSP:**"
      ],
      "metadata": {
        "id": "wY5KpDSHKFi4"
      }
    },
    {
      "cell_type": "code",
      "source": [
        "!pip install gsppy"
      ],
      "metadata": {
        "colab": {
          "base_uri": "https://localhost:8080/"
        },
        "id": "1PE0mfSuVHuO",
        "outputId": "7d25c211-af8a-4ec6-af86-f9b9f8df7496"
      },
      "execution_count": 111,
      "outputs": [
        {
          "output_type": "stream",
          "name": "stdout",
          "text": [
            "Collecting gsppy\n",
            "  Downloading gsppy-1.1-py3-none-any.whl (5.7 kB)\n",
            "Installing collected packages: gsppy\n",
            "Successfully installed gsppy-1.1\n"
          ]
        }
      ]
    },
    {
      "cell_type": "code",
      "source": [
        "from gsppy.gsp import GSP"
      ],
      "metadata": {
        "id": "sWgBUidQVTDc"
      },
      "execution_count": 112,
      "outputs": []
    },
    {
      "cell_type": "code",
      "source": [
        "len(gsp_list)"
      ],
      "metadata": {
        "colab": {
          "base_uri": "https://localhost:8080/"
        },
        "id": "knFKWNJxYohk",
        "outputId": "4331748a-e098-4bcb-8c55-a2dae2f2bdec"
      },
      "execution_count": 36,
      "outputs": [
        {
          "output_type": "execute_result",
          "data": {
            "text/plain": [
              "4256"
            ]
          },
          "metadata": {},
          "execution_count": 36
        }
      ]
    },
    {
      "cell_type": "code",
      "source": [
        "result = GSP(gsp_list)"
      ],
      "metadata": {
        "id": "aA6hPVfBVW8R"
      },
      "execution_count": null,
      "outputs": []
    },
    {
      "cell_type": "code",
      "source": [
        "result.search(0.1)"
      ],
      "metadata": {
        "colab": {
          "base_uri": "https://localhost:8080/"
        },
        "id": "XjrsnBx4qETn",
        "outputId": "9a366485-cf6e-4f03-8e01-ad3999f82925"
      },
      "execution_count": null,
      "outputs": [
        {
          "output_type": "execute_result",
          "data": {
            "text/plain": [
              "[{('85123A',): 2195, ('85099B',): 2086}]"
            ]
          },
          "metadata": {},
          "execution_count": 39
        }
      ]
    },
    {
      "cell_type": "code",
      "source": [
        "result.freq_patterns"
      ],
      "metadata": {
        "id": "Ove7dsYyWz7q",
        "colab": {
          "base_uri": "https://localhost:8080/"
        },
        "outputId": "10788144-a05b-4626-d2a1-b2dd86a96c68"
      },
      "execution_count": null,
      "outputs": [
        {
          "output_type": "execute_result",
          "data": {
            "text/plain": [
              "[{('85123A',): 2195, ('85099B',): 2086}, {}]"
            ]
          },
          "metadata": {},
          "execution_count": 40
        }
      ]
    },
    {
      "cell_type": "code",
      "source": [
        "result1 = GSP(gsp_list)"
      ],
      "metadata": {
        "id": "_3Bfk8YQqNJI"
      },
      "execution_count": 61,
      "outputs": []
    },
    {
      "cell_type": "code",
      "source": [
        "result1.search(0.05)"
      ],
      "metadata": {
        "id": "IS9NY-7UqNJQ",
        "colab": {
          "base_uri": "https://localhost:8080/"
        },
        "outputId": "17af517e-002a-4717-9e09-f0311ee16948"
      },
      "execution_count": 62,
      "outputs": [
        {
          "output_type": "execute_result",
          "data": {
            "text/plain": [
              "[{('85123A',): 2093,\n",
              "  ('84879',): 1372,\n",
              "  ('22960',): 1111,\n",
              "  ('22727',): 1035,\n",
              "  ('22726',): 969,\n",
              "  ('POST',): 1109,\n",
              "  ('82482',): 1079,\n",
              "  ('22386',): 1122,\n",
              "  ('20725',): 1491,\n",
              "  ('21931',): 1125,\n",
              "  ('22961',): 1119,\n",
              "  ('22139',): 960,\n",
              "  ('22411',): 1128,\n",
              "  ('22086',): 1098,\n",
              "  ('22457',): 1245,\n",
              "  ('22469',): 1174,\n",
              "  ('21212',): 1234,\n",
              "  ('22382',): 1134,\n",
              "  ('20726',): 993,\n",
              "  ('22384',): 1057,\n",
              "  ('22197',): 1211,\n",
              "  ('22383',): 1251,\n",
              "  ('20728',): 1119,\n",
              "  ('20727',): 1239,\n",
              "  ('85099B',): 1863,\n",
              "  ('22423',): 1960,\n",
              "  ('22699',): 1049,\n",
              "  ('22697',): 1004,\n",
              "  ('22666',): 1096,\n",
              "  ('47566',): 1555,\n",
              "  ('22720',): 1370,\n",
              "  ('22993',): 1024,\n",
              "  ('23206',): 998,\n",
              "  ('23298',): 1107,\n",
              "  ('23203',): 1161,\n",
              "  ('23209',): 1062}]"
            ]
          },
          "metadata": {},
          "execution_count": 62
        }
      ]
    },
    {
      "cell_type": "code",
      "source": [
        "result1.freq_patterns"
      ],
      "metadata": {
        "id": "uMwK4VLMqNJQ",
        "colab": {
          "base_uri": "https://localhost:8080/"
        },
        "outputId": "b1df6c8c-3d9a-48e7-e8bf-8f1cfcc2f509"
      },
      "execution_count": 66,
      "outputs": [
        {
          "output_type": "execute_result",
          "data": {
            "text/plain": [
              "[{('85123A',): 2093,\n",
              "  ('84879',): 1372,\n",
              "  ('22960',): 1111,\n",
              "  ('22727',): 1035,\n",
              "  ('22726',): 969,\n",
              "  ('POST',): 1109,\n",
              "  ('82482',): 1079,\n",
              "  ('22386',): 1122,\n",
              "  ('20725',): 1491,\n",
              "  ('21931',): 1125,\n",
              "  ('22961',): 1119,\n",
              "  ('22139',): 960,\n",
              "  ('22411',): 1128,\n",
              "  ('22086',): 1098,\n",
              "  ('22457',): 1245,\n",
              "  ('22469',): 1174,\n",
              "  ('21212',): 1234,\n",
              "  ('22382',): 1134,\n",
              "  ('20726',): 993,\n",
              "  ('22384',): 1057,\n",
              "  ('22197',): 1211,\n",
              "  ('22383',): 1251,\n",
              "  ('20728',): 1119,\n",
              "  ('20727',): 1239,\n",
              "  ('85099B',): 1863,\n",
              "  ('22423',): 1960,\n",
              "  ('22699',): 1049,\n",
              "  ('22697',): 1004,\n",
              "  ('22666',): 1096,\n",
              "  ('47566',): 1555,\n",
              "  ('22720',): 1370,\n",
              "  ('22993',): 1024,\n",
              "  ('23206',): 998,\n",
              "  ('23298',): 1107,\n",
              "  ('23203',): 1161,\n",
              "  ('23209',): 1062},\n",
              " {}]"
            ]
          },
          "metadata": {},
          "execution_count": 66
        }
      ]
    },
    {
      "cell_type": "code",
      "source": [
        "transactions = [\n",
        "            ['Bread', 'Milk'],\n",
        "            ['Bread', 'Diaper', 'Beer', 'Eggs'],\n",
        "            ['Milk', 'Diaper', 'Beer', 'Coke'],\n",
        "            ['Bread', 'Milk', 'Diaper', 'Beer'],\n",
        "            ['Bread', 'Milk', 'Diaper', 'Coke']\n",
        "]"
      ],
      "metadata": {
        "id": "zTwF6DkaK6Kk"
      },
      "execution_count": 68,
      "outputs": []
    },
    {
      "cell_type": "code",
      "source": [
        "result2 = GSP(transactions)"
      ],
      "metadata": {
        "id": "_eoBTLXCK9_I"
      },
      "execution_count": 74,
      "outputs": []
    },
    {
      "cell_type": "code",
      "source": [
        "result2.search(0.3)"
      ],
      "metadata": {
        "colab": {
          "base_uri": "https://localhost:8080/"
        },
        "outputId": "8c3d62cf-e032-4e6b-b57c-d562945b6fe9",
        "id": "0UCfVWp4K9_J"
      },
      "execution_count": 75,
      "outputs": [
        {
          "output_type": "execute_result",
          "data": {
            "text/plain": [
              "[{('Bread',): 4, ('Milk',): 4, ('Beer',): 3, ('Diaper',): 4, ('Coke',): 2},\n",
              " {('Bread', 'Milk'): 3, ('Diaper', 'Beer'): 3, ('Milk', 'Diaper'): 3},\n",
              " {('Bread', 'Milk', 'Diaper'): 2, ('Milk', 'Diaper', 'Beer'): 2}]"
            ]
          },
          "metadata": {},
          "execution_count": 75
        }
      ]
    },
    {
      "cell_type": "code",
      "source": [
        "result2.freq_patterns"
      ],
      "metadata": {
        "colab": {
          "base_uri": "https://localhost:8080/"
        },
        "outputId": "cced8a51-fb44-402b-fac5-273e1232912f",
        "id": "nJ3ubovyK9_J"
      },
      "execution_count": 76,
      "outputs": [
        {
          "output_type": "execute_result",
          "data": {
            "text/plain": [
              "[{('Bread',): 4, ('Milk',): 4, ('Beer',): 3, ('Diaper',): 4, ('Coke',): 2},\n",
              " {('Bread', 'Milk'): 3, ('Diaper', 'Beer'): 3, ('Milk', 'Diaper'): 3},\n",
              " {('Bread', 'Milk', 'Diaper'): 2, ('Milk', 'Diaper', 'Beer'): 2},\n",
              " {}]"
            ]
          },
          "metadata": {},
          "execution_count": 76
        }
      ]
    },
    {
      "cell_type": "code",
      "source": [
        "result3 = GSP(gsp_list)"
      ],
      "metadata": {
        "id": "GcaC9ADuXOts"
      },
      "execution_count": 40,
      "outputs": []
    },
    {
      "cell_type": "code",
      "source": [
        "result3.search(0.001)"
      ],
      "metadata": {
        "colab": {
          "base_uri": "https://localhost:8080/"
        },
        "outputId": "185223a1-fba7-4e8f-8d32-b94ed12f43a2",
        "id": "PCRXDl0PXOtt"
      },
      "execution_count": 41,
      "outputs": [
        {
          "output_type": "execute_result",
          "data": {
            "text/plain": [
              "[{('POST',): 52,\n",
              "  ('22698',): 5,\n",
              "  ('22720',): 9,\n",
              "  ('M',): 23,\n",
              "  ('22423',): 20,\n",
              "  ('23084',): 13,\n",
              "  ('21621',): 10,\n",
              "  ('21034',): 7,\n",
              "  ('23284',): 10,\n",
              "  ('21137',): 7,\n",
              "  ('22086',): 5,\n",
              "  ('84078A',): 6,\n",
              "  ('22041',): 5,\n",
              "  ('22112',): 5,\n",
              "  ('23198',): 6,\n",
              "  ('21181',): 8,\n",
              "  ('22961',): 7,\n",
              "  ('23283',): 5,\n",
              "  ('85123A',): 9,\n",
              "  ('79321',): 11,\n",
              "  ('22087',): 5,\n",
              "  ('22138',): 5,\n",
              "  ('BANK CHARGES',): 9,\n",
              "  ('22722',): 7,\n",
              "  ('46000S',): 7,\n",
              "  ('21733',): 7,\n",
              "  ('46000M',): 5,\n",
              "  ('22847',): 7,\n",
              "  ('21340',): 5,\n",
              "  ('22726',): 5},\n",
              " {('POST', 'POST'): 5}]"
            ]
          },
          "metadata": {},
          "execution_count": 41
        }
      ]
    },
    {
      "cell_type": "code",
      "source": [
        "result3.freq_patterns"
      ],
      "metadata": {
        "colab": {
          "base_uri": "https://localhost:8080/"
        },
        "outputId": "445c9ac2-4396-4462-ded5-73a03a587e7b",
        "id": "8HjBifcXXOtt"
      },
      "execution_count": 42,
      "outputs": [
        {
          "output_type": "execute_result",
          "data": {
            "text/plain": [
              "[{('POST',): 52,\n",
              "  ('22698',): 5,\n",
              "  ('22720',): 9,\n",
              "  ('M',): 23,\n",
              "  ('22423',): 20,\n",
              "  ('23084',): 13,\n",
              "  ('21621',): 10,\n",
              "  ('21034',): 7,\n",
              "  ('23284',): 10,\n",
              "  ('21137',): 7,\n",
              "  ('22086',): 5,\n",
              "  ('84078A',): 6,\n",
              "  ('22041',): 5,\n",
              "  ('22112',): 5,\n",
              "  ('23198',): 6,\n",
              "  ('21181',): 8,\n",
              "  ('22961',): 7,\n",
              "  ('23283',): 5,\n",
              "  ('85123A',): 9,\n",
              "  ('79321',): 11,\n",
              "  ('22087',): 5,\n",
              "  ('22138',): 5,\n",
              "  ('BANK CHARGES',): 9,\n",
              "  ('22722',): 7,\n",
              "  ('46000S',): 7,\n",
              "  ('21733',): 7,\n",
              "  ('46000M',): 5,\n",
              "  ('22847',): 7,\n",
              "  ('21340',): 5,\n",
              "  ('22726',): 5},\n",
              " {('POST', 'POST'): 5},\n",
              " {}]"
            ]
          },
          "metadata": {},
          "execution_count": 42
        }
      ]
    },
    {
      "cell_type": "markdown",
      "source": [
        "**QUIZÁS HAY QUE UTILIZAR GSP PARA HACER GSP A MANO**"
      ],
      "metadata": {
        "id": "jrLj_tFCuiE5"
      }
    },
    {
      "cell_type": "markdown",
      "source": [
        "**CON ESTA IMPLEMENTACIÓN DE GSP, SE PUEDE HACER CLIENTE A CLIENTE, NO DA PARA MUCHO MÁS**"
      ],
      "metadata": {
        "id": "sMpgdfJ-Z28R"
      }
    },
    {
      "cell_type": "code",
      "source": [
        "len(gsp_df.loc[429, 'StockCode'])"
      ],
      "metadata": {
        "colab": {
          "base_uri": "https://localhost:8080/"
        },
        "id": "YjgNTFqBaH5N",
        "outputId": "a819129d-eef7-44e5-decf-436be7513487"
      },
      "execution_count": 132,
      "outputs": [
        {
          "output_type": "execute_result",
          "data": {
            "text/plain": [
              "5"
            ]
          },
          "metadata": {},
          "execution_count": 132
        }
      ]
    },
    {
      "cell_type": "markdown",
      "source": [
        "solo con un cliente!"
      ],
      "metadata": {
        "id": "nXmyPK6Yb4kU"
      }
    },
    {
      "cell_type": "code",
      "source": [
        "result_c1 = GSP(gsp_df.loc[823, 'StockCode'])"
      ],
      "metadata": {
        "id": "kkj4S5CnaASo"
      },
      "execution_count": 122,
      "outputs": []
    },
    {
      "cell_type": "code",
      "source": [
        "result_c1.search(0.3)"
      ],
      "metadata": {
        "colab": {
          "base_uri": "https://localhost:8080/"
        },
        "outputId": "11f8c8a3-add1-4ea1-e8fc-9a73c32f90f4",
        "id": "eA0BgtVeaASp"
      },
      "execution_count": 123,
      "outputs": [
        {
          "output_type": "execute_result",
          "data": {
            "text/plain": [
              "[{(22782,): 1,\n",
              "  (22222,): 1,\n",
              "  ('84509G',): 1,\n",
              "  ('47503A',): 1,\n",
              "  (84917,): 1,\n",
              "  (84766,): 1,\n",
              "  (22700,): 1,\n",
              "  (84821,): 1,\n",
              "  (10135,): 1,\n",
              "  ('15060B',): 1,\n",
              "  ('85014A',): 1,\n",
              "  ('85014B',): 1,\n",
              "  ('47504H',): 1,\n",
              "  ('82616C',): 1,\n",
              "  (23155,): 1,\n",
              "  (22838,): 1,\n",
              "  (23118,): 1,\n",
              "  (23110,): 1,\n",
              "  (22915,): 1,\n",
              "  (23424,): 1,\n",
              "  (21257,): 1},\n",
              " {('15060B', '85014A'): 1,\n",
              "  ('47503A', '84509G'): 1,\n",
              "  ('47504H', '82616C'): 1,\n",
              "  ('85014A', '85014B'): 1},\n",
              " {('15060B', '85014A', '85014B'): 1}]"
            ]
          },
          "metadata": {},
          "execution_count": 123
        }
      ]
    },
    {
      "cell_type": "code",
      "source": [
        "result_c1.freq_patterns"
      ],
      "metadata": {
        "colab": {
          "base_uri": "https://localhost:8080/"
        },
        "outputId": "78b359ff-f88b-40e0-bd96-aa2c39ec6563",
        "id": "e6jYRu1eaASq"
      },
      "execution_count": 119,
      "outputs": [
        {
          "output_type": "execute_result",
          "data": {
            "text/plain": [
              "[{(22375,): 6,\n",
              "  (22492,): 3,\n",
              "  (22725,): 4,\n",
              "  (22726,): 3,\n",
              "  (22727,): 5,\n",
              "  (22728,): 3,\n",
              "  (22195,): 3,\n",
              "  (22497,): 3,\n",
              "  (21731,): 5,\n",
              "  ('84558A',): 5,\n",
              "  (20719,): 4,\n",
              "  (22376,): 3,\n",
              "  (22196,): 4,\n",
              "  (84992,): 3,\n",
              "  (84991,): 3,\n",
              "  ('47559B',): 3,\n",
              "  (22423,): 4,\n",
              "  (22374,): 3,\n",
              "  (22371,): 4,\n",
              "  (21791,): 3,\n",
              "  (23084,): 3,\n",
              "  (23146,): 3},\n",
              " {}]"
            ]
          },
          "metadata": {},
          "execution_count": 119
        }
      ]
    },
    {
      "cell_type": "markdown",
      "source": [
        "AHORA SE LE METE LISTA DE TRANSACCIONES, ORDENADAS POR CLIENTE Y ORDENADAS EN EL TIEMPO."
      ],
      "metadata": {
        "id": "BAsQCQ4fb_Hi"
      }
    },
    {
      "cell_type": "code",
      "source": [
        "len(gsp_list)#tiene que dar el nº de transacciones en el dataset"
      ],
      "metadata": {
        "colab": {
          "base_uri": "https://localhost:8080/"
        },
        "id": "qrfpBqF9cRC_",
        "outputId": "87c6eff8-8dfe-4d97-f38e-bd9e370fc361"
      },
      "execution_count": 144,
      "outputs": [
        {
          "output_type": "execute_result",
          "data": {
            "text/plain": [
              "19054"
            ]
          },
          "metadata": {},
          "execution_count": 144
        }
      ]
    },
    {
      "cell_type": "code",
      "source": [
        "result4 = GSP(gsp_list)"
      ],
      "metadata": {
        "id": "3PCBKMwyb934"
      },
      "execution_count": 145,
      "outputs": []
    },
    {
      "cell_type": "code",
      "source": [
        "result4.search(0.1)"
      ],
      "metadata": {
        "colab": {
          "base_uri": "https://localhost:8080/"
        },
        "outputId": "5f30f9de-f49e-4d3c-e387-04210b2bc63c",
        "id": "Z88T1f4Mb935"
      },
      "execution_count": 147,
      "outputs": [
        {
          "output_type": "execute_result",
          "data": {
            "text/plain": [
              "[{('22423',): 1960, ('85123A',): 2093}]"
            ]
          },
          "metadata": {},
          "execution_count": 147
        }
      ]
    },
    {
      "cell_type": "code",
      "source": [
        "result4.freq_patterns"
      ],
      "metadata": {
        "colab": {
          "base_uri": "https://localhost:8080/"
        },
        "outputId": "50e9906d-f268-4ec3-ec9d-2771f47d69a3",
        "id": "LzLR8mbIb936"
      },
      "execution_count": 148,
      "outputs": [
        {
          "output_type": "execute_result",
          "data": {
            "text/plain": [
              "[{('22423',): 1960, ('85123A',): 2093}, {}]"
            ]
          },
          "metadata": {},
          "execution_count": 148
        }
      ]
    },
    {
      "cell_type": "markdown",
      "source": [
        "#**PRUEBAS CON EL CÓDIGO TAL CUAL:**"
      ],
      "metadata": {
        "id": "tq6xaJMoJka8"
      }
    },
    {
      "cell_type": "code",
      "source": [
        "transactions = [\n",
        "            ['Bread', 'Milk'],\n",
        "            ['Bread', 'Diaper', 'Beer', 'Eggs'],\n",
        "            ['Milk', 'Diaper', 'Beer', 'Coke'],\n",
        "            ['Bread', 'Milk', 'Diaper', 'Beer'],\n",
        "            ['Bread', 'Milk', 'Diaper', 'Coke']\n",
        "]\n",
        "\n",
        "print([tuple(list(i)) for i in transactions])\n",
        "counts = Counter(chain.from_iterable(transactions))\n",
        "print(counts)\n",
        "\n",
        "# print([tuple(list(i)) for i in gsp_df.loc[0, 'StockCode']])\n",
        "# counts = Counter(chain.from_iterable(gsp_df.loc[0, 'StockCode']))\n",
        "# print(counts)"
      ],
      "metadata": {
        "colab": {
          "base_uri": "https://localhost:8080/"
        },
        "id": "gkeRG5hxL4kr",
        "outputId": "4a7b92b8-f6c4-48a2-efc4-5f538b09e58b"
      },
      "execution_count": 115,
      "outputs": [
        {
          "output_type": "stream",
          "name": "stdout",
          "text": [
            "[('Bread', 'Milk'), ('Bread', 'Diaper', 'Beer', 'Eggs'), ('Milk', 'Diaper', 'Beer', 'Coke'), ('Bread', 'Milk', 'Diaper', 'Beer'), ('Bread', 'Milk', 'Diaper', 'Coke')]\n",
            "Counter({'Bread': 4, 'Milk': 4, 'Diaper': 4, 'Beer': 3, 'Coke': 2, 'Eggs': 1})\n",
            "[(85116, 22375, 71477, 22492, 22771, 22772, 22773, 22774, 22775, 22805, 22725, 22726, 22727, 22728, 22729, 22212, '85167B', 21171, 22195, 84969, '84997C', '84997B', '84997D', 22494, 22497, '85232D', 21064, 21731, '84558A', 20780, 20782), ('84625A', '84625C', 85116, 20719, 22375, 22376, 20966, 22725, 22726, 22727, 22728, 22729, 22196, 84992, 84991, 21976, 22417, '47559B', 21154, 21041, 21035, 22423, 84969, 22134, 21832, 22422, 22497, 21731, '84558A'), (22376, 22374, 22371, 22375, 20665, 21791, 22550, 23177, 22432, 22774, 22195, 22196, 21975, 21041, 22423, 22699, 21731, 22492, '84559A', '84559B', 16008, 22821, 22497), (23084, 23162, 23171, 23172, 23170, 23173, 23174, 23175, 22371, 22375, 85178, 17021, 23146, 22196, '84558A', '51014C', 22727, 22725), (23308, 23297, 22375, 22374, 22376, 22371, 22372, 21578, 20719, 22727, 23146, 23147, '47559B', 84992, 84991, 21975, 22423, 23175, '84558A', 22992, 21791, 23316), (23480, 21265, 21636, 22372, 22375, 22371, 22374, 22252, 22945, 22423, 23173, 47580, '47567B', '47559B', 22698, 22697, '84558A', 23084, 21731, 23177, 21791, 23508, 23506, 23503, 22992, 22561, 22492, 22621, 23146, 23421, 23422, 23420, 22699, 22725, 22728, 22726, 22727, 21976, 22417, 23308, 84991, 84992, 22196, 22195, 20719, 23162, 22131), (23497, 23552, 21064, '84625A', 21731, 23084, 20719, 21265, 23271, 23506, 23508)]\n",
            "Counter({22375: 6, 22727: 5, 21731: 5, '84558A': 5, 22725: 4, 20719: 4, 22196: 4, 22423: 4, 22371: 4, 22492: 3, 22726: 3, 22728: 3, 22195: 3, 22497: 3, 22376: 3, 84992: 3, 84991: 3, '47559B': 3, 22374: 3, 21791: 3, 23084: 3, 23146: 3, 85116: 2, 22774: 2, 22729: 2, 84969: 2, 21064: 2, '84625A': 2, 21976: 2, 22417: 2, 21041: 2, 23177: 2, 21975: 2, 22699: 2, 23162: 2, 23173: 2, 23175: 2, 23308: 2, 22372: 2, 22992: 2, 21265: 2, 23508: 2, 23506: 2, 71477: 1, 22771: 1, 22772: 1, 22773: 1, 22775: 1, 22805: 1, 22212: 1, '85167B': 1, 21171: 1, '84997C': 1, '84997B': 1, '84997D': 1, 22494: 1, '85232D': 1, 20780: 1, 20782: 1, '84625C': 1, 20966: 1, 21154: 1, 21035: 1, 22134: 1, 21832: 1, 22422: 1, 20665: 1, 22550: 1, 22432: 1, '84559A': 1, '84559B': 1, 16008: 1, 22821: 1, 23171: 1, 23172: 1, 23170: 1, 23174: 1, 85178: 1, 17021: 1, '51014C': 1, 23297: 1, 21578: 1, 23147: 1, 23316: 1, 23480: 1, 21636: 1, 22252: 1, 22945: 1, 47580: 1, '47567B': 1, 22698: 1, 22697: 1, 23503: 1, 22561: 1, 22621: 1, 23421: 1, 23422: 1, 23420: 1, 22131: 1, 23497: 1, 23552: 1, 23271: 1})\n"
          ]
        }
      ]
    },
    {
      "cell_type": "code",
      "source": [
        "import logging\n",
        "import multiprocessing as mp\n",
        "from collections import Counter\n",
        "from itertools import chain\n",
        "from itertools import product\n",
        "\n",
        "import numpy as np\n",
        "\n",
        "__author__ = \"Jackson Antonio do Prado Lima\"\n",
        "__email__ = \"jacksonpradolima@gmail.com\"\n",
        "__license__ = \"GPL\"\n",
        "__version__ = \"1.0\"\n",
        "\n",
        "\n",
        "class GSP:\n",
        "\n",
        "    def __init__(self, raw_transactions):\n",
        "        self.freq_patterns = []\n",
        "        self._pre_processing(raw_transactions)\n",
        "\n",
        "    def _pre_processing(self, raw_transactions):\n",
        "        '''\n",
        "        Prepare the data\n",
        "\n",
        "        Parameters:\n",
        "                raw_transactions: the data that it will be analysed\n",
        "        '''\n",
        "        self.max_size = max([len(item) for item in raw_transactions])\n",
        "        self.transactions = [tuple(list(i)) for i in raw_transactions]\n",
        "        counts = Counter(chain.from_iterable(raw_transactions))\n",
        "        self.unique_candidates = [tuple([k]) for k, c in counts.items()]\n",
        "\n",
        "    def _is_slice_in_list(self, s, l):\n",
        "        len_s = len(s)  # so we don't recompute length of s on every iteration\n",
        "        return any(s == l[i:len_s + i] for i in range(len(l) - len_s + 1))\n",
        "\n",
        "    def _calc_frequency(self, results, item, minsup):\n",
        "        # The number of times the item appears in the transactions\n",
        "        frequency = len(\n",
        "            [t for t in self.transactions if self._is_slice_in_list(item, t)])\n",
        "        if frequency >= minsup:\n",
        "            results[item] = frequency\n",
        "        return results\n",
        "\n",
        "    def _support(self, items, minsup=0):\n",
        "        '''\n",
        "        The support count (or simply support) for a sequence is defined as\n",
        "        the fraction of total data-sequences that \"contain\" this sequence.\n",
        "        (Although the word \"contains\" is not strictly accurate once we\n",
        "        incorporate taxonomies, it captures the spirt of when a data-sequence\n",
        "        contributes to the support of a sequential pattern.)\n",
        "\n",
        "        Parameters\n",
        "                items: set of items that will be evaluated\n",
        "                minsup: minimum support\n",
        "        '''\n",
        "        results = mp.Manager().dict()\n",
        "        pool = mp.Pool(processes=mp.cpu_count())\n",
        "\n",
        "        for item in items:\n",
        "            pool.apply_async(self._calc_frequency,\n",
        "                             args=(results, item, minsup))\n",
        "        pool.close()\n",
        "        pool.join()\n",
        "\n",
        "        return dict(results)\n",
        "\n",
        "    def _print_status(self, run, candidates):\n",
        "        logging.debug(\"\"\"\n",
        "        Run {}\n",
        "        There are {} candidates.\n",
        "        The candidates have been filtered down to {}.\\n\"\"\"\n",
        "                      .format(run,\n",
        "                              len(candidates),\n",
        "                              len(self.freq_patterns[run - 1])))\n",
        "\n",
        "    def search(self, minsup=0.2):\n",
        "        '''\n",
        "        Run GSP mining algorithm\n",
        "\n",
        "        Parameters\n",
        "                minsup: minimum support\n",
        "        '''\n",
        "        assert (0.0 < minsup) and (minsup <= 1.0)\n",
        "        minsup = len(self.transactions) * minsup\n",
        "\n",
        "        # the set of frequent 1-sequence: all singleton sequences\n",
        "        # (k-itemsets/k-sequence = 1) - Initially, every item in DB is a\n",
        "        # candidate\n",
        "        candidates = self.unique_candidates\n",
        "\n",
        "        # scan transactions to collect support count for each candidate\n",
        "        # sequence & filter\n",
        "        self.freq_patterns.append(self._support(candidates, minsup))\n",
        "\n",
        "        # (k-itemsets/k-sequence = 1)\n",
        "        k_items = 1\n",
        "\n",
        "        self._print_status(k_items, candidates)\n",
        "\n",
        "        # repeat until no frequent sequence or no candidate can be found\n",
        "        while len(self.freq_patterns[k_items - 1]) and (k_items + 1 <= self.max_size):\n",
        "            k_items += 1\n",
        "\n",
        "            # Generate candidate sets Ck (set of candidate k-sequences) -\n",
        "            # generate new candidates from the last \"best\" candidates filtered\n",
        "            # by minimum support\n",
        "            items = np.unique(\n",
        "                list(set(self.freq_patterns[k_items - 2].keys())))\n",
        "\n",
        "            candidates = list(product(items, repeat=k_items))\n",
        "\n",
        "            # candidate pruning - eliminates candidates who are not potentially\n",
        "            # frequent (using support as threshold)\n",
        "            self.freq_patterns.append(self._support(candidates, minsup))\n",
        "\n",
        "            self._print_status(k_items, candidates)\n",
        "        return self.freq_patterns[:-1]"
      ],
      "metadata": {
        "id": "JfFDqVd1Jl1o"
      },
      "execution_count": 49,
      "outputs": []
    }
  ]
}